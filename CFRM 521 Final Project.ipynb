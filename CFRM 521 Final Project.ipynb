{
 "cells": [
  {
   "cell_type": "markdown",
   "id": "63ad1504",
   "metadata": {},
   "source": [
    "# Quantative Trading with Tesla Stock using Machine Learning Techniques\n",
    "Author: Xuecheng Liu"
   ]
  },
  {
   "cell_type": "markdown",
   "id": "d6325eb1",
   "metadata": {},
   "source": [
    "## Introduction"
   ]
  },
  {
   "cell_type": "markdown",
   "id": "efbb9b7e",
   "metadata": {},
   "source": [
    "The goal of this project is to predict the daily returns of Tesla stock using the daily returns of its supplier companies. We select 10 companies based on references in investopedia and we also include SPY and QQQ as an indicator for the macroeconomics.<br>\n",
    "The stock prices are from Yahoo finance and we convert the price to daily returns.<br>\n",
    "Each instance represent the daily returns of supplier companies in k consecutive days and concatenate in a row. We have 2357 instances in our original data from 01-01-2013 to 05-25-2022.<br>\n",
    "The following cell shows the first 2 rows of the training data.<br>\n",
    "The target variable is the daily returns of Tesla.We are 12k features per instance and k represent the number of days we are using per company to do the 1 step ahead prediction."
   ]
  },
  {
   "cell_type": "code",
   "execution_count": 221,
   "id": "fff854c0",
   "metadata": {},
   "outputs": [
    {
     "data": {
      "text/plain": [
       "array([[-1.12602382e-02,  4.68186069e-03,  3.52670084e-03,\n",
       "        -8.23051671e-03,  6.63890681e-03,  0.00000000e+00,\n",
       "         1.64318524e-02,  1.61663217e-02, -1.36363503e-02,\n",
       "         8.89879420e-03,  2.09478998e-02, -1.72785664e-02,\n",
       "        -6.53164296e-03,  1.17406468e-02,  4.95125124e-03,\n",
       "         1.41823716e-04,  4.96263865e-03, -4.65599507e-03,\n",
       "         0.00000000e+00,  7.69230879e-02, -1.51785751e-01,\n",
       "         1.73952693e-02,  5.08345603e-03, -1.10345054e-02,\n",
       "        -2.47253159e-02,  4.50704473e-02,  3.23449823e-02,\n",
       "        -2.92449085e-03,  8.01749996e-03,  2.90937116e-03,\n",
       "        -5.20825283e-03, -3.29104792e-03,  3.00310113e-04,\n",
       "        -2.25931046e-03,  4.39128130e-03, -2.73246623e-03],\n",
       "       [ 4.68186069e-03,  3.52670084e-03, -1.44330223e-02,\n",
       "         6.63890681e-03,  0.00000000e+00,  0.00000000e+00,\n",
       "         1.61663217e-02, -1.36363503e-02, -3.45630018e-03,\n",
       "         2.09478998e-02, -1.72785664e-02,  0.00000000e+00,\n",
       "         1.17406468e-02,  4.95125124e-03, -1.81679424e-02,\n",
       "         4.96263865e-03, -4.65599507e-03,  1.06306543e-02,\n",
       "         7.69230879e-02, -1.51785751e-01,  1.47368408e-01,\n",
       "         5.08345603e-03, -1.10345054e-02,  2.32434518e-03,\n",
       "         4.50704473e-02,  3.23449823e-02, -4.17754179e-02,\n",
       "         8.01749996e-03,  2.90937116e-03, -2.32109415e-03,\n",
       "        -3.29104792e-03,  3.00310113e-04, -1.95074398e-03,\n",
       "         4.39128130e-03, -2.73246623e-03, -2.87698798e-03]])"
      ]
     },
     "execution_count": 221,
     "metadata": {},
     "output_type": "execute_result"
    }
   ],
   "source": [
    "X_train[0:2,:]"
   ]
  },
  {
   "cell_type": "markdown",
   "id": "7b15e04b",
   "metadata": {},
   "source": [
    "**Reference to the suppliers of Tesla**<br>\n",
    "https://www.investopedia.com/ask/answers/052815/who-are-teslas-tsla-main-suppliers.asp <br>\n",
    "https://csimarket.com/stocks/suppliers_glance.php?code=TSLA\n"
   ]
  },
  {
   "cell_type": "markdown",
   "id": "56599ce9",
   "metadata": {
    "heading_collapsed": true
   },
   "source": [
    "## Data Cleaning and Preprocessing"
   ]
  },
  {
   "cell_type": "markdown",
   "id": "e74e693e",
   "metadata": {
    "hidden": true
   },
   "source": [
    "We choose 3 days return of 10 supplier companies of TESLA and 2 Indexs to predict the next day return of TESLA in the project"
   ]
  },
  {
   "cell_type": "markdown",
   "id": "a9f1b6a1",
   "metadata": {
    "hidden": true
   },
   "source": [
    "First, we get data from yahoo can calculate return data and drop missing data"
   ]
  },
  {
   "cell_type": "code",
   "execution_count": 170,
   "id": "a7f83499",
   "metadata": {
    "ExecuteTime": {
     "end_time": "2022-05-30T19:35:02.548408Z",
     "start_time": "2022-05-30T19:35:02.545773Z"
    },
    "hidden": true
   },
   "outputs": [],
   "source": [
    "supplier_list = ['BHP','GLNCY','MOD','AA','ALB','NEE','NIOBF','AAON','REEMF','MGA','QQQ','SPY']\n",
    "target_company = 'TSLA'"
   ]
  },
  {
   "cell_type": "code",
   "execution_count": 171,
   "id": "1bf99ba8",
   "metadata": {
    "ExecuteTime": {
     "end_time": "2022-05-30T19:35:03.717858Z",
     "start_time": "2022-05-30T19:35:02.550615Z"
    },
    "hidden": true
   },
   "outputs": [],
   "source": [
    "import numpy as np\n",
    "import pandas as pd\n",
    "import pandas_datareader as pdr\n",
    "from datetime import datetime\n",
    "import matplotlib as mlp\n",
    "import matplotlib.pyplot as plt"
   ]
  },
  {
   "cell_type": "code",
   "execution_count": 172,
   "id": "e99d49f4",
   "metadata": {
    "ExecuteTime": {
     "end_time": "2022-05-30T19:35:03.722825Z",
     "start_time": "2022-05-30T19:35:03.720038Z"
    },
    "hidden": true
   },
   "outputs": [],
   "source": [
    "def getReturn(symbol):\n",
    "    data = pdr.get_data_yahoo(symbol, datetime(2013,1,1),datetime(2022,5,25))\n",
    "    adjusted_price = data['Adj Close']\n",
    "    daily_return = pd.DataFrame(adjusted_price.pct_change())\n",
    "    daily_return.rename(columns = {'Adj Close':symbol}, inplace = True)\n",
    "    return daily_return"
   ]
  },
  {
   "cell_type": "code",
   "execution_count": 173,
   "id": "d4b2cbea",
   "metadata": {
    "ExecuteTime": {
     "end_time": "2022-05-30T19:35:13.207046Z",
     "start_time": "2022-05-30T19:35:03.724645Z"
    },
    "hidden": true
   },
   "outputs": [],
   "source": [
    "daily_return = getReturn(target_company)\n",
    "for supplier in supplier_list:\n",
    "    new_data = getReturn(supplier)\n",
    "    daily_return = daily_return.join(new_data)\n",
    "data = daily_return.dropna()"
   ]
  },
  {
   "cell_type": "code",
   "execution_count": 174,
   "id": "66d2c3f2",
   "metadata": {
    "ExecuteTime": {
     "end_time": "2022-05-30T19:35:13.227239Z",
     "start_time": "2022-05-30T19:35:13.209186Z"
    },
    "hidden": true
   },
   "outputs": [
    {
     "data": {
      "text/html": [
       "<div>\n",
       "<style scoped>\n",
       "    .dataframe tbody tr th:only-of-type {\n",
       "        vertical-align: middle;\n",
       "    }\n",
       "\n",
       "    .dataframe tbody tr th {\n",
       "        vertical-align: top;\n",
       "    }\n",
       "\n",
       "    .dataframe thead th {\n",
       "        text-align: right;\n",
       "    }\n",
       "</style>\n",
       "<table border=\"1\" class=\"dataframe\">\n",
       "  <thead>\n",
       "    <tr style=\"text-align: right;\">\n",
       "      <th></th>\n",
       "      <th>TSLA</th>\n",
       "      <th>BHP</th>\n",
       "      <th>GLNCY</th>\n",
       "      <th>MOD</th>\n",
       "      <th>AA</th>\n",
       "      <th>ALB</th>\n",
       "      <th>NEE</th>\n",
       "      <th>NIOBF</th>\n",
       "      <th>AAON</th>\n",
       "      <th>REEMF</th>\n",
       "      <th>MGA</th>\n",
       "      <th>QQQ</th>\n",
       "      <th>SPY</th>\n",
       "    </tr>\n",
       "    <tr>\n",
       "      <th>Date</th>\n",
       "      <th></th>\n",
       "      <th></th>\n",
       "      <th></th>\n",
       "      <th></th>\n",
       "      <th></th>\n",
       "      <th></th>\n",
       "      <th></th>\n",
       "      <th></th>\n",
       "      <th></th>\n",
       "      <th></th>\n",
       "      <th></th>\n",
       "      <th></th>\n",
       "      <th></th>\n",
       "    </tr>\n",
       "  </thead>\n",
       "  <tbody>\n",
       "    <tr>\n",
       "      <th>2013-01-03</th>\n",
       "      <td>-0.016686</td>\n",
       "      <td>-0.011260</td>\n",
       "      <td>-0.008231</td>\n",
       "      <td>0.016432</td>\n",
       "      <td>0.008899</td>\n",
       "      <td>-0.006532</td>\n",
       "      <td>0.000142</td>\n",
       "      <td>0.000000</td>\n",
       "      <td>0.017395</td>\n",
       "      <td>-0.024725</td>\n",
       "      <td>-0.002924</td>\n",
       "      <td>-0.005208</td>\n",
       "      <td>-0.002259</td>\n",
       "    </tr>\n",
       "    <tr>\n",
       "      <th>2013-01-04</th>\n",
       "      <td>-0.010641</td>\n",
       "      <td>0.004682</td>\n",
       "      <td>0.006639</td>\n",
       "      <td>0.016166</td>\n",
       "      <td>0.020948</td>\n",
       "      <td>0.011741</td>\n",
       "      <td>0.004963</td>\n",
       "      <td>0.076923</td>\n",
       "      <td>0.005083</td>\n",
       "      <td>0.045070</td>\n",
       "      <td>0.008017</td>\n",
       "      <td>-0.003291</td>\n",
       "      <td>0.004391</td>\n",
       "    </tr>\n",
       "    <tr>\n",
       "      <th>2013-01-07</th>\n",
       "      <td>-0.001744</td>\n",
       "      <td>0.003527</td>\n",
       "      <td>0.000000</td>\n",
       "      <td>-0.013636</td>\n",
       "      <td>-0.017279</td>\n",
       "      <td>0.004951</td>\n",
       "      <td>-0.004656</td>\n",
       "      <td>-0.151786</td>\n",
       "      <td>-0.011035</td>\n",
       "      <td>0.032345</td>\n",
       "      <td>0.002909</td>\n",
       "      <td>0.000300</td>\n",
       "      <td>-0.002732</td>\n",
       "    </tr>\n",
       "    <tr>\n",
       "      <th>2013-01-08</th>\n",
       "      <td>-0.019220</td>\n",
       "      <td>-0.014433</td>\n",
       "      <td>0.000000</td>\n",
       "      <td>-0.003456</td>\n",
       "      <td>0.000000</td>\n",
       "      <td>-0.018168</td>\n",
       "      <td>0.010631</td>\n",
       "      <td>0.147368</td>\n",
       "      <td>0.002324</td>\n",
       "      <td>-0.041775</td>\n",
       "      <td>-0.002321</td>\n",
       "      <td>-0.001951</td>\n",
       "      <td>-0.002877</td>\n",
       "    </tr>\n",
       "    <tr>\n",
       "      <th>2013-01-09</th>\n",
       "      <td>-0.001188</td>\n",
       "      <td>0.005476</td>\n",
       "      <td>0.014015</td>\n",
       "      <td>0.013873</td>\n",
       "      <td>-0.002198</td>\n",
       "      <td>0.005489</td>\n",
       "      <td>-0.007013</td>\n",
       "      <td>-0.036697</td>\n",
       "      <td>0.007421</td>\n",
       "      <td>-0.032698</td>\n",
       "      <td>0.003684</td>\n",
       "      <td>0.003759</td>\n",
       "      <td>0.002542</td>\n",
       "    </tr>\n",
       "  </tbody>\n",
       "</table>\n",
       "</div>"
      ],
      "text/plain": [
       "                TSLA       BHP     GLNCY       MOD        AA       ALB  \\\n",
       "Date                                                                     \n",
       "2013-01-03 -0.016686 -0.011260 -0.008231  0.016432  0.008899 -0.006532   \n",
       "2013-01-04 -0.010641  0.004682  0.006639  0.016166  0.020948  0.011741   \n",
       "2013-01-07 -0.001744  0.003527  0.000000 -0.013636 -0.017279  0.004951   \n",
       "2013-01-08 -0.019220 -0.014433  0.000000 -0.003456  0.000000 -0.018168   \n",
       "2013-01-09 -0.001188  0.005476  0.014015  0.013873 -0.002198  0.005489   \n",
       "\n",
       "                 NEE     NIOBF      AAON     REEMF       MGA       QQQ  \\\n",
       "Date                                                                     \n",
       "2013-01-03  0.000142  0.000000  0.017395 -0.024725 -0.002924 -0.005208   \n",
       "2013-01-04  0.004963  0.076923  0.005083  0.045070  0.008017 -0.003291   \n",
       "2013-01-07 -0.004656 -0.151786 -0.011035  0.032345  0.002909  0.000300   \n",
       "2013-01-08  0.010631  0.147368  0.002324 -0.041775 -0.002321 -0.001951   \n",
       "2013-01-09 -0.007013 -0.036697  0.007421 -0.032698  0.003684  0.003759   \n",
       "\n",
       "                 SPY  \n",
       "Date                  \n",
       "2013-01-03 -0.002259  \n",
       "2013-01-04  0.004391  \n",
       "2013-01-07 -0.002732  \n",
       "2013-01-08 -0.002877  \n",
       "2013-01-09  0.002542  "
      ]
     },
     "execution_count": 174,
     "metadata": {},
     "output_type": "execute_result"
    }
   ],
   "source": [
    "data[0:5]"
   ]
  },
  {
   "cell_type": "code",
   "execution_count": 175,
   "id": "1249bc4f",
   "metadata": {
    "ExecuteTime": {
     "end_time": "2022-05-30T19:35:13.233186Z",
     "start_time": "2022-05-30T19:35:13.229353Z"
    },
    "hidden": true
   },
   "outputs": [],
   "source": [
    "def plotDailyReturn(dailyReturn,name):\n",
    "    fig = plt.figure()\n",
    "    ax1 = fig.add_axes([0.1,0.1,0.8,0.8])\n",
    "    ax1.plot(dailyReturn)\n",
    "    ax1.set_xlabel(\"Date\")\n",
    "    ax1.set_ylabel(\"Percent\")\n",
    "    ax1.set_title(name + \" daily returns data\")\n",
    "    plt.show()"
   ]
  },
  {
   "cell_type": "code",
   "execution_count": 176,
   "id": "ef5ca77c",
   "metadata": {
    "ExecuteTime": {
     "end_time": "2022-05-30T19:35:13.411421Z",
     "start_time": "2022-05-30T19:35:13.235150Z"
    },
    "hidden": true
   },
   "outputs": [
    {
     "data": {
      "image/png": "[encoded data removed]",
      "text/plain": [
       "<Figure size 432x288 with 1 Axes>"
      ]
     },
     "metadata": {
      "needs_background": "light"
     },
     "output_type": "display_data"
    }
   ],
   "source": [
    "plotDailyReturn(data.TSLA,'TSLA')"
   ]
  },
  {
   "cell_type": "markdown",
   "id": "16785007",
   "metadata": {
    "hidden": true
   },
   "source": [
    "Now we create a training set (before 2018), a validation set (Jan 2018 to Dec 2019), and a test set (the rest of the data). "
   ]
  },
  {
   "cell_type": "code",
   "execution_count": 177,
   "id": "f4a79e3f",
   "metadata": {
    "ExecuteTime": {
     "end_time": "2022-05-30T19:35:13.420829Z",
     "start_time": "2022-05-30T19:35:13.413516Z"
    },
    "hidden": true
   },
   "outputs": [],
   "source": [
    "train_set = data[:'2018-01-01']\n",
    "valid_set = data['2018-01-01':'2020-01-01']\n",
    "test_set = data['2020-01-01':]"
   ]
  },
  {
   "cell_type": "markdown",
   "id": "34b424d1",
   "metadata": {
    "hidden": true
   },
   "source": [
    "Then we choose 3 days returns of all suppliers and indexes as feartures and TSLA's next day return as the target"
   ]
  },
  {
   "cell_type": "code",
   "execution_count": 178,
   "id": "328bdb08",
   "metadata": {
    "ExecuteTime": {
     "end_time": "2022-05-30T19:35:13.428425Z",
     "start_time": "2022-05-30T19:35:13.424958Z"
    },
    "hidden": true
   },
   "outputs": [],
   "source": [
    "def ts_split(ts, feature_steps, target_steps):\n",
    "    n_obs = len(ts) - feature_steps - target_steps + 1\n",
    "    X = np.array([ts[idx:idx + feature_steps] for idx in range(n_obs)])\n",
    "    y = np.array([ts[idx + feature_steps:idx + feature_steps + target_steps]\n",
    "                  for idx in range(n_obs)])\n",
    "    return X, y"
   ]
  },
  {
   "cell_type": "code",
   "execution_count": 179,
   "id": "16d231b9",
   "metadata": {
    "ExecuteTime": {
     "end_time": "2022-05-30T19:35:14.981872Z",
     "start_time": "2022-05-30T19:35:13.431184Z"
    },
    "hidden": true
   },
   "outputs": [],
   "source": [
    "X, y_train = ts_split(train_set[\"TSLA\"], feature_steps = 3, target_steps = 1)\n",
    "\n",
    "X_train, y_supplier = ts_split(train_set[supplier_list[0]], feature_steps = 3, target_steps = 1)\n",
    "for supplier in supplier_list[1:]:\n",
    "    X_s, y_s = ts_split(train_set[supplier], feature_steps = 3, target_steps = 1)\n",
    "    X_train = np.c_[X_train, X_s]"
   ]
  },
  {
   "cell_type": "code",
   "execution_count": 180,
   "id": "d359b2a0",
   "metadata": {
    "ExecuteTime": {
     "end_time": "2022-05-30T19:35:15.535618Z",
     "start_time": "2022-05-30T19:35:14.983547Z"
    },
    "hidden": true
   },
   "outputs": [],
   "source": [
    "X, y_valid = ts_split(valid_set[\"TSLA\"], feature_steps = 3, target_steps = 1)\n",
    "\n",
    "X_valid, y_supplier = ts_split(valid_set[supplier_list[0]], feature_steps = 3, target_steps = 1)\n",
    "for supplier in supplier_list[1:]:\n",
    "    X_s, y_s = ts_split(valid_set[supplier], feature_steps = 3, target_steps = 1)\n",
    "    X_valid = np.c_[X_valid, X_s]"
   ]
  },
  {
   "cell_type": "code",
   "execution_count": 181,
   "id": "92b9eda6",
   "metadata": {
    "ExecuteTime": {
     "end_time": "2022-05-30T19:35:16.198772Z",
     "start_time": "2022-05-30T19:35:15.538057Z"
    },
    "hidden": true
   },
   "outputs": [],
   "source": [
    "X, y_test = ts_split(test_set[\"TSLA\"], feature_steps = 3, target_steps = 1)\n",
    "\n",
    "X_test, y_supplier = ts_split(test_set[supplier_list[0]], feature_steps = 3, target_steps = 1)\n",
    "for supplier in supplier_list[1:]:\n",
    "    X_s, y_s = ts_split(test_set[supplier], feature_steps = 3, target_steps = 1)\n",
    "    X_test = np.c_[X_test, X_s]"
   ]
  },
  {
   "cell_type": "code",
   "execution_count": 182,
   "id": "a61b49ff",
   "metadata": {
    "ExecuteTime": {
     "end_time": "2022-05-30T19:35:16.203305Z",
     "start_time": "2022-05-30T19:35:16.200406Z"
    },
    "hidden": true
   },
   "outputs": [
    {
     "name": "stdout",
     "output_type": "stream",
     "text": [
      "(1255, 36) (500, 36) (602, 36)\n"
     ]
    }
   ],
   "source": [
    "print(X_train.shape, X_valid.shape, X_test.shape)"
   ]
  },
  {
   "cell_type": "code",
   "execution_count": 183,
   "id": "7a7a5ebc",
   "metadata": {
    "ExecuteTime": {
     "end_time": "2022-05-30T19:35:16.207882Z",
     "start_time": "2022-05-30T19:35:16.205189Z"
    },
    "hidden": true
   },
   "outputs": [
    {
     "name": "stdout",
     "output_type": "stream",
     "text": [
      "(1255, 1) (500, 1) (602, 1)\n"
     ]
    }
   ],
   "source": [
    "print(y_train.shape, y_valid.shape, y_test.shape)"
   ]
  },
  {
   "cell_type": "code",
   "execution_count": 219,
   "id": "27e57af9",
   "metadata": {
    "hidden": true
   },
   "outputs": [
    {
     "data": {
      "text/plain": [
       "array([[-1.12602382e-02,  4.68186069e-03,  3.52670084e-03,\n",
       "        -8.23051671e-03,  6.63890681e-03,  0.00000000e+00,\n",
       "         1.64318524e-02,  1.61663217e-02, -1.36363503e-02,\n",
       "         8.89879420e-03,  2.09478998e-02, -1.72785664e-02,\n",
       "        -6.53164296e-03,  1.17406468e-02,  4.95125124e-03,\n",
       "         1.41823716e-04,  4.96263865e-03, -4.65599507e-03,\n",
       "         0.00000000e+00,  7.69230879e-02, -1.51785751e-01,\n",
       "         1.73952693e-02,  5.08345603e-03, -1.10345054e-02,\n",
       "        -2.47253159e-02,  4.50704473e-02,  3.23449823e-02,\n",
       "        -2.92449085e-03,  8.01749996e-03,  2.90937116e-03,\n",
       "        -5.20825283e-03, -3.29104792e-03,  3.00310113e-04,\n",
       "        -2.25931046e-03,  4.39128130e-03, -2.73246623e-03],\n",
       "       [ 4.68186069e-03,  3.52670084e-03, -1.44330223e-02,\n",
       "         6.63890681e-03,  0.00000000e+00,  0.00000000e+00,\n",
       "         1.61663217e-02, -1.36363503e-02, -3.45630018e-03,\n",
       "         2.09478998e-02, -1.72785664e-02,  0.00000000e+00,\n",
       "         1.17406468e-02,  4.95125124e-03, -1.81679424e-02,\n",
       "         4.96263865e-03, -4.65599507e-03,  1.06306543e-02,\n",
       "         7.69230879e-02, -1.51785751e-01,  1.47368408e-01,\n",
       "         5.08345603e-03, -1.10345054e-02,  2.32434518e-03,\n",
       "         4.50704473e-02,  3.23449823e-02, -4.17754179e-02,\n",
       "         8.01749996e-03,  2.90937116e-03, -2.32109415e-03,\n",
       "        -3.29104792e-03,  3.00310113e-04, -1.95074398e-03,\n",
       "         4.39128130e-03, -2.73246623e-03, -2.87698798e-03],\n",
       "       [ 3.52670084e-03, -1.44330223e-02,  5.47584049e-03,\n",
       "         0.00000000e+00,  0.00000000e+00,  1.40151520e-02,\n",
       "        -1.36363503e-02, -3.45630018e-03,  1.38729300e-02,\n",
       "        -1.72785664e-02,  0.00000000e+00, -2.19780704e-03,\n",
       "         4.95125124e-03, -1.81679424e-02,  5.48859565e-03,\n",
       "        -4.65599507e-03,  1.06306543e-02, -7.01264668e-03,\n",
       "        -1.51785751e-01,  1.47368408e-01, -3.66972546e-02,\n",
       "        -1.10345054e-02,  2.32434518e-03,  7.42137954e-03,\n",
       "         3.23449823e-02, -4.17754179e-02, -3.26975808e-02,\n",
       "         2.90937116e-03, -2.32109415e-03,  3.68373088e-03,\n",
       "         3.00310113e-04, -1.95074398e-03,  3.75858534e-03,\n",
       "        -2.73246623e-03, -2.87698798e-03,  2.54183775e-03],\n",
       "       [-1.44330223e-02,  5.47584049e-03, -3.41961317e-03,\n",
       "         0.00000000e+00,  1.40151520e-02,  2.11379754e-02,\n",
       "        -3.45630018e-03,  1.38729300e-02, -9.12210641e-03,\n",
       "         0.00000000e+00, -2.19780704e-03, -1.21144262e-02,\n",
       "        -1.81679424e-02,  5.48859565e-03,  7.79638356e-04,\n",
       "         1.06306543e-02, -7.01264668e-03,  9.74602660e-03,\n",
       "         1.47368408e-01, -3.66972546e-02,  1.90476582e-02,\n",
       "         2.32434518e-03,  7.42137954e-03,  1.38121824e-02,\n",
       "        -4.17754179e-02, -3.26975808e-02, -4.78872789e-02,\n",
       "        -2.32109415e-03,  3.68373088e-03,  1.54521188e-03,\n",
       "        -1.95074398e-03,  3.75858534e-03,  5.99055845e-03,\n",
       "        -2.87698798e-03,  2.54183775e-03,  7.94938137e-03],\n",
       "       [ 5.47584049e-03, -3.41961317e-03, -2.57972254e-02,\n",
       "         1.40151520e-02,  2.11379754e-02,  7.16558977e-03,\n",
       "         1.38729300e-02, -9.12210641e-03, -3.45221340e-03,\n",
       "        -2.19780704e-03, -1.21144262e-02, -3.34434887e-03,\n",
       "         5.48859565e-03,  7.79638356e-04, -3.11639833e-03,\n",
       "        -7.01264668e-03,  9.74602660e-03,  4.05618898e-03,\n",
       "        -3.66972546e-02,  1.90476582e-02,  4.67289967e-02,\n",
       "         7.42137954e-03,  1.38121824e-02,  8.62796392e-03,\n",
       "        -3.26975808e-02, -4.78872789e-02,  5.91715392e-03,\n",
       "         3.68373088e-03,  1.54521188e-03, -6.55754525e-03,\n",
       "         3.75858534e-03,  5.99055845e-03,  1.33972704e-03,\n",
       "         2.54183775e-03,  7.94938137e-03, -6.80620245e-05]])"
      ]
     },
     "execution_count": 219,
     "metadata": {},
     "output_type": "execute_result"
    }
   ],
   "source": [
    "X_train[0:5,:]"
   ]
  },
  {
   "cell_type": "code",
   "execution_count": 184,
   "id": "04c8432c",
   "metadata": {
    "ExecuteTime": {
     "end_time": "2022-05-30T19:35:19.625018Z",
     "start_time": "2022-05-30T19:35:16.209392Z"
    },
    "hidden": true
   },
   "outputs": [],
   "source": [
    "import random as python_random\n",
    "import tensorflow as tf\n",
    "import tensorflow.keras as keras\n",
    "\n",
    "def reset_session(seed=42):\n",
    "    tf.random.set_seed(seed)\n",
    "    python_random.seed(seed)\n",
    "    np.random.seed(seed)\n",
    "    tf.keras.backend.clear_session()"
   ]
  },
  {
   "cell_type": "markdown",
   "id": "f82c84b9",
   "metadata": {
    "heading_collapsed": true
   },
   "source": [
    "## 1. Regression "
   ]
  },
  {
   "cell_type": "markdown",
   "id": "81fa195a",
   "metadata": {
    "hidden": true
   },
   "source": [
    "Linear Regression "
   ]
  },
  {
   "cell_type": "markdown",
   "id": "58797551",
   "metadata": {
    "hidden": true
   },
   "source": [
    "First We introduce the linear model to have an overview of this problem"
   ]
  },
  {
   "cell_type": "code",
   "execution_count": 16,
   "id": "d06af51d",
   "metadata": {
    "ExecuteTime": {
     "end_time": "2022-05-30T19:35:20.190432Z",
     "start_time": "2022-05-30T19:35:19.626076Z"
    },
    "hidden": true
   },
   "outputs": [
    {
     "data": {
      "text/html": [
       "<style>#sk-container-id-1 {color: black;background-color: white;}#sk-container-id-1 pre{padding: 0;}#sk-container-id-1 div.sk-toggleable {background-color: white;}#sk-container-id-1 label.sk-toggleable__label {cursor: pointer;display: block;width: 100%;margin-bottom: 0;padding: 0.3em;box-sizing: border-box;text-align: center;}#sk-container-id-1 label.sk-toggleable__label-arrow:before {content: \"▸\";float: left;margin-right: 0.25em;color: #696969;}#sk-container-id-1 label.sk-toggleable__label-arrow:hover:before {color: black;}#sk-container-id-1 div.sk-estimator:hover label.sk-toggleable__label-arrow:before {color: black;}#sk-container-id-1 div.sk-toggleable__content {max-height: 0;max-width: 0;overflow: hidden;text-align: left;background-color: #f0f8ff;}#sk-container-id-1 div.sk-toggleable__content pre {margin: 0.2em;color: black;border-radius: 0.25em;background-color: #f0f8ff;}#sk-container-id-1 input.sk-toggleable__control:checked~div.sk-toggleable__content {max-height: 200px;max-width: 100%;overflow: auto;}#sk-container-id-1 input.sk-toggleable__control:checked~label.sk-toggleable__label-arrow:before {content: \"▾\";}#sk-container-id-1 div.sk-estimator input.sk-toggleable__control:checked~label.sk-toggleable__label {background-color: #d4ebff;}#sk-container-id-1 div.sk-label input.sk-toggleable__control:checked~label.sk-toggleable__label {background-color: #d4ebff;}#sk-container-id-1 input.sk-hidden--visually {border: 0;clip: rect(1px 1px 1px 1px);clip: rect(1px, 1px, 1px, 1px);height: 1px;margin: -1px;overflow: hidden;padding: 0;position: absolute;width: 1px;}#sk-container-id-1 div.sk-estimator {font-family: monospace;background-color: #f0f8ff;border: 1px dotted black;border-radius: 0.25em;box-sizing: border-box;margin-bottom: 0.5em;}#sk-container-id-1 div.sk-estimator:hover {background-color: #d4ebff;}#sk-container-id-1 div.sk-parallel-item::after {content: \"\";width: 100%;border-bottom: 1px solid gray;flex-grow: 1;}#sk-container-id-1 div.sk-label:hover label.sk-toggleable__label {background-color: #d4ebff;}#sk-container-id-1 div.sk-serial::before {content: \"\";position: absolute;border-left: 1px solid gray;box-sizing: border-box;top: 0;bottom: 0;left: 50%;z-index: 0;}#sk-container-id-1 div.sk-serial {display: flex;flex-direction: column;align-items: center;background-color: white;padding-right: 0.2em;padding-left: 0.2em;position: relative;}#sk-container-id-1 div.sk-item {position: relative;z-index: 1;}#sk-container-id-1 div.sk-parallel {display: flex;align-items: stretch;justify-content: center;background-color: white;position: relative;}#sk-container-id-1 div.sk-item::before, #sk-container-id-1 div.sk-parallel-item::before {content: \"\";position: absolute;border-left: 1px solid gray;box-sizing: border-box;top: 0;bottom: 0;left: 50%;z-index: -1;}#sk-container-id-1 div.sk-parallel-item {display: flex;flex-direction: column;z-index: 1;position: relative;background-color: white;}#sk-container-id-1 div.sk-parallel-item:first-child::after {align-self: flex-end;width: 50%;}#sk-container-id-1 div.sk-parallel-item:last-child::after {align-self: flex-start;width: 50%;}#sk-container-id-1 div.sk-parallel-item:only-child::after {width: 0;}#sk-container-id-1 div.sk-dashed-wrapped {border: 1px dashed gray;margin: 0 0.4em 0.5em 0.4em;box-sizing: border-box;padding-bottom: 0.4em;background-color: white;}#sk-container-id-1 div.sk-label label {font-family: monospace;font-weight: bold;display: inline-block;line-height: 1.2em;}#sk-container-id-1 div.sk-label-container {text-align: center;}#sk-container-id-1 div.sk-container {/* jupyter's `normalize.less` sets `[hidden] { display: none; }` but bootstrap.min.css set `[hidden] { display: none !important; }` so we also need the `!important` here to be able to override the default hidden behavior on the sphinx rendered scikit-learn.org. See: https://github.com/scikit-learn/scikit-learn/issues/21755 */display: inline-block !important;position: relative;}#sk-container-id-1 div.sk-text-repr-fallback {display: none;}</style><div id=\"sk-container-id-1\" class=\"sk-top-container\"><div class=\"sk-text-repr-fallback\"><pre>LinearRegression()</pre><b>In a Jupyter environment, please rerun this cell to show the HTML representation or trust the notebook. <br />On GitHub, the HTML representation is unable to render, please try loading this page with nbviewer.org.</b></div><div class=\"sk-container\" hidden><div class=\"sk-item\"><div class=\"sk-estimator sk-toggleable\"><input class=\"sk-toggleable__control sk-hidden--visually\" id=\"sk-estimator-id-1\" type=\"checkbox\" checked><label for=\"sk-estimator-id-1\" class=\"sk-toggleable__label sk-toggleable__label-arrow\">LinearRegression</label><div class=\"sk-toggleable__content\"><pre>LinearRegression()</pre></div></div></div></div></div>"
      ],
      "text/plain": [
       "LinearRegression()"
      ]
     },
     "execution_count": 16,
     "metadata": {},
     "output_type": "execute_result"
    }
   ],
   "source": [
    "from sklearn.linear_model import LinearRegression\n",
    "\n",
    "reset_session()\n",
    "lin_reg = LinearRegression()\n",
    "lin_reg.fit(X_train, y_train)"
   ]
  },
  {
   "cell_type": "code",
   "execution_count": 17,
   "id": "635dfaed",
   "metadata": {
    "ExecuteTime": {
     "end_time": "2022-05-30T19:35:20.195744Z",
     "start_time": "2022-05-30T19:35:20.192190Z"
    },
    "hidden": true
   },
   "outputs": [],
   "source": [
    "from sklearn.metrics import mean_squared_error\n",
    "\n",
    "y_pred = lin_reg.predict(X_test)\n",
    "lin_mse = mean_squared_error(y_pred, y_test)"
   ]
  },
  {
   "cell_type": "code",
   "execution_count": 18,
   "id": "b305a551",
   "metadata": {
    "ExecuteTime": {
     "end_time": "2022-06-01T15:49:13.941387Z",
     "start_time": "2022-06-01T15:49:13.935532Z"
    },
    "hidden": true
   },
   "outputs": [
    {
     "data": {
      "text/html": [
       "<div>\n",
       "<style scoped>\n",
       "    .dataframe tbody tr th:only-of-type {\n",
       "        vertical-align: middle;\n",
       "    }\n",
       "\n",
       "    .dataframe tbody tr th {\n",
       "        vertical-align: top;\n",
       "    }\n",
       "\n",
       "    .dataframe thead th {\n",
       "        text-align: right;\n",
       "    }\n",
       "</style>\n",
       "<table border=\"1\" class=\"dataframe\">\n",
       "  <thead>\n",
       "    <tr style=\"text-align: right;\">\n",
       "      <th></th>\n",
       "      <th>lin_mse</th>\n",
       "    </tr>\n",
       "  </thead>\n",
       "  <tbody>\n",
       "    <tr>\n",
       "      <th>0</th>\n",
       "      <td>0.002271</td>\n",
       "    </tr>\n",
       "  </tbody>\n",
       "</table>\n",
       "</div>"
      ],
      "text/plain": [
       "    lin_mse\n",
       "0  0.002271"
      ]
     },
     "execution_count": 18,
     "metadata": {},
     "output_type": "execute_result"
    }
   ],
   "source": [
    "mse = pd.DataFrame([lin_mse], columns=[\"lin_mse\"])\n",
    "mse"
   ]
  },
  {
   "cell_type": "markdown",
   "id": "e986816b",
   "metadata": {
    "hidden": true
   },
   "source": [
    "The linear model is fast and this mse under linear model could be considered as a base value to compare"
   ]
  },
  {
   "cell_type": "markdown",
   "id": "08bf4237",
   "metadata": {
    "hidden": true
   },
   "source": [
    "Defining the plot function to show the learning curve"
   ]
  },
  {
   "cell_type": "code",
   "execution_count": 21,
   "id": "e928eaec",
   "metadata": {
    "ExecuteTime": {
     "end_time": "2022-05-30T19:35:20.212187Z",
     "start_time": "2022-05-30T19:35:20.206105Z"
    },
    "hidden": true
   },
   "outputs": [],
   "source": [
    "from sklearn.metrics import mean_squared_error\n",
    "from sklearn.model_selection import train_test_split\n",
    "import matplotlib.pyplot as plt\n",
    "\n",
    "def plot_learning_curves(model, X, y):\n",
    "    X_train, X_val, y_train, y_val = train_test_split(X, y, test_size=0.2, random_state=10)\n",
    "    train_errors, val_errors = [], []\n",
    "    for m in range(1, len(X_train),1000):\n",
    "        model.fit(X_train[:m], y_train[:m])\n",
    "        y_train_predict = model.predict(X_train[:m])\n",
    "        y_val_predict = model.predict(X_val)\n",
    "        train_errors.append(mean_squared_error(y_train[:m], y_train_predict))\n",
    "        val_errors.append(mean_squared_error(y_val, y_val_predict))\n",
    "        \n",
    "    plt.plot(np.sqrt(train_errors), \"r-+\", linewidth=2, label=\"train\")\n",
    "    plt.plot(np.sqrt(val_errors), \"b-\", linewidth=3, label=\"val\")\n",
    "    plt.legend(loc=\"upper right\", fontsize=14)   \n",
    "    plt.xlabel(\"Training set size\", fontsize=14) \n",
    "    plt.ylabel(\"MSE\", fontsize=14)"
   ]
  },
  {
   "cell_type": "code",
   "execution_count": 22,
   "id": "b6510f68",
   "metadata": {
    "ExecuteTime": {
     "end_time": "2022-05-30T19:35:20.343763Z",
     "start_time": "2022-05-30T19:35:20.214218Z"
    },
    "hidden": true
   },
   "outputs": [
    {
     "data": {
      "image/png": "[encoded data removed]",
      "text/plain": [
       "<Figure size 432x288 with 1 Axes>"
      ]
     },
     "metadata": {
      "needs_background": "light"
     },
     "output_type": "display_data"
    }
   ],
   "source": [
    "plot_learning_curves(lin_reg, X_train, y_train)  \n",
    "plt.show()"
   ]
  },
  {
   "cell_type": "markdown",
   "id": "e247c4cb",
   "metadata": {
    "hidden": true
   },
   "source": [
    "Linear Regression using Stochastic GD "
   ]
  },
  {
   "cell_type": "markdown",
   "id": "4a8c406c",
   "metadata": {
    "hidden": true
   },
   "source": [
    "We implement the SGDRegressor to enhance the learnear regression"
   ]
  },
  {
   "cell_type": "code",
   "execution_count": 30,
   "id": "680828e4",
   "metadata": {
    "ExecuteTime": {
     "end_time": "2022-05-30T19:35:21.482550Z",
     "start_time": "2022-05-30T19:35:21.469177Z"
    },
    "hidden": true
   },
   "outputs": [
    {
     "name": "stderr",
     "output_type": "stream",
     "text": [
      "D:\\Python\\lib\\site-packages\\sklearn\\utils\\validation.py:1111: DataConversionWarning: A column-vector y was passed when a 1d array was expected. Please change the shape of y to (n_samples, ), for example using ravel().\n",
      "  y = column_or_1d(y, warn=True)\n"
     ]
    },
    {
     "data": {
      "text/html": [
       "<style>#sk-container-id-4 {color: black;background-color: white;}#sk-container-id-4 pre{padding: 0;}#sk-container-id-4 div.sk-toggleable {background-color: white;}#sk-container-id-4 label.sk-toggleable__label {cursor: pointer;display: block;width: 100%;margin-bottom: 0;padding: 0.3em;box-sizing: border-box;text-align: center;}#sk-container-id-4 label.sk-toggleable__label-arrow:before {content: \"▸\";float: left;margin-right: 0.25em;color: #696969;}#sk-container-id-4 label.sk-toggleable__label-arrow:hover:before {color: black;}#sk-container-id-4 div.sk-estimator:hover label.sk-toggleable__label-arrow:before {color: black;}#sk-container-id-4 div.sk-toggleable__content {max-height: 0;max-width: 0;overflow: hidden;text-align: left;background-color: #f0f8ff;}#sk-container-id-4 div.sk-toggleable__content pre {margin: 0.2em;color: black;border-radius: 0.25em;background-color: #f0f8ff;}#sk-container-id-4 input.sk-toggleable__control:checked~div.sk-toggleable__content {max-height: 200px;max-width: 100%;overflow: auto;}#sk-container-id-4 input.sk-toggleable__control:checked~label.sk-toggleable__label-arrow:before {content: \"▾\";}#sk-container-id-4 div.sk-estimator input.sk-toggleable__control:checked~label.sk-toggleable__label {background-color: #d4ebff;}#sk-container-id-4 div.sk-label input.sk-toggleable__control:checked~label.sk-toggleable__label {background-color: #d4ebff;}#sk-container-id-4 input.sk-hidden--visually {border: 0;clip: rect(1px 1px 1px 1px);clip: rect(1px, 1px, 1px, 1px);height: 1px;margin: -1px;overflow: hidden;padding: 0;position: absolute;width: 1px;}#sk-container-id-4 div.sk-estimator {font-family: monospace;background-color: #f0f8ff;border: 1px dotted black;border-radius: 0.25em;box-sizing: border-box;margin-bottom: 0.5em;}#sk-container-id-4 div.sk-estimator:hover {background-color: #d4ebff;}#sk-container-id-4 div.sk-parallel-item::after {content: \"\";width: 100%;border-bottom: 1px solid gray;flex-grow: 1;}#sk-container-id-4 div.sk-label:hover label.sk-toggleable__label {background-color: #d4ebff;}#sk-container-id-4 div.sk-serial::before {content: \"\";position: absolute;border-left: 1px solid gray;box-sizing: border-box;top: 0;bottom: 0;left: 50%;z-index: 0;}#sk-container-id-4 div.sk-serial {display: flex;flex-direction: column;align-items: center;background-color: white;padding-right: 0.2em;padding-left: 0.2em;position: relative;}#sk-container-id-4 div.sk-item {position: relative;z-index: 1;}#sk-container-id-4 div.sk-parallel {display: flex;align-items: stretch;justify-content: center;background-color: white;position: relative;}#sk-container-id-4 div.sk-item::before, #sk-container-id-4 div.sk-parallel-item::before {content: \"\";position: absolute;border-left: 1px solid gray;box-sizing: border-box;top: 0;bottom: 0;left: 50%;z-index: -1;}#sk-container-id-4 div.sk-parallel-item {display: flex;flex-direction: column;z-index: 1;position: relative;background-color: white;}#sk-container-id-4 div.sk-parallel-item:first-child::after {align-self: flex-end;width: 50%;}#sk-container-id-4 div.sk-parallel-item:last-child::after {align-self: flex-start;width: 50%;}#sk-container-id-4 div.sk-parallel-item:only-child::after {width: 0;}#sk-container-id-4 div.sk-dashed-wrapped {border: 1px dashed gray;margin: 0 0.4em 0.5em 0.4em;box-sizing: border-box;padding-bottom: 0.4em;background-color: white;}#sk-container-id-4 div.sk-label label {font-family: monospace;font-weight: bold;display: inline-block;line-height: 1.2em;}#sk-container-id-4 div.sk-label-container {text-align: center;}#sk-container-id-4 div.sk-container {/* jupyter's `normalize.less` sets `[hidden] { display: none; }` but bootstrap.min.css set `[hidden] { display: none !important; }` so we also need the `!important` here to be able to override the default hidden behavior on the sphinx rendered scikit-learn.org. See: https://github.com/scikit-learn/scikit-learn/issues/21755 */display: inline-block !important;position: relative;}#sk-container-id-4 div.sk-text-repr-fallback {display: none;}</style><div id=\"sk-container-id-4\" class=\"sk-top-container\"><div class=\"sk-text-repr-fallback\"><pre>SGDRegressor()</pre><b>In a Jupyter environment, please rerun this cell to show the HTML representation or trust the notebook. <br />On GitHub, the HTML representation is unable to render, please try loading this page with nbviewer.org.</b></div><div class=\"sk-container\" hidden><div class=\"sk-item\"><div class=\"sk-estimator sk-toggleable\"><input class=\"sk-toggleable__control sk-hidden--visually\" id=\"sk-estimator-id-8\" type=\"checkbox\" checked><label for=\"sk-estimator-id-8\" class=\"sk-toggleable__label sk-toggleable__label-arrow\">SGDRegressor</label><div class=\"sk-toggleable__content\"><pre>SGDRegressor()</pre></div></div></div></div></div>"
      ],
      "text/plain": [
       "SGDRegressor()"
      ]
     },
     "execution_count": 30,
     "metadata": {},
     "output_type": "execute_result"
    }
   ],
   "source": [
    "from sklearn.linear_model import SGDRegressor\n",
    "\n",
    "reset_session()\n",
    "sgd_reg = SGDRegressor()\n",
    "sgd_reg.fit(X_train, y_train)"
   ]
  },
  {
   "cell_type": "code",
   "execution_count": 31,
   "id": "94c6f7f1",
   "metadata": {
    "ExecuteTime": {
     "end_time": "2022-05-30T19:35:21.487987Z",
     "start_time": "2022-05-30T19:35:21.484285Z"
    },
    "hidden": true
   },
   "outputs": [],
   "source": [
    "y_pred = sgd_reg.predict(X_test)\n",
    "sgd_mse = mean_squared_error(y_pred, y_test)"
   ]
  },
  {
   "cell_type": "code",
   "execution_count": 32,
   "id": "d7560203",
   "metadata": {
    "ExecuteTime": {
     "end_time": "2022-05-30T19:35:21.499509Z",
     "start_time": "2022-05-30T19:35:21.490079Z"
    },
    "hidden": true
   },
   "outputs": [
    {
     "data": {
      "text/html": [
       "<div>\n",
       "<style scoped>\n",
       "    .dataframe tbody tr th:only-of-type {\n",
       "        vertical-align: middle;\n",
       "    }\n",
       "\n",
       "    .dataframe tbody tr th {\n",
       "        vertical-align: top;\n",
       "    }\n",
       "\n",
       "    .dataframe thead th {\n",
       "        text-align: right;\n",
       "    }\n",
       "</style>\n",
       "<table border=\"1\" class=\"dataframe\">\n",
       "  <thead>\n",
       "    <tr style=\"text-align: right;\">\n",
       "      <th></th>\n",
       "      <th>lin_mse</th>\n",
       "      <th>sgd_reg</th>\n",
       "    </tr>\n",
       "  </thead>\n",
       "  <tbody>\n",
       "    <tr>\n",
       "      <th>0</th>\n",
       "      <td>0.002271</td>\n",
       "      <td>0.002189</td>\n",
       "    </tr>\n",
       "  </tbody>\n",
       "</table>\n",
       "</div>"
      ],
      "text/plain": [
       "    lin_mse   sgd_reg\n",
       "0  0.002271  0.002189"
      ]
     },
     "execution_count": 32,
     "metadata": {},
     "output_type": "execute_result"
    }
   ],
   "source": [
    "mse[\"sgd_reg\"] = sgd_mse\n",
    "mse"
   ]
  },
  {
   "cell_type": "markdown",
   "id": "7811ae78",
   "metadata": {
    "hidden": true
   },
   "source": [
    "As above shows the mse under sgd is better than the linear model"
   ]
  },
  {
   "cell_type": "code",
   "execution_count": 33,
   "id": "20c813a0",
   "metadata": {
    "ExecuteTime": {
     "end_time": "2022-05-30T19:35:21.621400Z",
     "start_time": "2022-05-30T19:35:21.501834Z"
    },
    "hidden": true
   },
   "outputs": [
    {
     "name": "stderr",
     "output_type": "stream",
     "text": [
      "D:\\Python\\lib\\site-packages\\sklearn\\utils\\validation.py:1111: DataConversionWarning: A column-vector y was passed when a 1d array was expected. Please change the shape of y to (n_samples, ), for example using ravel().\n",
      "  y = column_or_1d(y, warn=True)\n",
      "D:\\Python\\lib\\site-packages\\sklearn\\utils\\validation.py:1111: DataConversionWarning: A column-vector y was passed when a 1d array was expected. Please change the shape of y to (n_samples, ), for example using ravel().\n",
      "  y = column_or_1d(y, warn=True)\n"
     ]
    },
    {
     "data": {
      "image/png": "[encoded data removed]",
      "text/plain": [
       "<Figure size 432x288 with 1 Axes>"
      ]
     },
     "metadata": {
      "needs_background": "light"
     },
     "output_type": "display_data"
    }
   ],
   "source": [
    "plot_learning_curves(sgd_reg, X_train, y_train)  \n",
    "plt.show()"
   ]
  },
  {
   "cell_type": "markdown",
   "id": "df957586",
   "metadata": {
    "hidden": true
   },
   "source": [
    "Polynomial Regression "
   ]
  },
  {
   "cell_type": "markdown",
   "id": "464ee974",
   "metadata": {
    "hidden": true
   },
   "source": [
    "4-fold cross-validation with MSE for tuning the hyperparameters.The parameter we searched here is the optimal degree"
   ]
  },
  {
   "cell_type": "code",
   "execution_count": 34,
   "id": "88586847",
   "metadata": {
    "ExecuteTime": {
     "end_time": "2022-05-30T19:35:23.197427Z",
     "start_time": "2022-05-30T19:35:21.629753Z"
    },
    "hidden": true
   },
   "outputs": [
    {
     "name": "stderr",
     "output_type": "stream",
     "text": [
      "D:\\Python\\lib\\site-packages\\sklearn\\model_selection\\_search.py:306: UserWarning: The total space of parameters 6 is smaller than n_iter=18. Running 6 iterations. For exhaustive searches, use GridSearchCV.\n",
      "  warnings.warn(\n",
      "D:\\Python\\lib\\site-packages\\sklearn\\model_selection\\_search.py:953: UserWarning: One or more of the test scores are non-finite: [nan nan nan nan nan nan]\n",
      "  warnings.warn(\n"
     ]
    },
    {
     "data": {
      "text/html": [
       "<style>#sk-container-id-5 {color: black;background-color: white;}#sk-container-id-5 pre{padding: 0;}#sk-container-id-5 div.sk-toggleable {background-color: white;}#sk-container-id-5 label.sk-toggleable__label {cursor: pointer;display: block;width: 100%;margin-bottom: 0;padding: 0.3em;box-sizing: border-box;text-align: center;}#sk-container-id-5 label.sk-toggleable__label-arrow:before {content: \"▸\";float: left;margin-right: 0.25em;color: #696969;}#sk-container-id-5 label.sk-toggleable__label-arrow:hover:before {color: black;}#sk-container-id-5 div.sk-estimator:hover label.sk-toggleable__label-arrow:before {color: black;}#sk-container-id-5 div.sk-toggleable__content {max-height: 0;max-width: 0;overflow: hidden;text-align: left;background-color: #f0f8ff;}#sk-container-id-5 div.sk-toggleable__content pre {margin: 0.2em;color: black;border-radius: 0.25em;background-color: #f0f8ff;}#sk-container-id-5 input.sk-toggleable__control:checked~div.sk-toggleable__content {max-height: 200px;max-width: 100%;overflow: auto;}#sk-container-id-5 input.sk-toggleable__control:checked~label.sk-toggleable__label-arrow:before {content: \"▾\";}#sk-container-id-5 div.sk-estimator input.sk-toggleable__control:checked~label.sk-toggleable__label {background-color: #d4ebff;}#sk-container-id-5 div.sk-label input.sk-toggleable__control:checked~label.sk-toggleable__label {background-color: #d4ebff;}#sk-container-id-5 input.sk-hidden--visually {border: 0;clip: rect(1px 1px 1px 1px);clip: rect(1px, 1px, 1px, 1px);height: 1px;margin: -1px;overflow: hidden;padding: 0;position: absolute;width: 1px;}#sk-container-id-5 div.sk-estimator {font-family: monospace;background-color: #f0f8ff;border: 1px dotted black;border-radius: 0.25em;box-sizing: border-box;margin-bottom: 0.5em;}#sk-container-id-5 div.sk-estimator:hover {background-color: #d4ebff;}#sk-container-id-5 div.sk-parallel-item::after {content: \"\";width: 100%;border-bottom: 1px solid gray;flex-grow: 1;}#sk-container-id-5 div.sk-label:hover label.sk-toggleable__label {background-color: #d4ebff;}#sk-container-id-5 div.sk-serial::before {content: \"\";position: absolute;border-left: 1px solid gray;box-sizing: border-box;top: 0;bottom: 0;left: 50%;z-index: 0;}#sk-container-id-5 div.sk-serial {display: flex;flex-direction: column;align-items: center;background-color: white;padding-right: 0.2em;padding-left: 0.2em;position: relative;}#sk-container-id-5 div.sk-item {position: relative;z-index: 1;}#sk-container-id-5 div.sk-parallel {display: flex;align-items: stretch;justify-content: center;background-color: white;position: relative;}#sk-container-id-5 div.sk-item::before, #sk-container-id-5 div.sk-parallel-item::before {content: \"\";position: absolute;border-left: 1px solid gray;box-sizing: border-box;top: 0;bottom: 0;left: 50%;z-index: -1;}#sk-container-id-5 div.sk-parallel-item {display: flex;flex-direction: column;z-index: 1;position: relative;background-color: white;}#sk-container-id-5 div.sk-parallel-item:first-child::after {align-self: flex-end;width: 50%;}#sk-container-id-5 div.sk-parallel-item:last-child::after {align-self: flex-start;width: 50%;}#sk-container-id-5 div.sk-parallel-item:only-child::after {width: 0;}#sk-container-id-5 div.sk-dashed-wrapped {border: 1px dashed gray;margin: 0 0.4em 0.5em 0.4em;box-sizing: border-box;padding-bottom: 0.4em;background-color: white;}#sk-container-id-5 div.sk-label label {font-family: monospace;font-weight: bold;display: inline-block;line-height: 1.2em;}#sk-container-id-5 div.sk-label-container {text-align: center;}#sk-container-id-5 div.sk-container {/* jupyter's `normalize.less` sets `[hidden] { display: none; }` but bootstrap.min.css set `[hidden] { display: none !important; }` so we also need the `!important` here to be able to override the default hidden behavior on the sphinx rendered scikit-learn.org. See: https://github.com/scikit-learn/scikit-learn/issues/21755 */display: inline-block !important;position: relative;}#sk-container-id-5 div.sk-text-repr-fallback {display: none;}</style><div id=\"sk-container-id-5\" class=\"sk-top-container\"><div class=\"sk-text-repr-fallback\"><pre>Pipeline(steps=[(&#x27;rnd_search&#x27;,\n",
       "                 RandomizedSearchCV(cv=4, estimator=PolynomialFeatures(),\n",
       "                                    n_iter=18, n_jobs=-1,\n",
       "                                    param_distributions={&#x27;degree&#x27;: [2, 3, 4, 5,\n",
       "                                                                    6, 7]},\n",
       "                                    random_state=42,\n",
       "                                    scoring=&#x27;neg_mean_squared_error&#x27;)),\n",
       "                (&#x27;lin_reg&#x27;, LinearRegression())])</pre><b>In a Jupyter environment, please rerun this cell to show the HTML representation or trust the notebook. <br />On GitHub, the HTML representation is unable to render, please try loading this page with nbviewer.org.</b></div><div class=\"sk-container\" hidden><div class=\"sk-item sk-dashed-wrapped\"><div class=\"sk-label-container\"><div class=\"sk-label sk-toggleable\"><input class=\"sk-toggleable__control sk-hidden--visually\" id=\"sk-estimator-id-9\" type=\"checkbox\" ><label for=\"sk-estimator-id-9\" class=\"sk-toggleable__label sk-toggleable__label-arrow\">Pipeline</label><div class=\"sk-toggleable__content\"><pre>Pipeline(steps=[(&#x27;rnd_search&#x27;,\n",
       "                 RandomizedSearchCV(cv=4, estimator=PolynomialFeatures(),\n",
       "                                    n_iter=18, n_jobs=-1,\n",
       "                                    param_distributions={&#x27;degree&#x27;: [2, 3, 4, 5,\n",
       "                                                                    6, 7]},\n",
       "                                    random_state=42,\n",
       "                                    scoring=&#x27;neg_mean_squared_error&#x27;)),\n",
       "                (&#x27;lin_reg&#x27;, LinearRegression())])</pre></div></div></div><div class=\"sk-serial\"><div class=\"sk-item sk-dashed-wrapped\"><div class=\"sk-label-container\"><div class=\"sk-label sk-toggleable\"><input class=\"sk-toggleable__control sk-hidden--visually\" id=\"sk-estimator-id-10\" type=\"checkbox\" ><label for=\"sk-estimator-id-10\" class=\"sk-toggleable__label sk-toggleable__label-arrow\">rnd_search: RandomizedSearchCV</label><div class=\"sk-toggleable__content\"><pre>RandomizedSearchCV(cv=4, estimator=PolynomialFeatures(), n_iter=18, n_jobs=-1,\n",
       "                   param_distributions={&#x27;degree&#x27;: [2, 3, 4, 5, 6, 7]},\n",
       "                   random_state=42, scoring=&#x27;neg_mean_squared_error&#x27;)</pre></div></div></div><div class=\"sk-parallel\"><div class=\"sk-parallel-item\"><div class=\"sk-item\"><div class=\"sk-label-container\"><div class=\"sk-label sk-toggleable\"><input class=\"sk-toggleable__control sk-hidden--visually\" id=\"sk-estimator-id-11\" type=\"checkbox\" ><label for=\"sk-estimator-id-11\" class=\"sk-toggleable__label sk-toggleable__label-arrow\">estimator: PolynomialFeatures</label><div class=\"sk-toggleable__content\"><pre>PolynomialFeatures()</pre></div></div></div><div class=\"sk-serial\"><div class=\"sk-item\"><div class=\"sk-estimator sk-toggleable\"><input class=\"sk-toggleable__control sk-hidden--visually\" id=\"sk-estimator-id-12\" type=\"checkbox\" ><label for=\"sk-estimator-id-12\" class=\"sk-toggleable__label sk-toggleable__label-arrow\">PolynomialFeatures</label><div class=\"sk-toggleable__content\"><pre>PolynomialFeatures()</pre></div></div></div></div></div></div></div></div><div class=\"sk-item\"><div class=\"sk-estimator sk-toggleable\"><input class=\"sk-toggleable__control sk-hidden--visually\" id=\"sk-estimator-id-13\" type=\"checkbox\" ><label for=\"sk-estimator-id-13\" class=\"sk-toggleable__label sk-toggleable__label-arrow\">LinearRegression</label><div class=\"sk-toggleable__content\"><pre>LinearRegression()</pre></div></div></div></div></div></div></div>"
      ],
      "text/plain": [
       "Pipeline(steps=[('rnd_search',\n",
       "                 RandomizedSearchCV(cv=4, estimator=PolynomialFeatures(),\n",
       "                                    n_iter=18, n_jobs=-1,\n",
       "                                    param_distributions={'degree': [2, 3, 4, 5,\n",
       "                                                                    6, 7]},\n",
       "                                    random_state=42,\n",
       "                                    scoring='neg_mean_squared_error')),\n",
       "                ('lin_reg', LinearRegression())])"
      ]
     },
     "execution_count": 34,
     "metadata": {},
     "output_type": "execute_result"
    }
   ],
   "source": [
    "from sklearn.model_selection import RandomizedSearchCV\n",
    "from sklearn.preprocessing import PolynomialFeatures\n",
    "from sklearn.pipeline import Pipeline\n",
    "\n",
    "reset_session()\n",
    "param_distribs = {\n",
    "        'degree': [2,3,4,5,6,7]\n",
    "    }\n",
    "\n",
    "poly_features = PolynomialFeatures()\n",
    "\n",
    "rnd_search = RandomizedSearchCV(poly_features, param_distributions=param_distribs,\n",
    "                                n_iter=18, cv=4, scoring='neg_mean_squared_error', random_state=42,n_jobs=-1)\n",
    "\n",
    "\n",
    "poly_reg = Pipeline([\n",
    "                (\"rnd_search\", rnd_search),\n",
    "                (\"lin_reg\", lin_reg),])\n",
    "poly_reg.fit(X_train, y_train)"
   ]
  },
  {
   "cell_type": "code",
   "execution_count": 35,
   "id": "c25dc3ef",
   "metadata": {
    "ExecuteTime": {
     "end_time": "2022-05-30T19:35:23.206320Z",
     "start_time": "2022-05-30T19:35:23.202901Z"
    },
    "hidden": true
   },
   "outputs": [
    {
     "data": {
      "text/plain": [
       "{'degree': 2}"
      ]
     },
     "execution_count": 35,
     "metadata": {},
     "output_type": "execute_result"
    }
   ],
   "source": [
    "rnd_search.best_params_"
   ]
  },
  {
   "cell_type": "markdown",
   "id": "11c61d27",
   "metadata": {
    "hidden": true
   },
   "source": [
    "The optimal degree is 2, and we check the mse under the best fit poly(degree=2)"
   ]
  },
  {
   "cell_type": "code",
   "execution_count": 36,
   "id": "1ac60cf1",
   "metadata": {
    "ExecuteTime": {
     "end_time": "2022-05-30T19:35:24.620118Z",
     "start_time": "2022-05-30T19:35:23.208251Z"
    },
    "hidden": true
   },
   "outputs": [
    {
     "data": {
      "text/html": [
       "<style>#sk-container-id-6 {color: black;background-color: white;}#sk-container-id-6 pre{padding: 0;}#sk-container-id-6 div.sk-toggleable {background-color: white;}#sk-container-id-6 label.sk-toggleable__label {cursor: pointer;display: block;width: 100%;margin-bottom: 0;padding: 0.3em;box-sizing: border-box;text-align: center;}#sk-container-id-6 label.sk-toggleable__label-arrow:before {content: \"▸\";float: left;margin-right: 0.25em;color: #696969;}#sk-container-id-6 label.sk-toggleable__label-arrow:hover:before {color: black;}#sk-container-id-6 div.sk-estimator:hover label.sk-toggleable__label-arrow:before {color: black;}#sk-container-id-6 div.sk-toggleable__content {max-height: 0;max-width: 0;overflow: hidden;text-align: left;background-color: #f0f8ff;}#sk-container-id-6 div.sk-toggleable__content pre {margin: 0.2em;color: black;border-radius: 0.25em;background-color: #f0f8ff;}#sk-container-id-6 input.sk-toggleable__control:checked~div.sk-toggleable__content {max-height: 200px;max-width: 100%;overflow: auto;}#sk-container-id-6 input.sk-toggleable__control:checked~label.sk-toggleable__label-arrow:before {content: \"▾\";}#sk-container-id-6 div.sk-estimator input.sk-toggleable__control:checked~label.sk-toggleable__label {background-color: #d4ebff;}#sk-container-id-6 div.sk-label input.sk-toggleable__control:checked~label.sk-toggleable__label {background-color: #d4ebff;}#sk-container-id-6 input.sk-hidden--visually {border: 0;clip: rect(1px 1px 1px 1px);clip: rect(1px, 1px, 1px, 1px);height: 1px;margin: -1px;overflow: hidden;padding: 0;position: absolute;width: 1px;}#sk-container-id-6 div.sk-estimator {font-family: monospace;background-color: #f0f8ff;border: 1px dotted black;border-radius: 0.25em;box-sizing: border-box;margin-bottom: 0.5em;}#sk-container-id-6 div.sk-estimator:hover {background-color: #d4ebff;}#sk-container-id-6 div.sk-parallel-item::after {content: \"\";width: 100%;border-bottom: 1px solid gray;flex-grow: 1;}#sk-container-id-6 div.sk-label:hover label.sk-toggleable__label {background-color: #d4ebff;}#sk-container-id-6 div.sk-serial::before {content: \"\";position: absolute;border-left: 1px solid gray;box-sizing: border-box;top: 0;bottom: 0;left: 50%;z-index: 0;}#sk-container-id-6 div.sk-serial {display: flex;flex-direction: column;align-items: center;background-color: white;padding-right: 0.2em;padding-left: 0.2em;position: relative;}#sk-container-id-6 div.sk-item {position: relative;z-index: 1;}#sk-container-id-6 div.sk-parallel {display: flex;align-items: stretch;justify-content: center;background-color: white;position: relative;}#sk-container-id-6 div.sk-item::before, #sk-container-id-6 div.sk-parallel-item::before {content: \"\";position: absolute;border-left: 1px solid gray;box-sizing: border-box;top: 0;bottom: 0;left: 50%;z-index: -1;}#sk-container-id-6 div.sk-parallel-item {display: flex;flex-direction: column;z-index: 1;position: relative;background-color: white;}#sk-container-id-6 div.sk-parallel-item:first-child::after {align-self: flex-end;width: 50%;}#sk-container-id-6 div.sk-parallel-item:last-child::after {align-self: flex-start;width: 50%;}#sk-container-id-6 div.sk-parallel-item:only-child::after {width: 0;}#sk-container-id-6 div.sk-dashed-wrapped {border: 1px dashed gray;margin: 0 0.4em 0.5em 0.4em;box-sizing: border-box;padding-bottom: 0.4em;background-color: white;}#sk-container-id-6 div.sk-label label {font-family: monospace;font-weight: bold;display: inline-block;line-height: 1.2em;}#sk-container-id-6 div.sk-label-container {text-align: center;}#sk-container-id-6 div.sk-container {/* jupyter's `normalize.less` sets `[hidden] { display: none; }` but bootstrap.min.css set `[hidden] { display: none !important; }` so we also need the `!important` here to be able to override the default hidden behavior on the sphinx rendered scikit-learn.org. See: https://github.com/scikit-learn/scikit-learn/issues/21755 */display: inline-block !important;position: relative;}#sk-container-id-6 div.sk-text-repr-fallback {display: none;}</style><div id=\"sk-container-id-6\" class=\"sk-top-container\"><div class=\"sk-text-repr-fallback\"><pre>Pipeline(steps=[(&#x27;poly_features&#x27;, PolynomialFeatures()),\n",
       "                (&#x27;lin_reg&#x27;, LinearRegression())])</pre><b>In a Jupyter environment, please rerun this cell to show the HTML representation or trust the notebook. <br />On GitHub, the HTML representation is unable to render, please try loading this page with nbviewer.org.</b></div><div class=\"sk-container\" hidden><div class=\"sk-item sk-dashed-wrapped\"><div class=\"sk-label-container\"><div class=\"sk-label sk-toggleable\"><input class=\"sk-toggleable__control sk-hidden--visually\" id=\"sk-estimator-id-14\" type=\"checkbox\" ><label for=\"sk-estimator-id-14\" class=\"sk-toggleable__label sk-toggleable__label-arrow\">Pipeline</label><div class=\"sk-toggleable__content\"><pre>Pipeline(steps=[(&#x27;poly_features&#x27;, PolynomialFeatures()),\n",
       "                (&#x27;lin_reg&#x27;, LinearRegression())])</pre></div></div></div><div class=\"sk-serial\"><div class=\"sk-item\"><div class=\"sk-estimator sk-toggleable\"><input class=\"sk-toggleable__control sk-hidden--visually\" id=\"sk-estimator-id-15\" type=\"checkbox\" ><label for=\"sk-estimator-id-15\" class=\"sk-toggleable__label sk-toggleable__label-arrow\">PolynomialFeatures</label><div class=\"sk-toggleable__content\"><pre>PolynomialFeatures()</pre></div></div></div><div class=\"sk-item\"><div class=\"sk-estimator sk-toggleable\"><input class=\"sk-toggleable__control sk-hidden--visually\" id=\"sk-estimator-id-16\" type=\"checkbox\" ><label for=\"sk-estimator-id-16\" class=\"sk-toggleable__label sk-toggleable__label-arrow\">LinearRegression</label><div class=\"sk-toggleable__content\"><pre>LinearRegression()</pre></div></div></div></div></div></div></div>"
      ],
      "text/plain": [
       "Pipeline(steps=[('poly_features', PolynomialFeatures()),\n",
       "                ('lin_reg', LinearRegression())])"
      ]
     },
     "execution_count": 36,
     "metadata": {},
     "output_type": "execute_result"
    }
   ],
   "source": [
    "poly_features = PolynomialFeatures(degree=2)\n",
    "poly_reg = Pipeline([\n",
    "                (\"poly_features\", poly_features),\n",
    "                (\"lin_reg\", lin_reg),])\n",
    "poly_reg.fit(X_train, y_train)"
   ]
  },
  {
   "cell_type": "code",
   "execution_count": 38,
   "id": "7f1b4ec3",
   "metadata": {
    "ExecuteTime": {
     "end_time": "2022-05-30T19:35:24.660947Z",
     "start_time": "2022-05-30T19:35:24.621641Z"
    },
    "hidden": true
   },
   "outputs": [],
   "source": [
    "y_pred = poly_reg.predict(X_test)\n",
    "poly_mse = mean_squared_error(y_pred, y_test)"
   ]
  },
  {
   "cell_type": "code",
   "execution_count": 39,
   "id": "c26eca2f",
   "metadata": {
    "ExecuteTime": {
     "end_time": "2022-05-30T19:35:24.671183Z",
     "start_time": "2022-05-30T19:35:24.663346Z"
    },
    "hidden": true
   },
   "outputs": [
    {
     "data": {
      "text/html": [
       "<div>\n",
       "<style scoped>\n",
       "    .dataframe tbody tr th:only-of-type {\n",
       "        vertical-align: middle;\n",
       "    }\n",
       "\n",
       "    .dataframe tbody tr th {\n",
       "        vertical-align: top;\n",
       "    }\n",
       "\n",
       "    .dataframe thead th {\n",
       "        text-align: right;\n",
       "    }\n",
       "</style>\n",
       "<table border=\"1\" class=\"dataframe\">\n",
       "  <thead>\n",
       "    <tr style=\"text-align: right;\">\n",
       "      <th></th>\n",
       "      <th>lin_mse</th>\n",
       "      <th>sgd_reg</th>\n",
       "      <th>poly_reg</th>\n",
       "    </tr>\n",
       "  </thead>\n",
       "  <tbody>\n",
       "    <tr>\n",
       "      <th>0</th>\n",
       "      <td>0.002271</td>\n",
       "      <td>0.002189</td>\n",
       "      <td>0.022761</td>\n",
       "    </tr>\n",
       "  </tbody>\n",
       "</table>\n",
       "</div>"
      ],
      "text/plain": [
       "    lin_mse   sgd_reg  poly_reg\n",
       "0  0.002271  0.002189  0.022761"
      ]
     },
     "execution_count": 39,
     "metadata": {},
     "output_type": "execute_result"
    }
   ],
   "source": [
    "mse[\"poly_reg\"] = poly_mse\n",
    "mse"
   ]
  },
  {
   "cell_type": "code",
   "execution_count": 40,
   "id": "6667dea6",
   "metadata": {
    "ExecuteTime": {
     "end_time": "2022-05-30T19:35:25.840426Z",
     "start_time": "2022-05-30T19:35:24.673227Z"
    },
    "hidden": true
   },
   "outputs": [
    {
     "data": {
      "image/png": "[encoded data removed]",
      "text/plain": [
       "<Figure size 432x288 with 1 Axes>"
      ]
     },
     "metadata": {
      "needs_background": "light"
     },
     "output_type": "display_data"
    }
   ],
   "source": [
    "plot_learning_curves(poly_reg, X_train, y_train)  \n",
    "plt.show()"
   ]
  },
  {
   "cell_type": "markdown",
   "id": "83e2d09e",
   "metadata": {
    "hidden": true
   },
   "source": [
    "The learning curve shows overfittinng and also the mse shows the poly model are worth than the linear and SGD model"
   ]
  },
  {
   "cell_type": "markdown",
   "id": "8b256084",
   "metadata": {
    "hidden": true
   },
   "source": [
    "Ridge Regression"
   ]
  },
  {
   "cell_type": "markdown",
   "id": "c71c50ec",
   "metadata": {
    "hidden": true
   },
   "source": [
    "4-fold cross-validation with MSE for tuning the hyperparameters alpha."
   ]
  },
  {
   "cell_type": "code",
   "execution_count": 41,
   "id": "f5517dc3",
   "metadata": {
    "ExecuteTime": {
     "end_time": "2022-05-30T19:35:25.951706Z",
     "start_time": "2022-05-30T19:35:25.842169Z"
    },
    "hidden": true
   },
   "outputs": [
    {
     "name": "stderr",
     "output_type": "stream",
     "text": [
      "D:\\Python\\lib\\site-packages\\sklearn\\model_selection\\_search.py:306: UserWarning: The total space of parameters 6 is smaller than n_iter=18. Running 6 iterations. For exhaustive searches, use GridSearchCV.\n",
      "  warnings.warn(\n"
     ]
    },
    {
     "data": {
      "text/html": [
       "<style>#sk-container-id-7 {color: black;background-color: white;}#sk-container-id-7 pre{padding: 0;}#sk-container-id-7 div.sk-toggleable {background-color: white;}#sk-container-id-7 label.sk-toggleable__label {cursor: pointer;display: block;width: 100%;margin-bottom: 0;padding: 0.3em;box-sizing: border-box;text-align: center;}#sk-container-id-7 label.sk-toggleable__label-arrow:before {content: \"▸\";float: left;margin-right: 0.25em;color: #696969;}#sk-container-id-7 label.sk-toggleable__label-arrow:hover:before {color: black;}#sk-container-id-7 div.sk-estimator:hover label.sk-toggleable__label-arrow:before {color: black;}#sk-container-id-7 div.sk-toggleable__content {max-height: 0;max-width: 0;overflow: hidden;text-align: left;background-color: #f0f8ff;}#sk-container-id-7 div.sk-toggleable__content pre {margin: 0.2em;color: black;border-radius: 0.25em;background-color: #f0f8ff;}#sk-container-id-7 input.sk-toggleable__control:checked~div.sk-toggleable__content {max-height: 200px;max-width: 100%;overflow: auto;}#sk-container-id-7 input.sk-toggleable__control:checked~label.sk-toggleable__label-arrow:before {content: \"▾\";}#sk-container-id-7 div.sk-estimator input.sk-toggleable__control:checked~label.sk-toggleable__label {background-color: #d4ebff;}#sk-container-id-7 div.sk-label input.sk-toggleable__control:checked~label.sk-toggleable__label {background-color: #d4ebff;}#sk-container-id-7 input.sk-hidden--visually {border: 0;clip: rect(1px 1px 1px 1px);clip: rect(1px, 1px, 1px, 1px);height: 1px;margin: -1px;overflow: hidden;padding: 0;position: absolute;width: 1px;}#sk-container-id-7 div.sk-estimator {font-family: monospace;background-color: #f0f8ff;border: 1px dotted black;border-radius: 0.25em;box-sizing: border-box;margin-bottom: 0.5em;}#sk-container-id-7 div.sk-estimator:hover {background-color: #d4ebff;}#sk-container-id-7 div.sk-parallel-item::after {content: \"\";width: 100%;border-bottom: 1px solid gray;flex-grow: 1;}#sk-container-id-7 div.sk-label:hover label.sk-toggleable__label {background-color: #d4ebff;}#sk-container-id-7 div.sk-serial::before {content: \"\";position: absolute;border-left: 1px solid gray;box-sizing: border-box;top: 0;bottom: 0;left: 50%;z-index: 0;}#sk-container-id-7 div.sk-serial {display: flex;flex-direction: column;align-items: center;background-color: white;padding-right: 0.2em;padding-left: 0.2em;position: relative;}#sk-container-id-7 div.sk-item {position: relative;z-index: 1;}#sk-container-id-7 div.sk-parallel {display: flex;align-items: stretch;justify-content: center;background-color: white;position: relative;}#sk-container-id-7 div.sk-item::before, #sk-container-id-7 div.sk-parallel-item::before {content: \"\";position: absolute;border-left: 1px solid gray;box-sizing: border-box;top: 0;bottom: 0;left: 50%;z-index: -1;}#sk-container-id-7 div.sk-parallel-item {display: flex;flex-direction: column;z-index: 1;position: relative;background-color: white;}#sk-container-id-7 div.sk-parallel-item:first-child::after {align-self: flex-end;width: 50%;}#sk-container-id-7 div.sk-parallel-item:last-child::after {align-self: flex-start;width: 50%;}#sk-container-id-7 div.sk-parallel-item:only-child::after {width: 0;}#sk-container-id-7 div.sk-dashed-wrapped {border: 1px dashed gray;margin: 0 0.4em 0.5em 0.4em;box-sizing: border-box;padding-bottom: 0.4em;background-color: white;}#sk-container-id-7 div.sk-label label {font-family: monospace;font-weight: bold;display: inline-block;line-height: 1.2em;}#sk-container-id-7 div.sk-label-container {text-align: center;}#sk-container-id-7 div.sk-container {/* jupyter's `normalize.less` sets `[hidden] { display: none; }` but bootstrap.min.css set `[hidden] { display: none !important; }` so we also need the `!important` here to be able to override the default hidden behavior on the sphinx rendered scikit-learn.org. See: https://github.com/scikit-learn/scikit-learn/issues/21755 */display: inline-block !important;position: relative;}#sk-container-id-7 div.sk-text-repr-fallback {display: none;}</style><div id=\"sk-container-id-7\" class=\"sk-top-container\"><div class=\"sk-text-repr-fallback\"><pre>RandomizedSearchCV(cv=4, estimator=Ridge(random_state=42), n_iter=18, n_jobs=-1,\n",
       "                   param_distributions={&#x27;alpha&#x27;: [0.01, 0.1, 2, 5, 8, 1000]},\n",
       "                   random_state=42, scoring=&#x27;neg_mean_squared_error&#x27;)</pre><b>In a Jupyter environment, please rerun this cell to show the HTML representation or trust the notebook. <br />On GitHub, the HTML representation is unable to render, please try loading this page with nbviewer.org.</b></div><div class=\"sk-container\" hidden><div class=\"sk-item sk-dashed-wrapped\"><div class=\"sk-label-container\"><div class=\"sk-label sk-toggleable\"><input class=\"sk-toggleable__control sk-hidden--visually\" id=\"sk-estimator-id-17\" type=\"checkbox\" ><label for=\"sk-estimator-id-17\" class=\"sk-toggleable__label sk-toggleable__label-arrow\">RandomizedSearchCV</label><div class=\"sk-toggleable__content\"><pre>RandomizedSearchCV(cv=4, estimator=Ridge(random_state=42), n_iter=18, n_jobs=-1,\n",
       "                   param_distributions={&#x27;alpha&#x27;: [0.01, 0.1, 2, 5, 8, 1000]},\n",
       "                   random_state=42, scoring=&#x27;neg_mean_squared_error&#x27;)</pre></div></div></div><div class=\"sk-parallel\"><div class=\"sk-parallel-item\"><div class=\"sk-item\"><div class=\"sk-label-container\"><div class=\"sk-label sk-toggleable\"><input class=\"sk-toggleable__control sk-hidden--visually\" id=\"sk-estimator-id-18\" type=\"checkbox\" ><label for=\"sk-estimator-id-18\" class=\"sk-toggleable__label sk-toggleable__label-arrow\">estimator: Ridge</label><div class=\"sk-toggleable__content\"><pre>Ridge(random_state=42)</pre></div></div></div><div class=\"sk-serial\"><div class=\"sk-item\"><div class=\"sk-estimator sk-toggleable\"><input class=\"sk-toggleable__control sk-hidden--visually\" id=\"sk-estimator-id-19\" type=\"checkbox\" ><label for=\"sk-estimator-id-19\" class=\"sk-toggleable__label sk-toggleable__label-arrow\">Ridge</label><div class=\"sk-toggleable__content\"><pre>Ridge(random_state=42)</pre></div></div></div></div></div></div></div></div></div></div>"
      ],
      "text/plain": [
       "RandomizedSearchCV(cv=4, estimator=Ridge(random_state=42), n_iter=18, n_jobs=-1,\n",
       "                   param_distributions={'alpha': [0.01, 0.1, 2, 5, 8, 1000]},\n",
       "                   random_state=42, scoring='neg_mean_squared_error')"
      ]
     },
     "execution_count": 41,
     "metadata": {},
     "output_type": "execute_result"
    }
   ],
   "source": [
    "from sklearn.linear_model import Ridge\n",
    "\n",
    "reset_session()\n",
    "param_distribs = {\n",
    "        'alpha': [0.01,0.1,2,5,8,1000]\n",
    "    }\n",
    "\n",
    "ridge_reg = Ridge(random_state=42)\n",
    "\n",
    "rnd_search = RandomizedSearchCV(ridge_reg, param_distributions=param_distribs,\n",
    "                                n_iter=18, cv=4, scoring='neg_mean_squared_error', random_state=42,n_jobs=-1)\n",
    "\n",
    "rnd_search.fit(X_train, y_train)"
   ]
  },
  {
   "cell_type": "code",
   "execution_count": 42,
   "id": "96325a41",
   "metadata": {
    "ExecuteTime": {
     "end_time": "2022-05-30T19:35:25.958286Z",
     "start_time": "2022-05-30T19:35:25.953936Z"
    },
    "hidden": true
   },
   "outputs": [
    {
     "data": {
      "text/plain": [
       "{'alpha': 8}"
      ]
     },
     "execution_count": 42,
     "metadata": {},
     "output_type": "execute_result"
    }
   ],
   "source": [
    "rnd_search.best_params_"
   ]
  },
  {
   "cell_type": "code",
   "execution_count": 43,
   "id": "473b4572",
   "metadata": {
    "ExecuteTime": {
     "end_time": "2022-05-30T19:35:25.967555Z",
     "start_time": "2022-05-30T19:35:25.960649Z"
    },
    "hidden": true
   },
   "outputs": [
    {
     "data": {
      "text/html": [
       "<style>#sk-container-id-8 {color: black;background-color: white;}#sk-container-id-8 pre{padding: 0;}#sk-container-id-8 div.sk-toggleable {background-color: white;}#sk-container-id-8 label.sk-toggleable__label {cursor: pointer;display: block;width: 100%;margin-bottom: 0;padding: 0.3em;box-sizing: border-box;text-align: center;}#sk-container-id-8 label.sk-toggleable__label-arrow:before {content: \"▸\";float: left;margin-right: 0.25em;color: #696969;}#sk-container-id-8 label.sk-toggleable__label-arrow:hover:before {color: black;}#sk-container-id-8 div.sk-estimator:hover label.sk-toggleable__label-arrow:before {color: black;}#sk-container-id-8 div.sk-toggleable__content {max-height: 0;max-width: 0;overflow: hidden;text-align: left;background-color: #f0f8ff;}#sk-container-id-8 div.sk-toggleable__content pre {margin: 0.2em;color: black;border-radius: 0.25em;background-color: #f0f8ff;}#sk-container-id-8 input.sk-toggleable__control:checked~div.sk-toggleable__content {max-height: 200px;max-width: 100%;overflow: auto;}#sk-container-id-8 input.sk-toggleable__control:checked~label.sk-toggleable__label-arrow:before {content: \"▾\";}#sk-container-id-8 div.sk-estimator input.sk-toggleable__control:checked~label.sk-toggleable__label {background-color: #d4ebff;}#sk-container-id-8 div.sk-label input.sk-toggleable__control:checked~label.sk-toggleable__label {background-color: #d4ebff;}#sk-container-id-8 input.sk-hidden--visually {border: 0;clip: rect(1px 1px 1px 1px);clip: rect(1px, 1px, 1px, 1px);height: 1px;margin: -1px;overflow: hidden;padding: 0;position: absolute;width: 1px;}#sk-container-id-8 div.sk-estimator {font-family: monospace;background-color: #f0f8ff;border: 1px dotted black;border-radius: 0.25em;box-sizing: border-box;margin-bottom: 0.5em;}#sk-container-id-8 div.sk-estimator:hover {background-color: #d4ebff;}#sk-container-id-8 div.sk-parallel-item::after {content: \"\";width: 100%;border-bottom: 1px solid gray;flex-grow: 1;}#sk-container-id-8 div.sk-label:hover label.sk-toggleable__label {background-color: #d4ebff;}#sk-container-id-8 div.sk-serial::before {content: \"\";position: absolute;border-left: 1px solid gray;box-sizing: border-box;top: 0;bottom: 0;left: 50%;z-index: 0;}#sk-container-id-8 div.sk-serial {display: flex;flex-direction: column;align-items: center;background-color: white;padding-right: 0.2em;padding-left: 0.2em;position: relative;}#sk-container-id-8 div.sk-item {position: relative;z-index: 1;}#sk-container-id-8 div.sk-parallel {display: flex;align-items: stretch;justify-content: center;background-color: white;position: relative;}#sk-container-id-8 div.sk-item::before, #sk-container-id-8 div.sk-parallel-item::before {content: \"\";position: absolute;border-left: 1px solid gray;box-sizing: border-box;top: 0;bottom: 0;left: 50%;z-index: -1;}#sk-container-id-8 div.sk-parallel-item {display: flex;flex-direction: column;z-index: 1;position: relative;background-color: white;}#sk-container-id-8 div.sk-parallel-item:first-child::after {align-self: flex-end;width: 50%;}#sk-container-id-8 div.sk-parallel-item:last-child::after {align-self: flex-start;width: 50%;}#sk-container-id-8 div.sk-parallel-item:only-child::after {width: 0;}#sk-container-id-8 div.sk-dashed-wrapped {border: 1px dashed gray;margin: 0 0.4em 0.5em 0.4em;box-sizing: border-box;padding-bottom: 0.4em;background-color: white;}#sk-container-id-8 div.sk-label label {font-family: monospace;font-weight: bold;display: inline-block;line-height: 1.2em;}#sk-container-id-8 div.sk-label-container {text-align: center;}#sk-container-id-8 div.sk-container {/* jupyter's `normalize.less` sets `[hidden] { display: none; }` but bootstrap.min.css set `[hidden] { display: none !important; }` so we also need the `!important` here to be able to override the default hidden behavior on the sphinx rendered scikit-learn.org. See: https://github.com/scikit-learn/scikit-learn/issues/21755 */display: inline-block !important;position: relative;}#sk-container-id-8 div.sk-text-repr-fallback {display: none;}</style><div id=\"sk-container-id-8\" class=\"sk-top-container\"><div class=\"sk-text-repr-fallback\"><pre>Ridge(alpha=8)</pre><b>In a Jupyter environment, please rerun this cell to show the HTML representation or trust the notebook. <br />On GitHub, the HTML representation is unable to render, please try loading this page with nbviewer.org.</b></div><div class=\"sk-container\" hidden><div class=\"sk-item\"><div class=\"sk-estimator sk-toggleable\"><input class=\"sk-toggleable__control sk-hidden--visually\" id=\"sk-estimator-id-20\" type=\"checkbox\" checked><label for=\"sk-estimator-id-20\" class=\"sk-toggleable__label sk-toggleable__label-arrow\">Ridge</label><div class=\"sk-toggleable__content\"><pre>Ridge(alpha=8)</pre></div></div></div></div></div>"
      ],
      "text/plain": [
       "Ridge(alpha=8)"
      ]
     },
     "execution_count": 43,
     "metadata": {},
     "output_type": "execute_result"
    }
   ],
   "source": [
    "from sklearn.linear_model import Ridge\n",
    "\n",
    "ridge_reg = Ridge( alpha=8)\n",
    "ridge_reg.fit(X_train, y_train)"
   ]
  },
  {
   "cell_type": "code",
   "execution_count": 44,
   "id": "4e394ea6",
   "metadata": {
    "ExecuteTime": {
     "end_time": "2022-05-30T19:35:25.972964Z",
     "start_time": "2022-05-30T19:35:25.969412Z"
    },
    "hidden": true
   },
   "outputs": [],
   "source": [
    "y_pred = ridge_reg.predict(X_test)\n",
    "ridge_mse = mean_squared_error(y_pred, y_test)"
   ]
  },
  {
   "cell_type": "code",
   "execution_count": 45,
   "id": "e0bfe270",
   "metadata": {
    "ExecuteTime": {
     "end_time": "2022-05-30T19:35:25.983624Z",
     "start_time": "2022-05-30T19:35:25.975175Z"
    },
    "hidden": true
   },
   "outputs": [
    {
     "data": {
      "text/html": [
       "<div>\n",
       "<style scoped>\n",
       "    .dataframe tbody tr th:only-of-type {\n",
       "        vertical-align: middle;\n",
       "    }\n",
       "\n",
       "    .dataframe tbody tr th {\n",
       "        vertical-align: top;\n",
       "    }\n",
       "\n",
       "    .dataframe thead th {\n",
       "        text-align: right;\n",
       "    }\n",
       "</style>\n",
       "<table border=\"1\" class=\"dataframe\">\n",
       "  <thead>\n",
       "    <tr style=\"text-align: right;\">\n",
       "      <th></th>\n",
       "      <th>lin_mse</th>\n",
       "      <th>sgd_reg</th>\n",
       "      <th>poly_reg</th>\n",
       "      <th>ridge_reg</th>\n",
       "    </tr>\n",
       "  </thead>\n",
       "  <tbody>\n",
       "    <tr>\n",
       "      <th>0</th>\n",
       "      <td>0.002271</td>\n",
       "      <td>0.002189</td>\n",
       "      <td>0.022761</td>\n",
       "      <td>0.002191</td>\n",
       "    </tr>\n",
       "  </tbody>\n",
       "</table>\n",
       "</div>"
      ],
      "text/plain": [
       "    lin_mse   sgd_reg  poly_reg  ridge_reg\n",
       "0  0.002271  0.002189  0.022761   0.002191"
      ]
     },
     "execution_count": 45,
     "metadata": {},
     "output_type": "execute_result"
    }
   ],
   "source": [
    "mse[\"ridge_reg\"] = ridge_mse\n",
    "mse"
   ]
  },
  {
   "cell_type": "code",
   "execution_count": 46,
   "id": "280d566e",
   "metadata": {
    "ExecuteTime": {
     "end_time": "2022-05-30T19:35:26.096608Z",
     "start_time": "2022-05-30T19:35:25.985509Z"
    },
    "hidden": true
   },
   "outputs": [
    {
     "data": {
      "image/png": "[encoded data removed]",
      "text/plain": [
       "<Figure size 432x288 with 1 Axes>"
      ]
     },
     "metadata": {
      "needs_background": "light"
     },
     "output_type": "display_data"
    }
   ],
   "source": [
    "plot_learning_curves(ridge_reg, X_train, y_train)  \n",
    "plt.show()"
   ]
  },
  {
   "cell_type": "markdown",
   "id": "3d86a7fb",
   "metadata": {
    "hidden": true
   },
   "source": [
    "The learning curve shows better fit than before, and mse shows the ridge regreession is better than poly but worse than sgd"
   ]
  },
  {
   "cell_type": "markdown",
   "id": "c3a5f87b",
   "metadata": {
    "hidden": true
   },
   "source": [
    "Lasso Regression "
   ]
  },
  {
   "cell_type": "markdown",
   "id": "ebc2ce22",
   "metadata": {
    "hidden": true
   },
   "source": [
    "4-fold cross-validation with MSE for tuning the hyperparameters."
   ]
  },
  {
   "cell_type": "code",
   "execution_count": 47,
   "id": "5e83b52d",
   "metadata": {
    "ExecuteTime": {
     "end_time": "2022-05-30T19:35:26.278478Z",
     "start_time": "2022-05-30T19:35:26.098213Z"
    },
    "hidden": true
   },
   "outputs": [
    {
     "name": "stderr",
     "output_type": "stream",
     "text": [
      "D:\\Python\\lib\\site-packages\\sklearn\\model_selection\\_search.py:306: UserWarning: The total space of parameters 6 is smaller than n_iter=18. Running 6 iterations. For exhaustive searches, use GridSearchCV.\n",
      "  warnings.warn(\n"
     ]
    },
    {
     "data": {
      "text/html": [
       "<style>#sk-container-id-9 {color: black;background-color: white;}#sk-container-id-9 pre{padding: 0;}#sk-container-id-9 div.sk-toggleable {background-color: white;}#sk-container-id-9 label.sk-toggleable__label {cursor: pointer;display: block;width: 100%;margin-bottom: 0;padding: 0.3em;box-sizing: border-box;text-align: center;}#sk-container-id-9 label.sk-toggleable__label-arrow:before {content: \"▸\";float: left;margin-right: 0.25em;color: #696969;}#sk-container-id-9 label.sk-toggleable__label-arrow:hover:before {color: black;}#sk-container-id-9 div.sk-estimator:hover label.sk-toggleable__label-arrow:before {color: black;}#sk-container-id-9 div.sk-toggleable__content {max-height: 0;max-width: 0;overflow: hidden;text-align: left;background-color: #f0f8ff;}#sk-container-id-9 div.sk-toggleable__content pre {margin: 0.2em;color: black;border-radius: 0.25em;background-color: #f0f8ff;}#sk-container-id-9 input.sk-toggleable__control:checked~div.sk-toggleable__content {max-height: 200px;max-width: 100%;overflow: auto;}#sk-container-id-9 input.sk-toggleable__control:checked~label.sk-toggleable__label-arrow:before {content: \"▾\";}#sk-container-id-9 div.sk-estimator input.sk-toggleable__control:checked~label.sk-toggleable__label {background-color: #d4ebff;}#sk-container-id-9 div.sk-label input.sk-toggleable__control:checked~label.sk-toggleable__label {background-color: #d4ebff;}#sk-container-id-9 input.sk-hidden--visually {border: 0;clip: rect(1px 1px 1px 1px);clip: rect(1px, 1px, 1px, 1px);height: 1px;margin: -1px;overflow: hidden;padding: 0;position: absolute;width: 1px;}#sk-container-id-9 div.sk-estimator {font-family: monospace;background-color: #f0f8ff;border: 1px dotted black;border-radius: 0.25em;box-sizing: border-box;margin-bottom: 0.5em;}#sk-container-id-9 div.sk-estimator:hover {background-color: #d4ebff;}#sk-container-id-9 div.sk-parallel-item::after {content: \"\";width: 100%;border-bottom: 1px solid gray;flex-grow: 1;}#sk-container-id-9 div.sk-label:hover label.sk-toggleable__label {background-color: #d4ebff;}#sk-container-id-9 div.sk-serial::before {content: \"\";position: absolute;border-left: 1px solid gray;box-sizing: border-box;top: 0;bottom: 0;left: 50%;z-index: 0;}#sk-container-id-9 div.sk-serial {display: flex;flex-direction: column;align-items: center;background-color: white;padding-right: 0.2em;padding-left: 0.2em;position: relative;}#sk-container-id-9 div.sk-item {position: relative;z-index: 1;}#sk-container-id-9 div.sk-parallel {display: flex;align-items: stretch;justify-content: center;background-color: white;position: relative;}#sk-container-id-9 div.sk-item::before, #sk-container-id-9 div.sk-parallel-item::before {content: \"\";position: absolute;border-left: 1px solid gray;box-sizing: border-box;top: 0;bottom: 0;left: 50%;z-index: -1;}#sk-container-id-9 div.sk-parallel-item {display: flex;flex-direction: column;z-index: 1;position: relative;background-color: white;}#sk-container-id-9 div.sk-parallel-item:first-child::after {align-self: flex-end;width: 50%;}#sk-container-id-9 div.sk-parallel-item:last-child::after {align-self: flex-start;width: 50%;}#sk-container-id-9 div.sk-parallel-item:only-child::after {width: 0;}#sk-container-id-9 div.sk-dashed-wrapped {border: 1px dashed gray;margin: 0 0.4em 0.5em 0.4em;box-sizing: border-box;padding-bottom: 0.4em;background-color: white;}#sk-container-id-9 div.sk-label label {font-family: monospace;font-weight: bold;display: inline-block;line-height: 1.2em;}#sk-container-id-9 div.sk-label-container {text-align: center;}#sk-container-id-9 div.sk-container {/* jupyter's `normalize.less` sets `[hidden] { display: none; }` but bootstrap.min.css set `[hidden] { display: none !important; }` so we also need the `!important` here to be able to override the default hidden behavior on the sphinx rendered scikit-learn.org. See: https://github.com/scikit-learn/scikit-learn/issues/21755 */display: inline-block !important;position: relative;}#sk-container-id-9 div.sk-text-repr-fallback {display: none;}</style><div id=\"sk-container-id-9\" class=\"sk-top-container\"><div class=\"sk-text-repr-fallback\"><pre>RandomizedSearchCV(cv=4, estimator=Lasso(random_state=42), n_iter=18, n_jobs=-1,\n",
       "                   param_distributions={&#x27;alpha&#x27;: [0.01, 0.1, 2, 5, 8, 1000]},\n",
       "                   random_state=42, scoring=&#x27;neg_mean_squared_error&#x27;)</pre><b>In a Jupyter environment, please rerun this cell to show the HTML representation or trust the notebook. <br />On GitHub, the HTML representation is unable to render, please try loading this page with nbviewer.org.</b></div><div class=\"sk-container\" hidden><div class=\"sk-item sk-dashed-wrapped\"><div class=\"sk-label-container\"><div class=\"sk-label sk-toggleable\"><input class=\"sk-toggleable__control sk-hidden--visually\" id=\"sk-estimator-id-21\" type=\"checkbox\" ><label for=\"sk-estimator-id-21\" class=\"sk-toggleable__label sk-toggleable__label-arrow\">RandomizedSearchCV</label><div class=\"sk-toggleable__content\"><pre>RandomizedSearchCV(cv=4, estimator=Lasso(random_state=42), n_iter=18, n_jobs=-1,\n",
       "                   param_distributions={&#x27;alpha&#x27;: [0.01, 0.1, 2, 5, 8, 1000]},\n",
       "                   random_state=42, scoring=&#x27;neg_mean_squared_error&#x27;)</pre></div></div></div><div class=\"sk-parallel\"><div class=\"sk-parallel-item\"><div class=\"sk-item\"><div class=\"sk-label-container\"><div class=\"sk-label sk-toggleable\"><input class=\"sk-toggleable__control sk-hidden--visually\" id=\"sk-estimator-id-22\" type=\"checkbox\" ><label for=\"sk-estimator-id-22\" class=\"sk-toggleable__label sk-toggleable__label-arrow\">estimator: Lasso</label><div class=\"sk-toggleable__content\"><pre>Lasso(random_state=42)</pre></div></div></div><div class=\"sk-serial\"><div class=\"sk-item\"><div class=\"sk-estimator sk-toggleable\"><input class=\"sk-toggleable__control sk-hidden--visually\" id=\"sk-estimator-id-23\" type=\"checkbox\" ><label for=\"sk-estimator-id-23\" class=\"sk-toggleable__label sk-toggleable__label-arrow\">Lasso</label><div class=\"sk-toggleable__content\"><pre>Lasso(random_state=42)</pre></div></div></div></div></div></div></div></div></div></div>"
      ],
      "text/plain": [
       "RandomizedSearchCV(cv=4, estimator=Lasso(random_state=42), n_iter=18, n_jobs=-1,\n",
       "                   param_distributions={'alpha': [0.01, 0.1, 2, 5, 8, 1000]},\n",
       "                   random_state=42, scoring='neg_mean_squared_error')"
      ]
     },
     "execution_count": 47,
     "metadata": {},
     "output_type": "execute_result"
    }
   ],
   "source": [
    "from sklearn.linear_model import Lasso\n",
    "\n",
    "reset_session()\n",
    "param_distribs = {\n",
    "         'alpha': [0.01,0.1,2,5,8,1000]\n",
    "    }\n",
    "\n",
    "lasso_reg = Lasso(random_state=42)\n",
    "\n",
    "rnd_search = RandomizedSearchCV(lasso_reg, param_distributions=param_distribs,\n",
    "                                n_iter=18, cv=4, scoring='neg_mean_squared_error', random_state=42,n_jobs=-1)\n",
    "\n",
    "rnd_search.fit(X_train, y_train)"
   ]
  },
  {
   "cell_type": "code",
   "execution_count": 48,
   "id": "1467e697",
   "metadata": {
    "ExecuteTime": {
     "end_time": "2022-05-30T19:35:26.285386Z",
     "start_time": "2022-05-30T19:35:26.280626Z"
    },
    "hidden": true
   },
   "outputs": [
    {
     "data": {
      "text/plain": [
       "{'alpha': 0.01}"
      ]
     },
     "execution_count": 48,
     "metadata": {},
     "output_type": "execute_result"
    }
   ],
   "source": [
    "rnd_search.best_params_"
   ]
  },
  {
   "cell_type": "code",
   "execution_count": 49,
   "id": "da44bfa2",
   "metadata": {
    "ExecuteTime": {
     "end_time": "2022-05-30T19:35:26.294629Z",
     "start_time": "2022-05-30T19:35:26.287538Z"
    },
    "hidden": true
   },
   "outputs": [
    {
     "data": {
      "text/html": [
       "<style>#sk-container-id-10 {color: black;background-color: white;}#sk-container-id-10 pre{padding: 0;}#sk-container-id-10 div.sk-toggleable {background-color: white;}#sk-container-id-10 label.sk-toggleable__label {cursor: pointer;display: block;width: 100%;margin-bottom: 0;padding: 0.3em;box-sizing: border-box;text-align: center;}#sk-container-id-10 label.sk-toggleable__label-arrow:before {content: \"▸\";float: left;margin-right: 0.25em;color: #696969;}#sk-container-id-10 label.sk-toggleable__label-arrow:hover:before {color: black;}#sk-container-id-10 div.sk-estimator:hover label.sk-toggleable__label-arrow:before {color: black;}#sk-container-id-10 div.sk-toggleable__content {max-height: 0;max-width: 0;overflow: hidden;text-align: left;background-color: #f0f8ff;}#sk-container-id-10 div.sk-toggleable__content pre {margin: 0.2em;color: black;border-radius: 0.25em;background-color: #f0f8ff;}#sk-container-id-10 input.sk-toggleable__control:checked~div.sk-toggleable__content {max-height: 200px;max-width: 100%;overflow: auto;}#sk-container-id-10 input.sk-toggleable__control:checked~label.sk-toggleable__label-arrow:before {content: \"▾\";}#sk-container-id-10 div.sk-estimator input.sk-toggleable__control:checked~label.sk-toggleable__label {background-color: #d4ebff;}#sk-container-id-10 div.sk-label input.sk-toggleable__control:checked~label.sk-toggleable__label {background-color: #d4ebff;}#sk-container-id-10 input.sk-hidden--visually {border: 0;clip: rect(1px 1px 1px 1px);clip: rect(1px, 1px, 1px, 1px);height: 1px;margin: -1px;overflow: hidden;padding: 0;position: absolute;width: 1px;}#sk-container-id-10 div.sk-estimator {font-family: monospace;background-color: #f0f8ff;border: 1px dotted black;border-radius: 0.25em;box-sizing: border-box;margin-bottom: 0.5em;}#sk-container-id-10 div.sk-estimator:hover {background-color: #d4ebff;}#sk-container-id-10 div.sk-parallel-item::after {content: \"\";width: 100%;border-bottom: 1px solid gray;flex-grow: 1;}#sk-container-id-10 div.sk-label:hover label.sk-toggleable__label {background-color: #d4ebff;}#sk-container-id-10 div.sk-serial::before {content: \"\";position: absolute;border-left: 1px solid gray;box-sizing: border-box;top: 0;bottom: 0;left: 50%;z-index: 0;}#sk-container-id-10 div.sk-serial {display: flex;flex-direction: column;align-items: center;background-color: white;padding-right: 0.2em;padding-left: 0.2em;position: relative;}#sk-container-id-10 div.sk-item {position: relative;z-index: 1;}#sk-container-id-10 div.sk-parallel {display: flex;align-items: stretch;justify-content: center;background-color: white;position: relative;}#sk-container-id-10 div.sk-item::before, #sk-container-id-10 div.sk-parallel-item::before {content: \"\";position: absolute;border-left: 1px solid gray;box-sizing: border-box;top: 0;bottom: 0;left: 50%;z-index: -1;}#sk-container-id-10 div.sk-parallel-item {display: flex;flex-direction: column;z-index: 1;position: relative;background-color: white;}#sk-container-id-10 div.sk-parallel-item:first-child::after {align-self: flex-end;width: 50%;}#sk-container-id-10 div.sk-parallel-item:last-child::after {align-self: flex-start;width: 50%;}#sk-container-id-10 div.sk-parallel-item:only-child::after {width: 0;}#sk-container-id-10 div.sk-dashed-wrapped {border: 1px dashed gray;margin: 0 0.4em 0.5em 0.4em;box-sizing: border-box;padding-bottom: 0.4em;background-color: white;}#sk-container-id-10 div.sk-label label {font-family: monospace;font-weight: bold;display: inline-block;line-height: 1.2em;}#sk-container-id-10 div.sk-label-container {text-align: center;}#sk-container-id-10 div.sk-container {/* jupyter's `normalize.less` sets `[hidden] { display: none; }` but bootstrap.min.css set `[hidden] { display: none !important; }` so we also need the `!important` here to be able to override the default hidden behavior on the sphinx rendered scikit-learn.org. See: https://github.com/scikit-learn/scikit-learn/issues/21755 */display: inline-block !important;position: relative;}#sk-container-id-10 div.sk-text-repr-fallback {display: none;}</style><div id=\"sk-container-id-10\" class=\"sk-top-container\"><div class=\"sk-text-repr-fallback\"><pre>Lasso(alpha=0.01, random_state=42)</pre><b>In a Jupyter environment, please rerun this cell to show the HTML representation or trust the notebook. <br />On GitHub, the HTML representation is unable to render, please try loading this page with nbviewer.org.</b></div><div class=\"sk-container\" hidden><div class=\"sk-item\"><div class=\"sk-estimator sk-toggleable\"><input class=\"sk-toggleable__control sk-hidden--visually\" id=\"sk-estimator-id-24\" type=\"checkbox\" checked><label for=\"sk-estimator-id-24\" class=\"sk-toggleable__label sk-toggleable__label-arrow\">Lasso</label><div class=\"sk-toggleable__content\"><pre>Lasso(alpha=0.01, random_state=42)</pre></div></div></div></div></div>"
      ],
      "text/plain": [
       "Lasso(alpha=0.01, random_state=42)"
      ]
     },
     "execution_count": 49,
     "metadata": {},
     "output_type": "execute_result"
    }
   ],
   "source": [
    "from sklearn.linear_model import Lasso\n",
    "\n",
    "lasso_reg = Lasso(alpha=0.01, random_state=42)\n",
    "lasso_reg.fit(X_train, y_train)"
   ]
  },
  {
   "cell_type": "code",
   "execution_count": 50,
   "id": "b9e8e659",
   "metadata": {
    "ExecuteTime": {
     "end_time": "2022-05-30T19:35:26.300423Z",
     "start_time": "2022-05-30T19:35:26.296928Z"
    },
    "hidden": true
   },
   "outputs": [],
   "source": [
    "y_pred = lasso_reg.predict(X_test)\n",
    "lasso_mse = mean_squared_error(y_pred, y_test)"
   ]
  },
  {
   "cell_type": "code",
   "execution_count": 51,
   "id": "145cf994",
   "metadata": {
    "ExecuteTime": {
     "end_time": "2022-05-30T19:35:26.314095Z",
     "start_time": "2022-05-30T19:35:26.303073Z"
    },
    "hidden": true
   },
   "outputs": [
    {
     "data": {
      "text/html": [
       "<div>\n",
       "<style scoped>\n",
       "    .dataframe tbody tr th:only-of-type {\n",
       "        vertical-align: middle;\n",
       "    }\n",
       "\n",
       "    .dataframe tbody tr th {\n",
       "        vertical-align: top;\n",
       "    }\n",
       "\n",
       "    .dataframe thead th {\n",
       "        text-align: right;\n",
       "    }\n",
       "</style>\n",
       "<table border=\"1\" class=\"dataframe\">\n",
       "  <thead>\n",
       "    <tr style=\"text-align: right;\">\n",
       "      <th></th>\n",
       "      <th>lin_mse</th>\n",
       "      <th>sgd_reg</th>\n",
       "      <th>poly_reg</th>\n",
       "      <th>ridge_reg</th>\n",
       "      <th>lasso_reg</th>\n",
       "    </tr>\n",
       "  </thead>\n",
       "  <tbody>\n",
       "    <tr>\n",
       "      <th>0</th>\n",
       "      <td>0.002271</td>\n",
       "      <td>0.002189</td>\n",
       "      <td>0.022761</td>\n",
       "      <td>0.002191</td>\n",
       "      <td>0.002189</td>\n",
       "    </tr>\n",
       "  </tbody>\n",
       "</table>\n",
       "</div>"
      ],
      "text/plain": [
       "    lin_mse   sgd_reg  poly_reg  ridge_reg  lasso_reg\n",
       "0  0.002271  0.002189  0.022761   0.002191   0.002189"
      ]
     },
     "execution_count": 51,
     "metadata": {},
     "output_type": "execute_result"
    }
   ],
   "source": [
    "mse[\"lasso_reg\"] = lasso_mse\n",
    "mse"
   ]
  },
  {
   "cell_type": "code",
   "execution_count": 52,
   "id": "2a45ea83",
   "metadata": {
    "ExecuteTime": {
     "end_time": "2022-05-30T19:35:26.470986Z",
     "start_time": "2022-05-30T19:35:26.316567Z"
    },
    "hidden": true
   },
   "outputs": [
    {
     "name": "stderr",
     "output_type": "stream",
     "text": [
      "D:\\Python\\lib\\site-packages\\sklearn\\linear_model\\_coordinate_descent.py:648: ConvergenceWarning: Objective did not converge. You might want to increase the number of iterations, check the scale of the features or consider increasing regularisation. Duality gap: 0.000e+00, tolerance: 0.000e+00\n",
      "  model = cd_fast.enet_coordinate_descent(\n"
     ]
    },
    {
     "data": {
      "image/png": "[encoded data removed]",
      "text/plain": [
       "<Figure size 432x288 with 1 Axes>"
      ]
     },
     "metadata": {
      "needs_background": "light"
     },
     "output_type": "display_data"
    }
   ],
   "source": [
    "plot_learning_curves(lasso_reg, X_train, y_train)  \n",
    "plt.show()"
   ]
  },
  {
   "cell_type": "markdown",
   "id": "3c399db8",
   "metadata": {
    "hidden": true
   },
   "source": [
    "Lasso gets the best model than others and performs as good as sgd."
   ]
  },
  {
   "cell_type": "markdown",
   "id": "5cac4204",
   "metadata": {
    "hidden": true
   },
   "source": [
    "Elastic Net"
   ]
  },
  {
   "cell_type": "markdown",
   "id": "554a2052",
   "metadata": {
    "hidden": true
   },
   "source": [
    "4-fold cross-validation with RMSE for tuning the hyperparameters(the l1 ration and l2 ration)"
   ]
  },
  {
   "cell_type": "code",
   "execution_count": 57,
   "id": "6445a5fb",
   "metadata": {
    "ExecuteTime": {
     "end_time": "2022-05-30T19:35:26.589192Z",
     "start_time": "2022-05-30T19:35:26.472751Z"
    },
    "hidden": true
   },
   "outputs": [
    {
     "name": "stderr",
     "output_type": "stream",
     "text": [
      "D:\\Python\\lib\\site-packages\\sklearn\\model_selection\\_search.py:306: UserWarning: The total space of parameters 6 is smaller than n_iter=18. Running 6 iterations. For exhaustive searches, use GridSearchCV.\n",
      "  warnings.warn(\n",
      "D:\\Python\\lib\\site-packages\\sklearn\\linear_model\\_coordinate_descent.py:648: ConvergenceWarning: Objective did not converge. You might want to increase the number of iterations, check the scale of the features or consider increasing regularisation. Duality gap: 5.586e-01, tolerance: 1.120e-04 Linear regression models with null weight for the l1 regularization term are more efficiently fitted using one of the solvers implemented in sklearn.linear_model.Ridge/RidgeCV instead.\n",
      "  model = cd_fast.enet_coordinate_descent(\n"
     ]
    },
    {
     "data": {
      "text/html": [
       "<style>#sk-container-id-11 {color: black;background-color: white;}#sk-container-id-11 pre{padding: 0;}#sk-container-id-11 div.sk-toggleable {background-color: white;}#sk-container-id-11 label.sk-toggleable__label {cursor: pointer;display: block;width: 100%;margin-bottom: 0;padding: 0.3em;box-sizing: border-box;text-align: center;}#sk-container-id-11 label.sk-toggleable__label-arrow:before {content: \"▸\";float: left;margin-right: 0.25em;color: #696969;}#sk-container-id-11 label.sk-toggleable__label-arrow:hover:before {color: black;}#sk-container-id-11 div.sk-estimator:hover label.sk-toggleable__label-arrow:before {color: black;}#sk-container-id-11 div.sk-toggleable__content {max-height: 0;max-width: 0;overflow: hidden;text-align: left;background-color: #f0f8ff;}#sk-container-id-11 div.sk-toggleable__content pre {margin: 0.2em;color: black;border-radius: 0.25em;background-color: #f0f8ff;}#sk-container-id-11 input.sk-toggleable__control:checked~div.sk-toggleable__content {max-height: 200px;max-width: 100%;overflow: auto;}#sk-container-id-11 input.sk-toggleable__control:checked~label.sk-toggleable__label-arrow:before {content: \"▾\";}#sk-container-id-11 div.sk-estimator input.sk-toggleable__control:checked~label.sk-toggleable__label {background-color: #d4ebff;}#sk-container-id-11 div.sk-label input.sk-toggleable__control:checked~label.sk-toggleable__label {background-color: #d4ebff;}#sk-container-id-11 input.sk-hidden--visually {border: 0;clip: rect(1px 1px 1px 1px);clip: rect(1px, 1px, 1px, 1px);height: 1px;margin: -1px;overflow: hidden;padding: 0;position: absolute;width: 1px;}#sk-container-id-11 div.sk-estimator {font-family: monospace;background-color: #f0f8ff;border: 1px dotted black;border-radius: 0.25em;box-sizing: border-box;margin-bottom: 0.5em;}#sk-container-id-11 div.sk-estimator:hover {background-color: #d4ebff;}#sk-container-id-11 div.sk-parallel-item::after {content: \"\";width: 100%;border-bottom: 1px solid gray;flex-grow: 1;}#sk-container-id-11 div.sk-label:hover label.sk-toggleable__label {background-color: #d4ebff;}#sk-container-id-11 div.sk-serial::before {content: \"\";position: absolute;border-left: 1px solid gray;box-sizing: border-box;top: 0;bottom: 0;left: 50%;z-index: 0;}#sk-container-id-11 div.sk-serial {display: flex;flex-direction: column;align-items: center;background-color: white;padding-right: 0.2em;padding-left: 0.2em;position: relative;}#sk-container-id-11 div.sk-item {position: relative;z-index: 1;}#sk-container-id-11 div.sk-parallel {display: flex;align-items: stretch;justify-content: center;background-color: white;position: relative;}#sk-container-id-11 div.sk-item::before, #sk-container-id-11 div.sk-parallel-item::before {content: \"\";position: absolute;border-left: 1px solid gray;box-sizing: border-box;top: 0;bottom: 0;left: 50%;z-index: -1;}#sk-container-id-11 div.sk-parallel-item {display: flex;flex-direction: column;z-index: 1;position: relative;background-color: white;}#sk-container-id-11 div.sk-parallel-item:first-child::after {align-self: flex-end;width: 50%;}#sk-container-id-11 div.sk-parallel-item:last-child::after {align-self: flex-start;width: 50%;}#sk-container-id-11 div.sk-parallel-item:only-child::after {width: 0;}#sk-container-id-11 div.sk-dashed-wrapped {border: 1px dashed gray;margin: 0 0.4em 0.5em 0.4em;box-sizing: border-box;padding-bottom: 0.4em;background-color: white;}#sk-container-id-11 div.sk-label label {font-family: monospace;font-weight: bold;display: inline-block;line-height: 1.2em;}#sk-container-id-11 div.sk-label-container {text-align: center;}#sk-container-id-11 div.sk-container {/* jupyter's `normalize.less` sets `[hidden] { display: none; }` but bootstrap.min.css set `[hidden] { display: none !important; }` so we also need the `!important` here to be able to override the default hidden behavior on the sphinx rendered scikit-learn.org. See: https://github.com/scikit-learn/scikit-learn/issues/21755 */display: inline-block !important;position: relative;}#sk-container-id-11 div.sk-text-repr-fallback {display: none;}</style><div id=\"sk-container-id-11\" class=\"sk-top-container\"><div class=\"sk-text-repr-fallback\"><pre>RandomizedSearchCV(cv=4, estimator=ElasticNet(random_state=42), n_iter=18,\n",
       "                   n_jobs=-1,\n",
       "                   param_distributions={&#x27;alpha&#x27;: [0.01, 0.1, 2, 5, 8, 1000],\n",
       "                                        &#x27;l1_ratio&#x27;: array([0])},\n",
       "                   random_state=42, scoring=&#x27;neg_mean_squared_error&#x27;)</pre><b>In a Jupyter environment, please rerun this cell to show the HTML representation or trust the notebook. <br />On GitHub, the HTML representation is unable to render, please try loading this page with nbviewer.org.</b></div><div class=\"sk-container\" hidden><div class=\"sk-item sk-dashed-wrapped\"><div class=\"sk-label-container\"><div class=\"sk-label sk-toggleable\"><input class=\"sk-toggleable__control sk-hidden--visually\" id=\"sk-estimator-id-25\" type=\"checkbox\" ><label for=\"sk-estimator-id-25\" class=\"sk-toggleable__label sk-toggleable__label-arrow\">RandomizedSearchCV</label><div class=\"sk-toggleable__content\"><pre>RandomizedSearchCV(cv=4, estimator=ElasticNet(random_state=42), n_iter=18,\n",
       "                   n_jobs=-1,\n",
       "                   param_distributions={&#x27;alpha&#x27;: [0.01, 0.1, 2, 5, 8, 1000],\n",
       "                                        &#x27;l1_ratio&#x27;: array([0])},\n",
       "                   random_state=42, scoring=&#x27;neg_mean_squared_error&#x27;)</pre></div></div></div><div class=\"sk-parallel\"><div class=\"sk-parallel-item\"><div class=\"sk-item\"><div class=\"sk-label-container\"><div class=\"sk-label sk-toggleable\"><input class=\"sk-toggleable__control sk-hidden--visually\" id=\"sk-estimator-id-26\" type=\"checkbox\" ><label for=\"sk-estimator-id-26\" class=\"sk-toggleable__label sk-toggleable__label-arrow\">estimator: ElasticNet</label><div class=\"sk-toggleable__content\"><pre>ElasticNet(random_state=42)</pre></div></div></div><div class=\"sk-serial\"><div class=\"sk-item\"><div class=\"sk-estimator sk-toggleable\"><input class=\"sk-toggleable__control sk-hidden--visually\" id=\"sk-estimator-id-27\" type=\"checkbox\" ><label for=\"sk-estimator-id-27\" class=\"sk-toggleable__label sk-toggleable__label-arrow\">ElasticNet</label><div class=\"sk-toggleable__content\"><pre>ElasticNet(random_state=42)</pre></div></div></div></div></div></div></div></div></div></div>"
      ],
      "text/plain": [
       "RandomizedSearchCV(cv=4, estimator=ElasticNet(random_state=42), n_iter=18,\n",
       "                   n_jobs=-1,\n",
       "                   param_distributions={'alpha': [0.01, 0.1, 2, 5, 8, 1000],\n",
       "                                        'l1_ratio': array([0])},\n",
       "                   random_state=42, scoring='neg_mean_squared_error')"
      ]
     },
     "execution_count": 57,
     "metadata": {},
     "output_type": "execute_result"
    }
   ],
   "source": [
    "from sklearn.linear_model import ElasticNet\n",
    "\n",
    "reset_session()\n",
    "param_distribs = {\n",
    "         'alpha': [0.01,0.1,2,5,8,1000],\n",
    "        'l1_ratio':np.arange(0,1,100),\n",
    "        \n",
    "    }\n",
    "\n",
    "elastic_net = ElasticNet(random_state=42)\n",
    "\n",
    "rnd_search = RandomizedSearchCV(elastic_net, param_distributions=param_distribs,\n",
    "                                n_iter=18, cv=4, scoring='neg_mean_squared_error', random_state=42,n_jobs=-1)\n",
    "\n",
    "rnd_search.fit(X_train, y_train)"
   ]
  },
  {
   "cell_type": "code",
   "execution_count": 58,
   "id": "1bf6c567",
   "metadata": {
    "ExecuteTime": {
     "end_time": "2022-05-30T19:35:26.596534Z",
     "start_time": "2022-05-30T19:35:26.591611Z"
    },
    "hidden": true
   },
   "outputs": [
    {
     "data": {
      "text/plain": [
       "{'l1_ratio': 0, 'alpha': 0.01}"
      ]
     },
     "execution_count": 58,
     "metadata": {},
     "output_type": "execute_result"
    }
   ],
   "source": [
    "rnd_search.best_params_"
   ]
  },
  {
   "cell_type": "markdown",
   "id": "093029c5",
   "metadata": {
    "hidden": true
   },
   "source": [
    "The l1 ration =0 means  the elatic net converge to LASSO and have the same optimal alpha as the optimal alpha under ridge.\n",
    "This is corresponding to the results above, as LASSO regression performs better than the Ridge regression."
   ]
  },
  {
   "cell_type": "code",
   "execution_count": 59,
   "id": "4cfb202a",
   "metadata": {
    "ExecuteTime": {
     "end_time": "2022-05-30T19:35:26.606869Z",
     "start_time": "2022-05-30T19:35:26.598730Z"
    },
    "hidden": true
   },
   "outputs": [
    {
     "name": "stderr",
     "output_type": "stream",
     "text": [
      "D:\\Python\\lib\\site-packages\\sklearn\\linear_model\\_coordinate_descent.py:648: ConvergenceWarning: Objective did not converge. You might want to increase the number of iterations, check the scale of the features or consider increasing regularisation. Duality gap: 5.586e-01, tolerance: 1.120e-04 Linear regression models with null weight for the l1 regularization term are more efficiently fitted using one of the solvers implemented in sklearn.linear_model.Ridge/RidgeCV instead.\n",
      "  model = cd_fast.enet_coordinate_descent(\n"
     ]
    },
    {
     "data": {
      "text/html": [
       "<style>#sk-container-id-12 {color: black;background-color: white;}#sk-container-id-12 pre{padding: 0;}#sk-container-id-12 div.sk-toggleable {background-color: white;}#sk-container-id-12 label.sk-toggleable__label {cursor: pointer;display: block;width: 100%;margin-bottom: 0;padding: 0.3em;box-sizing: border-box;text-align: center;}#sk-container-id-12 label.sk-toggleable__label-arrow:before {content: \"▸\";float: left;margin-right: 0.25em;color: #696969;}#sk-container-id-12 label.sk-toggleable__label-arrow:hover:before {color: black;}#sk-container-id-12 div.sk-estimator:hover label.sk-toggleable__label-arrow:before {color: black;}#sk-container-id-12 div.sk-toggleable__content {max-height: 0;max-width: 0;overflow: hidden;text-align: left;background-color: #f0f8ff;}#sk-container-id-12 div.sk-toggleable__content pre {margin: 0.2em;color: black;border-radius: 0.25em;background-color: #f0f8ff;}#sk-container-id-12 input.sk-toggleable__control:checked~div.sk-toggleable__content {max-height: 200px;max-width: 100%;overflow: auto;}#sk-container-id-12 input.sk-toggleable__control:checked~label.sk-toggleable__label-arrow:before {content: \"▾\";}#sk-container-id-12 div.sk-estimator input.sk-toggleable__control:checked~label.sk-toggleable__label {background-color: #d4ebff;}#sk-container-id-12 div.sk-label input.sk-toggleable__control:checked~label.sk-toggleable__label {background-color: #d4ebff;}#sk-container-id-12 input.sk-hidden--visually {border: 0;clip: rect(1px 1px 1px 1px);clip: rect(1px, 1px, 1px, 1px);height: 1px;margin: -1px;overflow: hidden;padding: 0;position: absolute;width: 1px;}#sk-container-id-12 div.sk-estimator {font-family: monospace;background-color: #f0f8ff;border: 1px dotted black;border-radius: 0.25em;box-sizing: border-box;margin-bottom: 0.5em;}#sk-container-id-12 div.sk-estimator:hover {background-color: #d4ebff;}#sk-container-id-12 div.sk-parallel-item::after {content: \"\";width: 100%;border-bottom: 1px solid gray;flex-grow: 1;}#sk-container-id-12 div.sk-label:hover label.sk-toggleable__label {background-color: #d4ebff;}#sk-container-id-12 div.sk-serial::before {content: \"\";position: absolute;border-left: 1px solid gray;box-sizing: border-box;top: 0;bottom: 0;left: 50%;z-index: 0;}#sk-container-id-12 div.sk-serial {display: flex;flex-direction: column;align-items: center;background-color: white;padding-right: 0.2em;padding-left: 0.2em;position: relative;}#sk-container-id-12 div.sk-item {position: relative;z-index: 1;}#sk-container-id-12 div.sk-parallel {display: flex;align-items: stretch;justify-content: center;background-color: white;position: relative;}#sk-container-id-12 div.sk-item::before, #sk-container-id-12 div.sk-parallel-item::before {content: \"\";position: absolute;border-left: 1px solid gray;box-sizing: border-box;top: 0;bottom: 0;left: 50%;z-index: -1;}#sk-container-id-12 div.sk-parallel-item {display: flex;flex-direction: column;z-index: 1;position: relative;background-color: white;}#sk-container-id-12 div.sk-parallel-item:first-child::after {align-self: flex-end;width: 50%;}#sk-container-id-12 div.sk-parallel-item:last-child::after {align-self: flex-start;width: 50%;}#sk-container-id-12 div.sk-parallel-item:only-child::after {width: 0;}#sk-container-id-12 div.sk-dashed-wrapped {border: 1px dashed gray;margin: 0 0.4em 0.5em 0.4em;box-sizing: border-box;padding-bottom: 0.4em;background-color: white;}#sk-container-id-12 div.sk-label label {font-family: monospace;font-weight: bold;display: inline-block;line-height: 1.2em;}#sk-container-id-12 div.sk-label-container {text-align: center;}#sk-container-id-12 div.sk-container {/* jupyter's `normalize.less` sets `[hidden] { display: none; }` but bootstrap.min.css set `[hidden] { display: none !important; }` so we also need the `!important` here to be able to override the default hidden behavior on the sphinx rendered scikit-learn.org. See: https://github.com/scikit-learn/scikit-learn/issues/21755 */display: inline-block !important;position: relative;}#sk-container-id-12 div.sk-text-repr-fallback {display: none;}</style><div id=\"sk-container-id-12\" class=\"sk-top-container\"><div class=\"sk-text-repr-fallback\"><pre>ElasticNet(alpha=0.01, l1_ratio=0, random_state=42)</pre><b>In a Jupyter environment, please rerun this cell to show the HTML representation or trust the notebook. <br />On GitHub, the HTML representation is unable to render, please try loading this page with nbviewer.org.</b></div><div class=\"sk-container\" hidden><div class=\"sk-item\"><div class=\"sk-estimator sk-toggleable\"><input class=\"sk-toggleable__control sk-hidden--visually\" id=\"sk-estimator-id-28\" type=\"checkbox\" checked><label for=\"sk-estimator-id-28\" class=\"sk-toggleable__label sk-toggleable__label-arrow\">ElasticNet</label><div class=\"sk-toggleable__content\"><pre>ElasticNet(alpha=0.01, l1_ratio=0, random_state=42)</pre></div></div></div></div></div>"
      ],
      "text/plain": [
       "ElasticNet(alpha=0.01, l1_ratio=0, random_state=42)"
      ]
     },
     "execution_count": 59,
     "metadata": {},
     "output_type": "execute_result"
    }
   ],
   "source": [
    "from sklearn.linear_model import ElasticNet\n",
    "\n",
    "elastic_net = ElasticNet(alpha=0.01, l1_ratio=0, random_state=42)\n",
    "elastic_net.fit(X_train, y_train)"
   ]
  },
  {
   "cell_type": "code",
   "execution_count": 60,
   "id": "6d93b593",
   "metadata": {
    "ExecuteTime": {
     "end_time": "2022-05-30T19:35:26.613976Z",
     "start_time": "2022-05-30T19:35:26.609806Z"
    },
    "hidden": true
   },
   "outputs": [],
   "source": [
    "y_pred = elastic_net.predict(X_test)\n",
    "elastic_mse = mean_squared_error(y_pred, y_test)"
   ]
  },
  {
   "cell_type": "code",
   "execution_count": 61,
   "id": "d61a805d",
   "metadata": {
    "ExecuteTime": {
     "end_time": "2022-05-30T19:35:26.631287Z",
     "start_time": "2022-05-30T19:35:26.616807Z"
    },
    "hidden": true
   },
   "outputs": [
    {
     "data": {
      "text/html": [
       "<div>\n",
       "<style scoped>\n",
       "    .dataframe tbody tr th:only-of-type {\n",
       "        vertical-align: middle;\n",
       "    }\n",
       "\n",
       "    .dataframe tbody tr th {\n",
       "        vertical-align: top;\n",
       "    }\n",
       "\n",
       "    .dataframe thead th {\n",
       "        text-align: right;\n",
       "    }\n",
       "</style>\n",
       "<table border=\"1\" class=\"dataframe\">\n",
       "  <thead>\n",
       "    <tr style=\"text-align: right;\">\n",
       "      <th></th>\n",
       "      <th>lin_mse</th>\n",
       "      <th>sgd_reg</th>\n",
       "      <th>poly_reg</th>\n",
       "      <th>ridge_reg</th>\n",
       "      <th>lasso_reg</th>\n",
       "      <th>elastic_net</th>\n",
       "    </tr>\n",
       "  </thead>\n",
       "  <tbody>\n",
       "    <tr>\n",
       "      <th>0</th>\n",
       "      <td>0.002271</td>\n",
       "      <td>0.002189</td>\n",
       "      <td>0.022761</td>\n",
       "      <td>0.002191</td>\n",
       "      <td>0.002189</td>\n",
       "      <td>0.00219</td>\n",
       "    </tr>\n",
       "  </tbody>\n",
       "</table>\n",
       "</div>"
      ],
      "text/plain": [
       "    lin_mse   sgd_reg  poly_reg  ridge_reg  lasso_reg  elastic_net\n",
       "0  0.002271  0.002189  0.022761   0.002191   0.002189      0.00219"
      ]
     },
     "execution_count": 61,
     "metadata": {},
     "output_type": "execute_result"
    }
   ],
   "source": [
    "mse[\"elastic_net\"] = elastic_mse\n",
    "mse"
   ]
  },
  {
   "cell_type": "code",
   "execution_count": 62,
   "id": "2a34bb6f",
   "metadata": {
    "ExecuteTime": {
     "end_time": "2022-05-30T19:35:26.838045Z",
     "start_time": "2022-05-30T19:35:26.634025Z"
    },
    "hidden": true
   },
   "outputs": [
    {
     "name": "stderr",
     "output_type": "stream",
     "text": [
      "D:\\Python\\lib\\site-packages\\sklearn\\linear_model\\_coordinate_descent.py:648: ConvergenceWarning: Objective did not converge. You might want to increase the number of iterations, check the scale of the features or consider increasing regularisation. Duality gap: 0.000e+00, tolerance: 0.000e+00 Linear regression models with null weight for the l1 regularization term are more efficiently fitted using one of the solvers implemented in sklearn.linear_model.Ridge/RidgeCV instead.\n",
      "  model = cd_fast.enet_coordinate_descent(\n",
      "D:\\Python\\lib\\site-packages\\sklearn\\linear_model\\_coordinate_descent.py:648: ConvergenceWarning: Objective did not converge. You might want to increase the number of iterations, check the scale of the features or consider increasing regularisation. Duality gap: 4.363e-01, tolerance: 8.751e-05 Linear regression models with null weight for the l1 regularization term are more efficiently fitted using one of the solvers implemented in sklearn.linear_model.Ridge/RidgeCV instead.\n",
      "  model = cd_fast.enet_coordinate_descent(\n"
     ]
    },
    {
     "data": {
      "image/png": "[encoded data removed]",
      "text/plain": [
       "<Figure size 432x288 with 1 Axes>"
      ]
     },
     "metadata": {
      "needs_background": "light"
     },
     "output_type": "display_data"
    }
   ],
   "source": [
    "plot_learning_curves(elastic_net, X_train, y_train)  \n",
    "plt.show()"
   ]
  },
  {
   "cell_type": "markdown",
   "id": "d233c9ec",
   "metadata": {
    "heading_collapsed": true
   },
   "source": [
    "## 2.RNN"
   ]
  },
  {
   "cell_type": "markdown",
   "id": "b452fd43",
   "metadata": {
    "hidden": true
   },
   "source": [
    "Simple RNN"
   ]
  },
  {
   "cell_type": "code",
   "execution_count": 63,
   "id": "5d2d5f52",
   "metadata": {
    "ExecuteTime": {
     "end_time": "2022-05-30T19:35:26.926218Z",
     "start_time": "2022-05-30T19:35:26.839868Z"
    },
    "hidden": true
   },
   "outputs": [],
   "source": [
    "reset_session()\n",
    "\n",
    "sp_rnn = keras.models.Sequential([\n",
    "    keras.layers.SimpleRNN(1, input_shape=[None,1])\n",
    "])\n",
    "\n",
    "sp_rnn.compile(loss=\"mse\", optimizer=\"nadam\")"
   ]
  },
  {
   "cell_type": "code",
   "execution_count": 64,
   "id": "15cab0be",
   "metadata": {
    "ExecuteTime": {
     "end_time": "2022-05-30T19:35:29.119570Z",
     "start_time": "2022-05-30T19:35:26.928199Z"
    },
    "hidden": true
   },
   "outputs": [],
   "source": [
    "early_stopping_cb = keras.callbacks.EarlyStopping(patience=10,\n",
    "                                                  min_delta=0.01,\n",
    "                                                  restore_best_weights=True)\n",
    "run = sp_rnn.fit(X_train[..., np.newaxis], y_train, epochs=100,\n",
    "                validation_data=(X_valid[..., np.newaxis], y_valid),\n",
    "                callbacks=[early_stopping_cb], verbose=0)"
   ]
  },
  {
   "cell_type": "markdown",
   "id": "8419e31d",
   "metadata": {
    "hidden": true
   },
   "source": [
    "From learning curve, the fit is good"
   ]
  },
  {
   "cell_type": "code",
   "execution_count": 65,
   "id": "e87bc34f",
   "metadata": {
    "ExecuteTime": {
     "end_time": "2022-05-30T19:35:29.226383Z",
     "start_time": "2022-05-30T19:35:29.121050Z"
    },
    "hidden": true
   },
   "outputs": [
    {
     "data": {
      "image/png": "[encoded data removed]",
      "text/plain": [
       "<Figure size 576x360 with 1 Axes>"
      ]
     },
     "metadata": {
      "needs_background": "light"
     },
     "output_type": "display_data"
    }
   ],
   "source": [
    "pd.DataFrame(run.history).plot(figsize=(8, 5))\n",
    "plt.grid(True)\n",
    "plt.show()"
   ]
  },
  {
   "cell_type": "code",
   "execution_count": 66,
   "id": "fc598312",
   "metadata": {
    "ExecuteTime": {
     "end_time": "2022-05-30T19:35:29.491757Z",
     "start_time": "2022-05-30T19:35:29.227758Z"
    },
    "hidden": true
   },
   "outputs": [
    {
     "name": "stdout",
     "output_type": "stream",
     "text": [
      "19/19 [==============================] - 0s 1ms/step\n"
     ]
    }
   ],
   "source": [
    "y_pred = sp_rnn.predict(X_test[...,np.newaxis])\n",
    "sp_rnn_mse = mean_squared_error(y_pred, y_test)"
   ]
  },
  {
   "cell_type": "markdown",
   "id": "87f43f50",
   "metadata": {
    "hidden": true
   },
   "source": [
    "Mse is much larger than linear regression in the simple rnn"
   ]
  },
  {
   "cell_type": "code",
   "execution_count": 67,
   "id": "840928b4",
   "metadata": {
    "ExecuteTime": {
     "end_time": "2022-05-30T19:35:29.500063Z",
     "start_time": "2022-05-30T19:35:29.492981Z"
    },
    "hidden": true
   },
   "outputs": [
    {
     "data": {
      "text/html": [
       "<div>\n",
       "<style scoped>\n",
       "    .dataframe tbody tr th:only-of-type {\n",
       "        vertical-align: middle;\n",
       "    }\n",
       "\n",
       "    .dataframe tbody tr th {\n",
       "        vertical-align: top;\n",
       "    }\n",
       "\n",
       "    .dataframe thead th {\n",
       "        text-align: right;\n",
       "    }\n",
       "</style>\n",
       "<table border=\"1\" class=\"dataframe\">\n",
       "  <thead>\n",
       "    <tr style=\"text-align: right;\">\n",
       "      <th></th>\n",
       "      <th>lin_mse</th>\n",
       "      <th>sgd_reg</th>\n",
       "      <th>poly_reg</th>\n",
       "      <th>ridge_reg</th>\n",
       "      <th>lasso_reg</th>\n",
       "      <th>elastic_net</th>\n",
       "      <th>sp_rnn</th>\n",
       "    </tr>\n",
       "  </thead>\n",
       "  <tbody>\n",
       "    <tr>\n",
       "      <th>0</th>\n",
       "      <td>0.002271</td>\n",
       "      <td>0.002189</td>\n",
       "      <td>0.022761</td>\n",
       "      <td>0.002191</td>\n",
       "      <td>0.002189</td>\n",
       "      <td>0.00219</td>\n",
       "      <td>0.014262</td>\n",
       "    </tr>\n",
       "  </tbody>\n",
       "</table>\n",
       "</div>"
      ],
      "text/plain": [
       "    lin_mse   sgd_reg  poly_reg  ridge_reg  lasso_reg  elastic_net    sp_rnn\n",
       "0  0.002271  0.002189  0.022761   0.002191   0.002189      0.00219  0.014262"
      ]
     },
     "execution_count": 67,
     "metadata": {},
     "output_type": "execute_result"
    }
   ],
   "source": [
    "mse[\"sp_rnn\"] = sp_rnn_mse\n",
    "mse"
   ]
  },
  {
   "cell_type": "markdown",
   "id": "da452402",
   "metadata": {
    "hidden": true
   },
   "source": [
    "Deep RNN "
   ]
  },
  {
   "cell_type": "code",
   "execution_count": 84,
   "id": "874ad6e6",
   "metadata": {
    "ExecuteTime": {
     "end_time": "2022-05-30T19:35:29.509063Z",
     "start_time": "2022-05-30T19:35:29.501475Z"
    },
    "hidden": true
   },
   "outputs": [],
   "source": [
    "reset_session()\n",
    "def build_model(n_hidden = 1, n_neurons = 20):\n",
    "    model = keras.models.Sequential()\n",
    "    model.add(keras.layers.SimpleRNN(n_neurons, return_sequences=True, input_shape=[None, 1]))\n",
    "    for layer in range(n_hidden):\n",
    "        model.add(keras.layers.SimpleRNN(n_neurons, return_sequences=True))\n",
    "    model.add(keras.layers.TimeDistributed(keras.layers.Dense(1)))\n",
    "    model.add(keras.layers.Lambda(lambda Y_pred: Y_pred[:, -1:]))\n",
    "    model.compile(loss=\"mse\", optimizer=\"nadam\")\n",
    "    return model"
   ]
  },
  {
   "cell_type": "code",
   "execution_count": 85,
   "id": "44be0854",
   "metadata": {
    "ExecuteTime": {
     "end_time": "2022-05-30T19:35:29.512701Z",
     "start_time": "2022-05-30T19:35:29.510336Z"
    },
    "hidden": true
   },
   "outputs": [
    {
     "name": "stderr",
     "output_type": "stream",
     "text": [
      "C:\\Users\\peiya\\AppData\\Local\\Temp\\ipykernel_11604\\1709004121.py:1: DeprecationWarning: KerasRegressor is deprecated, use Sci-Keras (https://github.com/adriangb/scikeras) instead. See https://www.adriangb.com/scikeras/stable/migration.html for help migrating.\n",
      "  keras_reg = keras.wrappers.scikit_learn.KerasRegressor(build_model)\n"
     ]
    }
   ],
   "source": [
    "keras_reg = keras.wrappers.scikit_learn.KerasRegressor(build_model)"
   ]
  },
  {
   "cell_type": "code",
   "execution_count": 86,
   "id": "21bc6d3c",
   "metadata": {
    "ExecuteTime": {
     "end_time": "2022-05-30T19:35:44.879452Z",
     "start_time": "2022-05-30T19:35:29.514245Z"
    },
    "hidden": true
   },
   "outputs": [
    {
     "name": "stdout",
     "output_type": "stream",
     "text": [
      "Epoch 1/100\n",
      "40/40 [==============================] - 1s 10ms/step - loss: 0.0128 - val_loss: 0.0027\n",
      "Epoch 2/100\n",
      "40/40 [==============================] - 0s 6ms/step - loss: 0.0017 - val_loss: 0.0019\n",
      "Epoch 3/100\n",
      "40/40 [==============================] - 0s 6ms/step - loss: 0.0013 - val_loss: 0.0017\n",
      "Epoch 4/100\n",
      "40/40 [==============================] - 0s 6ms/step - loss: 0.0012 - val_loss: 0.0018\n",
      "Epoch 5/100\n",
      "40/40 [==============================] - 0s 6ms/step - loss: 0.0012 - val_loss: 0.0017\n",
      "Epoch 6/100\n",
      "40/40 [==============================] - 0s 6ms/step - loss: 0.0011 - val_loss: 0.0014\n",
      "Epoch 7/100\n",
      "40/40 [==============================] - 0s 6ms/step - loss: 0.0011 - val_loss: 0.0014\n",
      "Epoch 8/100\n",
      "40/40 [==============================] - 0s 6ms/step - loss: 0.0010 - val_loss: 0.0014\n",
      "Epoch 9/100\n",
      "40/40 [==============================] - 0s 6ms/step - loss: 0.0010 - val_loss: 0.0016\n",
      "Epoch 10/100\n",
      "40/40 [==============================] - 0s 6ms/step - loss: 0.0010 - val_loss: 0.0013\n",
      "Epoch 11/100\n",
      "40/40 [==============================] - 0s 6ms/step - loss: 9.9658e-04 - val_loss: 0.0015\n",
      "Epoch 12/100\n",
      "40/40 [==============================] - 0s 7ms/step - loss: 9.6466e-04 - val_loss: 0.0013\n",
      "Epoch 13/100\n",
      "40/40 [==============================] - 0s 6ms/step - loss: 9.7017e-04 - val_loss: 0.0013\n",
      "Epoch 14/100\n",
      "40/40 [==============================] - 0s 5ms/step - loss: 9.5475e-04 - val_loss: 0.0012\n",
      "Epoch 15/100\n",
      "40/40 [==============================] - 0s 6ms/step - loss: 9.5031e-04 - val_loss: 0.0015\n",
      "Epoch 16/100\n",
      "40/40 [==============================] - 0s 6ms/step - loss: 9.5400e-04 - val_loss: 0.0014\n",
      "Epoch 17/100\n",
      "40/40 [==============================] - 0s 5ms/step - loss: 9.5250e-04 - val_loss: 0.0012\n",
      "Epoch 18/100\n",
      "40/40 [==============================] - 0s 6ms/step - loss: 9.4458e-04 - val_loss: 0.0013\n",
      "Epoch 19/100\n",
      "40/40 [==============================] - 0s 5ms/step - loss: 9.2804e-04 - val_loss: 0.0013\n",
      "Epoch 20/100\n",
      "40/40 [==============================] - 0s 6ms/step - loss: 9.3451e-04 - val_loss: 0.0013\n",
      "Epoch 21/100\n",
      "40/40 [==============================] - 0s 7ms/step - loss: 9.4429e-04 - val_loss: 0.0014\n",
      "Epoch 22/100\n",
      "40/40 [==============================] - 0s 6ms/step - loss: 9.3121e-04 - val_loss: 0.0014\n",
      "Epoch 23/100\n",
      "40/40 [==============================] - 0s 6ms/step - loss: 9.4834e-04 - val_loss: 0.0013\n",
      "Epoch 24/100\n",
      "40/40 [==============================] - 0s 6ms/step - loss: 9.1751e-04 - val_loss: 0.0013\n",
      "Epoch 25/100\n",
      "40/40 [==============================] - 0s 6ms/step - loss: 9.2962e-04 - val_loss: 0.0012\n",
      "Epoch 26/100\n",
      "40/40 [==============================] - 0s 5ms/step - loss: 9.1853e-04 - val_loss: 0.0012\n",
      "Epoch 27/100\n",
      "40/40 [==============================] - 0s 6ms/step - loss: 9.1678e-04 - val_loss: 0.0012\n",
      "Epoch 28/100\n",
      "40/40 [==============================] - 0s 6ms/step - loss: 9.1576e-04 - val_loss: 0.0016\n",
      "Epoch 29/100\n",
      "40/40 [==============================] - 0s 6ms/step - loss: 9.4671e-04 - val_loss: 0.0013\n",
      "Epoch 30/100\n",
      "40/40 [==============================] - 0s 6ms/step - loss: 9.2161e-04 - val_loss: 0.0013\n",
      "Epoch 31/100\n",
      "40/40 [==============================] - 0s 5ms/step - loss: 9.0907e-04 - val_loss: 0.0014\n",
      "Epoch 32/100\n",
      "40/40 [==============================] - 0s 6ms/step - loss: 9.1319e-04 - val_loss: 0.0012\n",
      "Epoch 33/100\n",
      "40/40 [==============================] - 0s 6ms/step - loss: 9.1685e-04 - val_loss: 0.0013\n",
      "Epoch 34/100\n",
      "40/40 [==============================] - 0s 6ms/step - loss: 9.1086e-04 - val_loss: 0.0014\n",
      "Epoch 35/100\n",
      "40/40 [==============================] - 0s 6ms/step - loss: 9.0394e-04 - val_loss: 0.0013\n",
      "Epoch 36/100\n",
      "40/40 [==============================] - 0s 6ms/step - loss: 9.2604e-04 - val_loss: 0.0012\n",
      "Epoch 37/100\n",
      "40/40 [==============================] - 0s 7ms/step - loss: 9.1879e-04 - val_loss: 0.0012\n",
      "Epoch 38/100\n",
      "40/40 [==============================] - 0s 6ms/step - loss: 9.1533e-04 - val_loss: 0.0016\n",
      "Epoch 39/100\n",
      "40/40 [==============================] - 0s 6ms/step - loss: 9.3072e-04 - val_loss: 0.0013\n",
      "Epoch 40/100\n",
      "40/40 [==============================] - 0s 6ms/step - loss: 9.1268e-04 - val_loss: 0.0012\n",
      "Epoch 41/100\n",
      "40/40 [==============================] - 0s 6ms/step - loss: 9.1339e-04 - val_loss: 0.0012\n",
      "Epoch 42/100\n",
      "40/40 [==============================] - 0s 6ms/step - loss: 9.0658e-04 - val_loss: 0.0014\n",
      "Epoch 43/100\n",
      "40/40 [==============================] - 0s 6ms/step - loss: 9.2369e-04 - val_loss: 0.0012\n",
      "Epoch 44/100\n",
      "40/40 [==============================] - 0s 6ms/step - loss: 9.0229e-04 - val_loss: 0.0012\n",
      "Epoch 45/100\n",
      "40/40 [==============================] - 0s 6ms/step - loss: 9.1342e-04 - val_loss: 0.0012\n",
      "Epoch 46/100\n",
      "40/40 [==============================] - 0s 6ms/step - loss: 9.0833e-04 - val_loss: 0.0012\n"
     ]
    },
    {
     "data": {
      "text/plain": [
       "<keras.callbacks.History at 0x2356f1d71c0>"
      ]
     },
     "execution_count": 86,
     "metadata": {},
     "output_type": "execute_result"
    }
   ],
   "source": [
    "keras_reg.fit(X_train[..., np.newaxis], y_train, epochs=100,\n",
    "              validation_data=(X_valid[..., np.newaxis], y_valid),\n",
    "              callbacks=[keras.callbacks.EarlyStopping(patience=10)])"
   ]
  },
  {
   "cell_type": "markdown",
   "id": "ee3be3d8",
   "metadata": {
    "hidden": true
   },
   "source": [
    "we do a random search for the number of hidden layers and the number of neurons in each layer"
   ]
  },
  {
   "cell_type": "code",
   "execution_count": 87,
   "id": "b2f79265",
   "metadata": {
    "ExecuteTime": {
     "end_time": "2022-05-30T19:36:49.012894Z",
     "start_time": "2022-05-30T19:35:44.881488Z"
    },
    "hidden": true
   },
   "outputs": [
    {
     "name": "stdout",
     "output_type": "stream",
     "text": [
      "Epoch 1/100\n",
      "40/40 [==============================] - 1s 11ms/step - loss: 0.0046 - val_loss: 0.0026\n",
      "Epoch 2/100\n",
      "40/40 [==============================] - 0s 6ms/step - loss: 0.0015 - val_loss: 0.0016\n",
      "Epoch 3/100\n",
      "40/40 [==============================] - 0s 5ms/step - loss: 0.0012 - val_loss: 0.0024\n",
      "Epoch 4/100\n",
      "40/40 [==============================] - 0s 6ms/step - loss: 0.0011 - val_loss: 0.0016\n",
      "Epoch 5/100\n",
      "40/40 [==============================] - 0s 7ms/step - loss: 0.0011 - val_loss: 0.0021\n",
      "Epoch 6/100\n",
      "40/40 [==============================] - 0s 5ms/step - loss: 0.0011 - val_loss: 0.0020\n",
      "Epoch 7/100\n",
      "40/40 [==============================] - 0s 6ms/step - loss: 0.0010 - val_loss: 0.0020\n",
      "Epoch 8/100\n",
      "40/40 [==============================] - 0s 6ms/step - loss: 0.0010 - val_loss: 0.0015\n",
      "Epoch 9/100\n",
      "40/40 [==============================] - 0s 6ms/step - loss: 9.9716e-04 - val_loss: 0.0016\n",
      "Epoch 10/100\n",
      "40/40 [==============================] - 0s 6ms/step - loss: 9.7837e-04 - val_loss: 0.0013\n",
      "Epoch 11/100\n",
      "40/40 [==============================] - 0s 6ms/step - loss: 9.6804e-04 - val_loss: 0.0013\n",
      "Epoch 12/100\n",
      "40/40 [==============================] - 0s 6ms/step - loss: 9.4524e-04 - val_loss: 0.0014\n",
      "Epoch 13/100\n",
      "40/40 [==============================] - 0s 6ms/step - loss: 9.5939e-04 - val_loss: 0.0017\n",
      "Epoch 14/100\n",
      "40/40 [==============================] - 0s 6ms/step - loss: 9.5682e-04 - val_loss: 0.0014\n",
      "Epoch 15/100\n",
      "40/40 [==============================] - 0s 6ms/step - loss: 9.3492e-04 - val_loss: 0.0013\n",
      "Epoch 16/100\n",
      "40/40 [==============================] - 0s 6ms/step - loss: 9.3723e-04 - val_loss: 0.0013\n",
      "Epoch 17/100\n",
      "40/40 [==============================] - 0s 6ms/step - loss: 9.4828e-04 - val_loss: 0.0012\n",
      "Epoch 18/100\n",
      "40/40 [==============================] - 0s 6ms/step - loss: 9.4801e-04 - val_loss: 0.0013\n",
      "Epoch 19/100\n",
      "40/40 [==============================] - 0s 6ms/step - loss: 9.2100e-04 - val_loss: 0.0019\n",
      "Epoch 20/100\n",
      "40/40 [==============================] - 0s 6ms/step - loss: 9.4534e-04 - val_loss: 0.0013\n",
      "Epoch 21/100\n",
      "40/40 [==============================] - 0s 6ms/step - loss: 9.4017e-04 - val_loss: 0.0017\n",
      "Epoch 22/100\n",
      "40/40 [==============================] - 0s 6ms/step - loss: 9.4473e-04 - val_loss: 0.0014\n",
      "Epoch 23/100\n",
      "40/40 [==============================] - 0s 6ms/step - loss: 9.4695e-04 - val_loss: 0.0012\n",
      "Epoch 24/100\n",
      "40/40 [==============================] - 0s 6ms/step - loss: 9.1246e-04 - val_loss: 0.0012\n",
      "Epoch 25/100\n",
      "40/40 [==============================] - 0s 6ms/step - loss: 9.1720e-04 - val_loss: 0.0012\n",
      "Epoch 26/100\n",
      "40/40 [==============================] - 0s 6ms/step - loss: 9.0961e-04 - val_loss: 0.0013\n",
      "Epoch 27/100\n",
      "40/40 [==============================] - 0s 6ms/step - loss: 9.1485e-04 - val_loss: 0.0012\n"
     ]
    },
    {
     "data": {
      "text/html": [
       "<style>#sk-container-id-14 {color: black;background-color: white;}#sk-container-id-14 pre{padding: 0;}#sk-container-id-14 div.sk-toggleable {background-color: white;}#sk-container-id-14 label.sk-toggleable__label {cursor: pointer;display: block;width: 100%;margin-bottom: 0;padding: 0.3em;box-sizing: border-box;text-align: center;}#sk-container-id-14 label.sk-toggleable__label-arrow:before {content: \"▸\";float: left;margin-right: 0.25em;color: #696969;}#sk-container-id-14 label.sk-toggleable__label-arrow:hover:before {color: black;}#sk-container-id-14 div.sk-estimator:hover label.sk-toggleable__label-arrow:before {color: black;}#sk-container-id-14 div.sk-toggleable__content {max-height: 0;max-width: 0;overflow: hidden;text-align: left;background-color: #f0f8ff;}#sk-container-id-14 div.sk-toggleable__content pre {margin: 0.2em;color: black;border-radius: 0.25em;background-color: #f0f8ff;}#sk-container-id-14 input.sk-toggleable__control:checked~div.sk-toggleable__content {max-height: 200px;max-width: 100%;overflow: auto;}#sk-container-id-14 input.sk-toggleable__control:checked~label.sk-toggleable__label-arrow:before {content: \"▾\";}#sk-container-id-14 div.sk-estimator input.sk-toggleable__control:checked~label.sk-toggleable__label {background-color: #d4ebff;}#sk-container-id-14 div.sk-label input.sk-toggleable__control:checked~label.sk-toggleable__label {background-color: #d4ebff;}#sk-container-id-14 input.sk-hidden--visually {border: 0;clip: rect(1px 1px 1px 1px);clip: rect(1px, 1px, 1px, 1px);height: 1px;margin: -1px;overflow: hidden;padding: 0;position: absolute;width: 1px;}#sk-container-id-14 div.sk-estimator {font-family: monospace;background-color: #f0f8ff;border: 1px dotted black;border-radius: 0.25em;box-sizing: border-box;margin-bottom: 0.5em;}#sk-container-id-14 div.sk-estimator:hover {background-color: #d4ebff;}#sk-container-id-14 div.sk-parallel-item::after {content: \"\";width: 100%;border-bottom: 1px solid gray;flex-grow: 1;}#sk-container-id-14 div.sk-label:hover label.sk-toggleable__label {background-color: #d4ebff;}#sk-container-id-14 div.sk-serial::before {content: \"\";position: absolute;border-left: 1px solid gray;box-sizing: border-box;top: 0;bottom: 0;left: 50%;z-index: 0;}#sk-container-id-14 div.sk-serial {display: flex;flex-direction: column;align-items: center;background-color: white;padding-right: 0.2em;padding-left: 0.2em;position: relative;}#sk-container-id-14 div.sk-item {position: relative;z-index: 1;}#sk-container-id-14 div.sk-parallel {display: flex;align-items: stretch;justify-content: center;background-color: white;position: relative;}#sk-container-id-14 div.sk-item::before, #sk-container-id-14 div.sk-parallel-item::before {content: \"\";position: absolute;border-left: 1px solid gray;box-sizing: border-box;top: 0;bottom: 0;left: 50%;z-index: -1;}#sk-container-id-14 div.sk-parallel-item {display: flex;flex-direction: column;z-index: 1;position: relative;background-color: white;}#sk-container-id-14 div.sk-parallel-item:first-child::after {align-self: flex-end;width: 50%;}#sk-container-id-14 div.sk-parallel-item:last-child::after {align-self: flex-start;width: 50%;}#sk-container-id-14 div.sk-parallel-item:only-child::after {width: 0;}#sk-container-id-14 div.sk-dashed-wrapped {border: 1px dashed gray;margin: 0 0.4em 0.5em 0.4em;box-sizing: border-box;padding-bottom: 0.4em;background-color: white;}#sk-container-id-14 div.sk-label label {font-family: monospace;font-weight: bold;display: inline-block;line-height: 1.2em;}#sk-container-id-14 div.sk-label-container {text-align: center;}#sk-container-id-14 div.sk-container {/* jupyter's `normalize.less` sets `[hidden] { display: none; }` but bootstrap.min.css set `[hidden] { display: none !important; }` so we also need the `!important` here to be able to override the default hidden behavior on the sphinx rendered scikit-learn.org. See: https://github.com/scikit-learn/scikit-learn/issues/21755 */display: inline-block !important;position: relative;}#sk-container-id-14 div.sk-text-repr-fallback {display: none;}</style><div id=\"sk-container-id-14\" class=\"sk-top-container\"><div class=\"sk-text-repr-fallback\"><pre>RandomizedSearchCV(cv=3,\n",
       "                   estimator=&lt;keras.wrappers.scikit_learn.KerasRegressor object at 0x000002356F165BD0&gt;,\n",
       "                   n_jobs=-1,\n",
       "                   param_distributions={&#x27;n_hidden&#x27;: [1, 2, 3],\n",
       "                                        &#x27;n_neurons&#x27;: array([20, 21, 22, 23, 24, 25, 26, 27, 28, 29, 30, 31, 32, 33, 34, 35, 36,\n",
       "       37, 38, 39, 40, 41, 42, 43, 44, 45, 46, 47, 48, 49, 50, 51, 52, 53,\n",
       "       54, 55, 56, 57, 58, 59, 60, 61, 62, 63, 64, 65, 66, 67, 68, 69, 70,\n",
       "       71, 72, 73, 74, 75, 76, 77, 78, 79])})</pre><b>In a Jupyter environment, please rerun this cell to show the HTML representation or trust the notebook. <br />On GitHub, the HTML representation is unable to render, please try loading this page with nbviewer.org.</b></div><div class=\"sk-container\" hidden><div class=\"sk-item sk-dashed-wrapped\"><div class=\"sk-label-container\"><div class=\"sk-label sk-toggleable\"><input class=\"sk-toggleable__control sk-hidden--visually\" id=\"sk-estimator-id-32\" type=\"checkbox\" ><label for=\"sk-estimator-id-32\" class=\"sk-toggleable__label sk-toggleable__label-arrow\">RandomizedSearchCV</label><div class=\"sk-toggleable__content\"><pre>RandomizedSearchCV(cv=3,\n",
       "                   estimator=&lt;keras.wrappers.scikit_learn.KerasRegressor object at 0x000002356F165BD0&gt;,\n",
       "                   n_jobs=-1,\n",
       "                   param_distributions={&#x27;n_hidden&#x27;: [1, 2, 3],\n",
       "                                        &#x27;n_neurons&#x27;: array([20, 21, 22, 23, 24, 25, 26, 27, 28, 29, 30, 31, 32, 33, 34, 35, 36,\n",
       "       37, 38, 39, 40, 41, 42, 43, 44, 45, 46, 47, 48, 49, 50, 51, 52, 53,\n",
       "       54, 55, 56, 57, 58, 59, 60, 61, 62, 63, 64, 65, 66, 67, 68, 69, 70,\n",
       "       71, 72, 73, 74, 75, 76, 77, 78, 79])})</pre></div></div></div><div class=\"sk-parallel\"><div class=\"sk-parallel-item\"><div class=\"sk-item\"><div class=\"sk-label-container\"><div class=\"sk-label sk-toggleable\"><input class=\"sk-toggleable__control sk-hidden--visually\" id=\"sk-estimator-id-33\" type=\"checkbox\" ><label for=\"sk-estimator-id-33\" class=\"sk-toggleable__label sk-toggleable__label-arrow\">estimator: KerasRegressor</label><div class=\"sk-toggleable__content\"><pre>&lt;keras.wrappers.scikit_learn.KerasRegressor object at 0x000002356F165BD0&gt;</pre></div></div></div><div class=\"sk-serial\"><div class=\"sk-item\"><div class=\"sk-estimator sk-toggleable\"><input class=\"sk-toggleable__control sk-hidden--visually\" id=\"sk-estimator-id-34\" type=\"checkbox\" ><label for=\"sk-estimator-id-34\" class=\"sk-toggleable__label sk-toggleable__label-arrow\">KerasRegressor</label><div class=\"sk-toggleable__content\"><pre>&lt;keras.wrappers.scikit_learn.KerasRegressor object at 0x000002356F165BD0&gt;</pre></div></div></div></div></div></div></div></div></div></div>"
      ],
      "text/plain": [
       "RandomizedSearchCV(cv=3,\n",
       "                   estimator=<keras.wrappers.scikit_learn.KerasRegressor object at 0x000002356F165BD0>,\n",
       "                   n_jobs=-1,\n",
       "                   param_distributions={'n_hidden': [1, 2, 3],\n",
       "                                        'n_neurons': array([20, 21, 22, 23, 24, 25, 26, 27, 28, 29, 30, 31, 32, 33, 34, 35, 36,\n",
       "       37, 38, 39, 40, 41, 42, 43, 44, 45, 46, 47, 48, 49, 50, 51, 52, 53,\n",
       "       54, 55, 56, 57, 58, 59, 60, 61, 62, 63, 64, 65, 66, 67, 68, 69, 70,\n",
       "       71, 72, 73, 74, 75, 76, 77, 78, 79])})"
      ]
     },
     "execution_count": 87,
     "metadata": {},
     "output_type": "execute_result"
    }
   ],
   "source": [
    "from sklearn.model_selection import RandomizedSearchCV\n",
    "\n",
    "param_distribs = {\n",
    "    \"n_hidden\": [1, 2, 3],\n",
    "    \"n_neurons\": np.arange(20, 80),\n",
    "}\n",
    "\n",
    "rnd_search_cv = RandomizedSearchCV(keras_reg, param_distribs, n_iter=10, cv=3, n_jobs=-1)\n",
    "rnd_search_cv.fit(X_train[..., np.newaxis], y_train, epochs=100,\n",
    "                  validation_data=(X_valid[..., np.newaxis], y_valid),\n",
    "                  callbacks=[keras.callbacks.EarlyStopping(patience=10)])"
   ]
  },
  {
   "cell_type": "markdown",
   "id": "4eaedaca",
   "metadata": {
    "hidden": true
   },
   "source": [
    "the best n_neurons is 35 and n_hidden is 1"
   ]
  },
  {
   "cell_type": "code",
   "execution_count": 88,
   "id": "97778ab6",
   "metadata": {
    "ExecuteTime": {
     "end_time": "2022-05-30T19:36:49.017507Z",
     "start_time": "2022-05-30T19:36:49.014180Z"
    },
    "hidden": true
   },
   "outputs": [
    {
     "data": {
      "text/plain": [
       "{'n_neurons': 35, 'n_hidden': 1}"
      ]
     },
     "execution_count": 88,
     "metadata": {},
     "output_type": "execute_result"
    }
   ],
   "source": [
    "rnd_search_cv.best_params_"
   ]
  },
  {
   "cell_type": "code",
   "execution_count": 89,
   "id": "357a124e",
   "metadata": {
    "ExecuteTime": {
     "end_time": "2022-05-30T19:36:49.101243Z",
     "start_time": "2022-05-30T19:36:49.019395Z"
    },
    "hidden": true
   },
   "outputs": [],
   "source": [
    "dp_rnn =  build_model(n_hidden = 1, n_neurons = 35)"
   ]
  },
  {
   "cell_type": "code",
   "execution_count": 90,
   "id": "b84d6434",
   "metadata": {
    "ExecuteTime": {
     "end_time": "2022-05-30T19:36:54.586004Z",
     "start_time": "2022-05-30T19:36:49.102801Z"
    },
    "hidden": true
   },
   "outputs": [],
   "source": [
    "early_stopping_cb = keras.callbacks.EarlyStopping(patience=10,\n",
    "                                                  min_delta=0.01,\n",
    "                                                  restore_best_weights=True)\n",
    "run = dp_rnn.fit(X_train[..., np.newaxis], y_train, epochs=100,\n",
    "                validation_data=(X_valid[..., np.newaxis], y_valid),\n",
    "                callbacks=[early_stopping_cb], verbose=0)"
   ]
  },
  {
   "cell_type": "markdown",
   "id": "11884baa",
   "metadata": {
    "hidden": true
   },
   "source": [
    "from learning curve, the fit is good"
   ]
  },
  {
   "cell_type": "code",
   "execution_count": 91,
   "id": "ab024101",
   "metadata": {
    "ExecuteTime": {
     "end_time": "2022-05-30T19:36:54.847685Z",
     "start_time": "2022-05-30T19:36:54.587339Z"
    },
    "hidden": true
   },
   "outputs": [
    {
     "data": {
      "image/png": "[encoded data removed]",
      "text/plain": [
       "<Figure size 576x360 with 1 Axes>"
      ]
     },
     "metadata": {
      "needs_background": "light"
     },
     "output_type": "display_data"
    }
   ],
   "source": [
    "pd.DataFrame(run.history).plot(figsize=(8, 5))\n",
    "plt.grid(True)\n",
    "plt.show()"
   ]
  },
  {
   "cell_type": "code",
   "execution_count": 92,
   "id": "d1b010ab",
   "metadata": {
    "ExecuteTime": {
     "end_time": "2022-05-30T19:36:55.060990Z",
     "start_time": "2022-05-30T19:36:54.849034Z"
    },
    "hidden": true
   },
   "outputs": [
    {
     "name": "stdout",
     "output_type": "stream",
     "text": [
      "19/19 [==============================] - 0s 2ms/step\n"
     ]
    }
   ],
   "source": [
    "y_pred = dp_rnn.predict(X_test[..., np.newaxis])[...,0]\n",
    "dp_rnn_mse = mean_squared_error(y_pred, y_test)"
   ]
  },
  {
   "cell_type": "markdown",
   "id": "8e85a480",
   "metadata": {
    "hidden": true
   },
   "source": [
    "Mse is better than simple rnn but still worse than linear regression"
   ]
  },
  {
   "cell_type": "code",
   "execution_count": 93,
   "id": "8a6a9d05",
   "metadata": {
    "ExecuteTime": {
     "end_time": "2022-05-30T19:36:55.069908Z",
     "start_time": "2022-05-30T19:36:55.062226Z"
    },
    "hidden": true
   },
   "outputs": [
    {
     "data": {
      "text/html": [
       "<div>\n",
       "<style scoped>\n",
       "    .dataframe tbody tr th:only-of-type {\n",
       "        vertical-align: middle;\n",
       "    }\n",
       "\n",
       "    .dataframe tbody tr th {\n",
       "        vertical-align: top;\n",
       "    }\n",
       "\n",
       "    .dataframe thead th {\n",
       "        text-align: right;\n",
       "    }\n",
       "</style>\n",
       "<table border=\"1\" class=\"dataframe\">\n",
       "  <thead>\n",
       "    <tr style=\"text-align: right;\">\n",
       "      <th></th>\n",
       "      <th>lin_mse</th>\n",
       "      <th>sgd_reg</th>\n",
       "      <th>poly_reg</th>\n",
       "      <th>ridge_reg</th>\n",
       "      <th>lasso_reg</th>\n",
       "      <th>elastic_net</th>\n",
       "      <th>sp_rnn</th>\n",
       "      <th>dp_rnn</th>\n",
       "    </tr>\n",
       "  </thead>\n",
       "  <tbody>\n",
       "    <tr>\n",
       "      <th>0</th>\n",
       "      <td>0.002271</td>\n",
       "      <td>0.002189</td>\n",
       "      <td>0.022761</td>\n",
       "      <td>0.002191</td>\n",
       "      <td>0.002189</td>\n",
       "      <td>0.00219</td>\n",
       "      <td>0.014262</td>\n",
       "      <td>0.003489</td>\n",
       "    </tr>\n",
       "  </tbody>\n",
       "</table>\n",
       "</div>"
      ],
      "text/plain": [
       "    lin_mse   sgd_reg  poly_reg  ridge_reg  lasso_reg  elastic_net    sp_rnn  \\\n",
       "0  0.002271  0.002189  0.022761   0.002191   0.002189      0.00219  0.014262   \n",
       "\n",
       "     dp_rnn  \n",
       "0  0.003489  "
      ]
     },
     "execution_count": 93,
     "metadata": {},
     "output_type": "execute_result"
    }
   ],
   "source": [
    "mse[\"dp_rnn\"] = dp_rnn_mse\n",
    "mse"
   ]
  },
  {
   "cell_type": "markdown",
   "id": "9b741362",
   "metadata": {
    "hidden": true
   },
   "source": [
    "Deep RNN_Batch Normalization_Drop Out"
   ]
  },
  {
   "cell_type": "code",
   "execution_count": 94,
   "id": "2170e701",
   "metadata": {
    "ExecuteTime": {
     "end_time": "2022-05-30T19:36:55.093792Z",
     "start_time": "2022-05-30T19:36:55.071419Z"
    },
    "hidden": true
   },
   "outputs": [],
   "source": [
    "reset_session()\n",
    "def build_model(n_hidden = 1, n_neurons = 20, dp = 0.1):\n",
    "    model = keras.models.Sequential()\n",
    "    model.add(keras.layers.SimpleRNN(n_neurons, return_sequences=True, \n",
    "                                     dropout=dp, recurrent_dropout=dp,\n",
    "                                     input_shape=[None, 1]))\n",
    "    model.add(keras.layers.BatchNormalization())\n",
    "    for layer in range(n_hidden):\n",
    "        model.add(keras.layers.SimpleRNN(n_neurons,return_sequences=True, \n",
    "                                     dropout=dp, recurrent_dropout=dp))\n",
    "        model.add(keras.layers.BatchNormalization())\n",
    "    model.add(keras.layers.TimeDistributed(keras.layers.Dense(1)))\n",
    "    model.add(keras.layers.Lambda(lambda Y_pred: Y_pred[:, -1:]))\n",
    "    model.compile(loss=\"mse\", optimizer=\"nadam\")\n",
    "    return model"
   ]
  },
  {
   "cell_type": "code",
   "execution_count": 95,
   "id": "425d8776",
   "metadata": {
    "ExecuteTime": {
     "end_time": "2022-05-30T19:36:55.097937Z",
     "start_time": "2022-05-30T19:36:55.095495Z"
    },
    "hidden": true
   },
   "outputs": [
    {
     "name": "stderr",
     "output_type": "stream",
     "text": [
      "C:\\Users\\peiya\\AppData\\Local\\Temp\\ipykernel_11604\\1709004121.py:1: DeprecationWarning: KerasRegressor is deprecated, use Sci-Keras (https://github.com/adriangb/scikeras) instead. See https://www.adriangb.com/scikeras/stable/migration.html for help migrating.\n",
      "  keras_reg = keras.wrappers.scikit_learn.KerasRegressor(build_model)\n"
     ]
    }
   ],
   "source": [
    "keras_reg = keras.wrappers.scikit_learn.KerasRegressor(build_model)"
   ]
  },
  {
   "cell_type": "code",
   "execution_count": 96,
   "id": "cf5aad32",
   "metadata": {
    "ExecuteTime": {
     "end_time": "2022-05-30T19:37:24.566303Z",
     "start_time": "2022-05-30T19:36:55.099416Z"
    },
    "hidden": true
   },
   "outputs": [
    {
     "name": "stdout",
     "output_type": "stream",
     "text": [
      "Epoch 1/100\n",
      "40/40 [==============================] - 3s 13ms/step - loss: 1.9721 - val_loss: 0.1172\n",
      "Epoch 2/100\n",
      "40/40 [==============================] - 0s 7ms/step - loss: 0.7456 - val_loss: 0.0235\n",
      "Epoch 3/100\n",
      "40/40 [==============================] - 0s 7ms/step - loss: 0.4492 - val_loss: 0.0285\n",
      "Epoch 4/100\n",
      "40/40 [==============================] - 0s 7ms/step - loss: 0.3493 - val_loss: 0.0356\n",
      "Epoch 5/100\n",
      "40/40 [==============================] - 0s 7ms/step - loss: 0.2631 - val_loss: 0.0611\n",
      "Epoch 6/100\n",
      "40/40 [==============================] - 0s 7ms/step - loss: 0.2165 - val_loss: 0.0133\n",
      "Epoch 7/100\n",
      "40/40 [==============================] - 0s 8ms/step - loss: 0.1616 - val_loss: 0.0062\n",
      "Epoch 8/100\n",
      "40/40 [==============================] - 0s 7ms/step - loss: 0.1174 - val_loss: 0.0199\n",
      "Epoch 9/100\n",
      "40/40 [==============================] - 0s 8ms/step - loss: 0.0969 - val_loss: 0.0085\n",
      "Epoch 10/100\n",
      "40/40 [==============================] - 0s 8ms/step - loss: 0.0850 - val_loss: 0.0328\n",
      "Epoch 11/100\n",
      "40/40 [==============================] - 0s 8ms/step - loss: 0.0666 - val_loss: 0.0109\n",
      "Epoch 12/100\n",
      "40/40 [==============================] - 0s 8ms/step - loss: 0.0576 - val_loss: 0.0090\n",
      "Epoch 13/100\n",
      "40/40 [==============================] - 0s 8ms/step - loss: 0.0530 - val_loss: 0.0125\n",
      "Epoch 14/100\n",
      "40/40 [==============================] - 0s 8ms/step - loss: 0.0462 - val_loss: 0.0032\n",
      "Epoch 15/100\n",
      "40/40 [==============================] - 0s 8ms/step - loss: 0.0420 - val_loss: 0.0025\n",
      "Epoch 16/100\n",
      "40/40 [==============================] - 0s 8ms/step - loss: 0.0348 - val_loss: 0.0041\n",
      "Epoch 17/100\n",
      "40/40 [==============================] - 0s 8ms/step - loss: 0.0318 - val_loss: 0.0107\n",
      "Epoch 18/100\n",
      "40/40 [==============================] - 0s 7ms/step - loss: 0.0277 - val_loss: 0.0072\n",
      "Epoch 19/100\n",
      "40/40 [==============================] - 0s 8ms/step - loss: 0.0231 - val_loss: 0.0074\n",
      "Epoch 20/100\n",
      "40/40 [==============================] - 0s 8ms/step - loss: 0.0229 - val_loss: 0.0051\n",
      "Epoch 21/100\n",
      "40/40 [==============================] - 0s 9ms/step - loss: 0.0199 - val_loss: 0.0053\n",
      "Epoch 22/100\n",
      "40/40 [==============================] - 0s 8ms/step - loss: 0.0192 - val_loss: 0.0017\n",
      "Epoch 23/100\n",
      "40/40 [==============================] - 0s 8ms/step - loss: 0.0154 - val_loss: 0.0024\n",
      "Epoch 24/100\n",
      "40/40 [==============================] - 0s 8ms/step - loss: 0.0151 - val_loss: 0.0033\n",
      "Epoch 25/100\n",
      "40/40 [==============================] - 0s 8ms/step - loss: 0.0144 - val_loss: 0.0048\n",
      "Epoch 26/100\n",
      "40/40 [==============================] - 0s 7ms/step - loss: 0.0138 - val_loss: 0.0034\n",
      "Epoch 27/100\n",
      "40/40 [==============================] - 0s 8ms/step - loss: 0.0106 - val_loss: 0.0026\n",
      "Epoch 28/100\n",
      "40/40 [==============================] - 0s 8ms/step - loss: 0.0123 - val_loss: 0.0023\n",
      "Epoch 29/100\n",
      "40/40 [==============================] - 0s 8ms/step - loss: 0.0112 - val_loss: 0.0014\n",
      "Epoch 30/100\n",
      "40/40 [==============================] - 0s 7ms/step - loss: 0.0100 - val_loss: 0.0014\n",
      "Epoch 31/100\n",
      "40/40 [==============================] - 0s 7ms/step - loss: 0.0086 - val_loss: 0.0015\n",
      "Epoch 32/100\n",
      "40/40 [==============================] - 0s 7ms/step - loss: 0.0101 - val_loss: 0.0016\n",
      "Epoch 33/100\n",
      "40/40 [==============================] - 0s 8ms/step - loss: 0.0078 - val_loss: 0.0016\n",
      "Epoch 34/100\n",
      "40/40 [==============================] - 0s 8ms/step - loss: 0.0067 - val_loss: 0.0012\n",
      "Epoch 35/100\n",
      "40/40 [==============================] - 0s 7ms/step - loss: 0.0073 - val_loss: 0.0012\n",
      "Epoch 36/100\n",
      "40/40 [==============================] - 0s 9ms/step - loss: 0.0063 - val_loss: 0.0015\n",
      "Epoch 37/100\n",
      "40/40 [==============================] - 0s 9ms/step - loss: 0.0060 - val_loss: 0.0015\n",
      "Epoch 38/100\n",
      "40/40 [==============================] - 0s 8ms/step - loss: 0.0064 - val_loss: 0.0012\n",
      "Epoch 39/100\n",
      "40/40 [==============================] - 0s 9ms/step - loss: 0.0058 - val_loss: 0.0014\n",
      "Epoch 40/100\n",
      "40/40 [==============================] - 0s 8ms/step - loss: 0.0051 - val_loss: 0.0012\n",
      "Epoch 41/100\n",
      "40/40 [==============================] - 0s 8ms/step - loss: 0.0054 - val_loss: 0.0012\n",
      "Epoch 42/100\n",
      "40/40 [==============================] - 0s 9ms/step - loss: 0.0050 - val_loss: 0.0012\n",
      "Epoch 43/100\n",
      "40/40 [==============================] - 0s 7ms/step - loss: 0.0041 - val_loss: 0.0012\n",
      "Epoch 44/100\n",
      "40/40 [==============================] - 0s 7ms/step - loss: 0.0040 - val_loss: 0.0012\n",
      "Epoch 45/100\n",
      "40/40 [==============================] - 0s 7ms/step - loss: 0.0048 - val_loss: 0.0012\n",
      "Epoch 46/100\n",
      "40/40 [==============================] - 0s 8ms/step - loss: 0.0048 - val_loss: 0.0012\n",
      "Epoch 47/100\n",
      "40/40 [==============================] - 0s 7ms/step - loss: 0.0047 - val_loss: 0.0012\n",
      "Epoch 48/100\n",
      "40/40 [==============================] - 0s 7ms/step - loss: 0.0042 - val_loss: 0.0012\n",
      "Epoch 49/100\n",
      "40/40 [==============================] - 0s 7ms/step - loss: 0.0042 - val_loss: 0.0014\n",
      "Epoch 50/100\n",
      "40/40 [==============================] - 0s 7ms/step - loss: 0.0035 - val_loss: 0.0013\n",
      "Epoch 51/100\n",
      "40/40 [==============================] - 0s 7ms/step - loss: 0.0029 - val_loss: 0.0012\n",
      "Epoch 52/100\n",
      "40/40 [==============================] - 0s 7ms/step - loss: 0.0034 - val_loss: 0.0014\n",
      "Epoch 53/100\n",
      "40/40 [==============================] - 0s 8ms/step - loss: 0.0032 - val_loss: 0.0012\n",
      "Epoch 54/100\n",
      "40/40 [==============================] - 0s 7ms/step - loss: 0.0029 - val_loss: 0.0014\n",
      "Epoch 55/100\n",
      "40/40 [==============================] - 0s 8ms/step - loss: 0.0029 - val_loss: 0.0012\n",
      "Epoch 56/100\n",
      "40/40 [==============================] - 0s 8ms/step - loss: 0.0030 - val_loss: 0.0012\n",
      "Epoch 57/100\n",
      "40/40 [==============================] - 0s 8ms/step - loss: 0.0030 - val_loss: 0.0012\n",
      "Epoch 58/100\n",
      "40/40 [==============================] - 0s 9ms/step - loss: 0.0026 - val_loss: 0.0012\n",
      "Epoch 59/100\n",
      "40/40 [==============================] - 0s 9ms/step - loss: 0.0023 - val_loss: 0.0012\n",
      "Epoch 60/100\n",
      "40/40 [==============================] - 0s 9ms/step - loss: 0.0029 - val_loss: 0.0012\n",
      "Epoch 61/100\n",
      "40/40 [==============================] - 0s 8ms/step - loss: 0.0022 - val_loss: 0.0012\n",
      "Epoch 62/100\n",
      "40/40 [==============================] - 0s 8ms/step - loss: 0.0027 - val_loss: 0.0012\n",
      "Epoch 63/100\n",
      "40/40 [==============================] - 0s 8ms/step - loss: 0.0022 - val_loss: 0.0012\n",
      "Epoch 64/100\n",
      "40/40 [==============================] - 0s 9ms/step - loss: 0.0023 - val_loss: 0.0012\n",
      "Epoch 65/100\n",
      "40/40 [==============================] - 0s 8ms/step - loss: 0.0019 - val_loss: 0.0013\n",
      "Epoch 66/100\n",
      "40/40 [==============================] - 0s 9ms/step - loss: 0.0019 - val_loss: 0.0012\n",
      "Epoch 67/100\n",
      "40/40 [==============================] - 0s 8ms/step - loss: 0.0021 - val_loss: 0.0012\n",
      "Epoch 68/100\n",
      "40/40 [==============================] - 0s 8ms/step - loss: 0.0024 - val_loss: 0.0013\n",
      "Epoch 69/100\n",
      "40/40 [==============================] - 0s 8ms/step - loss: 0.0022 - val_loss: 0.0014\n",
      "Epoch 70/100\n",
      "40/40 [==============================] - 0s 9ms/step - loss: 0.0023 - val_loss: 0.0012\n"
     ]
    },
    {
     "data": {
      "text/plain": [
       "<keras.callbacks.History at 0x23574d70370>"
      ]
     },
     "execution_count": 96,
     "metadata": {},
     "output_type": "execute_result"
    }
   ],
   "source": [
    "keras_reg.fit(X_train[..., np.newaxis], y_train, epochs=100,\n",
    "              validation_data=(X_valid[..., np.newaxis], y_valid),\n",
    "              callbacks=[keras.callbacks.EarlyStopping(patience=10)])"
   ]
  },
  {
   "cell_type": "markdown",
   "id": "95a2ae40",
   "metadata": {
    "hidden": true
   },
   "source": [
    "we do a random search for the number of hidden layers, the number of neurons and drop out value in each layer"
   ]
  },
  {
   "cell_type": "code",
   "execution_count": 97,
   "id": "eb6c3e75",
   "metadata": {
    "ExecuteTime": {
     "end_time": "2022-05-30T19:40:08.456898Z",
     "start_time": "2022-05-30T19:37:24.567538Z"
    },
    "hidden": true
   },
   "outputs": [
    {
     "name": "stdout",
     "output_type": "stream",
     "text": [
      "Epoch 1/100\n"
     ]
    },
    {
     "name": "stderr",
     "output_type": "stream",
     "text": [
      "D:\\Python\\lib\\site-packages\\sklearn\\model_selection\\_validation.py:378: FitFailedWarning: \n",
      "12 fits failed out of a total of 30.\n",
      "The score on these train-test partitions for these parameters will be set to nan.\n",
      "If these failures are not expected, you can try to debug them by setting error_score='raise'.\n",
      "\n",
      "Below are more details about the failures:\n",
      "--------------------------------------------------------------------------------\n",
      "1 fits failed with the following error:\n",
      "Traceback (most recent call last):\n",
      "  File \"D:\\Python\\lib\\site-packages\\sklearn\\model_selection\\_validation.py\", line 686, in _fit_and_score\n",
      "    estimator.fit(X_train, y_train, **fit_params)\n",
      "  File \"D:\\Python\\lib\\site-packages\\keras\\wrappers\\scikit_learn.py\", line 164, in fit\n",
      "    history = self.model.fit(x, y, **fit_args)\n",
      "  File \"D:\\Python\\lib\\site-packages\\keras\\utils\\traceback_utils.py\", line 67, in error_handler\n",
      "    raise e.with_traceback(filtered_tb) from None\n",
      "  File \"C:\\Users\\peiya\\AppData\\Local\\Temp\\__autograph_generated_file0lucgtrh.py\", line 15, in tf__train_function\n",
      "    retval_ = ag__.converted_call(ag__.ld(step_function), (ag__.ld(self), ag__.ld(iterator)), None, fscope)\n",
      "ValueError: in user code:\n",
      "\n",
      "    File \"D:\\Python\\lib\\site-packages\\keras\\engine\\training.py\", line 1051, in train_function  *\n",
      "        return step_function(self, iterator)\n",
      "    File \"D:\\Python\\lib\\site-packages\\keras\\engine\\training.py\", line 1040, in step_function  **\n",
      "        outputs = model.distribute_strategy.run(run_step, args=(data,))\n",
      "    File \"D:\\Python\\lib\\site-packages\\keras\\engine\\training.py\", line 1030, in run_step  **\n",
      "        outputs = model.train_step(data)\n",
      "    File \"D:\\Python\\lib\\site-packages\\keras\\engine\\training.py\", line 889, in train_step\n",
      "        y_pred = self(x, training=True)\n",
      "    File \"D:\\Python\\lib\\site-packages\\keras\\utils\\traceback_utils.py\", line 67, in error_handler\n",
      "        raise e.with_traceback(filtered_tb) from None\n",
      "    File \"D:\\Python\\lib\\site-packages\\keras\\utils\\traceback_utils.py\", line 67, in error_handler\n",
      "        raise e.with_traceback(filtered_tb) from None\n",
      "\n",
      "    ValueError: Exception encountered when calling layer \"simple_rnn_cell_4\" (type SimpleRNNCell).\n",
      "    \n",
      "    `rate` must be a scalar tensor or a float in the range [0, 1). Received: rate=1.0\n",
      "    \n",
      "    Call arguments received by layer \"simple_rnn_cell_4\" (type SimpleRNNCell):\n",
      "      • inputs=tf.Tensor(shape=(None, 1), dtype=float32)\n",
      "      • states=('tf.Tensor(shape=(None, 61), dtype=float32)',)\n",
      "      • training=True\n",
      "\n",
      "\n",
      "--------------------------------------------------------------------------------\n",
      "1 fits failed with the following error:\n",
      "Traceback (most recent call last):\n",
      "  File \"D:\\Python\\lib\\site-packages\\sklearn\\model_selection\\_validation.py\", line 686, in _fit_and_score\n",
      "    estimator.fit(X_train, y_train, **fit_params)\n",
      "  File \"D:\\Python\\lib\\site-packages\\keras\\wrappers\\scikit_learn.py\", line 164, in fit\n",
      "    history = self.model.fit(x, y, **fit_args)\n",
      "  File \"D:\\Python\\lib\\site-packages\\keras\\utils\\traceback_utils.py\", line 67, in error_handler\n",
      "    raise e.with_traceback(filtered_tb) from None\n",
      "  File \"C:\\Users\\peiya\\AppData\\Local\\Temp\\__autograph_generated_filealhc5esm.py\", line 15, in tf__train_function\n",
      "    retval_ = ag__.converted_call(ag__.ld(step_function), (ag__.ld(self), ag__.ld(iterator)), None, fscope)\n",
      "ValueError: in user code:\n",
      "\n",
      "    File \"D:\\Python\\lib\\site-packages\\keras\\engine\\training.py\", line 1051, in train_function  *\n",
      "        return step_function(self, iterator)\n",
      "    File \"D:\\Python\\lib\\site-packages\\keras\\engine\\training.py\", line 1040, in step_function  **\n",
      "        outputs = model.distribute_strategy.run(run_step, args=(data,))\n",
      "    File \"D:\\Python\\lib\\site-packages\\keras\\engine\\training.py\", line 1030, in run_step  **\n",
      "        outputs = model.train_step(data)\n",
      "    File \"D:\\Python\\lib\\site-packages\\keras\\engine\\training.py\", line 889, in train_step\n",
      "        y_pred = self(x, training=True)\n",
      "    File \"D:\\Python\\lib\\site-packages\\keras\\utils\\traceback_utils.py\", line 67, in error_handler\n",
      "        raise e.with_traceback(filtered_tb) from None\n",
      "    File \"D:\\Python\\lib\\site-packages\\keras\\utils\\traceback_utils.py\", line 67, in error_handler\n",
      "        raise e.with_traceback(filtered_tb) from None\n",
      "\n",
      "    ValueError: Exception encountered when calling layer \"simple_rnn_cell_7\" (type SimpleRNNCell).\n",
      "    \n",
      "    `rate` must be a scalar tensor or a float in the range [0, 1). Received: rate=1.0\n",
      "    \n",
      "    Call arguments received by layer \"simple_rnn_cell_7\" (type SimpleRNNCell):\n",
      "      • inputs=tf.Tensor(shape=(None, 1), dtype=float32)\n",
      "      • states=('tf.Tensor(shape=(None, 61), dtype=float32)',)\n",
      "      • training=True\n",
      "\n",
      "\n",
      "--------------------------------------------------------------------------------\n",
      "1 fits failed with the following error:\n",
      "Traceback (most recent call last):\n",
      "  File \"D:\\Python\\lib\\site-packages\\sklearn\\model_selection\\_validation.py\", line 686, in _fit_and_score\n",
      "    estimator.fit(X_train, y_train, **fit_params)\n",
      "  File \"D:\\Python\\lib\\site-packages\\keras\\wrappers\\scikit_learn.py\", line 164, in fit\n",
      "    history = self.model.fit(x, y, **fit_args)\n",
      "  File \"D:\\Python\\lib\\site-packages\\keras\\utils\\traceback_utils.py\", line 67, in error_handler\n",
      "    raise e.with_traceback(filtered_tb) from None\n",
      "  File \"C:\\Users\\peiya\\AppData\\Local\\Temp\\__autograph_generated_filekjzt9s65.py\", line 15, in tf__train_function\n",
      "    retval_ = ag__.converted_call(ag__.ld(step_function), (ag__.ld(self), ag__.ld(iterator)), None, fscope)\n",
      "ValueError: in user code:\n",
      "\n",
      "    File \"D:\\Python\\lib\\site-packages\\keras\\engine\\training.py\", line 1051, in train_function  *\n",
      "        return step_function(self, iterator)\n",
      "    File \"D:\\Python\\lib\\site-packages\\keras\\engine\\training.py\", line 1040, in step_function  **\n",
      "        outputs = model.distribute_strategy.run(run_step, args=(data,))\n",
      "    File \"D:\\Python\\lib\\site-packages\\keras\\engine\\training.py\", line 1030, in run_step  **\n",
      "        outputs = model.train_step(data)\n",
      "    File \"D:\\Python\\lib\\site-packages\\keras\\engine\\training.py\", line 889, in train_step\n",
      "        y_pred = self(x, training=True)\n",
      "    File \"D:\\Python\\lib\\site-packages\\keras\\utils\\traceback_utils.py\", line 67, in error_handler\n",
      "        raise e.with_traceback(filtered_tb) from None\n",
      "    File \"D:\\Python\\lib\\site-packages\\keras\\utils\\traceback_utils.py\", line 67, in error_handler\n",
      "        raise e.with_traceback(filtered_tb) from None\n",
      "\n",
      "    ValueError: Exception encountered when calling layer \"simple_rnn_cell_7\" (type SimpleRNNCell).\n",
      "    \n",
      "    `rate` must be a scalar tensor or a float in the range [0, 1). Received: rate=1.0\n",
      "    \n",
      "    Call arguments received by layer \"simple_rnn_cell_7\" (type SimpleRNNCell):\n",
      "      • inputs=tf.Tensor(shape=(None, 1), dtype=float32)\n",
      "      • states=('tf.Tensor(shape=(None, 61), dtype=float32)',)\n",
      "      • training=True\n",
      "\n",
      "\n",
      "--------------------------------------------------------------------------------\n",
      "1 fits failed with the following error:\n",
      "Traceback (most recent call last):\n",
      "  File \"D:\\Python\\lib\\site-packages\\sklearn\\model_selection\\_validation.py\", line 686, in _fit_and_score\n",
      "    estimator.fit(X_train, y_train, **fit_params)\n",
      "  File \"D:\\Python\\lib\\site-packages\\keras\\wrappers\\scikit_learn.py\", line 164, in fit\n",
      "    history = self.model.fit(x, y, **fit_args)\n",
      "  File \"D:\\Python\\lib\\site-packages\\keras\\utils\\traceback_utils.py\", line 67, in error_handler\n",
      "    raise e.with_traceback(filtered_tb) from None\n",
      "  File \"C:\\Users\\peiya\\AppData\\Local\\Temp\\__autograph_generated_filell64q0tm.py\", line 15, in tf__train_function\n",
      "    retval_ = ag__.converted_call(ag__.ld(step_function), (ag__.ld(self), ag__.ld(iterator)), None, fscope)\n",
      "ValueError: in user code:\n",
      "\n",
      "    File \"D:\\Python\\lib\\site-packages\\keras\\engine\\training.py\", line 1051, in train_function  *\n",
      "        return step_function(self, iterator)\n",
      "    File \"D:\\Python\\lib\\site-packages\\keras\\engine\\training.py\", line 1040, in step_function  **\n",
      "        outputs = model.distribute_strategy.run(run_step, args=(data,))\n",
      "    File \"D:\\Python\\lib\\site-packages\\keras\\engine\\training.py\", line 1030, in run_step  **\n",
      "        outputs = model.train_step(data)\n",
      "    File \"D:\\Python\\lib\\site-packages\\keras\\engine\\training.py\", line 889, in train_step\n",
      "        y_pred = self(x, training=True)\n",
      "    File \"D:\\Python\\lib\\site-packages\\keras\\utils\\traceback_utils.py\", line 67, in error_handler\n",
      "        raise e.with_traceback(filtered_tb) from None\n",
      "    File \"D:\\Python\\lib\\site-packages\\keras\\utils\\traceback_utils.py\", line 67, in error_handler\n",
      "        raise e.with_traceback(filtered_tb) from None\n",
      "\n",
      "    ValueError: Exception encountered when calling layer \"simple_rnn_cell_7\" (type SimpleRNNCell).\n",
      "    \n",
      "    `rate` must be a scalar tensor or a float in the range [0, 1). Received: rate=1.0\n",
      "    \n",
      "    Call arguments received by layer \"simple_rnn_cell_7\" (type SimpleRNNCell):\n",
      "      • inputs=tf.Tensor(shape=(None, 1), dtype=float32)\n",
      "      • states=('tf.Tensor(shape=(None, 69), dtype=float32)',)\n",
      "      • training=True\n",
      "\n",
      "\n",
      "--------------------------------------------------------------------------------\n",
      "1 fits failed with the following error:\n",
      "Traceback (most recent call last):\n",
      "  File \"D:\\Python\\lib\\site-packages\\sklearn\\model_selection\\_validation.py\", line 686, in _fit_and_score\n",
      "    estimator.fit(X_train, y_train, **fit_params)\n",
      "  File \"D:\\Python\\lib\\site-packages\\keras\\wrappers\\scikit_learn.py\", line 164, in fit\n",
      "    history = self.model.fit(x, y, **fit_args)\n",
      "  File \"D:\\Python\\lib\\site-packages\\keras\\utils\\traceback_utils.py\", line 67, in error_handler\n",
      "    raise e.with_traceback(filtered_tb) from None\n",
      "  File \"C:\\Users\\peiya\\AppData\\Local\\Temp\\__autograph_generated_file1qe55g6_.py\", line 15, in tf__train_function\n",
      "    retval_ = ag__.converted_call(ag__.ld(step_function), (ag__.ld(self), ag__.ld(iterator)), None, fscope)\n",
      "ValueError: in user code:\n",
      "\n",
      "    File \"D:\\Python\\lib\\site-packages\\keras\\engine\\training.py\", line 1051, in train_function  *\n",
      "        return step_function(self, iterator)\n",
      "    File \"D:\\Python\\lib\\site-packages\\keras\\engine\\training.py\", line 1040, in step_function  **\n",
      "        outputs = model.distribute_strategy.run(run_step, args=(data,))\n",
      "    File \"D:\\Python\\lib\\site-packages\\keras\\engine\\training.py\", line 1030, in run_step  **\n",
      "        outputs = model.train_step(data)\n",
      "    File \"D:\\Python\\lib\\site-packages\\keras\\engine\\training.py\", line 889, in train_step\n",
      "        y_pred = self(x, training=True)\n",
      "    File \"D:\\Python\\lib\\site-packages\\keras\\utils\\traceback_utils.py\", line 67, in error_handler\n",
      "        raise e.with_traceback(filtered_tb) from None\n",
      "    File \"D:\\Python\\lib\\site-packages\\keras\\utils\\traceback_utils.py\", line 67, in error_handler\n",
      "        raise e.with_traceback(filtered_tb) from None\n",
      "\n",
      "    ValueError: Exception encountered when calling layer \"simple_rnn_cell_7\" (type SimpleRNNCell).\n",
      "    \n",
      "    `rate` must be a scalar tensor or a float in the range [0, 1). Received: rate=1.0\n",
      "    \n",
      "    Call arguments received by layer \"simple_rnn_cell_7\" (type SimpleRNNCell):\n",
      "      • inputs=tf.Tensor(shape=(None, 1), dtype=float32)\n",
      "      • states=('tf.Tensor(shape=(None, 69), dtype=float32)',)\n",
      "      • training=True\n",
      "\n",
      "\n",
      "--------------------------------------------------------------------------------\n",
      "1 fits failed with the following error:\n",
      "Traceback (most recent call last):\n",
      "  File \"D:\\Python\\lib\\site-packages\\sklearn\\model_selection\\_validation.py\", line 686, in _fit_and_score\n",
      "    estimator.fit(X_train, y_train, **fit_params)\n",
      "  File \"D:\\Python\\lib\\site-packages\\keras\\wrappers\\scikit_learn.py\", line 164, in fit\n",
      "    history = self.model.fit(x, y, **fit_args)\n",
      "  File \"D:\\Python\\lib\\site-packages\\keras\\utils\\traceback_utils.py\", line 67, in error_handler\n",
      "    raise e.with_traceback(filtered_tb) from None\n",
      "  File \"C:\\Users\\peiya\\AppData\\Local\\Temp\\__autograph_generated_file30u8x5o5.py\", line 15, in tf__train_function\n",
      "    retval_ = ag__.converted_call(ag__.ld(step_function), (ag__.ld(self), ag__.ld(iterator)), None, fscope)\n",
      "ValueError: in user code:\n",
      "\n",
      "    File \"D:\\Python\\lib\\site-packages\\keras\\engine\\training.py\", line 1051, in train_function  *\n",
      "        return step_function(self, iterator)\n",
      "    File \"D:\\Python\\lib\\site-packages\\keras\\engine\\training.py\", line 1040, in step_function  **\n",
      "        outputs = model.distribute_strategy.run(run_step, args=(data,))\n",
      "    File \"D:\\Python\\lib\\site-packages\\keras\\engine\\training.py\", line 1030, in run_step  **\n",
      "        outputs = model.train_step(data)\n",
      "    File \"D:\\Python\\lib\\site-packages\\keras\\engine\\training.py\", line 889, in train_step\n",
      "        y_pred = self(x, training=True)\n",
      "    File \"D:\\Python\\lib\\site-packages\\keras\\utils\\traceback_utils.py\", line 67, in error_handler\n",
      "        raise e.with_traceback(filtered_tb) from None\n",
      "    File \"D:\\Python\\lib\\site-packages\\keras\\utils\\traceback_utils.py\", line 67, in error_handler\n",
      "        raise e.with_traceback(filtered_tb) from None\n",
      "\n",
      "    ValueError: Exception encountered when calling layer \"simple_rnn_cell_6\" (type SimpleRNNCell).\n",
      "    \n",
      "    `rate` must be a scalar tensor or a float in the range [0, 1). Received: rate=1.0\n",
      "    \n",
      "    Call arguments received by layer \"simple_rnn_cell_6\" (type SimpleRNNCell):\n",
      "      • inputs=tf.Tensor(shape=(None, 1), dtype=float32)\n",
      "      • states=('tf.Tensor(shape=(None, 69), dtype=float32)',)\n",
      "      • training=True\n",
      "\n",
      "\n",
      "--------------------------------------------------------------------------------\n",
      "1 fits failed with the following error:\n",
      "Traceback (most recent call last):\n",
      "  File \"D:\\Python\\lib\\site-packages\\sklearn\\model_selection\\_validation.py\", line 686, in _fit_and_score\n",
      "    estimator.fit(X_train, y_train, **fit_params)\n",
      "  File \"D:\\Python\\lib\\site-packages\\keras\\wrappers\\scikit_learn.py\", line 164, in fit\n",
      "    history = self.model.fit(x, y, **fit_args)\n",
      "  File \"D:\\Python\\lib\\site-packages\\keras\\utils\\traceback_utils.py\", line 67, in error_handler\n",
      "    raise e.with_traceback(filtered_tb) from None\n",
      "  File \"C:\\Users\\peiya\\AppData\\Local\\Temp\\__autograph_generated_file0lucgtrh.py\", line 15, in tf__train_function\n",
      "    retval_ = ag__.converted_call(ag__.ld(step_function), (ag__.ld(self), ag__.ld(iterator)), None, fscope)\n",
      "ValueError: in user code:\n",
      "\n",
      "    File \"D:\\Python\\lib\\site-packages\\keras\\engine\\training.py\", line 1051, in train_function  *\n",
      "        return step_function(self, iterator)\n",
      "    File \"D:\\Python\\lib\\site-packages\\keras\\engine\\training.py\", line 1040, in step_function  **\n",
      "        outputs = model.distribute_strategy.run(run_step, args=(data,))\n",
      "    File \"D:\\Python\\lib\\site-packages\\keras\\engine\\training.py\", line 1030, in run_step  **\n",
      "        outputs = model.train_step(data)\n",
      "    File \"D:\\Python\\lib\\site-packages\\keras\\engine\\training.py\", line 889, in train_step\n",
      "        y_pred = self(x, training=True)\n",
      "    File \"D:\\Python\\lib\\site-packages\\keras\\utils\\traceback_utils.py\", line 67, in error_handler\n",
      "        raise e.with_traceback(filtered_tb) from None\n",
      "    File \"D:\\Python\\lib\\site-packages\\keras\\utils\\traceback_utils.py\", line 67, in error_handler\n",
      "        raise e.with_traceback(filtered_tb) from None\n",
      "\n",
      "    ValueError: Exception encountered when calling layer \"simple_rnn_cell_8\" (type SimpleRNNCell).\n",
      "    \n",
      "    `rate` must be a scalar tensor or a float in the range [0, 1). Received: rate=1.0\n",
      "    \n",
      "    Call arguments received by layer \"simple_rnn_cell_8\" (type SimpleRNNCell):\n",
      "      • inputs=tf.Tensor(shape=(None, 1), dtype=float32)\n",
      "      • states=('tf.Tensor(shape=(None, 78), dtype=float32)',)\n",
      "      • training=True\n",
      "\n",
      "\n",
      "--------------------------------------------------------------------------------\n",
      "1 fits failed with the following error:\n",
      "Traceback (most recent call last):\n",
      "  File \"D:\\Python\\lib\\site-packages\\sklearn\\model_selection\\_validation.py\", line 686, in _fit_and_score\n",
      "    estimator.fit(X_train, y_train, **fit_params)\n",
      "  File \"D:\\Python\\lib\\site-packages\\keras\\wrappers\\scikit_learn.py\", line 164, in fit\n",
      "    history = self.model.fit(x, y, **fit_args)\n",
      "  File \"D:\\Python\\lib\\site-packages\\keras\\utils\\traceback_utils.py\", line 67, in error_handler\n",
      "    raise e.with_traceback(filtered_tb) from None\n",
      "  File \"C:\\Users\\peiya\\AppData\\Local\\Temp\\__autograph_generated_file0lucgtrh.py\", line 15, in tf__train_function\n",
      "    retval_ = ag__.converted_call(ag__.ld(step_function), (ag__.ld(self), ag__.ld(iterator)), None, fscope)\n",
      "ValueError: in user code:\n",
      "\n",
      "    File \"D:\\Python\\lib\\site-packages\\keras\\engine\\training.py\", line 1051, in train_function  *\n",
      "        return step_function(self, iterator)\n",
      "    File \"D:\\Python\\lib\\site-packages\\keras\\engine\\training.py\", line 1040, in step_function  **\n",
      "        outputs = model.distribute_strategy.run(run_step, args=(data,))\n",
      "    File \"D:\\Python\\lib\\site-packages\\keras\\engine\\training.py\", line 1030, in run_step  **\n",
      "        outputs = model.train_step(data)\n",
      "    File \"D:\\Python\\lib\\site-packages\\keras\\engine\\training.py\", line 889, in train_step\n",
      "        y_pred = self(x, training=True)\n",
      "    File \"D:\\Python\\lib\\site-packages\\keras\\utils\\traceback_utils.py\", line 67, in error_handler\n",
      "        raise e.with_traceback(filtered_tb) from None\n",
      "    File \"D:\\Python\\lib\\site-packages\\keras\\utils\\traceback_utils.py\", line 67, in error_handler\n",
      "        raise e.with_traceback(filtered_tb) from None\n",
      "\n",
      "    ValueError: Exception encountered when calling layer \"simple_rnn_cell_10\" (type SimpleRNNCell).\n",
      "    \n",
      "    `rate` must be a scalar tensor or a float in the range [0, 1). Received: rate=1.0\n",
      "    \n",
      "    Call arguments received by layer \"simple_rnn_cell_10\" (type SimpleRNNCell):\n",
      "      • inputs=tf.Tensor(shape=(None, 1), dtype=float32)\n",
      "      • states=('tf.Tensor(shape=(None, 78), dtype=float32)',)\n",
      "      • training=True\n",
      "\n",
      "\n",
      "--------------------------------------------------------------------------------\n",
      "1 fits failed with the following error:\n",
      "Traceback (most recent call last):\n",
      "  File \"D:\\Python\\lib\\site-packages\\sklearn\\model_selection\\_validation.py\", line 686, in _fit_and_score\n",
      "    estimator.fit(X_train, y_train, **fit_params)\n",
      "  File \"D:\\Python\\lib\\site-packages\\keras\\wrappers\\scikit_learn.py\", line 164, in fit\n",
      "    history = self.model.fit(x, y, **fit_args)\n",
      "  File \"D:\\Python\\lib\\site-packages\\keras\\utils\\traceback_utils.py\", line 67, in error_handler\n",
      "    raise e.with_traceback(filtered_tb) from None\n",
      "  File \"C:\\Users\\peiya\\AppData\\Local\\Temp\\__autograph_generated_file0lucgtrh.py\", line 15, in tf__train_function\n",
      "    retval_ = ag__.converted_call(ag__.ld(step_function), (ag__.ld(self), ag__.ld(iterator)), None, fscope)\n",
      "ValueError: in user code:\n",
      "\n",
      "    File \"D:\\Python\\lib\\site-packages\\keras\\engine\\training.py\", line 1051, in train_function  *\n",
      "        return step_function(self, iterator)\n",
      "    File \"D:\\Python\\lib\\site-packages\\keras\\engine\\training.py\", line 1040, in step_function  **\n",
      "        outputs = model.distribute_strategy.run(run_step, args=(data,))\n",
      "    File \"D:\\Python\\lib\\site-packages\\keras\\engine\\training.py\", line 1030, in run_step  **\n",
      "        outputs = model.train_step(data)\n",
      "    File \"D:\\Python\\lib\\site-packages\\keras\\engine\\training.py\", line 889, in train_step\n",
      "        y_pred = self(x, training=True)\n",
      "    File \"D:\\Python\\lib\\site-packages\\keras\\utils\\traceback_utils.py\", line 67, in error_handler\n",
      "        raise e.with_traceback(filtered_tb) from None\n",
      "    File \"D:\\Python\\lib\\site-packages\\keras\\utils\\traceback_utils.py\", line 67, in error_handler\n",
      "        raise e.with_traceback(filtered_tb) from None\n",
      "\n",
      "    ValueError: Exception encountered when calling layer \"simple_rnn_cell_12\" (type SimpleRNNCell).\n",
      "    \n",
      "    `rate` must be a scalar tensor or a float in the range [0, 1). Received: rate=1.0\n",
      "    \n",
      "    Call arguments received by layer \"simple_rnn_cell_12\" (type SimpleRNNCell):\n",
      "      • inputs=tf.Tensor(shape=(None, 1), dtype=float32)\n",
      "      • states=('tf.Tensor(shape=(None, 78), dtype=float32)',)\n",
      "      • training=True\n",
      "\n",
      "\n",
      "--------------------------------------------------------------------------------\n",
      "1 fits failed with the following error:\n",
      "Traceback (most recent call last):\n",
      "  File \"D:\\Python\\lib\\site-packages\\sklearn\\model_selection\\_validation.py\", line 686, in _fit_and_score\n",
      "    estimator.fit(X_train, y_train, **fit_params)\n",
      "  File \"D:\\Python\\lib\\site-packages\\keras\\wrappers\\scikit_learn.py\", line 164, in fit\n",
      "    history = self.model.fit(x, y, **fit_args)\n",
      "  File \"D:\\Python\\lib\\site-packages\\keras\\utils\\traceback_utils.py\", line 67, in error_handler\n",
      "    raise e.with_traceback(filtered_tb) from None\n",
      "  File \"C:\\Users\\peiya\\AppData\\Local\\Temp\\__autograph_generated_fileo7fjnnx7.py\", line 15, in tf__train_function\n",
      "    retval_ = ag__.converted_call(ag__.ld(step_function), (ag__.ld(self), ag__.ld(iterator)), None, fscope)\n",
      "ValueError: in user code:\n",
      "\n",
      "    File \"D:\\Python\\lib\\site-packages\\keras\\engine\\training.py\", line 1051, in train_function  *\n",
      "        return step_function(self, iterator)\n",
      "    File \"D:\\Python\\lib\\site-packages\\keras\\engine\\training.py\", line 1040, in step_function  **\n",
      "        outputs = model.distribute_strategy.run(run_step, args=(data,))\n",
      "    File \"D:\\Python\\lib\\site-packages\\keras\\engine\\training.py\", line 1030, in run_step  **\n",
      "        outputs = model.train_step(data)\n",
      "    File \"D:\\Python\\lib\\site-packages\\keras\\engine\\training.py\", line 889, in train_step\n",
      "        y_pred = self(x, training=True)\n",
      "    File \"D:\\Python\\lib\\site-packages\\keras\\utils\\traceback_utils.py\", line 67, in error_handler\n",
      "        raise e.with_traceback(filtered_tb) from None\n",
      "    File \"D:\\Python\\lib\\site-packages\\keras\\utils\\traceback_utils.py\", line 67, in error_handler\n",
      "        raise e.with_traceback(filtered_tb) from None\n",
      "\n",
      "    ValueError: Exception encountered when calling layer \"simple_rnn_cell_8\" (type SimpleRNNCell).\n",
      "    \n",
      "    `rate` must be a scalar tensor or a float in the range [0, 1). Received: rate=1.0\n",
      "    \n",
      "    Call arguments received by layer \"simple_rnn_cell_8\" (type SimpleRNNCell):\n",
      "      • inputs=tf.Tensor(shape=(None, 1), dtype=float32)\n",
      "      • states=('tf.Tensor(shape=(None, 43), dtype=float32)',)\n",
      "      • training=True\n",
      "\n",
      "\n",
      "--------------------------------------------------------------------------------\n",
      "1 fits failed with the following error:\n",
      "Traceback (most recent call last):\n",
      "  File \"D:\\Python\\lib\\site-packages\\sklearn\\model_selection\\_validation.py\", line 686, in _fit_and_score\n",
      "    estimator.fit(X_train, y_train, **fit_params)\n",
      "  File \"D:\\Python\\lib\\site-packages\\keras\\wrappers\\scikit_learn.py\", line 164, in fit\n",
      "    history = self.model.fit(x, y, **fit_args)\n",
      "  File \"D:\\Python\\lib\\site-packages\\keras\\utils\\traceback_utils.py\", line 67, in error_handler\n",
      "    raise e.with_traceback(filtered_tb) from None\n",
      "  File \"C:\\Users\\peiya\\AppData\\Local\\Temp\\__autograph_generated_fileo7fjnnx7.py\", line 15, in tf__train_function\n",
      "    retval_ = ag__.converted_call(ag__.ld(step_function), (ag__.ld(self), ag__.ld(iterator)), None, fscope)\n",
      "ValueError: in user code:\n",
      "\n",
      "    File \"D:\\Python\\lib\\site-packages\\keras\\engine\\training.py\", line 1051, in train_function  *\n",
      "        return step_function(self, iterator)\n",
      "    File \"D:\\Python\\lib\\site-packages\\keras\\engine\\training.py\", line 1040, in step_function  **\n",
      "        outputs = model.distribute_strategy.run(run_step, args=(data,))\n",
      "    File \"D:\\Python\\lib\\site-packages\\keras\\engine\\training.py\", line 1030, in run_step  **\n",
      "        outputs = model.train_step(data)\n",
      "    File \"D:\\Python\\lib\\site-packages\\keras\\engine\\training.py\", line 889, in train_step\n",
      "        y_pred = self(x, training=True)\n",
      "    File \"D:\\Python\\lib\\site-packages\\keras\\utils\\traceback_utils.py\", line 67, in error_handler\n",
      "        raise e.with_traceback(filtered_tb) from None\n",
      "    File \"D:\\Python\\lib\\site-packages\\keras\\utils\\traceback_utils.py\", line 67, in error_handler\n",
      "        raise e.with_traceback(filtered_tb) from None\n",
      "\n",
      "    ValueError: Exception encountered when calling layer \"simple_rnn_cell_10\" (type SimpleRNNCell).\n",
      "    \n",
      "    `rate` must be a scalar tensor or a float in the range [0, 1). Received: rate=1.0\n",
      "    \n",
      "    Call arguments received by layer \"simple_rnn_cell_10\" (type SimpleRNNCell):\n",
      "      • inputs=tf.Tensor(shape=(None, 1), dtype=float32)\n",
      "      • states=('tf.Tensor(shape=(None, 43), dtype=float32)',)\n",
      "      • training=True\n",
      "\n",
      "\n",
      "--------------------------------------------------------------------------------\n",
      "1 fits failed with the following error:\n",
      "Traceback (most recent call last):\n",
      "  File \"D:\\Python\\lib\\site-packages\\sklearn\\model_selection\\_validation.py\", line 686, in _fit_and_score\n",
      "    estimator.fit(X_train, y_train, **fit_params)\n",
      "  File \"D:\\Python\\lib\\site-packages\\keras\\wrappers\\scikit_learn.py\", line 164, in fit\n",
      "    history = self.model.fit(x, y, **fit_args)\n",
      "  File \"D:\\Python\\lib\\site-packages\\keras\\utils\\traceback_utils.py\", line 67, in error_handler\n",
      "    raise e.with_traceback(filtered_tb) from None\n",
      "  File \"C:\\Users\\peiya\\AppData\\Local\\Temp\\__autograph_generated_fileo7fjnnx7.py\", line 15, in tf__train_function\n",
      "    retval_ = ag__.converted_call(ag__.ld(step_function), (ag__.ld(self), ag__.ld(iterator)), None, fscope)\n",
      "ValueError: in user code:\n",
      "\n",
      "    File \"D:\\Python\\lib\\site-packages\\keras\\engine\\training.py\", line 1051, in train_function  *\n",
      "        return step_function(self, iterator)\n",
      "    File \"D:\\Python\\lib\\site-packages\\keras\\engine\\training.py\", line 1040, in step_function  **\n",
      "        outputs = model.distribute_strategy.run(run_step, args=(data,))\n",
      "    File \"D:\\Python\\lib\\site-packages\\keras\\engine\\training.py\", line 1030, in run_step  **\n",
      "        outputs = model.train_step(data)\n",
      "    File \"D:\\Python\\lib\\site-packages\\keras\\engine\\training.py\", line 889, in train_step\n",
      "        y_pred = self(x, training=True)\n",
      "    File \"D:\\Python\\lib\\site-packages\\keras\\utils\\traceback_utils.py\", line 67, in error_handler\n",
      "        raise e.with_traceback(filtered_tb) from None\n",
      "    File \"D:\\Python\\lib\\site-packages\\keras\\utils\\traceback_utils.py\", line 67, in error_handler\n",
      "        raise e.with_traceback(filtered_tb) from None\n",
      "\n",
      "    ValueError: Exception encountered when calling layer \"simple_rnn_cell_12\" (type SimpleRNNCell).\n",
      "    \n",
      "    `rate` must be a scalar tensor or a float in the range [0, 1). Received: rate=1.0\n",
      "    \n",
      "    Call arguments received by layer \"simple_rnn_cell_12\" (type SimpleRNNCell):\n",
      "      • inputs=tf.Tensor(shape=(None, 1), dtype=float32)\n",
      "      • states=('tf.Tensor(shape=(None, 43), dtype=float32)',)\n",
      "      • training=True\n",
      "\n",
      "\n",
      "  warnings.warn(some_fits_failed_message, FitFailedWarning)\n",
      "D:\\Python\\lib\\site-packages\\sklearn\\model_selection\\_search.py:953: UserWarning: One or more of the test scores are non-finite: [-0.00530564 -0.00106403         nan -0.00139169         nan -0.0014458\n",
      " -0.00093605         nan -0.00693822         nan]\n",
      "  warnings.warn(\n"
     ]
    },
    {
     "name": "stdout",
     "output_type": "stream",
     "text": [
      "40/40 [==============================] - 3s 27ms/step - loss: 1.5152 - val_loss: 0.0816\n",
      "Epoch 2/100\n",
      "40/40 [==============================] - 1s 24ms/step - loss: 0.4054 - val_loss: 0.0023\n",
      "Epoch 3/100\n",
      "40/40 [==============================] - 1s 30ms/step - loss: 0.2116 - val_loss: 0.0258\n",
      "Epoch 4/100\n",
      "40/40 [==============================] - 1s 29ms/step - loss: 0.1136 - val_loss: 0.0014\n",
      "Epoch 5/100\n",
      "40/40 [==============================] - 1s 30ms/step - loss: 0.0574 - val_loss: 0.0015\n",
      "Epoch 6/100\n",
      "40/40 [==============================] - 1s 28ms/step - loss: 0.0312 - val_loss: 0.0013\n",
      "Epoch 7/100\n",
      "40/40 [==============================] - 1s 28ms/step - loss: 0.0202 - val_loss: 0.0017\n",
      "Epoch 8/100\n",
      "40/40 [==============================] - 1s 28ms/step - loss: 0.0280 - val_loss: 0.0018\n",
      "Epoch 9/100\n",
      "40/40 [==============================] - 1s 30ms/step - loss: 0.0179 - val_loss: 0.0018\n",
      "Epoch 10/100\n",
      "40/40 [==============================] - 1s 25ms/step - loss: 0.0131 - val_loss: 0.0012\n",
      "Epoch 11/100\n",
      "40/40 [==============================] - 1s 28ms/step - loss: 0.0081 - val_loss: 0.0018\n",
      "Epoch 12/100\n",
      "40/40 [==============================] - 1s 31ms/step - loss: 0.0072 - val_loss: 0.0014\n",
      "Epoch 13/100\n",
      "40/40 [==============================] - 1s 31ms/step - loss: 0.0058 - val_loss: 0.0012\n",
      "Epoch 14/100\n",
      "40/40 [==============================] - 1s 26ms/step - loss: 0.0048 - val_loss: 0.0016\n",
      "Epoch 15/100\n",
      "40/40 [==============================] - 1s 25ms/step - loss: 0.0039 - val_loss: 0.0024\n",
      "Epoch 16/100\n",
      "40/40 [==============================] - 1s 28ms/step - loss: 0.0034 - val_loss: 0.0014\n",
      "Epoch 17/100\n",
      "40/40 [==============================] - 1s 27ms/step - loss: 0.0027 - val_loss: 0.0012\n",
      "Epoch 18/100\n",
      "40/40 [==============================] - 1s 27ms/step - loss: 0.0027 - val_loss: 0.0017\n",
      "Epoch 19/100\n",
      "40/40 [==============================] - 1s 23ms/step - loss: 0.0027 - val_loss: 0.0012\n",
      "Epoch 20/100\n",
      "40/40 [==============================] - 1s 22ms/step - loss: 0.0024 - val_loss: 0.0020\n",
      "Epoch 21/100\n",
      "40/40 [==============================] - 1s 22ms/step - loss: 0.0020 - val_loss: 0.0012\n",
      "Epoch 22/100\n",
      "40/40 [==============================] - 1s 22ms/step - loss: 0.0022 - val_loss: 0.0013\n",
      "Epoch 23/100\n",
      "40/40 [==============================] - 1s 23ms/step - loss: 0.0019 - val_loss: 0.0013\n",
      "Epoch 24/100\n",
      "40/40 [==============================] - 1s 22ms/step - loss: 0.0019 - val_loss: 0.0012\n",
      "Epoch 25/100\n",
      "40/40 [==============================] - 1s 23ms/step - loss: 0.0016 - val_loss: 0.0012\n",
      "Epoch 26/100\n",
      "40/40 [==============================] - 1s 22ms/step - loss: 0.0015 - val_loss: 0.0013\n",
      "Epoch 27/100\n",
      "40/40 [==============================] - 1s 24ms/step - loss: 0.0016 - val_loss: 0.0012\n"
     ]
    },
    {
     "data": {
      "text/html": [
       "<style>#sk-container-id-15 {color: black;background-color: white;}#sk-container-id-15 pre{padding: 0;}#sk-container-id-15 div.sk-toggleable {background-color: white;}#sk-container-id-15 label.sk-toggleable__label {cursor: pointer;display: block;width: 100%;margin-bottom: 0;padding: 0.3em;box-sizing: border-box;text-align: center;}#sk-container-id-15 label.sk-toggleable__label-arrow:before {content: \"▸\";float: left;margin-right: 0.25em;color: #696969;}#sk-container-id-15 label.sk-toggleable__label-arrow:hover:before {color: black;}#sk-container-id-15 div.sk-estimator:hover label.sk-toggleable__label-arrow:before {color: black;}#sk-container-id-15 div.sk-toggleable__content {max-height: 0;max-width: 0;overflow: hidden;text-align: left;background-color: #f0f8ff;}#sk-container-id-15 div.sk-toggleable__content pre {margin: 0.2em;color: black;border-radius: 0.25em;background-color: #f0f8ff;}#sk-container-id-15 input.sk-toggleable__control:checked~div.sk-toggleable__content {max-height: 200px;max-width: 100%;overflow: auto;}#sk-container-id-15 input.sk-toggleable__control:checked~label.sk-toggleable__label-arrow:before {content: \"▾\";}#sk-container-id-15 div.sk-estimator input.sk-toggleable__control:checked~label.sk-toggleable__label {background-color: #d4ebff;}#sk-container-id-15 div.sk-label input.sk-toggleable__control:checked~label.sk-toggleable__label {background-color: #d4ebff;}#sk-container-id-15 input.sk-hidden--visually {border: 0;clip: rect(1px 1px 1px 1px);clip: rect(1px, 1px, 1px, 1px);height: 1px;margin: -1px;overflow: hidden;padding: 0;position: absolute;width: 1px;}#sk-container-id-15 div.sk-estimator {font-family: monospace;background-color: #f0f8ff;border: 1px dotted black;border-radius: 0.25em;box-sizing: border-box;margin-bottom: 0.5em;}#sk-container-id-15 div.sk-estimator:hover {background-color: #d4ebff;}#sk-container-id-15 div.sk-parallel-item::after {content: \"\";width: 100%;border-bottom: 1px solid gray;flex-grow: 1;}#sk-container-id-15 div.sk-label:hover label.sk-toggleable__label {background-color: #d4ebff;}#sk-container-id-15 div.sk-serial::before {content: \"\";position: absolute;border-left: 1px solid gray;box-sizing: border-box;top: 0;bottom: 0;left: 50%;z-index: 0;}#sk-container-id-15 div.sk-serial {display: flex;flex-direction: column;align-items: center;background-color: white;padding-right: 0.2em;padding-left: 0.2em;position: relative;}#sk-container-id-15 div.sk-item {position: relative;z-index: 1;}#sk-container-id-15 div.sk-parallel {display: flex;align-items: stretch;justify-content: center;background-color: white;position: relative;}#sk-container-id-15 div.sk-item::before, #sk-container-id-15 div.sk-parallel-item::before {content: \"\";position: absolute;border-left: 1px solid gray;box-sizing: border-box;top: 0;bottom: 0;left: 50%;z-index: -1;}#sk-container-id-15 div.sk-parallel-item {display: flex;flex-direction: column;z-index: 1;position: relative;background-color: white;}#sk-container-id-15 div.sk-parallel-item:first-child::after {align-self: flex-end;width: 50%;}#sk-container-id-15 div.sk-parallel-item:last-child::after {align-self: flex-start;width: 50%;}#sk-container-id-15 div.sk-parallel-item:only-child::after {width: 0;}#sk-container-id-15 div.sk-dashed-wrapped {border: 1px dashed gray;margin: 0 0.4em 0.5em 0.4em;box-sizing: border-box;padding-bottom: 0.4em;background-color: white;}#sk-container-id-15 div.sk-label label {font-family: monospace;font-weight: bold;display: inline-block;line-height: 1.2em;}#sk-container-id-15 div.sk-label-container {text-align: center;}#sk-container-id-15 div.sk-container {/* jupyter's `normalize.less` sets `[hidden] { display: none; }` but bootstrap.min.css set `[hidden] { display: none !important; }` so we also need the `!important` here to be able to override the default hidden behavior on the sphinx rendered scikit-learn.org. See: https://github.com/scikit-learn/scikit-learn/issues/21755 */display: inline-block !important;position: relative;}#sk-container-id-15 div.sk-text-repr-fallback {display: none;}</style><div id=\"sk-container-id-15\" class=\"sk-top-container\"><div class=\"sk-text-repr-fallback\"><pre>RandomizedSearchCV(cv=3,\n",
       "                   estimator=&lt;keras.wrappers.scikit_learn.KerasRegressor object at 0x0000023574D47FD0&gt;,\n",
       "                   n_jobs=-1,\n",
       "                   param_distributions={&#x27;dp&#x27;: [0.01, 0.1, 1],\n",
       "                                        &#x27;n_hidden&#x27;: [1, 2, 3],\n",
       "                                        &#x27;n_neurons&#x27;: array([20, 21, 22, 23, 24, 25, 26, 27, 28, 29, 30, 31, 32, 33, 34, 35, 36,\n",
       "       37, 38, 39, 40, 41, 42, 43, 44, 45, 46, 47, 48, 49, 50, 51, 52, 53,\n",
       "       54, 55, 56, 57, 58, 59, 60, 61, 62, 63, 64, 65, 66, 67, 68, 69, 70,\n",
       "       71, 72, 73, 74, 75, 76, 77, 78, 79])})</pre><b>In a Jupyter environment, please rerun this cell to show the HTML representation or trust the notebook. <br />On GitHub, the HTML representation is unable to render, please try loading this page with nbviewer.org.</b></div><div class=\"sk-container\" hidden><div class=\"sk-item sk-dashed-wrapped\"><div class=\"sk-label-container\"><div class=\"sk-label sk-toggleable\"><input class=\"sk-toggleable__control sk-hidden--visually\" id=\"sk-estimator-id-35\" type=\"checkbox\" ><label for=\"sk-estimator-id-35\" class=\"sk-toggleable__label sk-toggleable__label-arrow\">RandomizedSearchCV</label><div class=\"sk-toggleable__content\"><pre>RandomizedSearchCV(cv=3,\n",
       "                   estimator=&lt;keras.wrappers.scikit_learn.KerasRegressor object at 0x0000023574D47FD0&gt;,\n",
       "                   n_jobs=-1,\n",
       "                   param_distributions={&#x27;dp&#x27;: [0.01, 0.1, 1],\n",
       "                                        &#x27;n_hidden&#x27;: [1, 2, 3],\n",
       "                                        &#x27;n_neurons&#x27;: array([20, 21, 22, 23, 24, 25, 26, 27, 28, 29, 30, 31, 32, 33, 34, 35, 36,\n",
       "       37, 38, 39, 40, 41, 42, 43, 44, 45, 46, 47, 48, 49, 50, 51, 52, 53,\n",
       "       54, 55, 56, 57, 58, 59, 60, 61, 62, 63, 64, 65, 66, 67, 68, 69, 70,\n",
       "       71, 72, 73, 74, 75, 76, 77, 78, 79])})</pre></div></div></div><div class=\"sk-parallel\"><div class=\"sk-parallel-item\"><div class=\"sk-item\"><div class=\"sk-label-container\"><div class=\"sk-label sk-toggleable\"><input class=\"sk-toggleable__control sk-hidden--visually\" id=\"sk-estimator-id-36\" type=\"checkbox\" ><label for=\"sk-estimator-id-36\" class=\"sk-toggleable__label sk-toggleable__label-arrow\">estimator: KerasRegressor</label><div class=\"sk-toggleable__content\"><pre>&lt;keras.wrappers.scikit_learn.KerasRegressor object at 0x0000023574D47FD0&gt;</pre></div></div></div><div class=\"sk-serial\"><div class=\"sk-item\"><div class=\"sk-estimator sk-toggleable\"><input class=\"sk-toggleable__control sk-hidden--visually\" id=\"sk-estimator-id-37\" type=\"checkbox\" ><label for=\"sk-estimator-id-37\" class=\"sk-toggleable__label sk-toggleable__label-arrow\">KerasRegressor</label><div class=\"sk-toggleable__content\"><pre>&lt;keras.wrappers.scikit_learn.KerasRegressor object at 0x0000023574D47FD0&gt;</pre></div></div></div></div></div></div></div></div></div></div>"
      ],
      "text/plain": [
       "RandomizedSearchCV(cv=3,\n",
       "                   estimator=<keras.wrappers.scikit_learn.KerasRegressor object at 0x0000023574D47FD0>,\n",
       "                   n_jobs=-1,\n",
       "                   param_distributions={'dp': [0.01, 0.1, 1],\n",
       "                                        'n_hidden': [1, 2, 3],\n",
       "                                        'n_neurons': array([20, 21, 22, 23, 24, 25, 26, 27, 28, 29, 30, 31, 32, 33, 34, 35, 36,\n",
       "       37, 38, 39, 40, 41, 42, 43, 44, 45, 46, 47, 48, 49, 50, 51, 52, 53,\n",
       "       54, 55, 56, 57, 58, 59, 60, 61, 62, 63, 64, 65, 66, 67, 68, 69, 70,\n",
       "       71, 72, 73, 74, 75, 76, 77, 78, 79])})"
      ]
     },
     "execution_count": 97,
     "metadata": {},
     "output_type": "execute_result"
    }
   ],
   "source": [
    "from scipy.stats import reciprocal\n",
    "from sklearn.model_selection import RandomizedSearchCV\n",
    "\n",
    "param_distribs = {\n",
    "    \"n_hidden\": [1, 2, 3],\n",
    "    \"n_neurons\": np.arange(20, 80),\n",
    "    \"dp\":[0.01, 0.1, 1]\n",
    "}\n",
    "\n",
    "rnd_search_cv = RandomizedSearchCV(keras_reg, param_distribs, n_iter=10, cv=3, n_jobs=-1)\n",
    "rnd_search_cv.fit(X_train[..., np.newaxis], y_train, epochs=100,\n",
    "                  validation_data=(X_valid[..., np.newaxis], y_valid),\n",
    "                  callbacks=[keras.callbacks.EarlyStopping(patience=10)])"
   ]
  },
  {
   "cell_type": "markdown",
   "id": "d313d7b5",
   "metadata": {
    "hidden": true
   },
   "source": [
    "the best n_neurons is 77, n_hidden is 2 and dp is 0.1"
   ]
  },
  {
   "cell_type": "code",
   "execution_count": 98,
   "id": "7453a854",
   "metadata": {
    "ExecuteTime": {
     "end_time": "2022-05-30T19:40:08.461245Z",
     "start_time": "2022-05-30T19:40:08.458363Z"
    },
    "hidden": true
   },
   "outputs": [
    {
     "data": {
      "text/plain": [
       "{'n_neurons': 77, 'n_hidden': 2, 'dp': 0.1}"
      ]
     },
     "execution_count": 98,
     "metadata": {},
     "output_type": "execute_result"
    }
   ],
   "source": [
    "rnd_search_cv.best_params_"
   ]
  },
  {
   "cell_type": "code",
   "execution_count": 101,
   "id": "45ec5476",
   "metadata": {
    "ExecuteTime": {
     "end_time": "2022-05-30T19:40:08.651673Z",
     "start_time": "2022-05-30T19:40:08.463040Z"
    },
    "hidden": true
   },
   "outputs": [],
   "source": [
    "dr_bn_do = build_model(n_hidden = 2, n_neurons = 77, dp = 0.01)"
   ]
  },
  {
   "cell_type": "code",
   "execution_count": 102,
   "id": "007856b3",
   "metadata": {
    "ExecuteTime": {
     "end_time": "2022-05-30T19:40:23.179394Z",
     "start_time": "2022-05-30T19:40:08.653532Z"
    },
    "hidden": true
   },
   "outputs": [],
   "source": [
    "early_stopping_cb = keras.callbacks.EarlyStopping(patience=10,\n",
    "                                                  min_delta=0.01,\n",
    "                                                  restore_best_weights=True)\n",
    "run = dr_bn_do.fit(X_train[..., np.newaxis], y_train, epochs=100,\n",
    "                validation_data=(X_valid[..., np.newaxis], y_valid),\n",
    "                callbacks=[early_stopping_cb], verbose=0)"
   ]
  },
  {
   "cell_type": "markdown",
   "id": "a6ab854a",
   "metadata": {
    "hidden": true
   },
   "source": [
    "From learning curve, the fit is good"
   ]
  },
  {
   "cell_type": "code",
   "execution_count": 103,
   "id": "700b9717",
   "metadata": {
    "ExecuteTime": {
     "end_time": "2022-05-30T19:40:23.295149Z",
     "start_time": "2022-05-30T19:40:23.180568Z"
    },
    "hidden": true
   },
   "outputs": [
    {
     "data": {
      "image/png": "[encoded data removed]",
      "text/plain": [
       "<Figure size 576x360 with 1 Axes>"
      ]
     },
     "metadata": {
      "needs_background": "light"
     },
     "output_type": "display_data"
    }
   ],
   "source": [
    "pd.DataFrame(run.history).plot(figsize=(8, 5))\n",
    "plt.grid(True)\n",
    "plt.show()"
   ]
  },
  {
   "cell_type": "code",
   "execution_count": 104,
   "id": "ebfe97a5",
   "metadata": {
    "ExecuteTime": {
     "end_time": "2022-05-30T19:40:23.671157Z",
     "start_time": "2022-05-30T19:40:23.297113Z"
    },
    "hidden": true
   },
   "outputs": [
    {
     "name": "stdout",
     "output_type": "stream",
     "text": [
      "19/19 [==============================] - 0s 3ms/step\n"
     ]
    }
   ],
   "source": [
    "y_pred = dr_bn_do.predict(X_test[...,np.newaxis])[...,0]\n",
    "dr_bn_do_mse = mean_squared_error(y_pred, y_test, multioutput=\"raw_values\")"
   ]
  },
  {
   "cell_type": "markdown",
   "id": "5ec23fab",
   "metadata": {
    "hidden": true
   },
   "source": [
    "Mse is better than deep rnn but still worse than linear regression"
   ]
  },
  {
   "cell_type": "code",
   "execution_count": 105,
   "id": "9c1198ec",
   "metadata": {
    "ExecuteTime": {
     "end_time": "2022-05-30T19:40:23.681301Z",
     "start_time": "2022-05-30T19:40:23.672382Z"
    },
    "hidden": true
   },
   "outputs": [
    {
     "data": {
      "text/html": [
       "<div>\n",
       "<style scoped>\n",
       "    .dataframe tbody tr th:only-of-type {\n",
       "        vertical-align: middle;\n",
       "    }\n",
       "\n",
       "    .dataframe tbody tr th {\n",
       "        vertical-align: top;\n",
       "    }\n",
       "\n",
       "    .dataframe thead th {\n",
       "        text-align: right;\n",
       "    }\n",
       "</style>\n",
       "<table border=\"1\" class=\"dataframe\">\n",
       "  <thead>\n",
       "    <tr style=\"text-align: right;\">\n",
       "      <th></th>\n",
       "      <th>lin_mse</th>\n",
       "      <th>sgd_reg</th>\n",
       "      <th>poly_reg</th>\n",
       "      <th>ridge_reg</th>\n",
       "      <th>lasso_reg</th>\n",
       "      <th>elastic_net</th>\n",
       "      <th>sp_rnn</th>\n",
       "      <th>dp_rnn</th>\n",
       "      <th>deepRNN-BN-DO</th>\n",
       "    </tr>\n",
       "  </thead>\n",
       "  <tbody>\n",
       "    <tr>\n",
       "      <th>0</th>\n",
       "      <td>0.002271</td>\n",
       "      <td>0.002189</td>\n",
       "      <td>0.022761</td>\n",
       "      <td>0.002191</td>\n",
       "      <td>0.002189</td>\n",
       "      <td>0.00219</td>\n",
       "      <td>0.014262</td>\n",
       "      <td>0.003489</td>\n",
       "      <td>0.00342</td>\n",
       "    </tr>\n",
       "  </tbody>\n",
       "</table>\n",
       "</div>"
      ],
      "text/plain": [
       "    lin_mse   sgd_reg  poly_reg  ridge_reg  lasso_reg  elastic_net    sp_rnn  \\\n",
       "0  0.002271  0.002189  0.022761   0.002191   0.002189      0.00219  0.014262   \n",
       "\n",
       "     dp_rnn  deepRNN-BN-DO  \n",
       "0  0.003489        0.00342  "
      ]
     },
     "execution_count": 105,
     "metadata": {},
     "output_type": "execute_result"
    }
   ],
   "source": [
    "mse[\"deepRNN-BN-DO\"] = dr_bn_do_mse\n",
    "mse"
   ]
  },
  {
   "cell_type": "markdown",
   "id": "604f4216",
   "metadata": {
    "hidden": true
   },
   "source": [
    "DeepRNN_dense_each"
   ]
  },
  {
   "cell_type": "markdown",
   "id": "b2d13b3c",
   "metadata": {
    "hidden": true
   },
   "source": [
    "Recreate the X and y variables"
   ]
  },
  {
   "cell_type": "code",
   "execution_count": 106,
   "id": "b198098f",
   "metadata": {
    "ExecuteTime": {
     "end_time": "2022-05-30T19:40:26.992410Z",
     "start_time": "2022-05-30T19:40:23.682815Z"
    },
    "hidden": true
   },
   "outputs": [],
   "source": [
    "X_tsla, y = ts_split(data[\"TSLA\"], feature_steps = 3, target_steps = 1)\n",
    "\n",
    "X, y_supplier = ts_split(data[supplier_list[0]], feature_steps = 3, target_steps = 1)\n",
    "for supplier in supplier_list[1:]:\n",
    "    X_s, y_s = ts_split(data[supplier], feature_steps = 3, target_steps = 1)\n",
    "    X = np.c_[X, X_s]"
   ]
  },
  {
   "cell_type": "code",
   "execution_count": 107,
   "id": "9108d96b",
   "metadata": {
    "ExecuteTime": {
     "end_time": "2022-05-30T19:40:26.996335Z",
     "start_time": "2022-05-30T19:40:26.993952Z"
    },
    "hidden": true
   },
   "outputs": [
    {
     "name": "stdout",
     "output_type": "stream",
     "text": [
      "(2363, 36) (2363, 1)\n"
     ]
    }
   ],
   "source": [
    "print(X.shape, y.shape)"
   ]
  },
  {
   "cell_type": "markdown",
   "id": "6afee992",
   "metadata": {
    "hidden": true
   },
   "source": [
    "we have 3 steps, like [ [supplier1_day1, ... , supplier12_day1], [supplier1_day2, ... , supplier12_day2],  [supplier1_day3, ... , supplier12_day3]] of features for 1 step ahead prediction"
   ]
  },
  {
   "cell_type": "code",
   "execution_count": 108,
   "id": "ec12a25c",
   "metadata": {
    "hidden": true
   },
   "outputs": [],
   "source": [
    "X_de = []\n",
    "for x in X:\n",
    "    X_de.append([[x[0+i],x[3+i],x[6+i],x[9+i],x[12+i],\n",
    "                 x[15+i],x[18+i],x[21+i],x[24+i],x[27+i],x[30+i],x[33+i]] for i in range(0,3)])"
   ]
  },
  {
   "cell_type": "code",
   "execution_count": 114,
   "id": "30ab28c2",
   "metadata": {
    "hidden": true
   },
   "outputs": [
    {
     "data": {
      "text/plain": [
       "(2363, 3, 12)"
      ]
     },
     "execution_count": 114,
     "metadata": {},
     "output_type": "execute_result"
    }
   ],
   "source": [
    "X_de = np.array(X_de)\n",
    "X_de.shape"
   ]
  },
  {
   "cell_type": "code",
   "execution_count": 118,
   "id": "0a855143",
   "metadata": {
    "ExecuteTime": {
     "end_time": "2022-05-30T19:40:27.002922Z",
     "start_time": "2022-05-30T19:40:26.997872Z"
    },
    "hidden": true
   },
   "outputs": [],
   "source": [
    "n_steps = 3\n",
    "n_ahead = 1\n",
    "n_sample = X_de.shape[0]\n",
    "series = np.concatenate((X, y), axis=1)[...,np.newaxis]\n",
    "train_idx = len(X_train)\n",
    "valid_idx = len(X_train) + len(X_valid)\n",
    "\n",
    "X_train_de = series[:train_idx, :n_steps]\n",
    "X_valid_de = series[train_idx:valid_idx, :n_steps]\n",
    "X_test_de = series[valid_idx:, :n_steps]\n",
    "Y = np.empty((n_sample, n_steps, n_ahead))\n",
    "for step_ahead in range(1, n_ahead + 1):\n",
    "    Y[..., step_ahead - 1] = series[..., step_ahead:step_ahead + n_steps, 0]\n",
    "y_train_de = Y[:train_idx]\n",
    "y_valid_de = Y[train_idx:valid_idx]\n",
    "y_test_de = Y[valid_idx:]"
   ]
  },
  {
   "cell_type": "code",
   "execution_count": 119,
   "id": "ab4643a2",
   "metadata": {
    "ExecuteTime": {
     "end_time": "2022-05-30T19:40:27.006831Z",
     "start_time": "2022-05-30T19:40:27.004266Z"
    },
    "hidden": true
   },
   "outputs": [
    {
     "name": "stdout",
     "output_type": "stream",
     "text": [
      "(1255, 3, 1) (1255, 3, 1)\n"
     ]
    }
   ],
   "source": [
    "print(X_train_de.shape, y_train_de.shape)"
   ]
  },
  {
   "cell_type": "code",
   "execution_count": 120,
   "id": "6c1f65e9",
   "metadata": {
    "ExecuteTime": {
     "end_time": "2022-05-30T19:40:27.051961Z",
     "start_time": "2022-05-30T19:40:27.008381Z"
    },
    "hidden": true
   },
   "outputs": [],
   "source": [
    "reset_session()\n",
    "def last_time_step_mse(Y_true, Y_pred):\n",
    "    return keras.metrics.mean_squared_error(Y_true[:, -1], Y_pred[:, -1])\n",
    "\n",
    "def build_model(n_hidden = 1, n_neurons = 20):\n",
    "    model = keras.models.Sequential()\n",
    "    model.add(keras.layers.SimpleRNN(n_neurons, return_sequences=True, \n",
    "                                     input_shape=[None, 1]))\n",
    "    for layer in range(n_hidden):\n",
    "        model.add(keras.layers.SimpleRNN(n_neurons,return_sequences=True))\n",
    "    model.add(keras.layers.TimeDistributed(keras.layers.Dense(1)))\n",
    "    model.compile(loss=\"mse\", optimizer=\"nadam\",metrics=[last_time_step_mse])\n",
    "    return model"
   ]
  },
  {
   "cell_type": "code",
   "execution_count": 121,
   "id": "aedd5f47",
   "metadata": {
    "ExecuteTime": {
     "end_time": "2022-05-30T19:40:27.073804Z",
     "start_time": "2022-05-30T19:40:27.071261Z"
    },
    "hidden": true
   },
   "outputs": [
    {
     "name": "stderr",
     "output_type": "stream",
     "text": [
      "C:\\Users\\peiya\\AppData\\Local\\Temp\\ipykernel_11604\\1709004121.py:1: DeprecationWarning: KerasRegressor is deprecated, use Sci-Keras (https://github.com/adriangb/scikeras) instead. See https://www.adriangb.com/scikeras/stable/migration.html for help migrating.\n",
      "  keras_reg = keras.wrappers.scikit_learn.KerasRegressor(build_model)\n"
     ]
    }
   ],
   "source": [
    "keras_reg = keras.wrappers.scikit_learn.KerasRegressor(build_model)"
   ]
  },
  {
   "cell_type": "code",
   "execution_count": 122,
   "id": "f7e2948a",
   "metadata": {
    "ExecuteTime": {
     "end_time": "2022-05-30T19:40:43.077023Z",
     "start_time": "2022-05-30T19:40:27.084964Z"
    },
    "hidden": true
   },
   "outputs": [
    {
     "name": "stdout",
     "output_type": "stream",
     "text": [
      "Epoch 1/100\n",
      "40/40 [==============================] - 2s 7ms/step - loss: 4.7676e-04 - last_time_step_mse: 5.5110e-04 - val_loss: 2.5351e-04 - val_last_time_step_mse: 2.4771e-04\n",
      "Epoch 2/100\n",
      "40/40 [==============================] - 0s 2ms/step - loss: 4.4149e-04 - last_time_step_mse: 5.0182e-04 - val_loss: 3.6309e-04 - val_last_time_step_mse: 5.4713e-04\n",
      "Epoch 3/100\n",
      "40/40 [==============================] - 0s 2ms/step - loss: 4.5314e-04 - last_time_step_mse: 5.1455e-04 - val_loss: 2.4322e-04 - val_last_time_step_mse: 2.2818e-04\n",
      "Epoch 4/100\n",
      "40/40 [==============================] - 0s 2ms/step - loss: 4.3347e-04 - last_time_step_mse: 4.8235e-04 - val_loss: 2.5072e-04 - val_last_time_step_mse: 2.4232e-04\n",
      "Epoch 5/100\n",
      "40/40 [==============================] - 0s 2ms/step - loss: 4.4064e-04 - last_time_step_mse: 4.9404e-04 - val_loss: 2.8969e-04 - val_last_time_step_mse: 2.2574e-04\n",
      "Epoch 6/100\n",
      "40/40 [==============================] - 0s 2ms/step - loss: 4.4353e-04 - last_time_step_mse: 4.9100e-04 - val_loss: 3.1608e-04 - val_last_time_step_mse: 2.8922e-04\n",
      "Epoch 7/100\n",
      "40/40 [==============================] - 0s 2ms/step - loss: 4.4050e-04 - last_time_step_mse: 4.9697e-04 - val_loss: 2.6326e-04 - val_last_time_step_mse: 2.2918e-04\n",
      "Epoch 8/100\n",
      "40/40 [==============================] - 0s 1ms/step - loss: 4.3537e-04 - last_time_step_mse: 4.8189e-04 - val_loss: 2.6762e-04 - val_last_time_step_mse: 2.7646e-04\n",
      "Epoch 9/100\n",
      "40/40 [==============================] - 0s 2ms/step - loss: 4.3708e-04 - last_time_step_mse: 4.8840e-04 - val_loss: 2.4558e-04 - val_last_time_step_mse: 2.3092e-04\n",
      "Epoch 10/100\n",
      "40/40 [==============================] - 0s 2ms/step - loss: 4.3869e-04 - last_time_step_mse: 4.8722e-04 - val_loss: 2.4201e-04 - val_last_time_step_mse: 2.2353e-04\n",
      "Epoch 11/100\n",
      "40/40 [==============================] - 0s 2ms/step - loss: 4.3438e-04 - last_time_step_mse: 4.8830e-04 - val_loss: 2.5106e-04 - val_last_time_step_mse: 2.4856e-04\n",
      "Epoch 12/100\n",
      "40/40 [==============================] - 0s 2ms/step - loss: 4.3882e-04 - last_time_step_mse: 4.8989e-04 - val_loss: 3.1466e-04 - val_last_time_step_mse: 3.3068e-04\n",
      "Epoch 13/100\n",
      "40/40 [==============================] - 0s 2ms/step - loss: 4.3920e-04 - last_time_step_mse: 4.9443e-04 - val_loss: 2.5423e-04 - val_last_time_step_mse: 2.2700e-04\n",
      "Epoch 14/100\n",
      "40/40 [==============================] - 0s 2ms/step - loss: 4.3631e-04 - last_time_step_mse: 4.8709e-04 - val_loss: 2.7263e-04 - val_last_time_step_mse: 2.7609e-04\n",
      "Epoch 15/100\n",
      "40/40 [==============================] - 0s 2ms/step - loss: 4.3563e-04 - last_time_step_mse: 4.8094e-04 - val_loss: 2.4903e-04 - val_last_time_step_mse: 2.4427e-04\n",
      "Epoch 16/100\n",
      "40/40 [==============================] - 0s 2ms/step - loss: 4.3189e-04 - last_time_step_mse: 4.7629e-04 - val_loss: 3.0898e-04 - val_last_time_step_mse: 2.8072e-04\n",
      "Epoch 17/100\n",
      "40/40 [==============================] - 0s 2ms/step - loss: 4.3337e-04 - last_time_step_mse: 4.8144e-04 - val_loss: 2.5096e-04 - val_last_time_step_mse: 2.2635e-04\n",
      "Epoch 18/100\n",
      "40/40 [==============================] - 0s 2ms/step - loss: 4.3163e-04 - last_time_step_mse: 4.8007e-04 - val_loss: 2.5645e-04 - val_last_time_step_mse: 2.2603e-04\n",
      "Epoch 19/100\n",
      "40/40 [==============================] - 0s 2ms/step - loss: 4.3422e-04 - last_time_step_mse: 4.7721e-04 - val_loss: 2.6744e-04 - val_last_time_step_mse: 2.4459e-04\n",
      "Epoch 20/100\n",
      "40/40 [==============================] - 0s 2ms/step - loss: 4.3366e-04 - last_time_step_mse: 4.8315e-04 - val_loss: 2.4936e-04 - val_last_time_step_mse: 2.3969e-04\n"
     ]
    },
    {
     "data": {
      "text/plain": [
       "<keras.callbacks.History at 0x2356c739810>"
      ]
     },
     "execution_count": 122,
     "metadata": {},
     "output_type": "execute_result"
    }
   ],
   "source": [
    "keras_reg.fit(X_train_de, y_train_de, epochs=100,\n",
    "              validation_data=(X_valid_de, y_valid_de),\n",
    "              callbacks=[keras.callbacks.EarlyStopping(patience=10)])"
   ]
  },
  {
   "cell_type": "markdown",
   "id": "6857d311",
   "metadata": {
    "hidden": true
   },
   "source": [
    "we do a random search for the number of hidden layers and the number of neurons in each layer"
   ]
  },
  {
   "cell_type": "code",
   "execution_count": 124,
   "id": "7c823de9",
   "metadata": {
    "ExecuteTime": {
     "end_time": "2022-05-30T19:41:49.584621Z",
     "start_time": "2022-05-30T19:40:43.078666Z"
    },
    "hidden": true
   },
   "outputs": [
    {
     "name": "stdout",
     "output_type": "stream",
     "text": [
      "Epoch 1/10\n",
      "40/40 [==============================] - 2s 7ms/step - loss: 5.3589e-04 - last_time_step_mse: 6.8039e-04 - val_loss: 2.8672e-04 - val_last_time_step_mse: 3.2892e-04\n",
      "Epoch 2/10\n",
      "40/40 [==============================] - 0s 3ms/step - loss: 4.5405e-04 - last_time_step_mse: 5.2570e-04 - val_loss: 4.3174e-04 - val_last_time_step_mse: 7.3561e-04\n",
      "Epoch 3/10\n",
      "40/40 [==============================] - 0s 2ms/step - loss: 4.7180e-04 - last_time_step_mse: 5.5453e-04 - val_loss: 2.4647e-04 - val_last_time_step_mse: 2.3490e-04\n",
      "Epoch 4/10\n",
      "40/40 [==============================] - 0s 2ms/step - loss: 4.3769e-04 - last_time_step_mse: 4.8943e-04 - val_loss: 2.5325e-04 - val_last_time_step_mse: 2.4312e-04\n",
      "Epoch 5/10\n",
      "40/40 [==============================] - 0s 2ms/step - loss: 4.4332e-04 - last_time_step_mse: 4.9517e-04 - val_loss: 3.1437e-04 - val_last_time_step_mse: 2.4297e-04\n",
      "Epoch 6/10\n",
      "40/40 [==============================] - 0s 2ms/step - loss: 4.5052e-04 - last_time_step_mse: 4.9848e-04 - val_loss: 3.0613e-04 - val_last_time_step_mse: 2.7550e-04\n",
      "Epoch 7/10\n",
      "40/40 [==============================] - 0s 2ms/step - loss: 4.4395e-04 - last_time_step_mse: 4.9968e-04 - val_loss: 3.0694e-04 - val_last_time_step_mse: 2.5373e-04\n",
      "Epoch 8/10\n",
      "40/40 [==============================] - 0s 2ms/step - loss: 4.3890e-04 - last_time_step_mse: 4.8683e-04 - val_loss: 2.6488e-04 - val_last_time_step_mse: 2.7016e-04\n",
      "Epoch 9/10\n",
      "40/40 [==============================] - 0s 2ms/step - loss: 4.3839e-04 - last_time_step_mse: 4.9148e-04 - val_loss: 2.4468e-04 - val_last_time_step_mse: 2.2911e-04\n",
      "Epoch 10/10\n",
      "40/40 [==============================] - 0s 2ms/step - loss: 4.4258e-04 - last_time_step_mse: 4.9340e-04 - val_loss: 2.4340e-04 - val_last_time_step_mse: 2.2310e-04\n"
     ]
    },
    {
     "data": {
      "text/html": [
       "<style>#sk-container-id-16 {color: black;background-color: white;}#sk-container-id-16 pre{padding: 0;}#sk-container-id-16 div.sk-toggleable {background-color: white;}#sk-container-id-16 label.sk-toggleable__label {cursor: pointer;display: block;width: 100%;margin-bottom: 0;padding: 0.3em;box-sizing: border-box;text-align: center;}#sk-container-id-16 label.sk-toggleable__label-arrow:before {content: \"▸\";float: left;margin-right: 0.25em;color: #696969;}#sk-container-id-16 label.sk-toggleable__label-arrow:hover:before {color: black;}#sk-container-id-16 div.sk-estimator:hover label.sk-toggleable__label-arrow:before {color: black;}#sk-container-id-16 div.sk-toggleable__content {max-height: 0;max-width: 0;overflow: hidden;text-align: left;background-color: #f0f8ff;}#sk-container-id-16 div.sk-toggleable__content pre {margin: 0.2em;color: black;border-radius: 0.25em;background-color: #f0f8ff;}#sk-container-id-16 input.sk-toggleable__control:checked~div.sk-toggleable__content {max-height: 200px;max-width: 100%;overflow: auto;}#sk-container-id-16 input.sk-toggleable__control:checked~label.sk-toggleable__label-arrow:before {content: \"▾\";}#sk-container-id-16 div.sk-estimator input.sk-toggleable__control:checked~label.sk-toggleable__label {background-color: #d4ebff;}#sk-container-id-16 div.sk-label input.sk-toggleable__control:checked~label.sk-toggleable__label {background-color: #d4ebff;}#sk-container-id-16 input.sk-hidden--visually {border: 0;clip: rect(1px 1px 1px 1px);clip: rect(1px, 1px, 1px, 1px);height: 1px;margin: -1px;overflow: hidden;padding: 0;position: absolute;width: 1px;}#sk-container-id-16 div.sk-estimator {font-family: monospace;background-color: #f0f8ff;border: 1px dotted black;border-radius: 0.25em;box-sizing: border-box;margin-bottom: 0.5em;}#sk-container-id-16 div.sk-estimator:hover {background-color: #d4ebff;}#sk-container-id-16 div.sk-parallel-item::after {content: \"\";width: 100%;border-bottom: 1px solid gray;flex-grow: 1;}#sk-container-id-16 div.sk-label:hover label.sk-toggleable__label {background-color: #d4ebff;}#sk-container-id-16 div.sk-serial::before {content: \"\";position: absolute;border-left: 1px solid gray;box-sizing: border-box;top: 0;bottom: 0;left: 50%;z-index: 0;}#sk-container-id-16 div.sk-serial {display: flex;flex-direction: column;align-items: center;background-color: white;padding-right: 0.2em;padding-left: 0.2em;position: relative;}#sk-container-id-16 div.sk-item {position: relative;z-index: 1;}#sk-container-id-16 div.sk-parallel {display: flex;align-items: stretch;justify-content: center;background-color: white;position: relative;}#sk-container-id-16 div.sk-item::before, #sk-container-id-16 div.sk-parallel-item::before {content: \"\";position: absolute;border-left: 1px solid gray;box-sizing: border-box;top: 0;bottom: 0;left: 50%;z-index: -1;}#sk-container-id-16 div.sk-parallel-item {display: flex;flex-direction: column;z-index: 1;position: relative;background-color: white;}#sk-container-id-16 div.sk-parallel-item:first-child::after {align-self: flex-end;width: 50%;}#sk-container-id-16 div.sk-parallel-item:last-child::after {align-self: flex-start;width: 50%;}#sk-container-id-16 div.sk-parallel-item:only-child::after {width: 0;}#sk-container-id-16 div.sk-dashed-wrapped {border: 1px dashed gray;margin: 0 0.4em 0.5em 0.4em;box-sizing: border-box;padding-bottom: 0.4em;background-color: white;}#sk-container-id-16 div.sk-label label {font-family: monospace;font-weight: bold;display: inline-block;line-height: 1.2em;}#sk-container-id-16 div.sk-label-container {text-align: center;}#sk-container-id-16 div.sk-container {/* jupyter's `normalize.less` sets `[hidden] { display: none; }` but bootstrap.min.css set `[hidden] { display: none !important; }` so we also need the `!important` here to be able to override the default hidden behavior on the sphinx rendered scikit-learn.org. See: https://github.com/scikit-learn/scikit-learn/issues/21755 */display: inline-block !important;position: relative;}#sk-container-id-16 div.sk-text-repr-fallback {display: none;}</style><div id=\"sk-container-id-16\" class=\"sk-top-container\"><div class=\"sk-text-repr-fallback\"><pre>RandomizedSearchCV(cv=3,\n",
       "                   estimator=&lt;keras.wrappers.scikit_learn.KerasRegressor object at 0x000002350101FA30&gt;,\n",
       "                   n_jobs=-1,\n",
       "                   param_distributions={&#x27;n_hidden&#x27;: [1, 2, 3],\n",
       "                                        &#x27;n_neurons&#x27;: array([20, 21, 22, 23, 24, 25, 26, 27, 28, 29, 30, 31, 32, 33, 34, 35, 36,\n",
       "       37, 38, 39, 40, 41, 42, 43, 44, 45, 46, 47, 48, 49, 50, 51, 52, 53,\n",
       "       54, 55, 56, 57, 58, 59, 60, 61, 62, 63, 64, 65, 66, 67, 68, 69, 70,\n",
       "       71, 72, 73, 74, 75, 76, 77, 78, 79])})</pre><b>In a Jupyter environment, please rerun this cell to show the HTML representation or trust the notebook. <br />On GitHub, the HTML representation is unable to render, please try loading this page with nbviewer.org.</b></div><div class=\"sk-container\" hidden><div class=\"sk-item sk-dashed-wrapped\"><div class=\"sk-label-container\"><div class=\"sk-label sk-toggleable\"><input class=\"sk-toggleable__control sk-hidden--visually\" id=\"sk-estimator-id-38\" type=\"checkbox\" ><label for=\"sk-estimator-id-38\" class=\"sk-toggleable__label sk-toggleable__label-arrow\">RandomizedSearchCV</label><div class=\"sk-toggleable__content\"><pre>RandomizedSearchCV(cv=3,\n",
       "                   estimator=&lt;keras.wrappers.scikit_learn.KerasRegressor object at 0x000002350101FA30&gt;,\n",
       "                   n_jobs=-1,\n",
       "                   param_distributions={&#x27;n_hidden&#x27;: [1, 2, 3],\n",
       "                                        &#x27;n_neurons&#x27;: array([20, 21, 22, 23, 24, 25, 26, 27, 28, 29, 30, 31, 32, 33, 34, 35, 36,\n",
       "       37, 38, 39, 40, 41, 42, 43, 44, 45, 46, 47, 48, 49, 50, 51, 52, 53,\n",
       "       54, 55, 56, 57, 58, 59, 60, 61, 62, 63, 64, 65, 66, 67, 68, 69, 70,\n",
       "       71, 72, 73, 74, 75, 76, 77, 78, 79])})</pre></div></div></div><div class=\"sk-parallel\"><div class=\"sk-parallel-item\"><div class=\"sk-item\"><div class=\"sk-label-container\"><div class=\"sk-label sk-toggleable\"><input class=\"sk-toggleable__control sk-hidden--visually\" id=\"sk-estimator-id-39\" type=\"checkbox\" ><label for=\"sk-estimator-id-39\" class=\"sk-toggleable__label sk-toggleable__label-arrow\">estimator: KerasRegressor</label><div class=\"sk-toggleable__content\"><pre>&lt;keras.wrappers.scikit_learn.KerasRegressor object at 0x000002350101FA30&gt;</pre></div></div></div><div class=\"sk-serial\"><div class=\"sk-item\"><div class=\"sk-estimator sk-toggleable\"><input class=\"sk-toggleable__control sk-hidden--visually\" id=\"sk-estimator-id-40\" type=\"checkbox\" ><label for=\"sk-estimator-id-40\" class=\"sk-toggleable__label sk-toggleable__label-arrow\">KerasRegressor</label><div class=\"sk-toggleable__content\"><pre>&lt;keras.wrappers.scikit_learn.KerasRegressor object at 0x000002350101FA30&gt;</pre></div></div></div></div></div></div></div></div></div></div>"
      ],
      "text/plain": [
       "RandomizedSearchCV(cv=3,\n",
       "                   estimator=<keras.wrappers.scikit_learn.KerasRegressor object at 0x000002350101FA30>,\n",
       "                   n_jobs=-1,\n",
       "                   param_distributions={'n_hidden': [1, 2, 3],\n",
       "                                        'n_neurons': array([20, 21, 22, 23, 24, 25, 26, 27, 28, 29, 30, 31, 32, 33, 34, 35, 36,\n",
       "       37, 38, 39, 40, 41, 42, 43, 44, 45, 46, 47, 48, 49, 50, 51, 52, 53,\n",
       "       54, 55, 56, 57, 58, 59, 60, 61, 62, 63, 64, 65, 66, 67, 68, 69, 70,\n",
       "       71, 72, 73, 74, 75, 76, 77, 78, 79])})"
      ]
     },
     "execution_count": 124,
     "metadata": {},
     "output_type": "execute_result"
    }
   ],
   "source": [
    "from scipy.stats import reciprocal\n",
    "from sklearn.model_selection import RandomizedSearchCV\n",
    "\n",
    "param_distribs = {\n",
    "    \"n_hidden\": [1, 2, 3],\n",
    "    \"n_neurons\": np.arange(20, 80)\n",
    "}\n",
    "\n",
    "rnd_search_cv = RandomizedSearchCV(keras_reg, param_distribs, n_iter=10, cv=3, n_jobs=-1)\n",
    "rnd_search_cv.fit(X_train_de, y_train_de, epochs=10,\n",
    "                  validation_data=(X_valid_de, y_valid_de),\n",
    "                  callbacks=[keras.callbacks.EarlyStopping(patience=10)])"
   ]
  },
  {
   "cell_type": "markdown",
   "id": "944ee55a",
   "metadata": {
    "hidden": true
   },
   "source": [
    "the best n_neurons is 73 and n_hidden is 2"
   ]
  },
  {
   "cell_type": "code",
   "execution_count": 125,
   "id": "579f1f5a",
   "metadata": {
    "ExecuteTime": {
     "end_time": "2022-05-30T19:41:49.589342Z",
     "start_time": "2022-05-30T19:41:49.585915Z"
    },
    "hidden": true
   },
   "outputs": [
    {
     "data": {
      "text/plain": [
       "{'n_neurons': 73, 'n_hidden': 2}"
      ]
     },
     "execution_count": 125,
     "metadata": {},
     "output_type": "execute_result"
    }
   ],
   "source": [
    "rnd_search_cv.best_params_"
   ]
  },
  {
   "cell_type": "code",
   "execution_count": 126,
   "id": "caa9f127",
   "metadata": {
    "ExecuteTime": {
     "end_time": "2022-05-30T19:41:54.405276Z",
     "start_time": "2022-05-30T19:41:49.591458Z"
    },
    "hidden": true
   },
   "outputs": [],
   "source": [
    "dr_de = build_model(n_hidden = 2, n_neurons = 73)\n",
    "early_stopping_cb = keras.callbacks.EarlyStopping(patience=10,\n",
    "                                                  min_delta=0.01,\n",
    "                                                  restore_best_weights=True, \n",
    "                                                  monitor=\"val_last_time_step_mse\", \n",
    "                                                  mode=\"min\")\n",
    "run = dr_de.fit(X_train_de, y_train_de, epochs=100,\n",
    "                    validation_data=(X_valid_de, y_valid_de),\n",
    "                    callbacks=[early_stopping_cb], verbose=0)"
   ]
  },
  {
   "cell_type": "markdown",
   "id": "fe518dd5",
   "metadata": {
    "hidden": true
   },
   "source": [
    "From learning curve, it's good"
   ]
  },
  {
   "cell_type": "code",
   "execution_count": 127,
   "id": "0d60dfbc",
   "metadata": {
    "ExecuteTime": {
     "end_time": "2022-05-30T19:41:54.521141Z",
     "start_time": "2022-05-30T19:41:54.406466Z"
    },
    "hidden": true
   },
   "outputs": [
    {
     "data": {
      "image/png": "[encoded data removed]",
      "text/plain": [
       "<Figure size 576x360 with 1 Axes>"
      ]
     },
     "metadata": {
      "needs_background": "light"
     },
     "output_type": "display_data"
    }
   ],
   "source": [
    "pd.DataFrame(run.history).plot(figsize=(8, 5))\n",
    "plt.grid(True)\n",
    "plt.show()"
   ]
  },
  {
   "cell_type": "code",
   "execution_count": 128,
   "id": "d5d800d3",
   "metadata": {
    "ExecuteTime": {
     "end_time": "2022-05-30T19:41:54.748198Z",
     "start_time": "2022-05-30T19:41:54.522930Z"
    },
    "hidden": true
   },
   "outputs": [
    {
     "name": "stdout",
     "output_type": "stream",
     "text": [
      "19/19 [==============================] - 0s 1ms/step\n"
     ]
    }
   ],
   "source": [
    "y_pred = dr_de.predict(X_test_de)\n",
    "dr_de_mse = mean_squared_error(y_pred[:, -1], y_test_de[:, -1], multioutput=\"raw_values\")"
   ]
  },
  {
   "cell_type": "markdown",
   "id": "82948fb9",
   "metadata": {
    "hidden": true
   },
   "source": [
    "mse is much better than regression"
   ]
  },
  {
   "cell_type": "code",
   "execution_count": 129,
   "id": "5241d582",
   "metadata": {
    "ExecuteTime": {
     "end_time": "2022-05-30T19:41:54.758886Z",
     "start_time": "2022-05-30T19:41:54.749998Z"
    },
    "hidden": true
   },
   "outputs": [
    {
     "data": {
      "text/html": [
       "<div>\n",
       "<style scoped>\n",
       "    .dataframe tbody tr th:only-of-type {\n",
       "        vertical-align: middle;\n",
       "    }\n",
       "\n",
       "    .dataframe tbody tr th {\n",
       "        vertical-align: top;\n",
       "    }\n",
       "\n",
       "    .dataframe thead th {\n",
       "        text-align: right;\n",
       "    }\n",
       "</style>\n",
       "<table border=\"1\" class=\"dataframe\">\n",
       "  <thead>\n",
       "    <tr style=\"text-align: right;\">\n",
       "      <th></th>\n",
       "      <th>lin_mse</th>\n",
       "      <th>sgd_reg</th>\n",
       "      <th>poly_reg</th>\n",
       "      <th>ridge_reg</th>\n",
       "      <th>lasso_reg</th>\n",
       "      <th>elastic_net</th>\n",
       "      <th>sp_rnn</th>\n",
       "      <th>dp_rnn</th>\n",
       "      <th>deepRNN-BN-DO</th>\n",
       "      <th>deepRNN_dense_each</th>\n",
       "    </tr>\n",
       "  </thead>\n",
       "  <tbody>\n",
       "    <tr>\n",
       "      <th>0</th>\n",
       "      <td>0.002271</td>\n",
       "      <td>0.002189</td>\n",
       "      <td>0.022761</td>\n",
       "      <td>0.002191</td>\n",
       "      <td>0.002189</td>\n",
       "      <td>0.00219</td>\n",
       "      <td>0.014262</td>\n",
       "      <td>0.003489</td>\n",
       "      <td>0.00342</td>\n",
       "      <td>0.00047</td>\n",
       "    </tr>\n",
       "  </tbody>\n",
       "</table>\n",
       "</div>"
      ],
      "text/plain": [
       "    lin_mse   sgd_reg  poly_reg  ridge_reg  lasso_reg  elastic_net    sp_rnn  \\\n",
       "0  0.002271  0.002189  0.022761   0.002191   0.002189      0.00219  0.014262   \n",
       "\n",
       "     dp_rnn  deepRNN-BN-DO  deepRNN_dense_each  \n",
       "0  0.003489        0.00342             0.00047  "
      ]
     },
     "execution_count": 129,
     "metadata": {},
     "output_type": "execute_result"
    }
   ],
   "source": [
    "mse[\"deepRNN_dense_each\"] = dr_de_mse\n",
    "mse"
   ]
  },
  {
   "cell_type": "markdown",
   "id": "0c8c5a6a",
   "metadata": {
    "hidden": true
   },
   "source": [
    " Long Short Term Memory (LSTM)"
   ]
  },
  {
   "cell_type": "code",
   "execution_count": 130,
   "id": "cce203c0",
   "metadata": {
    "ExecuteTime": {
     "end_time": "2022-05-30T19:41:54.785849Z",
     "start_time": "2022-05-30T19:41:54.760267Z"
    },
    "hidden": true
   },
   "outputs": [],
   "source": [
    "reset_session()\n",
    "def last_time_step_mse(Y_true, Y_pred):\n",
    "    return keras.metrics.mean_squared_error(Y_true[:, -1], Y_pred[:, -1])\n",
    "\n",
    "def build_model(n_hidden = 1, n_neurons = 20):\n",
    "    model = keras.models.Sequential()\n",
    "    model.add(keras.layers.LSTM(n_neurons, return_sequences=True, \n",
    "                                     input_shape=[None, 1]))\n",
    "    for layer in range(n_hidden):\n",
    "        model.add(keras.layers.LSTM(n_neurons,return_sequences=True))\n",
    "    model.add(keras.layers.TimeDistributed(keras.layers.Dense(1)))\n",
    "    model.compile(loss=\"mse\", optimizer=\"nadam\",metrics=[last_time_step_mse])\n",
    "    return model"
   ]
  },
  {
   "cell_type": "code",
   "execution_count": 131,
   "id": "f5dc81fd",
   "metadata": {
    "ExecuteTime": {
     "end_time": "2022-05-30T19:41:54.790482Z",
     "start_time": "2022-05-30T19:41:54.787671Z"
    },
    "hidden": true
   },
   "outputs": [
    {
     "name": "stderr",
     "output_type": "stream",
     "text": [
      "C:\\Users\\peiya\\AppData\\Local\\Temp\\ipykernel_11604\\1709004121.py:1: DeprecationWarning: KerasRegressor is deprecated, use Sci-Keras (https://github.com/adriangb/scikeras) instead. See https://www.adriangb.com/scikeras/stable/migration.html for help migrating.\n",
      "  keras_reg = keras.wrappers.scikit_learn.KerasRegressor(build_model)\n"
     ]
    }
   ],
   "source": [
    "keras_reg = keras.wrappers.scikit_learn.KerasRegressor(build_model)"
   ]
  },
  {
   "cell_type": "code",
   "execution_count": 132,
   "id": "56926d58",
   "metadata": {
    "ExecuteTime": {
     "end_time": "2022-05-30T19:42:38.744882Z",
     "start_time": "2022-05-30T19:41:54.792129Z"
    },
    "hidden": true
   },
   "outputs": [
    {
     "name": "stdout",
     "output_type": "stream",
     "text": [
      "Epoch 1/100\n",
      "40/40 [==============================] - 3s 16ms/step - loss: 5.7733e-04 - last_time_step_mse: 9.1759e-04 - val_loss: 3.2600e-04 - val_last_time_step_mse: 4.5455e-04\n",
      "Epoch 2/100\n",
      "40/40 [==============================] - 0s 4ms/step - loss: 5.5002e-04 - last_time_step_mse: 8.3682e-04 - val_loss: 2.9740e-04 - val_last_time_step_mse: 3.7802e-04\n",
      "Epoch 3/100\n",
      "40/40 [==============================] - 0s 3ms/step - loss: 5.1725e-04 - last_time_step_mse: 7.0577e-04 - val_loss: 2.8859e-04 - val_last_time_step_mse: 3.2669e-04\n",
      "Epoch 4/100\n",
      "40/40 [==============================] - 0s 3ms/step - loss: 4.8927e-04 - last_time_step_mse: 6.1410e-04 - val_loss: 2.8749e-04 - val_last_time_step_mse: 3.1575e-04\n",
      "Epoch 5/100\n",
      "40/40 [==============================] - 0s 2ms/step - loss: 4.9138e-04 - last_time_step_mse: 6.1552e-04 - val_loss: 2.6954e-04 - val_last_time_step_mse: 2.7507e-04\n",
      "Epoch 6/100\n",
      "40/40 [==============================] - 0s 3ms/step - loss: 4.7513e-04 - last_time_step_mse: 5.7674e-04 - val_loss: 3.5882e-04 - val_last_time_step_mse: 4.4967e-04\n",
      "Epoch 7/100\n",
      "40/40 [==============================] - 0s 3ms/step - loss: 4.7784e-04 - last_time_step_mse: 5.9091e-04 - val_loss: 2.6584e-04 - val_last_time_step_mse: 2.6580e-04\n",
      "Epoch 8/100\n",
      "40/40 [==============================] - 0s 3ms/step - loss: 4.6443e-04 - last_time_step_mse: 5.5760e-04 - val_loss: 3.2250e-04 - val_last_time_step_mse: 4.1864e-04\n",
      "Epoch 9/100\n",
      "40/40 [==============================] - 0s 3ms/step - loss: 4.6495e-04 - last_time_step_mse: 5.5436e-04 - val_loss: 2.6119e-04 - val_last_time_step_mse: 2.6680e-04\n",
      "Epoch 10/100\n",
      "40/40 [==============================] - 0s 4ms/step - loss: 4.5829e-04 - last_time_step_mse: 5.3848e-04 - val_loss: 2.5730e-04 - val_last_time_step_mse: 2.5927e-04\n",
      "Epoch 11/100\n",
      "40/40 [==============================] - 0s 3ms/step - loss: 4.5076e-04 - last_time_step_mse: 5.2691e-04 - val_loss: 2.7481e-04 - val_last_time_step_mse: 3.0355e-04\n",
      "Epoch 12/100\n",
      "40/40 [==============================] - 0s 4ms/step - loss: 4.5364e-04 - last_time_step_mse: 5.3396e-04 - val_loss: 4.0585e-04 - val_last_time_step_mse: 5.6538e-04\n",
      "Epoch 13/100\n",
      "40/40 [==============================] - 0s 4ms/step - loss: 4.5368e-04 - last_time_step_mse: 5.3187e-04 - val_loss: 2.5724e-04 - val_last_time_step_mse: 2.4322e-04\n",
      "Epoch 14/100\n",
      "40/40 [==============================] - 0s 3ms/step - loss: 4.4737e-04 - last_time_step_mse: 5.1238e-04 - val_loss: 3.1507e-04 - val_last_time_step_mse: 4.1336e-04\n",
      "Epoch 15/100\n",
      "40/40 [==============================] - 0s 4ms/step - loss: 4.4608e-04 - last_time_step_mse: 5.0813e-04 - val_loss: 2.5046e-04 - val_last_time_step_mse: 2.4428e-04\n",
      "Epoch 16/100\n",
      "40/40 [==============================] - 0s 4ms/step - loss: 4.3952e-04 - last_time_step_mse: 4.9233e-04 - val_loss: 3.8953e-04 - val_last_time_step_mse: 5.2875e-04\n",
      "Epoch 17/100\n",
      "40/40 [==============================] - 0s 3ms/step - loss: 4.4470e-04 - last_time_step_mse: 5.0750e-04 - val_loss: 2.5421e-04 - val_last_time_step_mse: 2.3468e-04\n",
      "Epoch 18/100\n",
      "40/40 [==============================] - 0s 4ms/step - loss: 4.4025e-04 - last_time_step_mse: 4.9716e-04 - val_loss: 2.4640e-04 - val_last_time_step_mse: 2.3014e-04\n",
      "Epoch 19/100\n",
      "40/40 [==============================] - 0s 4ms/step - loss: 4.4145e-04 - last_time_step_mse: 4.9706e-04 - val_loss: 2.4897e-04 - val_last_time_step_mse: 2.4186e-04\n",
      "Epoch 20/100\n",
      "40/40 [==============================] - 0s 4ms/step - loss: 4.4022e-04 - last_time_step_mse: 4.9943e-04 - val_loss: 2.6672e-04 - val_last_time_step_mse: 2.8522e-04\n",
      "Epoch 21/100\n",
      "40/40 [==============================] - 0s 4ms/step - loss: 4.3939e-04 - last_time_step_mse: 4.9739e-04 - val_loss: 2.4999e-04 - val_last_time_step_mse: 2.4133e-04\n",
      "Epoch 22/100\n",
      "40/40 [==============================] - 0s 3ms/step - loss: 4.3770e-04 - last_time_step_mse: 4.8733e-04 - val_loss: 2.6459e-04 - val_last_time_step_mse: 2.8300e-04\n",
      "Epoch 23/100\n",
      "40/40 [==============================] - 0s 3ms/step - loss: 4.4328e-04 - last_time_step_mse: 5.0013e-04 - val_loss: 2.5435e-04 - val_last_time_step_mse: 2.3398e-04\n",
      "Epoch 24/100\n",
      "40/40 [==============================] - 0s 4ms/step - loss: 4.4102e-04 - last_time_step_mse: 4.9657e-04 - val_loss: 2.4491e-04 - val_last_time_step_mse: 2.2865e-04\n",
      "Epoch 25/100\n",
      "40/40 [==============================] - 0s 3ms/step - loss: 4.3872e-04 - last_time_step_mse: 4.9114e-04 - val_loss: 2.5611e-04 - val_last_time_step_mse: 2.4840e-04\n",
      "Epoch 26/100\n",
      "40/40 [==============================] - 0s 4ms/step - loss: 4.4000e-04 - last_time_step_mse: 4.9824e-04 - val_loss: 2.6735e-04 - val_last_time_step_mse: 2.7457e-04\n",
      "Epoch 27/100\n",
      "40/40 [==============================] - 0s 3ms/step - loss: 4.4111e-04 - last_time_step_mse: 4.9864e-04 - val_loss: 2.6267e-04 - val_last_time_step_mse: 2.7505e-04\n",
      "Epoch 28/100\n",
      "40/40 [==============================] - 0s 4ms/step - loss: 4.4094e-04 - last_time_step_mse: 4.9813e-04 - val_loss: 2.7077e-04 - val_last_time_step_mse: 2.7452e-04\n",
      "Epoch 29/100\n",
      "40/40 [==============================] - 0s 3ms/step - loss: 4.3789e-04 - last_time_step_mse: 4.9132e-04 - val_loss: 2.4675e-04 - val_last_time_step_mse: 2.3281e-04\n",
      "Epoch 30/100\n",
      "40/40 [==============================] - 0s 4ms/step - loss: 4.3694e-04 - last_time_step_mse: 4.8932e-04 - val_loss: 2.4537e-04 - val_last_time_step_mse: 2.3100e-04\n",
      "Epoch 31/100\n",
      "40/40 [==============================] - 0s 3ms/step - loss: 4.3646e-04 - last_time_step_mse: 4.8822e-04 - val_loss: 2.4426e-04 - val_last_time_step_mse: 2.3077e-04\n",
      "Epoch 32/100\n",
      "40/40 [==============================] - 0s 3ms/step - loss: 4.3922e-04 - last_time_step_mse: 4.9393e-04 - val_loss: 2.4406e-04 - val_last_time_step_mse: 2.2459e-04\n",
      "Epoch 33/100\n",
      "40/40 [==============================] - 0s 3ms/step - loss: 4.3698e-04 - last_time_step_mse: 4.8895e-04 - val_loss: 2.4792e-04 - val_last_time_step_mse: 2.3590e-04\n",
      "Epoch 34/100\n",
      "40/40 [==============================] - 0s 3ms/step - loss: 4.3777e-04 - last_time_step_mse: 4.8728e-04 - val_loss: 2.5400e-04 - val_last_time_step_mse: 2.4621e-04\n",
      "Epoch 35/100\n",
      "40/40 [==============================] - 0s 3ms/step - loss: 4.3779e-04 - last_time_step_mse: 4.9399e-04 - val_loss: 2.4759e-04 - val_last_time_step_mse: 2.3699e-04\n",
      "Epoch 36/100\n",
      "40/40 [==============================] - 0s 3ms/step - loss: 4.3549e-04 - last_time_step_mse: 4.8518e-04 - val_loss: 2.5597e-04 - val_last_time_step_mse: 2.4640e-04\n",
      "Epoch 37/100\n",
      "40/40 [==============================] - 0s 3ms/step - loss: 4.3794e-04 - last_time_step_mse: 4.9482e-04 - val_loss: 3.2842e-04 - val_last_time_step_mse: 4.6336e-04\n",
      "Epoch 38/100\n",
      "40/40 [==============================] - 0s 4ms/step - loss: 4.3720e-04 - last_time_step_mse: 4.9184e-04 - val_loss: 2.6632e-04 - val_last_time_step_mse: 2.8306e-04\n",
      "Epoch 39/100\n",
      "40/40 [==============================] - 0s 3ms/step - loss: 4.3789e-04 - last_time_step_mse: 4.9187e-04 - val_loss: 2.7410e-04 - val_last_time_step_mse: 2.9358e-04\n",
      "Epoch 40/100\n",
      "40/40 [==============================] - 0s 3ms/step - loss: 4.3698e-04 - last_time_step_mse: 4.9346e-04 - val_loss: 2.4422e-04 - val_last_time_step_mse: 2.2530e-04\n",
      "Epoch 41/100\n",
      "40/40 [==============================] - 0s 3ms/step - loss: 4.3435e-04 - last_time_step_mse: 4.8587e-04 - val_loss: 2.4853e-04 - val_last_time_step_mse: 2.3713e-04\n",
      "Epoch 42/100\n",
      "40/40 [==============================] - 0s 3ms/step - loss: 4.3587e-04 - last_time_step_mse: 4.8722e-04 - val_loss: 2.4227e-04 - val_last_time_step_mse: 2.2432e-04\n",
      "Epoch 43/100\n",
      "40/40 [==============================] - 0s 3ms/step - loss: 4.3611e-04 - last_time_step_mse: 4.9019e-04 - val_loss: 2.6451e-04 - val_last_time_step_mse: 2.8876e-04\n",
      "Epoch 44/100\n",
      "40/40 [==============================] - 0s 4ms/step - loss: 4.3589e-04 - last_time_step_mse: 4.8756e-04 - val_loss: 2.5644e-04 - val_last_time_step_mse: 2.6433e-04\n",
      "Epoch 45/100\n",
      "40/40 [==============================] - 0s 3ms/step - loss: 4.3468e-04 - last_time_step_mse: 4.8775e-04 - val_loss: 2.4424e-04 - val_last_time_step_mse: 2.2729e-04\n",
      "Epoch 46/100\n",
      "40/40 [==============================] - 0s 3ms/step - loss: 4.3472e-04 - last_time_step_mse: 4.8865e-04 - val_loss: 2.4722e-04 - val_last_time_step_mse: 2.4181e-04\n",
      "Epoch 47/100\n",
      "40/40 [==============================] - 0s 4ms/step - loss: 4.3503e-04 - last_time_step_mse: 4.9112e-04 - val_loss: 2.5822e-04 - val_last_time_step_mse: 2.6539e-04\n",
      "Epoch 48/100\n",
      "40/40 [==============================] - 0s 3ms/step - loss: 4.3336e-04 - last_time_step_mse: 4.8438e-04 - val_loss: 2.7970e-04 - val_last_time_step_mse: 3.1537e-04\n",
      "Epoch 49/100\n",
      "40/40 [==============================] - 0s 4ms/step - loss: 4.3744e-04 - last_time_step_mse: 4.9289e-04 - val_loss: 2.4583e-04 - val_last_time_step_mse: 2.3709e-04\n",
      "Epoch 50/100\n",
      "40/40 [==============================] - 0s 3ms/step - loss: 4.3374e-04 - last_time_step_mse: 4.8458e-04 - val_loss: 2.5171e-04 - val_last_time_step_mse: 2.4160e-04\n",
      "Epoch 51/100\n",
      "40/40 [==============================] - 0s 3ms/step - loss: 4.3336e-04 - last_time_step_mse: 4.8418e-04 - val_loss: 5.0463e-04 - val_last_time_step_mse: 8.6984e-04\n",
      "Epoch 52/100\n",
      "40/40 [==============================] - 0s 3ms/step - loss: 4.4104e-04 - last_time_step_mse: 5.0027e-04 - val_loss: 2.4553e-04 - val_last_time_step_mse: 2.2729e-04\n"
     ]
    },
    {
     "data": {
      "text/plain": [
       "<keras.callbacks.History at 0x2350856e470>"
      ]
     },
     "execution_count": 132,
     "metadata": {},
     "output_type": "execute_result"
    }
   ],
   "source": [
    "keras_reg.fit(X_train_de, y_train_de, epochs=100,\n",
    "              validation_data=(X_valid_de, y_valid_de),\n",
    "              callbacks=[keras.callbacks.EarlyStopping(patience=10)])"
   ]
  },
  {
   "cell_type": "markdown",
   "id": "92fb6b43",
   "metadata": {
    "hidden": true
   },
   "source": [
    "we do a random search for the number of hidden layers and the number of neurons in each layer\n",
    "\n"
   ]
  },
  {
   "cell_type": "code",
   "execution_count": 133,
   "id": "c945d215",
   "metadata": {
    "ExecuteTime": {
     "end_time": "2022-05-30T19:47:39.325625Z",
     "start_time": "2022-05-30T19:42:38.746157Z"
    },
    "hidden": true
   },
   "outputs": [
    {
     "name": "stdout",
     "output_type": "stream",
     "text": [
      "Epoch 1/100\n",
      "40/40 [==============================] - 4s 20ms/step - loss: 5.7738e-04 - last_time_step_mse: 9.1322e-04 - val_loss: 3.2556e-04 - val_last_time_step_mse: 4.4826e-04\n",
      "Epoch 2/100\n",
      "40/40 [==============================] - 0s 4ms/step - loss: 5.3755e-04 - last_time_step_mse: 7.8225e-04 - val_loss: 4.0151e-04 - val_last_time_step_mse: 6.0283e-04\n",
      "Epoch 3/100\n",
      "40/40 [==============================] - 0s 5ms/step - loss: 4.9745e-04 - last_time_step_mse: 6.4416e-04 - val_loss: 2.7457e-04 - val_last_time_step_mse: 2.9032e-04\n",
      "Epoch 4/100\n",
      "40/40 [==============================] - 0s 4ms/step - loss: 4.7380e-04 - last_time_step_mse: 5.7329e-04 - val_loss: 2.8077e-04 - val_last_time_step_mse: 3.0185e-04\n",
      "Epoch 5/100\n",
      "40/40 [==============================] - 0s 4ms/step - loss: 4.8166e-04 - last_time_step_mse: 5.9352e-04 - val_loss: 2.6146e-04 - val_last_time_step_mse: 2.5885e-04\n",
      "Epoch 6/100\n",
      "40/40 [==============================] - 0s 4ms/step - loss: 4.6537e-04 - last_time_step_mse: 5.5425e-04 - val_loss: 3.7263e-04 - val_last_time_step_mse: 4.7556e-04\n",
      "Epoch 7/100\n",
      "40/40 [==============================] - 0s 4ms/step - loss: 4.7034e-04 - last_time_step_mse: 5.7362e-04 - val_loss: 2.5860e-04 - val_last_time_step_mse: 2.5611e-04\n",
      "Epoch 8/100\n",
      "40/40 [==============================] - 0s 5ms/step - loss: 4.5704e-04 - last_time_step_mse: 5.4210e-04 - val_loss: 3.1739e-04 - val_last_time_step_mse: 4.1185e-04\n",
      "Epoch 9/100\n",
      "40/40 [==============================] - 0s 4ms/step - loss: 4.5823e-04 - last_time_step_mse: 5.4052e-04 - val_loss: 2.5679e-04 - val_last_time_step_mse: 2.5984e-04\n",
      "Epoch 10/100\n",
      "40/40 [==============================] - 0s 5ms/step - loss: 4.5240e-04 - last_time_step_mse: 5.2631e-04 - val_loss: 2.5253e-04 - val_last_time_step_mse: 2.5073e-04\n",
      "Epoch 11/100\n",
      "40/40 [==============================] - 0s 4ms/step - loss: 4.4504e-04 - last_time_step_mse: 5.1606e-04 - val_loss: 2.6746e-04 - val_last_time_step_mse: 2.9417e-04\n",
      "Epoch 12/100\n",
      "40/40 [==============================] - 0s 5ms/step - loss: 4.4755e-04 - last_time_step_mse: 5.2092e-04 - val_loss: 3.6537e-04 - val_last_time_step_mse: 4.9420e-04\n",
      "Epoch 13/100\n",
      "40/40 [==============================] - 0s 4ms/step - loss: 4.4947e-04 - last_time_step_mse: 5.2010e-04 - val_loss: 2.5537e-04 - val_last_time_step_mse: 2.4271e-04\n",
      "Epoch 14/100\n",
      "40/40 [==============================] - 0s 5ms/step - loss: 4.4443e-04 - last_time_step_mse: 5.0750e-04 - val_loss: 3.0015e-04 - val_last_time_step_mse: 3.8275e-04\n",
      "Epoch 15/100\n",
      "40/40 [==============================] - 0s 4ms/step - loss: 4.4249e-04 - last_time_step_mse: 5.0299e-04 - val_loss: 2.4996e-04 - val_last_time_step_mse: 2.4512e-04\n",
      "Epoch 16/100\n",
      "40/40 [==============================] - 0s 4ms/step - loss: 4.3636e-04 - last_time_step_mse: 4.8557e-04 - val_loss: 3.7044e-04 - val_last_time_step_mse: 4.8194e-04\n",
      "Epoch 17/100\n",
      "40/40 [==============================] - 0s 4ms/step - loss: 4.4197e-04 - last_time_step_mse: 5.0349e-04 - val_loss: 2.4972e-04 - val_last_time_step_mse: 2.3043e-04\n",
      "Epoch 18/100\n",
      "40/40 [==============================] - 0s 4ms/step - loss: 4.3794e-04 - last_time_step_mse: 4.9436e-04 - val_loss: 2.4876e-04 - val_last_time_step_mse: 2.3690e-04\n",
      "Epoch 19/100\n",
      "40/40 [==============================] - 0s 5ms/step - loss: 4.3886e-04 - last_time_step_mse: 4.9348e-04 - val_loss: 2.4710e-04 - val_last_time_step_mse: 2.3517e-04\n",
      "Epoch 20/100\n",
      "40/40 [==============================] - 0s 5ms/step - loss: 4.3910e-04 - last_time_step_mse: 4.9921e-04 - val_loss: 2.6065e-04 - val_last_time_step_mse: 2.7225e-04\n",
      "Epoch 21/100\n",
      "40/40 [==============================] - 0s 4ms/step - loss: 4.3729e-04 - last_time_step_mse: 4.9435e-04 - val_loss: 2.4878e-04 - val_last_time_step_mse: 2.3735e-04\n",
      "Epoch 22/100\n",
      "40/40 [==============================] - 0s 5ms/step - loss: 4.3637e-04 - last_time_step_mse: 4.8613e-04 - val_loss: 2.6367e-04 - val_last_time_step_mse: 2.8260e-04\n",
      "Epoch 23/100\n",
      "40/40 [==============================] - 0s 5ms/step - loss: 4.4176e-04 - last_time_step_mse: 5.0010e-04 - val_loss: 2.5109e-04 - val_last_time_step_mse: 2.3048e-04\n",
      "Epoch 24/100\n",
      "40/40 [==============================] - 0s 4ms/step - loss: 4.3941e-04 - last_time_step_mse: 4.9561e-04 - val_loss: 2.4375e-04 - val_last_time_step_mse: 2.2721e-04\n",
      "Epoch 25/100\n",
      "40/40 [==============================] - 0s 4ms/step - loss: 4.3621e-04 - last_time_step_mse: 4.8754e-04 - val_loss: 2.5198e-04 - val_last_time_step_mse: 2.4620e-04\n",
      "Epoch 26/100\n",
      "40/40 [==============================] - 0s 4ms/step - loss: 4.3798e-04 - last_time_step_mse: 4.9600e-04 - val_loss: 2.6992e-04 - val_last_time_step_mse: 2.9284e-04\n",
      "Epoch 27/100\n",
      "40/40 [==============================] - 0s 5ms/step - loss: 4.3987e-04 - last_time_step_mse: 4.9801e-04 - val_loss: 2.6049e-04 - val_last_time_step_mse: 2.6229e-04\n",
      "Epoch 28/100\n",
      "40/40 [==============================] - 0s 5ms/step - loss: 4.3929e-04 - last_time_step_mse: 4.9608e-04 - val_loss: 2.6927e-04 - val_last_time_step_mse: 2.7270e-04\n",
      "Epoch 29/100\n",
      "40/40 [==============================] - 0s 4ms/step - loss: 4.3744e-04 - last_time_step_mse: 4.9254e-04 - val_loss: 2.4953e-04 - val_last_time_step_mse: 2.3763e-04\n",
      "Epoch 30/100\n",
      "40/40 [==============================] - 0s 5ms/step - loss: 4.3656e-04 - last_time_step_mse: 4.9024e-04 - val_loss: 2.4735e-04 - val_last_time_step_mse: 2.3551e-04\n",
      "Epoch 31/100\n",
      "40/40 [==============================] - 0s 5ms/step - loss: 4.3513e-04 - last_time_step_mse: 4.8662e-04 - val_loss: 2.4454e-04 - val_last_time_step_mse: 2.3219e-04\n",
      "Epoch 32/100\n",
      "40/40 [==============================] - 0s 4ms/step - loss: 4.3849e-04 - last_time_step_mse: 4.9385e-04 - val_loss: 2.4410e-04 - val_last_time_step_mse: 2.2321e-04\n",
      "Epoch 33/100\n",
      "40/40 [==============================] - 0s 4ms/step - loss: 4.3659e-04 - last_time_step_mse: 4.9028e-04 - val_loss: 2.4739e-04 - val_last_time_step_mse: 2.3687e-04\n",
      "Epoch 34/100\n",
      "40/40 [==============================] - 0s 4ms/step - loss: 4.3768e-04 - last_time_step_mse: 4.8903e-04 - val_loss: 2.5060e-04 - val_last_time_step_mse: 2.4583e-04\n"
     ]
    },
    {
     "data": {
      "text/html": [
       "<style>#sk-container-id-17 {color: black;background-color: white;}#sk-container-id-17 pre{padding: 0;}#sk-container-id-17 div.sk-toggleable {background-color: white;}#sk-container-id-17 label.sk-toggleable__label {cursor: pointer;display: block;width: 100%;margin-bottom: 0;padding: 0.3em;box-sizing: border-box;text-align: center;}#sk-container-id-17 label.sk-toggleable__label-arrow:before {content: \"▸\";float: left;margin-right: 0.25em;color: #696969;}#sk-container-id-17 label.sk-toggleable__label-arrow:hover:before {color: black;}#sk-container-id-17 div.sk-estimator:hover label.sk-toggleable__label-arrow:before {color: black;}#sk-container-id-17 div.sk-toggleable__content {max-height: 0;max-width: 0;overflow: hidden;text-align: left;background-color: #f0f8ff;}#sk-container-id-17 div.sk-toggleable__content pre {margin: 0.2em;color: black;border-radius: 0.25em;background-color: #f0f8ff;}#sk-container-id-17 input.sk-toggleable__control:checked~div.sk-toggleable__content {max-height: 200px;max-width: 100%;overflow: auto;}#sk-container-id-17 input.sk-toggleable__control:checked~label.sk-toggleable__label-arrow:before {content: \"▾\";}#sk-container-id-17 div.sk-estimator input.sk-toggleable__control:checked~label.sk-toggleable__label {background-color: #d4ebff;}#sk-container-id-17 div.sk-label input.sk-toggleable__control:checked~label.sk-toggleable__label {background-color: #d4ebff;}#sk-container-id-17 input.sk-hidden--visually {border: 0;clip: rect(1px 1px 1px 1px);clip: rect(1px, 1px, 1px, 1px);height: 1px;margin: -1px;overflow: hidden;padding: 0;position: absolute;width: 1px;}#sk-container-id-17 div.sk-estimator {font-family: monospace;background-color: #f0f8ff;border: 1px dotted black;border-radius: 0.25em;box-sizing: border-box;margin-bottom: 0.5em;}#sk-container-id-17 div.sk-estimator:hover {background-color: #d4ebff;}#sk-container-id-17 div.sk-parallel-item::after {content: \"\";width: 100%;border-bottom: 1px solid gray;flex-grow: 1;}#sk-container-id-17 div.sk-label:hover label.sk-toggleable__label {background-color: #d4ebff;}#sk-container-id-17 div.sk-serial::before {content: \"\";position: absolute;border-left: 1px solid gray;box-sizing: border-box;top: 0;bottom: 0;left: 50%;z-index: 0;}#sk-container-id-17 div.sk-serial {display: flex;flex-direction: column;align-items: center;background-color: white;padding-right: 0.2em;padding-left: 0.2em;position: relative;}#sk-container-id-17 div.sk-item {position: relative;z-index: 1;}#sk-container-id-17 div.sk-parallel {display: flex;align-items: stretch;justify-content: center;background-color: white;position: relative;}#sk-container-id-17 div.sk-item::before, #sk-container-id-17 div.sk-parallel-item::before {content: \"\";position: absolute;border-left: 1px solid gray;box-sizing: border-box;top: 0;bottom: 0;left: 50%;z-index: -1;}#sk-container-id-17 div.sk-parallel-item {display: flex;flex-direction: column;z-index: 1;position: relative;background-color: white;}#sk-container-id-17 div.sk-parallel-item:first-child::after {align-self: flex-end;width: 50%;}#sk-container-id-17 div.sk-parallel-item:last-child::after {align-self: flex-start;width: 50%;}#sk-container-id-17 div.sk-parallel-item:only-child::after {width: 0;}#sk-container-id-17 div.sk-dashed-wrapped {border: 1px dashed gray;margin: 0 0.4em 0.5em 0.4em;box-sizing: border-box;padding-bottom: 0.4em;background-color: white;}#sk-container-id-17 div.sk-label label {font-family: monospace;font-weight: bold;display: inline-block;line-height: 1.2em;}#sk-container-id-17 div.sk-label-container {text-align: center;}#sk-container-id-17 div.sk-container {/* jupyter's `normalize.less` sets `[hidden] { display: none; }` but bootstrap.min.css set `[hidden] { display: none !important; }` so we also need the `!important` here to be able to override the default hidden behavior on the sphinx rendered scikit-learn.org. See: https://github.com/scikit-learn/scikit-learn/issues/21755 */display: inline-block !important;position: relative;}#sk-container-id-17 div.sk-text-repr-fallback {display: none;}</style><div id=\"sk-container-id-17\" class=\"sk-top-container\"><div class=\"sk-text-repr-fallback\"><pre>RandomizedSearchCV(cv=3,\n",
       "                   estimator=&lt;keras.wrappers.scikit_learn.KerasRegressor object at 0x0000023508417EB0&gt;,\n",
       "                   n_jobs=-1,\n",
       "                   param_distributions={&#x27;n_hidden&#x27;: [1, 2, 3],\n",
       "                                        &#x27;n_neurons&#x27;: array([20, 21, 22, 23, 24, 25, 26, 27, 28, 29, 30, 31, 32, 33, 34, 35, 36,\n",
       "       37, 38, 39, 40, 41, 42, 43, 44, 45, 46, 47, 48, 49, 50, 51, 52, 53,\n",
       "       54, 55, 56, 57, 58, 59, 60, 61, 62, 63, 64, 65, 66, 67, 68, 69, 70,\n",
       "       71, 72, 73, 74, 75, 76, 77, 78, 79])})</pre><b>In a Jupyter environment, please rerun this cell to show the HTML representation or trust the notebook. <br />On GitHub, the HTML representation is unable to render, please try loading this page with nbviewer.org.</b></div><div class=\"sk-container\" hidden><div class=\"sk-item sk-dashed-wrapped\"><div class=\"sk-label-container\"><div class=\"sk-label sk-toggleable\"><input class=\"sk-toggleable__control sk-hidden--visually\" id=\"sk-estimator-id-41\" type=\"checkbox\" ><label for=\"sk-estimator-id-41\" class=\"sk-toggleable__label sk-toggleable__label-arrow\">RandomizedSearchCV</label><div class=\"sk-toggleable__content\"><pre>RandomizedSearchCV(cv=3,\n",
       "                   estimator=&lt;keras.wrappers.scikit_learn.KerasRegressor object at 0x0000023508417EB0&gt;,\n",
       "                   n_jobs=-1,\n",
       "                   param_distributions={&#x27;n_hidden&#x27;: [1, 2, 3],\n",
       "                                        &#x27;n_neurons&#x27;: array([20, 21, 22, 23, 24, 25, 26, 27, 28, 29, 30, 31, 32, 33, 34, 35, 36,\n",
       "       37, 38, 39, 40, 41, 42, 43, 44, 45, 46, 47, 48, 49, 50, 51, 52, 53,\n",
       "       54, 55, 56, 57, 58, 59, 60, 61, 62, 63, 64, 65, 66, 67, 68, 69, 70,\n",
       "       71, 72, 73, 74, 75, 76, 77, 78, 79])})</pre></div></div></div><div class=\"sk-parallel\"><div class=\"sk-parallel-item\"><div class=\"sk-item\"><div class=\"sk-label-container\"><div class=\"sk-label sk-toggleable\"><input class=\"sk-toggleable__control sk-hidden--visually\" id=\"sk-estimator-id-42\" type=\"checkbox\" ><label for=\"sk-estimator-id-42\" class=\"sk-toggleable__label sk-toggleable__label-arrow\">estimator: KerasRegressor</label><div class=\"sk-toggleable__content\"><pre>&lt;keras.wrappers.scikit_learn.KerasRegressor object at 0x0000023508417EB0&gt;</pre></div></div></div><div class=\"sk-serial\"><div class=\"sk-item\"><div class=\"sk-estimator sk-toggleable\"><input class=\"sk-toggleable__control sk-hidden--visually\" id=\"sk-estimator-id-43\" type=\"checkbox\" ><label for=\"sk-estimator-id-43\" class=\"sk-toggleable__label sk-toggleable__label-arrow\">KerasRegressor</label><div class=\"sk-toggleable__content\"><pre>&lt;keras.wrappers.scikit_learn.KerasRegressor object at 0x0000023508417EB0&gt;</pre></div></div></div></div></div></div></div></div></div></div>"
      ],
      "text/plain": [
       "RandomizedSearchCV(cv=3,\n",
       "                   estimator=<keras.wrappers.scikit_learn.KerasRegressor object at 0x0000023508417EB0>,\n",
       "                   n_jobs=-1,\n",
       "                   param_distributions={'n_hidden': [1, 2, 3],\n",
       "                                        'n_neurons': array([20, 21, 22, 23, 24, 25, 26, 27, 28, 29, 30, 31, 32, 33, 34, 35, 36,\n",
       "       37, 38, 39, 40, 41, 42, 43, 44, 45, 46, 47, 48, 49, 50, 51, 52, 53,\n",
       "       54, 55, 56, 57, 58, 59, 60, 61, 62, 63, 64, 65, 66, 67, 68, 69, 70,\n",
       "       71, 72, 73, 74, 75, 76, 77, 78, 79])})"
      ]
     },
     "execution_count": 133,
     "metadata": {},
     "output_type": "execute_result"
    }
   ],
   "source": [
    "from scipy.stats import reciprocal\n",
    "from sklearn.model_selection import RandomizedSearchCV\n",
    "\n",
    "param_distribs = {\n",
    "    \"n_hidden\": [1, 2, 3],\n",
    "    \"n_neurons\": np.arange(20, 80)\n",
    "}\n",
    "\n",
    "rnd_search_cv = RandomizedSearchCV(keras_reg, param_distribs, n_iter=10, cv=3, n_jobs=-1)\n",
    "rnd_search_cv.fit(X_train_de, y_train_de, epochs=100,\n",
    "                  validation_data=(X_valid_de, y_valid_de),\n",
    "                  callbacks=[keras.callbacks.EarlyStopping(patience=10)])"
   ]
  },
  {
   "cell_type": "markdown",
   "id": "63ff3fb8",
   "metadata": {
    "hidden": true
   },
   "source": [
    "the best n_neurons is 38 and n_hidden is 2"
   ]
  },
  {
   "cell_type": "code",
   "execution_count": 135,
   "id": "f7ecdd59",
   "metadata": {
    "ExecuteTime": {
     "end_time": "2022-05-30T19:47:39.329402Z",
     "start_time": "2022-05-30T19:47:39.326863Z"
    },
    "hidden": true
   },
   "outputs": [
    {
     "data": {
      "text/plain": [
       "{'n_neurons': 38, 'n_hidden': 2}"
      ]
     },
     "execution_count": 135,
     "metadata": {},
     "output_type": "execute_result"
    }
   ],
   "source": [
    "rnd_search_cv.best_params_"
   ]
  },
  {
   "cell_type": "code",
   "execution_count": 136,
   "id": "a2dfe81d",
   "metadata": {
    "ExecuteTime": {
     "end_time": "2022-05-30T19:47:58.972827Z",
     "start_time": "2022-05-30T19:47:39.330972Z"
    },
    "hidden": true
   },
   "outputs": [],
   "source": [
    "lstm = build_model(n_hidden = 2, n_neurons = 38)\n",
    "early_stopping_cb = keras.callbacks.EarlyStopping(patience=10,\n",
    "                                                  min_delta=0.01,\n",
    "                                                  restore_best_weights=True)\n",
    "run = lstm.fit(X_train_de, y_train_de, epochs=200,\n",
    "                    validation_data=(X_valid_de, y_valid_de),\n",
    "                    callbacks=[early_stopping_cb], verbose=0)"
   ]
  },
  {
   "cell_type": "markdown",
   "id": "78430613",
   "metadata": {
    "hidden": true
   },
   "source": [
    "From learning curve, it's good"
   ]
  },
  {
   "cell_type": "code",
   "execution_count": 137,
   "id": "3340cb54",
   "metadata": {
    "ExecuteTime": {
     "end_time": "2022-05-30T19:47:59.103989Z",
     "start_time": "2022-05-30T19:47:58.973941Z"
    },
    "hidden": true
   },
   "outputs": [
    {
     "data": {
      "image/png": "[encoded data removed]",
      "text/plain": [
       "<Figure size 576x360 with 1 Axes>"
      ]
     },
     "metadata": {
      "needs_background": "light"
     },
     "output_type": "display_data"
    }
   ],
   "source": [
    "pd.DataFrame(run.history).plot(figsize=(8, 5))\n",
    "plt.grid(True)\n",
    "plt.show()"
   ]
  },
  {
   "cell_type": "code",
   "execution_count": 138,
   "id": "089a3365",
   "metadata": {
    "ExecuteTime": {
     "end_time": "2022-05-30T19:48:00.127353Z",
     "start_time": "2022-05-30T19:47:59.105751Z"
    },
    "hidden": true
   },
   "outputs": [
    {
     "name": "stdout",
     "output_type": "stream",
     "text": [
      "19/19 [==============================] - 1s 2ms/step\n"
     ]
    }
   ],
   "source": [
    "y_pred = lstm.predict(X_test_de)\n",
    "lstm_mse = mean_squared_error(y_pred[:, -1], y_test_de[:, -1], multioutput=\"raw_values\")"
   ]
  },
  {
   "cell_type": "markdown",
   "id": "32c3a469",
   "metadata": {
    "hidden": true
   },
   "source": [
    "mse is a bit worse than deepRNN_dense_each, but is much better than others"
   ]
  },
  {
   "cell_type": "code",
   "execution_count": 139,
   "id": "26a34317",
   "metadata": {
    "ExecuteTime": {
     "end_time": "2022-05-30T19:48:00.137342Z",
     "start_time": "2022-05-30T19:48:00.128589Z"
    },
    "hidden": true
   },
   "outputs": [
    {
     "data": {
      "text/html": [
       "<div>\n",
       "<style scoped>\n",
       "    .dataframe tbody tr th:only-of-type {\n",
       "        vertical-align: middle;\n",
       "    }\n",
       "\n",
       "    .dataframe tbody tr th {\n",
       "        vertical-align: top;\n",
       "    }\n",
       "\n",
       "    .dataframe thead th {\n",
       "        text-align: right;\n",
       "    }\n",
       "</style>\n",
       "<table border=\"1\" class=\"dataframe\">\n",
       "  <thead>\n",
       "    <tr style=\"text-align: right;\">\n",
       "      <th></th>\n",
       "      <th>lin_mse</th>\n",
       "      <th>sgd_reg</th>\n",
       "      <th>poly_reg</th>\n",
       "      <th>ridge_reg</th>\n",
       "      <th>lasso_reg</th>\n",
       "      <th>elastic_net</th>\n",
       "      <th>sp_rnn</th>\n",
       "      <th>dp_rnn</th>\n",
       "      <th>deepRNN-BN-DO</th>\n",
       "      <th>deepRNN_dense_each</th>\n",
       "      <th>deepLSTM_dense_each</th>\n",
       "    </tr>\n",
       "  </thead>\n",
       "  <tbody>\n",
       "    <tr>\n",
       "      <th>0</th>\n",
       "      <td>0.002271</td>\n",
       "      <td>0.002189</td>\n",
       "      <td>0.022761</td>\n",
       "      <td>0.002191</td>\n",
       "      <td>0.002189</td>\n",
       "      <td>0.00219</td>\n",
       "      <td>0.014262</td>\n",
       "      <td>0.003489</td>\n",
       "      <td>0.00342</td>\n",
       "      <td>0.00047</td>\n",
       "      <td>0.00086</td>\n",
       "    </tr>\n",
       "  </tbody>\n",
       "</table>\n",
       "</div>"
      ],
      "text/plain": [
       "    lin_mse   sgd_reg  poly_reg  ridge_reg  lasso_reg  elastic_net    sp_rnn  \\\n",
       "0  0.002271  0.002189  0.022761   0.002191   0.002189      0.00219  0.014262   \n",
       "\n",
       "     dp_rnn  deepRNN-BN-DO  deepRNN_dense_each  deepLSTM_dense_each  \n",
       "0  0.003489        0.00342             0.00047              0.00086  "
      ]
     },
     "execution_count": 139,
     "metadata": {},
     "output_type": "execute_result"
    }
   ],
   "source": [
    "mse[\"deepLSTM_dense_each\"] = lstm_mse\n",
    "mse"
   ]
  },
  {
   "cell_type": "markdown",
   "id": "3049855b",
   "metadata": {
    "heading_collapsed": true
   },
   "source": [
    "## 3.MLP"
   ]
  },
  {
   "cell_type": "markdown",
   "id": "a744bc69",
   "metadata": {
    "hidden": true
   },
   "source": [
    "We first build a simple mlp with 1 hidden layer as a baseline model."
   ]
  },
  {
   "cell_type": "code",
   "execution_count": 185,
   "id": "f33712e6",
   "metadata": {
    "ExecuteTime": {
     "end_time": "2022-06-01T15:06:12.239795Z",
     "start_time": "2022-06-01T15:06:10.556152Z"
    },
    "hidden": true
   },
   "outputs": [],
   "source": [
    "model = keras.models.Sequential([\n",
    "    keras.layers.InputLayer(input_shape=(36,)),\n",
    "    keras.layers.Dense(50, activation=\"relu\", kernel_initializer=\"he_normal\"),\n",
    "    keras.layers.Dense(1, activation=\"relu\", kernel_initializer=\"he_normal\")\n",
    "])\n",
    "\n",
    "optimizer = keras.optimizers.Nadam(learning_rate=0.001, beta_1=0.9, beta_2=0.999)\n",
    "model.compile(loss=\"mse\",\n",
    "              optimizer=optimizer,\n",
    "              metrics=[\"mse\"])\n",
    "\n",
    "run = model.fit(X_train, y_train, epochs=30,\n",
    "          validation_data=(X_valid, y_valid), verbose=0)"
   ]
  },
  {
   "cell_type": "markdown",
   "id": "bbd87595",
   "metadata": {
    "hidden": true
   },
   "source": [
    "We check the whether the model is overfitting as usual"
   ]
  },
  {
   "cell_type": "code",
   "execution_count": 186,
   "id": "2578e198",
   "metadata": {
    "ExecuteTime": {
     "end_time": "2022-06-01T15:08:13.896757Z",
     "start_time": "2022-06-01T15:08:13.758168Z"
    },
    "hidden": true
   },
   "outputs": [
    {
     "data": {
      "image/png": "[encoded data removed]",
      "text/plain": [
       "<Figure size 576x360 with 1 Axes>"
      ]
     },
     "metadata": {
      "needs_background": "light"
     },
     "output_type": "display_data"
    }
   ],
   "source": [
    "pd.DataFrame(run.history).plot(figsize=(8, 5))\n",
    "plt.grid(True)\n",
    "plt.show()"
   ]
  },
  {
   "cell_type": "markdown",
   "id": "eefe5b66",
   "metadata": {
    "hidden": true
   },
   "source": [
    "Even such a simple mlp we seem to overfit the data"
   ]
  },
  {
   "cell_type": "code",
   "execution_count": 187,
   "id": "6e64b9d4",
   "metadata": {
    "ExecuteTime": {
     "end_time": "2022-06-01T15:08:41.217278Z",
     "start_time": "2022-06-01T15:08:41.154792Z"
    },
    "hidden": true
   },
   "outputs": [
    {
     "name": "stdout",
     "output_type": "stream",
     "text": [
      "19/19 [==============================] - 0s 606us/step\n"
     ]
    },
    {
     "data": {
      "text/html": [
       "<div>\n",
       "<style scoped>\n",
       "    .dataframe tbody tr th:only-of-type {\n",
       "        vertical-align: middle;\n",
       "    }\n",
       "\n",
       "    .dataframe tbody tr th {\n",
       "        vertical-align: top;\n",
       "    }\n",
       "\n",
       "    .dataframe thead th {\n",
       "        text-align: right;\n",
       "    }\n",
       "</style>\n",
       "<table border=\"1\" class=\"dataframe\">\n",
       "  <thead>\n",
       "    <tr style=\"text-align: right;\">\n",
       "      <th></th>\n",
       "      <th>lin_mse</th>\n",
       "      <th>sgd_reg</th>\n",
       "      <th>poly_reg</th>\n",
       "      <th>ridge_reg</th>\n",
       "      <th>lasso_reg</th>\n",
       "      <th>elastic_net</th>\n",
       "      <th>sp_rnn</th>\n",
       "      <th>dp_rnn</th>\n",
       "      <th>deepRNN-BN-DO</th>\n",
       "      <th>deepRNN_dense_each</th>\n",
       "      <th>deepLSTM_dense_each</th>\n",
       "      <th>simple mlp</th>\n",
       "      <th>deep mlp</th>\n",
       "      <th>simple CNN</th>\n",
       "      <th>deep CNN</th>\n",
       "      <th>deep CNN ave</th>\n",
       "      <th>deep CNN max</th>\n",
       "    </tr>\n",
       "  </thead>\n",
       "  <tbody>\n",
       "    <tr>\n",
       "      <th>0</th>\n",
       "      <td>0.002271</td>\n",
       "      <td>0.002189</td>\n",
       "      <td>0.022761</td>\n",
       "      <td>0.002191</td>\n",
       "      <td>0.002189</td>\n",
       "      <td>0.00219</td>\n",
       "      <td>0.014262</td>\n",
       "      <td>0.003489</td>\n",
       "      <td>0.00342</td>\n",
       "      <td>0.00047</td>\n",
       "      <td>0.00086</td>\n",
       "      <td>0.002178</td>\n",
       "      <td>0.002789</td>\n",
       "      <td>0.002312</td>\n",
       "      <td>0.006322</td>\n",
       "      <td>0.006089</td>\n",
       "      <td>0.002678</td>\n",
       "    </tr>\n",
       "  </tbody>\n",
       "</table>\n",
       "</div>"
      ],
      "text/plain": [
       "    lin_mse   sgd_reg  poly_reg  ridge_reg  lasso_reg  elastic_net    sp_rnn  \\\n",
       "0  0.002271  0.002189  0.022761   0.002191   0.002189      0.00219  0.014262   \n",
       "\n",
       "     dp_rnn  deepRNN-BN-DO  deepRNN_dense_each  deepLSTM_dense_each  \\\n",
       "0  0.003489        0.00342             0.00047              0.00086   \n",
       "\n",
       "   simple mlp  deep mlp  simple CNN  deep CNN  deep CNN ave  deep CNN max  \n",
       "0    0.002178  0.002789    0.002312  0.006322      0.006089      0.002678  "
      ]
     },
     "execution_count": 187,
     "metadata": {},
     "output_type": "execute_result"
    }
   ],
   "source": [
    "y_test_pred = model.predict(X_test)\n",
    "mse[\"simple mlp\"] = mean_squared_error(y_test, y_test_pred)\n",
    "mse"
   ]
  },
  {
   "cell_type": "markdown",
   "id": "ca4a1e57",
   "metadata": {
    "hidden": true
   },
   "source": [
    "Next we perform hyper parameter tuning using a randomized search to search for the best number of hidden layers, neurons per hidden layer."
   ]
  },
  {
   "cell_type": "code",
   "execution_count": 188,
   "id": "98d77fa4",
   "metadata": {
    "ExecuteTime": {
     "end_time": "2022-06-01T15:08:58.414370Z",
     "start_time": "2022-06-01T15:08:58.410532Z"
    },
    "hidden": true
   },
   "outputs": [],
   "source": [
    "def build_model(n_hidden=1, n_neurons=30):\n",
    "    model = keras.models.Sequential()\n",
    "    model.add(keras.layers.InputLayer(input_shape=(36,)))\n",
    "    for layer in range(n_hidden):\n",
    "        model.add(keras.layers.Dense(n_neurons, activation=\"selu\", kernel_initializer=\"lecun_normal\"))\n",
    "    model.add(keras.layers.Dense(1, kernel_initializer=\"glorot_uniform\"))\n",
    "    model.compile(loss=\"mse\", optimizer='nadam')\n",
    "    return model"
   ]
  },
  {
   "cell_type": "code",
   "execution_count": 189,
   "id": "74f3f2ef",
   "metadata": {
    "ExecuteTime": {
     "end_time": "2022-06-01T15:09:00.580397Z",
     "start_time": "2022-06-01T15:09:00.577824Z"
    },
    "hidden": true
   },
   "outputs": [
    {
     "name": "stderr",
     "output_type": "stream",
     "text": [
      "C:\\Users\\peiya\\AppData\\Local\\Temp\\ipykernel_11604\\1709004121.py:1: DeprecationWarning: KerasRegressor is deprecated, use Sci-Keras (https://github.com/adriangb/scikeras) instead. See https://www.adriangb.com/scikeras/stable/migration.html for help migrating.\n",
      "  keras_reg = keras.wrappers.scikit_learn.KerasRegressor(build_model)\n"
     ]
    }
   ],
   "source": [
    "keras_reg = keras.wrappers.scikit_learn.KerasRegressor(build_model)"
   ]
  },
  {
   "cell_type": "code",
   "execution_count": 190,
   "id": "07ea9c0e",
   "metadata": {
    "ExecuteTime": {
     "end_time": "2022-06-01T15:09:53.155074Z",
     "start_time": "2022-06-01T15:09:03.000088Z"
    },
    "hidden": true
   },
   "outputs": [
    {
     "name": "stdout",
     "output_type": "stream",
     "text": [
      "14/14 [==============================] - 0s 664us/step - loss: 0.0025\n",
      "14/14 [==============================] - 0s 712us/step - loss: 0.0072\n",
      "14/14 [==============================] - 0s 614us/step - loss: 0.0011\n",
      "14/14 [==============================] - 0s 705us/step - loss: 0.0016\n",
      "14/14 [==============================] - 0s 2ms/step - loss: 9.7713e-04\n",
      "14/14 [==============================] - 0s 779us/step - loss: 7.6318e-04\n",
      "14/14 [==============================] - 0s 928us/step - loss: 0.0019\n",
      "14/14 [==============================] - 0s 909us/step - loss: 9.6788e-04\n",
      "14/14 [==============================] - 0s 611us/step - loss: 0.0013\n",
      "14/14 [==============================] - 0s 883us/step - loss: 0.0022\n",
      "14/14 [==============================] - 0s 614us/step - loss: 0.0075\n",
      "14/14 [==============================] - 0s 630us/step - loss: 0.0017\n",
      "14/14 [==============================] - 0s 903us/step - loss: 0.0017\n",
      "14/14 [==============================] - 0s 908us/step - loss: 0.0013\n",
      "14/14 [==============================] - 0s 717us/step - loss: 0.0034\n",
      "14/14 [==============================] - 0s 890us/step - loss: 0.0020\n",
      "14/14 [==============================] - 0s 2ms/step - loss: 0.0013\n",
      "14/14 [==============================] - 0s 1ms/step - loss: 0.0015\n",
      "14/14 [==============================] - 0s 753us/step - loss: 0.0057\n",
      "14/14 [==============================] - 0s 1ms/step - loss: 0.0017\n",
      "14/14 [==============================] - 0s 608us/step - loss: 0.0019\n",
      "14/14 [==============================] - 0s 1ms/step - loss: 0.0023\n",
      "14/14 [==============================] - 0s 645us/step - loss: 0.0025\n",
      "14/14 [==============================] - 0s 1ms/step - loss: 0.0045\n",
      "14/14 [==============================] - 0s 713us/step - loss: 0.0021\n",
      "14/14 [==============================] - 0s 705us/step - loss: 9.8487e-04\n",
      "14/14 [==============================] - 0s 1ms/step - loss: 0.0018\n",
      "14/14 [==============================] - 0s 653us/step - loss: 0.0017\n",
      "14/14 [==============================] - 0s 630us/step - loss: 9.3636e-04\n",
      "14/14 [==============================] - 0s 1ms/step - loss: 9.3119e-04\n"
     ]
    },
    {
     "data": {
      "text/html": [
       "<style>#sk-container-id-18 {color: black;background-color: white;}#sk-container-id-18 pre{padding: 0;}#sk-container-id-18 div.sk-toggleable {background-color: white;}#sk-container-id-18 label.sk-toggleable__label {cursor: pointer;display: block;width: 100%;margin-bottom: 0;padding: 0.3em;box-sizing: border-box;text-align: center;}#sk-container-id-18 label.sk-toggleable__label-arrow:before {content: \"▸\";float: left;margin-right: 0.25em;color: #696969;}#sk-container-id-18 label.sk-toggleable__label-arrow:hover:before {color: black;}#sk-container-id-18 div.sk-estimator:hover label.sk-toggleable__label-arrow:before {color: black;}#sk-container-id-18 div.sk-toggleable__content {max-height: 0;max-width: 0;overflow: hidden;text-align: left;background-color: #f0f8ff;}#sk-container-id-18 div.sk-toggleable__content pre {margin: 0.2em;color: black;border-radius: 0.25em;background-color: #f0f8ff;}#sk-container-id-18 input.sk-toggleable__control:checked~div.sk-toggleable__content {max-height: 200px;max-width: 100%;overflow: auto;}#sk-container-id-18 input.sk-toggleable__control:checked~label.sk-toggleable__label-arrow:before {content: \"▾\";}#sk-container-id-18 div.sk-estimator input.sk-toggleable__control:checked~label.sk-toggleable__label {background-color: #d4ebff;}#sk-container-id-18 div.sk-label input.sk-toggleable__control:checked~label.sk-toggleable__label {background-color: #d4ebff;}#sk-container-id-18 input.sk-hidden--visually {border: 0;clip: rect(1px 1px 1px 1px);clip: rect(1px, 1px, 1px, 1px);height: 1px;margin: -1px;overflow: hidden;padding: 0;position: absolute;width: 1px;}#sk-container-id-18 div.sk-estimator {font-family: monospace;background-color: #f0f8ff;border: 1px dotted black;border-radius: 0.25em;box-sizing: border-box;margin-bottom: 0.5em;}#sk-container-id-18 div.sk-estimator:hover {background-color: #d4ebff;}#sk-container-id-18 div.sk-parallel-item::after {content: \"\";width: 100%;border-bottom: 1px solid gray;flex-grow: 1;}#sk-container-id-18 div.sk-label:hover label.sk-toggleable__label {background-color: #d4ebff;}#sk-container-id-18 div.sk-serial::before {content: \"\";position: absolute;border-left: 1px solid gray;box-sizing: border-box;top: 0;bottom: 0;left: 50%;z-index: 0;}#sk-container-id-18 div.sk-serial {display: flex;flex-direction: column;align-items: center;background-color: white;padding-right: 0.2em;padding-left: 0.2em;position: relative;}#sk-container-id-18 div.sk-item {position: relative;z-index: 1;}#sk-container-id-18 div.sk-parallel {display: flex;align-items: stretch;justify-content: center;background-color: white;position: relative;}#sk-container-id-18 div.sk-item::before, #sk-container-id-18 div.sk-parallel-item::before {content: \"\";position: absolute;border-left: 1px solid gray;box-sizing: border-box;top: 0;bottom: 0;left: 50%;z-index: -1;}#sk-container-id-18 div.sk-parallel-item {display: flex;flex-direction: column;z-index: 1;position: relative;background-color: white;}#sk-container-id-18 div.sk-parallel-item:first-child::after {align-self: flex-end;width: 50%;}#sk-container-id-18 div.sk-parallel-item:last-child::after {align-self: flex-start;width: 50%;}#sk-container-id-18 div.sk-parallel-item:only-child::after {width: 0;}#sk-container-id-18 div.sk-dashed-wrapped {border: 1px dashed gray;margin: 0 0.4em 0.5em 0.4em;box-sizing: border-box;padding-bottom: 0.4em;background-color: white;}#sk-container-id-18 div.sk-label label {font-family: monospace;font-weight: bold;display: inline-block;line-height: 1.2em;}#sk-container-id-18 div.sk-label-container {text-align: center;}#sk-container-id-18 div.sk-container {/* jupyter's `normalize.less` sets `[hidden] { display: none; }` but bootstrap.min.css set `[hidden] { display: none !important; }` so we also need the `!important` here to be able to override the default hidden behavior on the sphinx rendered scikit-learn.org. See: https://github.com/scikit-learn/scikit-learn/issues/21755 */display: inline-block !important;position: relative;}#sk-container-id-18 div.sk-text-repr-fallback {display: none;}</style><div id=\"sk-container-id-18\" class=\"sk-top-container\"><div class=\"sk-text-repr-fallback\"><pre>RandomizedSearchCV(cv=3,\n",
       "                   estimator=&lt;keras.wrappers.scikit_learn.KerasRegressor object at 0x000002359A55C610&gt;,\n",
       "                   param_distributions={&#x27;n_hidden&#x27;: [2, 3, 4, 5],\n",
       "                                        &#x27;n_neurons&#x27;: [50, 51, 52, 53, 54, 55,\n",
       "                                                      56, 57, 58, 59, 60, 61,\n",
       "                                                      62, 63, 64, 65, 66, 67,\n",
       "                                                      68, 69, 70, 71, 72, 73,\n",
       "                                                      74, 75, 76, 77, 78, 79, ...]})</pre><b>In a Jupyter environment, please rerun this cell to show the HTML representation or trust the notebook. <br />On GitHub, the HTML representation is unable to render, please try loading this page with nbviewer.org.</b></div><div class=\"sk-container\" hidden><div class=\"sk-item sk-dashed-wrapped\"><div class=\"sk-label-container\"><div class=\"sk-label sk-toggleable\"><input class=\"sk-toggleable__control sk-hidden--visually\" id=\"sk-estimator-id-44\" type=\"checkbox\" ><label for=\"sk-estimator-id-44\" class=\"sk-toggleable__label sk-toggleable__label-arrow\">RandomizedSearchCV</label><div class=\"sk-toggleable__content\"><pre>RandomizedSearchCV(cv=3,\n",
       "                   estimator=&lt;keras.wrappers.scikit_learn.KerasRegressor object at 0x000002359A55C610&gt;,\n",
       "                   param_distributions={&#x27;n_hidden&#x27;: [2, 3, 4, 5],\n",
       "                                        &#x27;n_neurons&#x27;: [50, 51, 52, 53, 54, 55,\n",
       "                                                      56, 57, 58, 59, 60, 61,\n",
       "                                                      62, 63, 64, 65, 66, 67,\n",
       "                                                      68, 69, 70, 71, 72, 73,\n",
       "                                                      74, 75, 76, 77, 78, 79, ...]})</pre></div></div></div><div class=\"sk-parallel\"><div class=\"sk-parallel-item\"><div class=\"sk-item\"><div class=\"sk-label-container\"><div class=\"sk-label sk-toggleable\"><input class=\"sk-toggleable__control sk-hidden--visually\" id=\"sk-estimator-id-45\" type=\"checkbox\" ><label for=\"sk-estimator-id-45\" class=\"sk-toggleable__label sk-toggleable__label-arrow\">estimator: KerasRegressor</label><div class=\"sk-toggleable__content\"><pre>&lt;keras.wrappers.scikit_learn.KerasRegressor object at 0x000002359A55C610&gt;</pre></div></div></div><div class=\"sk-serial\"><div class=\"sk-item\"><div class=\"sk-estimator sk-toggleable\"><input class=\"sk-toggleable__control sk-hidden--visually\" id=\"sk-estimator-id-46\" type=\"checkbox\" ><label for=\"sk-estimator-id-46\" class=\"sk-toggleable__label sk-toggleable__label-arrow\">KerasRegressor</label><div class=\"sk-toggleable__content\"><pre>&lt;keras.wrappers.scikit_learn.KerasRegressor object at 0x000002359A55C610&gt;</pre></div></div></div></div></div></div></div></div></div></div>"
      ],
      "text/plain": [
       "RandomizedSearchCV(cv=3,\n",
       "                   estimator=<keras.wrappers.scikit_learn.KerasRegressor object at 0x000002359A55C610>,\n",
       "                   param_distributions={'n_hidden': [2, 3, 4, 5],\n",
       "                                        'n_neurons': [50, 51, 52, 53, 54, 55,\n",
       "                                                      56, 57, 58, 59, 60, 61,\n",
       "                                                      62, 63, 64, 65, 66, 67,\n",
       "                                                      68, 69, 70, 71, 72, 73,\n",
       "                                                      74, 75, 76, 77, 78, 79, ...]})"
      ]
     },
     "execution_count": 190,
     "metadata": {},
     "output_type": "execute_result"
    }
   ],
   "source": [
    "reset_session()\n",
    "from sklearn.model_selection import RandomizedSearchCV\n",
    "\n",
    "param_distribs = {\n",
    "    \"n_hidden\": [2,3,4,5],\n",
    "    \"n_neurons\": np.arange(50,100).tolist(),\n",
    "}\n",
    "\n",
    "rnd_search_cv = RandomizedSearchCV(keras_reg, param_distribs, n_iter=10, cv=3, verbose=0)\n",
    "rnd_search_cv.fit(X_train, y_train, epochs=30,\n",
    "                  validation_data=(X_valid, y_valid), verbose=0,\n",
    "                  callbacks=[keras.callbacks.EarlyStopping(patience=10)])"
   ]
  },
  {
   "cell_type": "code",
   "execution_count": 194,
   "id": "f98e782b",
   "metadata": {
    "ExecuteTime": {
     "end_time": "2022-06-01T15:09:56.563862Z",
     "start_time": "2022-06-01T15:09:56.561640Z"
    },
    "hidden": true
   },
   "outputs": [],
   "source": [
    "nLayer = rnd_search_cv.best_params_['n_hidden']\n",
    "nNeuron = rnd_search_cv.best_params_['n_neurons']"
   ]
  },
  {
   "cell_type": "markdown",
   "id": "b1142e41",
   "metadata": {
    "hidden": true
   },
   "source": [
    "Now we build the deep mlp with the hyper parameters found above"
   ]
  },
  {
   "cell_type": "code",
   "execution_count": 195,
   "id": "650daa68",
   "metadata": {
    "ExecuteTime": {
     "end_time": "2022-06-01T15:10:00.895407Z",
     "start_time": "2022-06-01T15:09:59.244606Z"
    },
    "hidden": true
   },
   "outputs": [],
   "source": [
    "dmlp = build_model(n_hidden =nLayer, n_neurons = nNeuron)\n",
    "\n",
    "run = dmlp.fit(X_train, y_train, epochs=30,\n",
    "                    validation_data=(X_valid, y_valid),\n",
    "                    callbacks=[keras.callbacks.EarlyStopping(patience=10)], verbose=0)"
   ]
  },
  {
   "cell_type": "markdown",
   "id": "9c185639",
   "metadata": {
    "hidden": true
   },
   "source": [
    "We check if we are overfitting the data"
   ]
  },
  {
   "cell_type": "code",
   "execution_count": 196,
   "id": "380aa653",
   "metadata": {
    "ExecuteTime": {
     "end_time": "2022-06-01T15:10:10.562631Z",
     "start_time": "2022-06-01T15:10:10.433582Z"
    },
    "hidden": true
   },
   "outputs": [
    {
     "data": {
      "image/png": "[encoded data removed]",
      "text/plain": [
       "<Figure size 576x360 with 1 Axes>"
      ]
     },
     "metadata": {
      "needs_background": "light"
     },
     "output_type": "display_data"
    }
   ],
   "source": [
    "pd.DataFrame(run.history).plot(figsize=(8, 5))\n",
    "plt.grid(True)\n",
    "plt.show()"
   ]
  },
  {
   "cell_type": "code",
   "execution_count": 197,
   "id": "727bbfeb",
   "metadata": {
    "ExecuteTime": {
     "end_time": "2022-06-01T15:10:17.570111Z",
     "start_time": "2022-06-01T15:10:17.480667Z"
    },
    "hidden": true
   },
   "outputs": [
    {
     "name": "stdout",
     "output_type": "stream",
     "text": [
      "19/19 [==============================] - 0s 554us/step\n"
     ]
    },
    {
     "data": {
      "text/html": [
       "<div>\n",
       "<style scoped>\n",
       "    .dataframe tbody tr th:only-of-type {\n",
       "        vertical-align: middle;\n",
       "    }\n",
       "\n",
       "    .dataframe tbody tr th {\n",
       "        vertical-align: top;\n",
       "    }\n",
       "\n",
       "    .dataframe thead th {\n",
       "        text-align: right;\n",
       "    }\n",
       "</style>\n",
       "<table border=\"1\" class=\"dataframe\">\n",
       "  <thead>\n",
       "    <tr style=\"text-align: right;\">\n",
       "      <th></th>\n",
       "      <th>lin_mse</th>\n",
       "      <th>sgd_reg</th>\n",
       "      <th>poly_reg</th>\n",
       "      <th>ridge_reg</th>\n",
       "      <th>lasso_reg</th>\n",
       "      <th>elastic_net</th>\n",
       "      <th>sp_rnn</th>\n",
       "      <th>dp_rnn</th>\n",
       "      <th>deepRNN-BN-DO</th>\n",
       "      <th>deepRNN_dense_each</th>\n",
       "      <th>deepLSTM_dense_each</th>\n",
       "      <th>simple mlp</th>\n",
       "      <th>deep mlp</th>\n",
       "      <th>simple CNN</th>\n",
       "      <th>deep CNN</th>\n",
       "      <th>deep CNN ave</th>\n",
       "      <th>deep CNN max</th>\n",
       "    </tr>\n",
       "  </thead>\n",
       "  <tbody>\n",
       "    <tr>\n",
       "      <th>0</th>\n",
       "      <td>0.002271</td>\n",
       "      <td>0.002189</td>\n",
       "      <td>0.022761</td>\n",
       "      <td>0.002191</td>\n",
       "      <td>0.002189</td>\n",
       "      <td>0.00219</td>\n",
       "      <td>0.014262</td>\n",
       "      <td>0.003489</td>\n",
       "      <td>0.00342</td>\n",
       "      <td>0.00047</td>\n",
       "      <td>0.00086</td>\n",
       "      <td>0.002178</td>\n",
       "      <td>0.002666</td>\n",
       "      <td>0.002312</td>\n",
       "      <td>0.006322</td>\n",
       "      <td>0.006089</td>\n",
       "      <td>0.002678</td>\n",
       "    </tr>\n",
       "  </tbody>\n",
       "</table>\n",
       "</div>"
      ],
      "text/plain": [
       "    lin_mse   sgd_reg  poly_reg  ridge_reg  lasso_reg  elastic_net    sp_rnn  \\\n",
       "0  0.002271  0.002189  0.022761   0.002191   0.002189      0.00219  0.014262   \n",
       "\n",
       "     dp_rnn  deepRNN-BN-DO  deepRNN_dense_each  deepLSTM_dense_each  \\\n",
       "0  0.003489        0.00342             0.00047              0.00086   \n",
       "\n",
       "   simple mlp  deep mlp  simple CNN  deep CNN  deep CNN ave  deep CNN max  \n",
       "0    0.002178  0.002666    0.002312  0.006322      0.006089      0.002678  "
      ]
     },
     "execution_count": 197,
     "metadata": {},
     "output_type": "execute_result"
    }
   ],
   "source": [
    "y_test_pre = dmlp.predict(X_test)\n",
    "mse[\"deep mlp\"] = mean_squared_error(y_test, y_test_pre)\n",
    "mse"
   ]
  },
  {
   "cell_type": "markdown",
   "id": "bde13b24",
   "metadata": {
    "hidden": true
   },
   "source": [
    "The mse of deep mlp is worse than simple mlp and adding extra layers does not help."
   ]
  },
  {
   "cell_type": "markdown",
   "id": "bbadcb95",
   "metadata": {
    "heading_collapsed": true
   },
   "source": [
    "## 4.CNN"
   ]
  },
  {
   "cell_type": "code",
   "execution_count": 198,
   "id": "61bf302e",
   "metadata": {
    "ExecuteTime": {
     "end_time": "2022-06-01T15:49:32.792341Z",
     "start_time": "2022-06-01T15:49:32.789481Z"
    },
    "hidden": true
   },
   "outputs": [],
   "source": [
    "from keras.models import Sequential\n",
    "from keras.layers import Dense\n",
    "from keras.layers import Flatten\n",
    "from keras.layers.convolutional import Conv1D\n",
    "from keras.layers.convolutional import MaxPooling1D\n",
    "from keras.layers.convolutional import AveragePooling1D\n",
    "from sklearn.metrics import mean_squared_error"
   ]
  },
  {
   "cell_type": "markdown",
   "id": "c18439c0",
   "metadata": {
    "hidden": true
   },
   "source": [
    "**In order to feed the data into CNN, we need to add 1 extra dimension to our original data**"
   ]
  },
  {
   "cell_type": "code",
   "execution_count": 199,
   "id": "65969e08",
   "metadata": {
    "ExecuteTime": {
     "end_time": "2022-06-01T15:49:35.983578Z",
     "start_time": "2022-06-01T15:49:35.980389Z"
    },
    "hidden": true
   },
   "outputs": [],
   "source": [
    "def reshape3D(data,feature):\n",
    "    return data.reshape(data.shape[0],data.shape[1],feature)\n",
    "\n",
    "feature = 1\n",
    "X_train_3D = reshape3D(X_train,feature)\n",
    "X_valid_3D = reshape3D(X_valid,feature)\n",
    "X_test_3D = reshape3D(X_test,feature)"
   ]
  },
  {
   "cell_type": "markdown",
   "id": "93a5dcc4",
   "metadata": {
    "hidden": true
   },
   "source": [
    "**We first set up an simple CNN architecture with 1 convolution layer, 1 pooling layer and 1 dense layer as our baseline model**"
   ]
  },
  {
   "cell_type": "code",
   "execution_count": 200,
   "id": "bafbcdfa",
   "metadata": {
    "ExecuteTime": {
     "end_time": "2022-06-01T15:49:38.372801Z",
     "start_time": "2022-06-01T15:49:38.334928Z"
    },
    "hidden": true
   },
   "outputs": [],
   "source": [
    "model = Sequential()\n",
    "model.add(Conv1D(filters=64, kernel_size=10, activation='relu', input_shape=(36,\n",
    "feature)))\n",
    "model.add(AveragePooling1D(pool_size=3))\n",
    "model.add(Flatten())\n",
    "model.add(Dense(100, activation='selu',kernel_initializer=\"lecun_normal\"))\n",
    "model.add(Dense(1))\n",
    "model.compile(optimizer='nadam', loss='mse',)"
   ]
  },
  {
   "cell_type": "code",
   "execution_count": 201,
   "id": "065f91b2",
   "metadata": {
    "ExecuteTime": {
     "end_time": "2022-06-01T15:49:44.063947Z",
     "start_time": "2022-06-01T15:49:40.269435Z"
    },
    "hidden": true
   },
   "outputs": [
    {
     "name": "stdout",
     "output_type": "stream",
     "text": [
      "Epoch 1/30\n",
      "36/40 [==========================>...] - ETA: 0s - loss: 9.8005e-04 "
     ]
    },
    {
     "name": "stderr",
     "output_type": "stream",
     "text": [
      "WARNING:absl:Found untraced functions such as _jit_compiled_convolution_op while saving (showing 1 of 1). These functions will not be directly callable after loading.\n"
     ]
    },
    {
     "name": "stdout",
     "output_type": "stream",
     "text": [
      "INFO:tensorflow:Assets written to: CNN\\assets\n"
     ]
    },
    {
     "name": "stderr",
     "output_type": "stream",
     "text": [
      "INFO:tensorflow:Assets written to: CNN\\assets\n"
     ]
    },
    {
     "name": "stdout",
     "output_type": "stream",
     "text": [
      "40/40 [==============================] - 1s 13ms/step - loss: 9.6755e-04 - val_loss: 0.0012\n",
      "Epoch 2/30\n",
      "40/40 [==============================] - 0s 2ms/step - loss: 9.3370e-04 - val_loss: 0.0012\n",
      "Epoch 3/30\n",
      "40/40 [==============================] - 0s 2ms/step - loss: 8.9341e-04 - val_loss: 0.0014\n",
      "Epoch 4/30\n",
      "40/40 [==============================] - 0s 2ms/step - loss: 8.9873e-04 - val_loss: 0.0012\n",
      "Epoch 5/30\n",
      "40/40 [==============================] - 0s 2ms/step - loss: 8.8999e-04 - val_loss: 0.0015\n",
      "Epoch 6/30\n",
      "40/40 [==============================] - 0s 2ms/step - loss: 8.9557e-04 - val_loss: 0.0012\n",
      "Epoch 7/30\n",
      "40/40 [==============================] - 0s 2ms/step - loss: 8.6924e-04 - val_loss: 0.0021\n",
      "Epoch 8/30\n",
      "40/40 [==============================] - 0s 2ms/step - loss: 8.7930e-04 - val_loss: 0.0012\n",
      "Epoch 9/30\n",
      "40/40 [==============================] - 0s 3ms/step - loss: 8.6190e-04 - val_loss: 0.0014\n",
      "Epoch 10/30\n",
      "40/40 [==============================] - 0s 2ms/step - loss: 8.6448e-04 - val_loss: 0.0013\n",
      "Epoch 11/30\n",
      "40/40 [==============================] - 0s 2ms/step - loss: 8.6311e-04 - val_loss: 0.0013\n",
      "Epoch 12/30\n",
      "40/40 [==============================] - 0s 2ms/step - loss: 8.4761e-04 - val_loss: 0.0012\n",
      "Epoch 13/30\n",
      "40/40 [==============================] - 0s 2ms/step - loss: 8.5800e-04 - val_loss: 0.0013\n",
      "Epoch 14/30\n",
      "40/40 [==============================] - 0s 2ms/step - loss: 8.4024e-04 - val_loss: 0.0013\n",
      "Epoch 15/30\n",
      "40/40 [==============================] - 0s 2ms/step - loss: 8.4151e-04 - val_loss: 0.0015\n",
      "Epoch 16/30\n",
      "40/40 [==============================] - 0s 2ms/step - loss: 8.4292e-04 - val_loss: 0.0013\n",
      "Epoch 17/30\n",
      "40/40 [==============================] - 0s 2ms/step - loss: 8.2178e-04 - val_loss: 0.0012\n",
      "Epoch 18/30\n",
      "40/40 [==============================] - 0s 2ms/step - loss: 8.2375e-04 - val_loss: 0.0012\n",
      "Epoch 19/30\n",
      "40/40 [==============================] - 0s 3ms/step - loss: 8.0729e-04 - val_loss: 0.0014\n",
      "Epoch 20/30\n",
      "40/40 [==============================] - 0s 2ms/step - loss: 8.1290e-04 - val_loss: 0.0013\n",
      "Epoch 21/30\n",
      "40/40 [==============================] - 0s 2ms/step - loss: 8.0990e-04 - val_loss: 0.0014\n",
      "Epoch 22/30\n",
      "40/40 [==============================] - 0s 2ms/step - loss: 7.9367e-04 - val_loss: 0.0014\n",
      "Epoch 23/30\n",
      "40/40 [==============================] - 0s 2ms/step - loss: 8.1118e-04 - val_loss: 0.0014\n",
      "Epoch 24/30\n",
      "40/40 [==============================] - 0s 3ms/step - loss: 7.9755e-04 - val_loss: 0.0013\n",
      "Epoch 25/30\n",
      "40/40 [==============================] - 0s 2ms/step - loss: 7.8715e-04 - val_loss: 0.0013\n",
      "Epoch 26/30\n",
      "40/40 [==============================] - 0s 2ms/step - loss: 7.7388e-04 - val_loss: 0.0013\n",
      "Epoch 27/30\n",
      "40/40 [==============================] - 0s 3ms/step - loss: 7.8308e-04 - val_loss: 0.0013\n",
      "Epoch 28/30\n",
      "40/40 [==============================] - 0s 3ms/step - loss: 7.7349e-04 - val_loss: 0.0022\n",
      "Epoch 29/30\n",
      "40/40 [==============================] - 0s 2ms/step - loss: 8.0986e-04 - val_loss: 0.0014\n",
      "Epoch 30/30\n",
      "40/40 [==============================] - 0s 2ms/step - loss: 7.6303e-04 - val_loss: 0.0015\n"
     ]
    }
   ],
   "source": [
    "checkpoint_cb = keras.callbacks.ModelCheckpoint('CNN',save_best_only=True)\n",
    "run = model.fit(X_train_3D,y_train,epochs = 30, validation_data=(X_valid_3D,y_valid),callbacks=[checkpoint_cb,])"
   ]
  },
  {
   "cell_type": "code",
   "execution_count": 202,
   "id": "820944eb",
   "metadata": {
    "ExecuteTime": {
     "end_time": "2022-06-01T15:49:47.608926Z",
     "start_time": "2022-06-01T15:49:47.479092Z"
    },
    "hidden": true
   },
   "outputs": [
    {
     "data": {
      "image/png": "[encoded data removed]",
      "text/plain": [
       "<Figure size 576x360 with 1 Axes>"
      ]
     },
     "metadata": {
      "needs_background": "light"
     },
     "output_type": "display_data"
    }
   ],
   "source": [
    "pd.DataFrame(run.history).plot(figsize=(8, 5))\n",
    "plt.grid(True)\n",
    "plt.show()"
   ]
  },
  {
   "cell_type": "markdown",
   "id": "fb58bbf2",
   "metadata": {
    "hidden": true
   },
   "source": [
    "**From the figure above, we could tell that there is a bit overfitting because of the gap**"
   ]
  },
  {
   "cell_type": "markdown",
   "id": "30597568",
   "metadata": {
    "hidden": true
   },
   "source": [
    "**Compute MSE and append it to MSE dataframe for comparison**"
   ]
  },
  {
   "cell_type": "code",
   "execution_count": 203,
   "id": "bd5ce0c6",
   "metadata": {
    "ExecuteTime": {
     "end_time": "2022-06-01T15:49:51.256857Z",
     "start_time": "2022-06-01T15:49:50.992030Z"
    },
    "hidden": true
   },
   "outputs": [
    {
     "data": {
      "text/html": [
       "<div>\n",
       "<style scoped>\n",
       "    .dataframe tbody tr th:only-of-type {\n",
       "        vertical-align: middle;\n",
       "    }\n",
       "\n",
       "    .dataframe tbody tr th {\n",
       "        vertical-align: top;\n",
       "    }\n",
       "\n",
       "    .dataframe thead th {\n",
       "        text-align: right;\n",
       "    }\n",
       "</style>\n",
       "<table border=\"1\" class=\"dataframe\">\n",
       "  <thead>\n",
       "    <tr style=\"text-align: right;\">\n",
       "      <th></th>\n",
       "      <th>lin_mse</th>\n",
       "      <th>sgd_reg</th>\n",
       "      <th>poly_reg</th>\n",
       "      <th>ridge_reg</th>\n",
       "      <th>lasso_reg</th>\n",
       "      <th>elastic_net</th>\n",
       "      <th>sp_rnn</th>\n",
       "      <th>dp_rnn</th>\n",
       "      <th>deepRNN-BN-DO</th>\n",
       "      <th>deepRNN_dense_each</th>\n",
       "      <th>deepLSTM_dense_each</th>\n",
       "      <th>simple mlp</th>\n",
       "      <th>deep mlp</th>\n",
       "      <th>simple CNN</th>\n",
       "      <th>deep CNN</th>\n",
       "      <th>deep CNN ave</th>\n",
       "      <th>deep CNN max</th>\n",
       "    </tr>\n",
       "  </thead>\n",
       "  <tbody>\n",
       "    <tr>\n",
       "      <th>0</th>\n",
       "      <td>0.002271</td>\n",
       "      <td>0.002189</td>\n",
       "      <td>0.022761</td>\n",
       "      <td>0.002191</td>\n",
       "      <td>0.002189</td>\n",
       "      <td>0.00219</td>\n",
       "      <td>0.014262</td>\n",
       "      <td>0.003489</td>\n",
       "      <td>0.00342</td>\n",
       "      <td>0.00047</td>\n",
       "      <td>0.00086</td>\n",
       "      <td>0.002178</td>\n",
       "      <td>0.002666</td>\n",
       "      <td>0.002267</td>\n",
       "      <td>0.006322</td>\n",
       "      <td>0.006089</td>\n",
       "      <td>0.002678</td>\n",
       "    </tr>\n",
       "  </tbody>\n",
       "</table>\n",
       "</div>"
      ],
      "text/plain": [
       "    lin_mse   sgd_reg  poly_reg  ridge_reg  lasso_reg  elastic_net    sp_rnn  \\\n",
       "0  0.002271  0.002189  0.022761   0.002191   0.002189      0.00219  0.014262   \n",
       "\n",
       "     dp_rnn  deepRNN-BN-DO  deepRNN_dense_each  deepLSTM_dense_each  \\\n",
       "0  0.003489        0.00342             0.00047              0.00086   \n",
       "\n",
       "   simple mlp  deep mlp  simple CNN  deep CNN  deep CNN ave  deep CNN max  \n",
       "0    0.002178  0.002666    0.002267  0.006322      0.006089      0.002678  "
      ]
     },
     "execution_count": 203,
     "metadata": {},
     "output_type": "execute_result"
    }
   ],
   "source": [
    "CNN_best = keras.models.load_model('CNN')\n",
    "y_test_predict = CNN_best.predict(X_test_3D,verbose = 0)\n",
    "mse[\"simple CNN\"] = mean_squared_error(y_test, y_test_predict)\n",
    "mse"
   ]
  },
  {
   "cell_type": "markdown",
   "id": "26c85af3",
   "metadata": {
    "hidden": true
   },
   "source": [
    "**Next we want to experiment with whether adding convolution layer and pooling layer helps in a deep CNN**\n"
   ]
  },
  {
   "cell_type": "markdown",
   "id": "6684a91d",
   "metadata": {
    "hidden": true
   },
   "source": [
    "**Since there are too many combinations of hyper parameter to tune in deep CNN after introducing the convolution layer and pooling layer, I would like to start with the best deep mlp I got in previous sections, fixing the convolution layer and varying the type of pooling layer as well as the pooling size to do a simlified experiment.**"
   ]
  },
  {
   "cell_type": "markdown",
   "id": "d29bb0d9",
   "metadata": {
    "hidden": true
   },
   "source": [
    "**We first experiment over max pooling**"
   ]
  },
  {
   "cell_type": "code",
   "execution_count": 204,
   "id": "f19689c1",
   "metadata": {
    "ExecuteTime": {
     "end_time": "2022-06-01T15:55:45.189210Z",
     "start_time": "2022-06-01T15:55:45.184862Z"
    },
    "hidden": true
   },
   "outputs": [],
   "source": [
    "def buildModelMaxPool(size):\n",
    "    model = keras.models.Sequential()\n",
    "    model.add(keras.layers.BatchNormalization())\n",
    "    model.add(Conv1D(filters=10, kernel_size=3, activation='relu', input_shape=(36,feature)))\n",
    "    model.add(MaxPooling1D(pool_size=size))\n",
    "    model.add(Flatten())\n",
    "    for layer in range(nLayer):\n",
    "        model.add(keras.layers.Dense(nNeuron,activation = 'selu',kernel_initializer=\"lecun_normal\"))\n",
    "    model.add(keras.layers.Dense(1, kernel_initializer=\"glorot_uniform\"))\n",
    "    model.compile(loss=\"mse\", optimizer='nadam')\n",
    "    return model"
   ]
  },
  {
   "cell_type": "code",
   "execution_count": 205,
   "id": "efd85756",
   "metadata": {
    "ExecuteTime": {
     "end_time": "2022-06-01T15:58:24.980357Z",
     "start_time": "2022-06-01T15:55:48.121408Z"
    },
    "hidden": true
   },
   "outputs": [
    {
     "name": "stdout",
     "output_type": "stream",
     "text": [
      "Epoch 1/30\n",
      "29/40 [====================>.........] - ETA: 0s - loss: 7.6490e-04"
     ]
    },
    {
     "name": "stderr",
     "output_type": "stream",
     "text": [
      "WARNING:absl:Found untraced functions such as _jit_compiled_convolution_op while saving (showing 1 of 1). These functions will not be directly callable after loading.\n"
     ]
    },
    {
     "name": "stdout",
     "output_type": "stream",
     "text": [
      "INFO:tensorflow:Assets written to: CNN\\assets\n"
     ]
    },
    {
     "name": "stderr",
     "output_type": "stream",
     "text": [
      "INFO:tensorflow:Assets written to: CNN\\assets\n"
     ]
    },
    {
     "name": "stdout",
     "output_type": "stream",
     "text": [
      "40/40 [==============================] - 0s 11ms/step - loss: 7.5187e-04 - val_loss: 0.0014\n",
      "Epoch 2/30\n",
      "38/40 [===========================>..] - ETA: 0s - loss: 7.6532e-04"
     ]
    },
    {
     "name": "stderr",
     "output_type": "stream",
     "text": [
      "WARNING:absl:Found untraced functions such as _jit_compiled_convolution_op while saving (showing 1 of 1). These functions will not be directly callable after loading.\n"
     ]
    },
    {
     "name": "stdout",
     "output_type": "stream",
     "text": [
      "INFO:tensorflow:Assets written to: CNN\\assets\n"
     ]
    },
    {
     "name": "stderr",
     "output_type": "stream",
     "text": [
      "INFO:tensorflow:Assets written to: CNN\\assets\n"
     ]
    },
    {
     "name": "stdout",
     "output_type": "stream",
     "text": [
      "40/40 [==============================] - 0s 11ms/step - loss: 7.6240e-04 - val_loss: 0.0013\n",
      "Epoch 3/30\n",
      "40/40 [==============================] - 0s 3ms/step - loss: 7.3592e-04 - val_loss: 0.0019\n",
      "Epoch 4/30\n",
      "40/40 [==============================] - 0s 2ms/step - loss: 7.7033e-04 - val_loss: 0.0014\n",
      "Epoch 5/30\n",
      "40/40 [==============================] - 0s 2ms/step - loss: 7.3296e-04 - val_loss: 0.0017\n",
      "Epoch 6/30\n",
      "40/40 [==============================] - 0s 2ms/step - loss: 7.3583e-04 - val_loss: 0.0014\n",
      "Epoch 7/30\n",
      "40/40 [==============================] - 0s 3ms/step - loss: 7.2120e-04 - val_loss: 0.0026\n",
      "Epoch 8/30\n",
      "40/40 [==============================] - 0s 3ms/step - loss: 7.5079e-04 - val_loss: 0.0014\n",
      "Epoch 9/30\n",
      "40/40 [==============================] - 0s 2ms/step - loss: 7.0841e-04 - val_loss: 0.0015\n",
      "Epoch 10/30\n",
      "40/40 [==============================] - 0s 2ms/step - loss: 7.1438e-04 - val_loss: 0.0014\n",
      "Epoch 11/30\n",
      "40/40 [==============================] - 0s 2ms/step - loss: 7.1611e-04 - val_loss: 0.0017\n",
      "Epoch 12/30\n",
      "40/40 [==============================] - 0s 2ms/step - loss: 6.9969e-04 - val_loss: 0.0014\n",
      "Epoch 13/30\n",
      "40/40 [==============================] - 0s 3ms/step - loss: 7.0805e-04 - val_loss: 0.0017\n",
      "Epoch 14/30\n",
      "40/40 [==============================] - 0s 2ms/step - loss: 6.9439e-04 - val_loss: 0.0015\n",
      "Epoch 15/30\n",
      "40/40 [==============================] - 0s 2ms/step - loss: 6.9418e-04 - val_loss: 0.0019\n",
      "Epoch 16/30\n",
      "40/40 [==============================] - 0s 2ms/step - loss: 7.2391e-04 - val_loss: 0.0014\n",
      "Epoch 17/30\n",
      "40/40 [==============================] - 0s 2ms/step - loss: 6.6955e-04 - val_loss: 0.0014\n",
      "Epoch 18/30\n",
      "40/40 [==============================] - 0s 2ms/step - loss: 6.6515e-04 - val_loss: 0.0015\n",
      "Epoch 19/30\n",
      "40/40 [==============================] - 0s 2ms/step - loss: 6.6978e-04 - val_loss: 0.0014\n",
      "Epoch 20/30\n",
      "40/40 [==============================] - 0s 2ms/step - loss: 6.5977e-04 - val_loss: 0.0016\n",
      "Epoch 21/30\n",
      "40/40 [==============================] - 0s 2ms/step - loss: 6.6338e-04 - val_loss: 0.0015\n",
      "Epoch 22/30\n",
      "40/40 [==============================] - 0s 2ms/step - loss: 6.4462e-04 - val_loss: 0.0015\n",
      "Epoch 23/30\n",
      "40/40 [==============================] - 0s 2ms/step - loss: 6.5992e-04 - val_loss: 0.0019\n",
      "Epoch 24/30\n",
      "40/40 [==============================] - 0s 2ms/step - loss: 6.7159e-04 - val_loss: 0.0015\n",
      "Epoch 25/30\n",
      "40/40 [==============================] - 0s 2ms/step - loss: 6.4202e-04 - val_loss: 0.0014\n",
      "Epoch 26/30\n",
      "40/40 [==============================] - 0s 2ms/step - loss: 6.3565e-04 - val_loss: 0.0016\n",
      "Epoch 27/30\n",
      "40/40 [==============================] - 0s 2ms/step - loss: 6.3714e-04 - val_loss: 0.0015\n",
      "Epoch 28/30\n",
      "40/40 [==============================] - 0s 2ms/step - loss: 6.3796e-04 - val_loss: 0.0025\n",
      "Epoch 29/30\n",
      "40/40 [==============================] - 0s 3ms/step - loss: 6.8519e-04 - val_loss: 0.0017\n",
      "Epoch 30/30\n",
      "40/40 [==============================] - 0s 3ms/step - loss: 6.2929e-04 - val_loss: 0.0021\n",
      "Epoch 1/30\n",
      "36/40 [==========================>...] - ETA: 0s - loss: 6.3137e-04"
     ]
    },
    {
     "name": "stderr",
     "output_type": "stream",
     "text": [
      "WARNING:absl:Found untraced functions such as _jit_compiled_convolution_op while saving (showing 1 of 1). These functions will not be directly callable after loading.\n"
     ]
    },
    {
     "name": "stdout",
     "output_type": "stream",
     "text": [
      "INFO:tensorflow:Assets written to: CNN\\assets\n"
     ]
    },
    {
     "name": "stderr",
     "output_type": "stream",
     "text": [
      "INFO:tensorflow:Assets written to: CNN\\assets\n"
     ]
    },
    {
     "name": "stdout",
     "output_type": "stream",
     "text": [
      "40/40 [==============================] - 0s 11ms/step - loss: 6.2027e-04 - val_loss: 0.0016\n",
      "Epoch 2/30\n",
      "34/40 [========================>.....] - ETA: 0s - loss: 6.6405e-04"
     ]
    },
    {
     "name": "stderr",
     "output_type": "stream",
     "text": [
      "WARNING:absl:Found untraced functions such as _jit_compiled_convolution_op while saving (showing 1 of 1). These functions will not be directly callable after loading.\n"
     ]
    },
    {
     "name": "stdout",
     "output_type": "stream",
     "text": [
      "INFO:tensorflow:Assets written to: CNN\\assets\n"
     ]
    },
    {
     "name": "stderr",
     "output_type": "stream",
     "text": [
      "INFO:tensorflow:Assets written to: CNN\\assets\n"
     ]
    },
    {
     "name": "stdout",
     "output_type": "stream",
     "text": [
      "40/40 [==============================] - 0s 12ms/step - loss: 6.3032e-04 - val_loss: 0.0015\n",
      "Epoch 3/30\n",
      "40/40 [==============================] - 0s 2ms/step - loss: 5.9933e-04 - val_loss: 0.0019\n",
      "Epoch 4/30\n",
      "40/40 [==============================] - 0s 2ms/step - loss: 6.3116e-04 - val_loss: 0.0017\n",
      "Epoch 5/30\n",
      "40/40 [==============================] - 0s 3ms/step - loss: 6.0134e-04 - val_loss: 0.0017\n",
      "Epoch 6/30\n",
      "40/40 [==============================] - 0s 3ms/step - loss: 5.9653e-04 - val_loss: 0.0015\n",
      "Epoch 7/30\n",
      "40/40 [==============================] - 0s 2ms/step - loss: 5.9327e-04 - val_loss: 0.0023\n",
      "Epoch 8/30\n",
      "40/40 [==============================] - 0s 2ms/step - loss: 6.2109e-04 - val_loss: 0.0016\n",
      "Epoch 9/30\n",
      "40/40 [==============================] - 0s 3ms/step - loss: 5.8184e-04 - val_loss: 0.0017\n",
      "Epoch 10/30\n",
      "40/40 [==============================] - 0s 3ms/step - loss: 5.7777e-04 - val_loss: 0.0016\n",
      "Epoch 11/30\n",
      "40/40 [==============================] - 0s 3ms/step - loss: 5.8115e-04 - val_loss: 0.0018\n",
      "Epoch 12/30\n",
      "40/40 [==============================] - 0s 3ms/step - loss: 5.7020e-04 - val_loss: 0.0015\n",
      "Epoch 13/30\n",
      "40/40 [==============================] - 0s 3ms/step - loss: 5.6535e-04 - val_loss: 0.0019\n",
      "Epoch 14/30\n",
      "40/40 [==============================] - 0s 3ms/step - loss: 5.6730e-04 - val_loss: 0.0015\n",
      "Epoch 15/30\n",
      "40/40 [==============================] - 0s 2ms/step - loss: 5.6439e-04 - val_loss: 0.0018\n",
      "Epoch 16/30\n",
      "40/40 [==============================] - 0s 3ms/step - loss: 5.8924e-04 - val_loss: 0.0015\n",
      "Epoch 17/30\n",
      "40/40 [==============================] - 0s 3ms/step - loss: 5.4401e-04 - val_loss: 0.0016\n",
      "Epoch 18/30\n",
      "40/40 [==============================] - 0s 3ms/step - loss: 5.5915e-04 - val_loss: 0.0016\n",
      "Epoch 19/30\n",
      "40/40 [==============================] - 0s 2ms/step - loss: 5.6661e-04 - val_loss: 0.0016\n",
      "Epoch 20/30\n",
      "40/40 [==============================] - 0s 2ms/step - loss: 5.4923e-04 - val_loss: 0.0017\n",
      "Epoch 21/30\n",
      "40/40 [==============================] - 0s 2ms/step - loss: 5.3536e-04 - val_loss: 0.0018\n",
      "Epoch 22/30\n",
      "40/40 [==============================] - 0s 2ms/step - loss: 5.4617e-04 - val_loss: 0.0016\n",
      "Epoch 23/30\n",
      "40/40 [==============================] - 0s 2ms/step - loss: 5.3209e-04 - val_loss: 0.0021\n",
      "Epoch 24/30\n",
      "40/40 [==============================] - 0s 2ms/step - loss: 5.4369e-04 - val_loss: 0.0016\n",
      "Epoch 25/30\n",
      "40/40 [==============================] - 0s 2ms/step - loss: 5.0709e-04 - val_loss: 0.0017\n",
      "Epoch 26/30\n",
      "40/40 [==============================] - 0s 2ms/step - loss: 5.1671e-04 - val_loss: 0.0019\n",
      "Epoch 27/30\n",
      "40/40 [==============================] - 0s 2ms/step - loss: 5.1963e-04 - val_loss: 0.0018\n",
      "Epoch 28/30\n",
      "40/40 [==============================] - 0s 2ms/step - loss: 5.3103e-04 - val_loss: 0.0025\n",
      "Epoch 29/30\n",
      "40/40 [==============================] - 0s 2ms/step - loss: 5.6081e-04 - val_loss: 0.0018\n",
      "Epoch 30/30\n",
      "40/40 [==============================] - 0s 2ms/step - loss: 5.0518e-04 - val_loss: 0.0025\n",
      "Epoch 1/30\n",
      " 1/40 [..............................] - ETA: 0s - loss: 9.2051e-04"
     ]
    },
    {
     "name": "stderr",
     "output_type": "stream",
     "text": [
      "WARNING:absl:Found untraced functions such as _jit_compiled_convolution_op while saving (showing 1 of 1). These functions will not be directly callable after loading.\n"
     ]
    },
    {
     "name": "stdout",
     "output_type": "stream",
     "text": [
      "INFO:tensorflow:Assets written to: CNN\\assets\n"
     ]
    },
    {
     "name": "stderr",
     "output_type": "stream",
     "text": [
      "INFO:tensorflow:Assets written to: CNN\\assets\n"
     ]
    },
    {
     "name": "stdout",
     "output_type": "stream",
     "text": [
      "40/40 [==============================] - 0s 11ms/step - loss: 5.2154e-04 - val_loss: 0.0019\n",
      "Epoch 2/30\n",
      "39/40 [============================>.] - ETA: 0s - loss: 5.2611e-04"
     ]
    },
    {
     "name": "stderr",
     "output_type": "stream",
     "text": [
      "WARNING:absl:Found untraced functions such as _jit_compiled_convolution_op while saving (showing 1 of 1). These functions will not be directly callable after loading.\n"
     ]
    },
    {
     "name": "stdout",
     "output_type": "stream",
     "text": [
      "INFO:tensorflow:Assets written to: CNN\\assets\n"
     ]
    },
    {
     "name": "stderr",
     "output_type": "stream",
     "text": [
      "INFO:tensorflow:Assets written to: CNN\\assets\n"
     ]
    },
    {
     "name": "stdout",
     "output_type": "stream",
     "text": [
      "40/40 [==============================] - 0s 11ms/step - loss: 5.2429e-04 - val_loss: 0.0017\n",
      "Epoch 3/30\n",
      "40/40 [==============================] - 0s 2ms/step - loss: 4.8668e-04 - val_loss: 0.0021\n",
      "Epoch 4/30\n",
      "40/40 [==============================] - 0s 2ms/step - loss: 5.3875e-04 - val_loss: 0.0018\n",
      "Epoch 5/30\n",
      "40/40 [==============================] - 0s 2ms/step - loss: 4.9348e-04 - val_loss: 0.0020\n",
      "Epoch 6/30\n",
      "40/40 [==============================] - 0s 2ms/step - loss: 4.8463e-04 - val_loss: 0.0017\n",
      "Epoch 7/30\n",
      "40/40 [==============================] - 0s 2ms/step - loss: 4.8972e-04 - val_loss: 0.0019\n",
      "Epoch 8/30\n",
      "40/40 [==============================] - 0s 3ms/step - loss: 5.0293e-04 - val_loss: 0.0017\n",
      "Epoch 9/30\n",
      "40/40 [==============================] - 0s 2ms/step - loss: 4.7879e-04 - val_loss: 0.0018\n",
      "Epoch 10/30\n",
      "40/40 [==============================] - 0s 3ms/step - loss: 4.7192e-04 - val_loss: 0.0018\n",
      "Epoch 11/30\n",
      "40/40 [==============================] - 0s 3ms/step - loss: 4.8119e-04 - val_loss: 0.0019\n",
      "Epoch 12/30\n",
      "40/40 [==============================] - 0s 3ms/step - loss: 4.6566e-04 - val_loss: 0.0017\n",
      "Epoch 13/30\n",
      "40/40 [==============================] - 0s 2ms/step - loss: 4.6494e-04 - val_loss: 0.0021\n",
      "Epoch 14/30\n",
      "40/40 [==============================] - 0s 2ms/step - loss: 4.8188e-04 - val_loss: 0.0017\n",
      "Epoch 15/30\n",
      "40/40 [==============================] - 0s 2ms/step - loss: 4.7545e-04 - val_loss: 0.0021\n",
      "Epoch 16/30\n",
      "31/40 [======================>.......] - ETA: 0s - loss: 5.0729e-04"
     ]
    },
    {
     "name": "stderr",
     "output_type": "stream",
     "text": [
      "WARNING:absl:Found untraced functions such as _jit_compiled_convolution_op while saving (showing 1 of 1). These functions will not be directly callable after loading.\n"
     ]
    },
    {
     "name": "stdout",
     "output_type": "stream",
     "text": [
      "INFO:tensorflow:Assets written to: CNN\\assets\n"
     ]
    },
    {
     "name": "stderr",
     "output_type": "stream",
     "text": [
      "INFO:tensorflow:Assets written to: CNN\\assets\n"
     ]
    },
    {
     "name": "stdout",
     "output_type": "stream",
     "text": [
      "40/40 [==============================] - 1s 14ms/step - loss: 4.9853e-04 - val_loss: 0.0017\n",
      "Epoch 17/30\n",
      "40/40 [==============================] - 0s 2ms/step - loss: 4.4507e-04 - val_loss: 0.0018\n",
      "Epoch 18/30\n",
      "40/40 [==============================] - 0s 2ms/step - loss: 4.9023e-04 - val_loss: 0.0019\n",
      "Epoch 19/30\n",
      "40/40 [==============================] - 0s 2ms/step - loss: 4.9188e-04 - val_loss: 0.0017\n",
      "Epoch 20/30\n",
      "40/40 [==============================] - 0s 2ms/step - loss: 4.6824e-04 - val_loss: 0.0020\n",
      "Epoch 21/30\n",
      "40/40 [==============================] - 0s 3ms/step - loss: 4.4527e-04 - val_loss: 0.0022\n",
      "Epoch 22/30\n",
      "40/40 [==============================] - 0s 2ms/step - loss: 4.6433e-04 - val_loss: 0.0018\n",
      "Epoch 23/30\n",
      "40/40 [==============================] - 0s 2ms/step - loss: 4.3797e-04 - val_loss: 0.0023\n",
      "Epoch 24/30\n",
      "40/40 [==============================] - 0s 2ms/step - loss: 4.5304e-04 - val_loss: 0.0019\n",
      "Epoch 25/30\n",
      "40/40 [==============================] - 0s 2ms/step - loss: 4.1889e-04 - val_loss: 0.0019\n",
      "Epoch 26/30\n",
      "40/40 [==============================] - 0s 2ms/step - loss: 4.2973e-04 - val_loss: 0.0023\n",
      "Epoch 27/30\n",
      "40/40 [==============================] - 0s 3ms/step - loss: 4.4215e-04 - val_loss: 0.0020\n",
      "Epoch 28/30\n",
      "40/40 [==============================] - 0s 3ms/step - loss: 4.5659e-04 - val_loss: 0.0023\n",
      "Epoch 29/30\n",
      "40/40 [==============================] - 0s 3ms/step - loss: 4.5976e-04 - val_loss: 0.0021\n",
      "Epoch 30/30\n",
      "40/40 [==============================] - 0s 2ms/step - loss: 4.2365e-04 - val_loss: 0.0025\n",
      "Epoch 1/30\n",
      "40/40 [==============================] - ETA: 0s - loss: 4.4415e-04"
     ]
    },
    {
     "name": "stderr",
     "output_type": "stream",
     "text": [
      "WARNING:absl:Found untraced functions such as _jit_compiled_convolution_op while saving (showing 1 of 1). These functions will not be directly callable after loading.\n"
     ]
    },
    {
     "name": "stdout",
     "output_type": "stream",
     "text": [
      "INFO:tensorflow:Assets written to: CNN\\assets\n"
     ]
    },
    {
     "name": "stderr",
     "output_type": "stream",
     "text": [
      "INFO:tensorflow:Assets written to: CNN\\assets\n"
     ]
    },
    {
     "name": "stdout",
     "output_type": "stream",
     "text": [
      "40/40 [==============================] - 1s 14ms/step - loss: 4.4415e-04 - val_loss: 0.0022\n",
      "Epoch 2/30\n",
      "39/40 [============================>.] - ETA: 0s - loss: 4.3582e-04"
     ]
    },
    {
     "name": "stderr",
     "output_type": "stream",
     "text": [
      "WARNING:absl:Found untraced functions such as _jit_compiled_convolution_op while saving (showing 1 of 1). These functions will not be directly callable after loading.\n"
     ]
    },
    {
     "name": "stdout",
     "output_type": "stream",
     "text": [
      "INFO:tensorflow:Assets written to: CNN\\assets\n"
     ]
    },
    {
     "name": "stderr",
     "output_type": "stream",
     "text": [
      "INFO:tensorflow:Assets written to: CNN\\assets\n"
     ]
    },
    {
     "name": "stdout",
     "output_type": "stream",
     "text": [
      "40/40 [==============================] - 1s 13ms/step - loss: 4.3418e-04 - val_loss: 0.0019\n",
      "Epoch 3/30\n",
      "40/40 [==============================] - 0s 2ms/step - loss: 4.0490e-04 - val_loss: 0.0023\n",
      "Epoch 4/30\n",
      "40/40 [==============================] - 0s 2ms/step - loss: 4.7909e-04 - val_loss: 0.0020\n",
      "Epoch 5/30\n",
      "40/40 [==============================] - 0s 2ms/step - loss: 4.1303e-04 - val_loss: 0.0022\n",
      "Epoch 6/30\n",
      "40/40 [==============================] - 0s 2ms/step - loss: 4.1058e-04 - val_loss: 0.0019\n",
      "Epoch 7/30\n",
      "40/40 [==============================] - 0s 2ms/step - loss: 4.2533e-04 - val_loss: 0.0024\n",
      "Epoch 8/30\n",
      "40/40 [==============================] - 0s 2ms/step - loss: 4.5840e-04 - val_loss: 0.0019\n",
      "Epoch 9/30\n",
      "40/40 [==============================] - 0s 2ms/step - loss: 4.1885e-04 - val_loss: 0.0021\n",
      "Epoch 10/30\n",
      "40/40 [==============================] - 0s 2ms/step - loss: 4.0272e-04 - val_loss: 0.0020\n",
      "Epoch 11/30\n",
      "40/40 [==============================] - 0s 2ms/step - loss: 4.0613e-04 - val_loss: 0.0021\n",
      "Epoch 12/30\n",
      "40/40 [==============================] - 0s 2ms/step - loss: 4.0237e-04 - val_loss: 0.0020\n",
      "Epoch 13/30\n",
      "40/40 [==============================] - 0s 2ms/step - loss: 3.9791e-04 - val_loss: 0.0023\n",
      "Epoch 14/30\n",
      "40/40 [==============================] - 0s 2ms/step - loss: 4.0832e-04 - val_loss: 0.0020\n",
      "Epoch 15/30\n",
      "40/40 [==============================] - 0s 2ms/step - loss: 4.0550e-04 - val_loss: 0.0023\n",
      "Epoch 16/30\n",
      "34/40 [========================>.....] - ETA: 0s - loss: 4.3443e-04"
     ]
    },
    {
     "name": "stderr",
     "output_type": "stream",
     "text": [
      "WARNING:absl:Found untraced functions such as _jit_compiled_convolution_op while saving (showing 1 of 1). These functions will not be directly callable after loading.\n"
     ]
    },
    {
     "name": "stdout",
     "output_type": "stream",
     "text": [
      "INFO:tensorflow:Assets written to: CNN\\assets\n"
     ]
    },
    {
     "name": "stderr",
     "output_type": "stream",
     "text": [
      "INFO:tensorflow:Assets written to: CNN\\assets\n"
     ]
    },
    {
     "name": "stdout",
     "output_type": "stream",
     "text": [
      "40/40 [==============================] - 0s 11ms/step - loss: 4.2624e-04 - val_loss: 0.0019\n",
      "Epoch 17/30\n",
      "40/40 [==============================] - 0s 2ms/step - loss: 3.8242e-04 - val_loss: 0.0020\n",
      "Epoch 18/30\n",
      "40/40 [==============================] - 0s 2ms/step - loss: 4.2390e-04 - val_loss: 0.0021\n",
      "Epoch 19/30\n",
      "39/40 [============================>.] - ETA: 0s - loss: 4.3174e-04"
     ]
    },
    {
     "name": "stderr",
     "output_type": "stream",
     "text": [
      "WARNING:absl:Found untraced functions such as _jit_compiled_convolution_op while saving (showing 1 of 1). These functions will not be directly callable after loading.\n"
     ]
    },
    {
     "name": "stdout",
     "output_type": "stream",
     "text": [
      "INFO:tensorflow:Assets written to: CNN\\assets\n"
     ]
    },
    {
     "name": "stderr",
     "output_type": "stream",
     "text": [
      "INFO:tensorflow:Assets written to: CNN\\assets\n"
     ]
    },
    {
     "name": "stdout",
     "output_type": "stream",
     "text": [
      "40/40 [==============================] - 0s 11ms/step - loss: 4.3072e-04 - val_loss: 0.0019\n",
      "Epoch 20/30\n",
      "40/40 [==============================] - 0s 2ms/step - loss: 4.2577e-04 - val_loss: 0.0021\n",
      "Epoch 21/30\n",
      "40/40 [==============================] - 0s 2ms/step - loss: 3.8333e-04 - val_loss: 0.0024\n",
      "Epoch 22/30\n",
      "40/40 [==============================] - 0s 2ms/step - loss: 3.9596e-04 - val_loss: 0.0020\n",
      "Epoch 23/30\n",
      "40/40 [==============================] - 0s 2ms/step - loss: 3.7026e-04 - val_loss: 0.0026\n",
      "Epoch 24/30\n",
      "40/40 [==============================] - 0s 2ms/step - loss: 3.9493e-04 - val_loss: 0.0021\n",
      "Epoch 25/30\n",
      "40/40 [==============================] - 0s 2ms/step - loss: 3.6150e-04 - val_loss: 0.0022\n",
      "Epoch 26/30\n",
      "40/40 [==============================] - 0s 2ms/step - loss: 3.7282e-04 - val_loss: 0.0024\n",
      "Epoch 27/30\n",
      "40/40 [==============================] - 0s 2ms/step - loss: 3.7717e-04 - val_loss: 0.0022\n",
      "Epoch 28/30\n",
      "40/40 [==============================] - 0s 2ms/step - loss: 4.0540e-04 - val_loss: 0.0023\n",
      "Epoch 29/30\n",
      "40/40 [==============================] - 0s 2ms/step - loss: 3.9661e-04 - val_loss: 0.0022\n",
      "Epoch 30/30\n",
      "40/40 [==============================] - 0s 2ms/step - loss: 3.6740e-04 - val_loss: 0.0026\n",
      "Epoch 1/30\n",
      " 1/40 [..............................] - ETA: 0s - loss: 5.5975e-04"
     ]
    },
    {
     "name": "stderr",
     "output_type": "stream",
     "text": [
      "WARNING:absl:Found untraced functions such as _jit_compiled_convolution_op while saving (showing 1 of 1). These functions will not be directly callable after loading.\n"
     ]
    },
    {
     "name": "stdout",
     "output_type": "stream",
     "text": [
      "INFO:tensorflow:Assets written to: CNN\\assets\n"
     ]
    },
    {
     "name": "stderr",
     "output_type": "stream",
     "text": [
      "INFO:tensorflow:Assets written to: CNN\\assets\n"
     ]
    },
    {
     "name": "stdout",
     "output_type": "stream",
     "text": [
      "40/40 [==============================] - 0s 12ms/step - loss: 3.8573e-04 - val_loss: 0.0023\n",
      "Epoch 2/30\n",
      "34/40 [========================>.....] - ETA: 0s - loss: 3.8710e-04"
     ]
    },
    {
     "name": "stderr",
     "output_type": "stream",
     "text": [
      "WARNING:absl:Found untraced functions such as _jit_compiled_convolution_op while saving (showing 1 of 1). These functions will not be directly callable after loading.\n"
     ]
    },
    {
     "name": "stdout",
     "output_type": "stream",
     "text": [
      "INFO:tensorflow:Assets written to: CNN\\assets\n"
     ]
    },
    {
     "name": "stderr",
     "output_type": "stream",
     "text": [
      "INFO:tensorflow:Assets written to: CNN\\assets\n"
     ]
    },
    {
     "name": "stdout",
     "output_type": "stream",
     "text": [
      "40/40 [==============================] - 1s 22ms/step - loss: 3.7148e-04 - val_loss: 0.0021\n",
      "Epoch 3/30\n",
      "40/40 [==============================] - 0s 2ms/step - loss: 3.5189e-04 - val_loss: 0.0024\n",
      "Epoch 4/30\n",
      "38/40 [===========================>..] - ETA: 0s - loss: 4.3895e-04"
     ]
    },
    {
     "name": "stderr",
     "output_type": "stream",
     "text": [
      "WARNING:absl:Found untraced functions such as _jit_compiled_convolution_op while saving (showing 1 of 1). These functions will not be directly callable after loading.\n"
     ]
    },
    {
     "name": "stdout",
     "output_type": "stream",
     "text": [
      "INFO:tensorflow:Assets written to: CNN\\assets\n"
     ]
    },
    {
     "name": "stderr",
     "output_type": "stream",
     "text": [
      "INFO:tensorflow:Assets written to: CNN\\assets\n"
     ]
    },
    {
     "name": "stdout",
     "output_type": "stream",
     "text": [
      "40/40 [==============================] - 0s 10ms/step - loss: 4.3478e-04 - val_loss: 0.0021\n",
      "Epoch 5/30\n",
      "40/40 [==============================] - 0s 2ms/step - loss: 3.5917e-04 - val_loss: 0.0023\n",
      "Epoch 6/30\n",
      "34/40 [========================>.....] - ETA: 0s - loss: 3.6850e-04"
     ]
    },
    {
     "name": "stderr",
     "output_type": "stream",
     "text": [
      "WARNING:absl:Found untraced functions such as _jit_compiled_convolution_op while saving (showing 1 of 1). These functions will not be directly callable after loading.\n"
     ]
    },
    {
     "name": "stdout",
     "output_type": "stream",
     "text": [
      "INFO:tensorflow:Assets written to: CNN\\assets\n"
     ]
    },
    {
     "name": "stderr",
     "output_type": "stream",
     "text": [
      "INFO:tensorflow:Assets written to: CNN\\assets\n"
     ]
    },
    {
     "name": "stdout",
     "output_type": "stream",
     "text": [
      "40/40 [==============================] - 2s 44ms/step - loss: 3.6180e-04 - val_loss: 0.0020\n",
      "Epoch 7/30\n",
      "40/40 [==============================] - 0s 2ms/step - loss: 3.7294e-04 - val_loss: 0.0024\n",
      "Epoch 8/30\n",
      "40/40 [==============================] - 0s 2ms/step - loss: 3.9888e-04 - val_loss: 0.0021\n",
      "Epoch 9/30\n",
      "40/40 [==============================] - 0s 2ms/step - loss: 3.6556e-04 - val_loss: 0.0022\n",
      "Epoch 10/30\n",
      "40/40 [==============================] - 0s 2ms/step - loss: 3.5128e-04 - val_loss: 0.0022\n",
      "Epoch 11/30\n",
      "40/40 [==============================] - 0s 2ms/step - loss: 3.5843e-04 - val_loss: 0.0023\n",
      "Epoch 12/30\n",
      "40/40 [==============================] - 0s 2ms/step - loss: 3.5746e-04 - val_loss: 0.0021\n",
      "Epoch 13/30\n",
      "40/40 [==============================] - 0s 2ms/step - loss: 3.4676e-04 - val_loss: 0.0024\n",
      "Epoch 14/30\n",
      "40/40 [==============================] - 0s 2ms/step - loss: 3.5963e-04 - val_loss: 0.0022\n",
      "Epoch 15/30\n",
      "40/40 [==============================] - 0s 2ms/step - loss: 3.7089e-04 - val_loss: 0.0024\n",
      "Epoch 16/30\n",
      "40/40 [==============================] - 0s 2ms/step - loss: 3.6637e-04 - val_loss: 0.0021\n",
      "Epoch 17/30\n",
      "40/40 [==============================] - 0s 2ms/step - loss: 3.4223e-04 - val_loss: 0.0021\n",
      "Epoch 18/30\n",
      "40/40 [==============================] - 0s 2ms/step - loss: 3.8231e-04 - val_loss: 0.0023\n",
      "Epoch 19/30\n",
      "40/40 [==============================] - 0s 2ms/step - loss: 3.9982e-04 - val_loss: 0.0020\n",
      "Epoch 20/30\n",
      "40/40 [==============================] - 0s 2ms/step - loss: 3.8422e-04 - val_loss: 0.0023\n",
      "Epoch 21/30\n",
      "40/40 [==============================] - 0s 2ms/step - loss: 3.4358e-04 - val_loss: 0.0027\n",
      "Epoch 22/30\n",
      "40/40 [==============================] - 0s 2ms/step - loss: 3.5238e-04 - val_loss: 0.0022\n",
      "Epoch 23/30\n",
      "40/40 [==============================] - 0s 2ms/step - loss: 3.2151e-04 - val_loss: 0.0026\n",
      "Epoch 24/30\n",
      "40/40 [==============================] - 0s 2ms/step - loss: 3.4715e-04 - val_loss: 0.0023\n",
      "Epoch 25/30\n",
      "40/40 [==============================] - 0s 2ms/step - loss: 3.2261e-04 - val_loss: 0.0024\n",
      "Epoch 26/30\n",
      "40/40 [==============================] - 0s 2ms/step - loss: 3.3414e-04 - val_loss: 0.0026\n",
      "Epoch 27/30\n",
      "40/40 [==============================] - 0s 2ms/step - loss: 3.3651e-04 - val_loss: 0.0024\n",
      "Epoch 28/30\n",
      "40/40 [==============================] - 0s 2ms/step - loss: 3.7501e-04 - val_loss: 0.0024\n",
      "Epoch 29/30\n",
      "40/40 [==============================] - 0s 2ms/step - loss: 3.5419e-04 - val_loss: 0.0024\n",
      "Epoch 30/30\n",
      "40/40 [==============================] - 0s 3ms/step - loss: 3.3046e-04 - val_loss: 0.0028\n",
      "Epoch 1/30\n",
      " 1/40 [..............................] - ETA: 0s - loss: 5.1143e-04"
     ]
    },
    {
     "name": "stderr",
     "output_type": "stream",
     "text": [
      "WARNING:absl:Found untraced functions such as _jit_compiled_convolution_op while saving (showing 1 of 1). These functions will not be directly callable after loading.\n"
     ]
    },
    {
     "name": "stdout",
     "output_type": "stream",
     "text": [
      "INFO:tensorflow:Assets written to: CNN\\assets\n"
     ]
    },
    {
     "name": "stderr",
     "output_type": "stream",
     "text": [
      "INFO:tensorflow:Assets written to: CNN\\assets\n"
     ]
    },
    {
     "name": "stdout",
     "output_type": "stream",
     "text": [
      "40/40 [==============================] - 2s 57ms/step - loss: 3.4544e-04 - val_loss: 0.0024\n",
      "Epoch 2/30\n",
      "35/40 [=========================>....] - ETA: 0s - loss: 3.3840e-04"
     ]
    },
    {
     "name": "stderr",
     "output_type": "stream",
     "text": [
      "WARNING:absl:Found untraced functions such as _jit_compiled_convolution_op while saving (showing 1 of 1). These functions will not be directly callable after loading.\n"
     ]
    },
    {
     "name": "stdout",
     "output_type": "stream",
     "text": [
      "INFO:tensorflow:Assets written to: CNN\\assets\n"
     ]
    },
    {
     "name": "stderr",
     "output_type": "stream",
     "text": [
      "INFO:tensorflow:Assets written to: CNN\\assets\n"
     ]
    },
    {
     "name": "stdout",
     "output_type": "stream",
     "text": [
      "40/40 [==============================] - 2s 55ms/step - loss: 3.3075e-04 - val_loss: 0.0023\n",
      "Epoch 3/30\n",
      "40/40 [==============================] - 0s 2ms/step - loss: 3.1638e-04 - val_loss: 0.0024\n",
      "Epoch 4/30\n",
      "36/40 [==========================>...] - ETA: 0s - loss: 3.9478e-04"
     ]
    },
    {
     "name": "stderr",
     "output_type": "stream",
     "text": [
      "WARNING:absl:Found untraced functions such as _jit_compiled_convolution_op while saving (showing 1 of 1). These functions will not be directly callable after loading.\n"
     ]
    },
    {
     "name": "stdout",
     "output_type": "stream",
     "text": [
      "INFO:tensorflow:Assets written to: CNN\\assets\n"
     ]
    },
    {
     "name": "stderr",
     "output_type": "stream",
     "text": [
      "INFO:tensorflow:Assets written to: CNN\\assets\n"
     ]
    },
    {
     "name": "stdout",
     "output_type": "stream",
     "text": [
      "40/40 [==============================] - 2s 53ms/step - loss: 3.8878e-04 - val_loss: 0.0022\n",
      "Epoch 5/30\n",
      "40/40 [==============================] - 0s 3ms/step - loss: 3.2699e-04 - val_loss: 0.0024\n",
      "Epoch 6/30\n",
      "29/40 [====================>.........] - ETA: 0s - loss: 3.1964e-04"
     ]
    },
    {
     "name": "stderr",
     "output_type": "stream",
     "text": [
      "WARNING:absl:Found untraced functions such as _jit_compiled_convolution_op while saving (showing 1 of 1). These functions will not be directly callable after loading.\n"
     ]
    },
    {
     "name": "stdout",
     "output_type": "stream",
     "text": [
      "INFO:tensorflow:Assets written to: CNN\\assets\n"
     ]
    },
    {
     "name": "stderr",
     "output_type": "stream",
     "text": [
      "INFO:tensorflow:Assets written to: CNN\\assets\n"
     ]
    },
    {
     "name": "stdout",
     "output_type": "stream",
     "text": [
      "40/40 [==============================] - 2s 53ms/step - loss: 3.2431e-04 - val_loss: 0.0022\n",
      "Epoch 7/30\n",
      "40/40 [==============================] - 0s 2ms/step - loss: 3.3395e-04 - val_loss: 0.0029\n",
      "Epoch 8/30\n",
      "40/40 [==============================] - 0s 2ms/step - loss: 3.8954e-04 - val_loss: 0.0023\n",
      "Epoch 9/30\n",
      "40/40 [==============================] - 0s 2ms/step - loss: 3.3165e-04 - val_loss: 0.0023\n",
      "Epoch 10/30\n",
      "40/40 [==============================] - 0s 2ms/step - loss: 3.1452e-04 - val_loss: 0.0023\n",
      "Epoch 11/30\n",
      "40/40 [==============================] - 0s 2ms/step - loss: 3.1968e-04 - val_loss: 0.0025\n",
      "Epoch 12/30\n",
      "40/40 [==============================] - 0s 2ms/step - loss: 3.1776e-04 - val_loss: 0.0023\n",
      "Epoch 13/30\n",
      "40/40 [==============================] - 0s 2ms/step - loss: 3.1173e-04 - val_loss: 0.0026\n",
      "Epoch 14/30\n",
      "40/40 [==============================] - 0s 2ms/step - loss: 3.2617e-04 - val_loss: 0.0024\n",
      "Epoch 15/30\n",
      "40/40 [==============================] - 0s 2ms/step - loss: 3.2715e-04 - val_loss: 0.0028\n",
      "Epoch 16/30\n",
      "40/40 [==============================] - 0s 2ms/step - loss: 3.2537e-04 - val_loss: 0.0023\n",
      "Epoch 17/30\n",
      "40/40 [==============================] - 0s 2ms/step - loss: 3.1311e-04 - val_loss: 0.0024\n",
      "Epoch 18/30\n",
      "40/40 [==============================] - 0s 3ms/step - loss: 3.3129e-04 - val_loss: 0.0024\n",
      "Epoch 19/30\n",
      "40/40 [==============================] - 0s 2ms/step - loss: 3.5885e-04 - val_loss: 0.0022\n",
      "Epoch 20/30\n",
      "40/40 [==============================] - 0s 2ms/step - loss: 3.5703e-04 - val_loss: 0.0024\n",
      "Epoch 21/30\n",
      "40/40 [==============================] - 0s 2ms/step - loss: 3.1592e-04 - val_loss: 0.0031\n",
      "Epoch 22/30\n",
      "40/40 [==============================] - 0s 2ms/step - loss: 3.3307e-04 - val_loss: 0.0024\n",
      "Epoch 23/30\n",
      "40/40 [==============================] - 0s 2ms/step - loss: 2.8788e-04 - val_loss: 0.0028\n",
      "Epoch 24/30\n",
      "40/40 [==============================] - 0s 2ms/step - loss: 3.1472e-04 - val_loss: 0.0025\n",
      "Epoch 25/30\n",
      "40/40 [==============================] - 0s 2ms/step - loss: 2.9388e-04 - val_loss: 0.0027\n",
      "Epoch 26/30\n",
      "40/40 [==============================] - 0s 2ms/step - loss: 2.9936e-04 - val_loss: 0.0028\n",
      "Epoch 27/30\n",
      "40/40 [==============================] - 0s 2ms/step - loss: 3.0583e-04 - val_loss: 0.0026\n",
      "Epoch 28/30\n",
      "40/40 [==============================] - 0s 3ms/step - loss: 3.6272e-04 - val_loss: 0.0026\n",
      "Epoch 29/30\n",
      "40/40 [==============================] - 0s 2ms/step - loss: 3.2695e-04 - val_loss: 0.0028\n",
      "Epoch 30/30\n",
      "40/40 [==============================] - 0s 2ms/step - loss: 3.0308e-04 - val_loss: 0.0031\n",
      "Epoch 1/30\n",
      "36/40 [==========================>...] - ETA: 0s - loss: 3.1577e-04"
     ]
    },
    {
     "name": "stderr",
     "output_type": "stream",
     "text": [
      "WARNING:absl:Found untraced functions such as _jit_compiled_convolution_op while saving (showing 1 of 1). These functions will not be directly callable after loading.\n"
     ]
    },
    {
     "name": "stdout",
     "output_type": "stream",
     "text": [
      "INFO:tensorflow:Assets written to: CNN\\assets\n"
     ]
    },
    {
     "name": "stderr",
     "output_type": "stream",
     "text": [
      "INFO:tensorflow:Assets written to: CNN\\assets\n"
     ]
    },
    {
     "name": "stdout",
     "output_type": "stream",
     "text": [
      "40/40 [==============================] - 2s 54ms/step - loss: 3.1236e-04 - val_loss: 0.0025\n",
      "Epoch 2/30\n",
      "40/40 [==============================] - 0s 2ms/step - loss: 3.0180e-04 - val_loss: 0.0026\n",
      "Epoch 3/30\n",
      "40/40 [==============================] - 0s 2ms/step - loss: 2.9106e-04 - val_loss: 0.0026\n",
      "Epoch 4/30\n",
      "40/40 [==============================] - 0s 2ms/step - loss: 3.5942e-04 - val_loss: 0.0026\n",
      "Epoch 5/30\n",
      "40/40 [==============================] - 0s 3ms/step - loss: 2.9538e-04 - val_loss: 0.0028\n",
      "Epoch 6/30\n",
      "28/40 [====================>.........] - ETA: 0s - loss: 2.9026e-04"
     ]
    },
    {
     "name": "stderr",
     "output_type": "stream",
     "text": [
      "WARNING:absl:Found untraced functions such as _jit_compiled_convolution_op while saving (showing 1 of 1). These functions will not be directly callable after loading.\n"
     ]
    },
    {
     "name": "stdout",
     "output_type": "stream",
     "text": [
      "INFO:tensorflow:Assets written to: CNN\\assets\n"
     ]
    },
    {
     "name": "stderr",
     "output_type": "stream",
     "text": [
      "INFO:tensorflow:Assets written to: CNN\\assets\n"
     ]
    },
    {
     "name": "stdout",
     "output_type": "stream",
     "text": [
      "40/40 [==============================] - 2s 47ms/step - loss: 2.9428e-04 - val_loss: 0.0024\n",
      "Epoch 7/30\n",
      "40/40 [==============================] - 0s 2ms/step - loss: 3.0163e-04 - val_loss: 0.0032\n",
      "Epoch 8/30\n",
      "40/40 [==============================] - 0s 2ms/step - loss: 3.7591e-04 - val_loss: 0.0025\n",
      "Epoch 9/30\n",
      "40/40 [==============================] - 0s 2ms/step - loss: 3.0460e-04 - val_loss: 0.0024\n",
      "Epoch 10/30\n",
      "40/40 [==============================] - 0s 2ms/step - loss: 2.9072e-04 - val_loss: 0.0026\n",
      "Epoch 11/30\n",
      "40/40 [==============================] - 0s 2ms/step - loss: 2.8637e-04 - val_loss: 0.0027\n",
      "Epoch 12/30\n",
      "40/40 [==============================] - 0s 2ms/step - loss: 3.0300e-04 - val_loss: 0.0025\n",
      "Epoch 13/30\n",
      "40/40 [==============================] - 0s 2ms/step - loss: 2.9066e-04 - val_loss: 0.0027\n",
      "Epoch 14/30\n",
      "40/40 [==============================] - 0s 2ms/step - loss: 2.9369e-04 - val_loss: 0.0026\n",
      "Epoch 15/30\n",
      "40/40 [==============================] - 0s 2ms/step - loss: 2.9180e-04 - val_loss: 0.0030\n",
      "Epoch 16/30\n",
      "40/40 [==============================] - 0s 2ms/step - loss: 2.9367e-04 - val_loss: 0.0025\n",
      "Epoch 17/30\n",
      "40/40 [==============================] - 0s 2ms/step - loss: 2.8460e-04 - val_loss: 0.0027\n",
      "Epoch 18/30\n",
      "40/40 [==============================] - 0s 2ms/step - loss: 3.0224e-04 - val_loss: 0.0026\n",
      "Epoch 19/30\n",
      "40/40 [==============================] - 0s 2ms/step - loss: 3.2472e-04 - val_loss: 0.0024\n",
      "Epoch 20/30\n",
      "40/40 [==============================] - 0s 2ms/step - loss: 3.1742e-04 - val_loss: 0.0026\n",
      "Epoch 21/30\n",
      "40/40 [==============================] - 0s 2ms/step - loss: 2.8426e-04 - val_loss: 0.0034\n",
      "Epoch 22/30\n",
      "40/40 [==============================] - 0s 2ms/step - loss: 3.1323e-04 - val_loss: 0.0026\n",
      "Epoch 23/30\n",
      "40/40 [==============================] - 0s 2ms/step - loss: 2.6456e-04 - val_loss: 0.0029\n",
      "Epoch 24/30\n",
      "40/40 [==============================] - 0s 2ms/step - loss: 2.8658e-04 - val_loss: 0.0027\n",
      "Epoch 25/30\n",
      "40/40 [==============================] - 0s 2ms/step - loss: 2.7003e-04 - val_loss: 0.0030\n",
      "Epoch 26/30\n",
      "40/40 [==============================] - 0s 2ms/step - loss: 2.7326e-04 - val_loss: 0.0030\n",
      "Epoch 27/30\n",
      "40/40 [==============================] - 0s 2ms/step - loss: 2.8451e-04 - val_loss: 0.0029\n",
      "Epoch 28/30\n",
      "40/40 [==============================] - 0s 2ms/step - loss: 3.3009e-04 - val_loss: 0.0028\n",
      "Epoch 29/30\n",
      "40/40 [==============================] - 0s 2ms/step - loss: 2.9579e-04 - val_loss: 0.0029\n",
      "Epoch 30/30\n",
      "40/40 [==============================] - 0s 2ms/step - loss: 2.7508e-04 - val_loss: 0.0033\n",
      "Epoch 1/30\n",
      "37/40 [==========================>...] - ETA: 0s - loss: 2.8649e-04"
     ]
    },
    {
     "name": "stderr",
     "output_type": "stream",
     "text": [
      "WARNING:absl:Found untraced functions such as _jit_compiled_convolution_op while saving (showing 1 of 1). These functions will not be directly callable after loading.\n"
     ]
    },
    {
     "name": "stdout",
     "output_type": "stream",
     "text": [
      "INFO:tensorflow:Assets written to: CNN\\assets\n"
     ]
    },
    {
     "name": "stderr",
     "output_type": "stream",
     "text": [
      "INFO:tensorflow:Assets written to: CNN\\assets\n"
     ]
    },
    {
     "name": "stdout",
     "output_type": "stream",
     "text": [
      "40/40 [==============================] - 2s 55ms/step - loss: 2.8891e-04 - val_loss: 0.0027\n",
      "Epoch 2/30\n",
      "40/40 [==============================] - 0s 2ms/step - loss: 2.8061e-04 - val_loss: 0.0029\n",
      "Epoch 3/30\n",
      "40/40 [==============================] - 0s 2ms/step - loss: 2.7238e-04 - val_loss: 0.0027\n",
      "Epoch 4/30\n",
      "40/40 [==============================] - 0s 2ms/step - loss: 2.9900e-04 - val_loss: 0.0028\n",
      "Epoch 5/30\n",
      "40/40 [==============================] - 0s 2ms/step - loss: 2.7645e-04 - val_loss: 0.0030\n",
      "Epoch 6/30\n",
      "39/40 [============================>.] - ETA: 0s - loss: 2.7057e-04"
     ]
    },
    {
     "name": "stderr",
     "output_type": "stream",
     "text": [
      "WARNING:absl:Found untraced functions such as _jit_compiled_convolution_op while saving (showing 1 of 1). These functions will not be directly callable after loading.\n"
     ]
    },
    {
     "name": "stdout",
     "output_type": "stream",
     "text": [
      "INFO:tensorflow:Assets written to: CNN\\assets\n"
     ]
    },
    {
     "name": "stderr",
     "output_type": "stream",
     "text": [
      "INFO:tensorflow:Assets written to: CNN\\assets\n"
     ]
    },
    {
     "name": "stdout",
     "output_type": "stream",
     "text": [
      "40/40 [==============================] - 0s 11ms/step - loss: 2.6950e-04 - val_loss: 0.0027\n",
      "Epoch 7/30\n",
      "40/40 [==============================] - 0s 2ms/step - loss: 2.8409e-04 - val_loss: 0.0033\n",
      "Epoch 8/30\n",
      "40/40 [==============================] - 0s 2ms/step - loss: 3.5429e-04 - val_loss: 0.0027\n",
      "Epoch 9/30\n",
      "38/40 [===========================>..] - ETA: 0s - loss: 2.8378e-04"
     ]
    },
    {
     "name": "stderr",
     "output_type": "stream",
     "text": [
      "WARNING:absl:Found untraced functions such as _jit_compiled_convolution_op while saving (showing 1 of 1). These functions will not be directly callable after loading.\n"
     ]
    },
    {
     "name": "stdout",
     "output_type": "stream",
     "text": [
      "INFO:tensorflow:Assets written to: CNN\\assets\n"
     ]
    },
    {
     "name": "stderr",
     "output_type": "stream",
     "text": [
      "INFO:tensorflow:Assets written to: CNN\\assets\n"
     ]
    },
    {
     "name": "stdout",
     "output_type": "stream",
     "text": [
      "40/40 [==============================] - 0s 11ms/step - loss: 2.8255e-04 - val_loss: 0.0026\n",
      "Epoch 10/30\n",
      "40/40 [==============================] - 0s 3ms/step - loss: 2.6590e-04 - val_loss: 0.0027\n",
      "Epoch 11/30\n",
      "40/40 [==============================] - 0s 2ms/step - loss: 2.6981e-04 - val_loss: 0.0028\n",
      "Epoch 12/30\n",
      "40/40 [==============================] - 0s 2ms/step - loss: 2.8362e-04 - val_loss: 0.0027\n",
      "Epoch 13/30\n",
      "40/40 [==============================] - 0s 2ms/step - loss: 2.7703e-04 - val_loss: 0.0029\n",
      "Epoch 14/30\n",
      "40/40 [==============================] - 0s 2ms/step - loss: 2.6757e-04 - val_loss: 0.0028\n",
      "Epoch 15/30\n",
      "40/40 [==============================] - 0s 2ms/step - loss: 2.6412e-04 - val_loss: 0.0031\n",
      "Epoch 16/30\n",
      "39/40 [============================>.] - ETA: 0s - loss: 2.7453e-04"
     ]
    },
    {
     "name": "stderr",
     "output_type": "stream",
     "text": [
      "WARNING:absl:Found untraced functions such as _jit_compiled_convolution_op while saving (showing 1 of 1). These functions will not be directly callable after loading.\n"
     ]
    },
    {
     "name": "stdout",
     "output_type": "stream",
     "text": [
      "INFO:tensorflow:Assets written to: CNN\\assets\n"
     ]
    },
    {
     "name": "stderr",
     "output_type": "stream",
     "text": [
      "INFO:tensorflow:Assets written to: CNN\\assets\n"
     ]
    },
    {
     "name": "stdout",
     "output_type": "stream",
     "text": [
      "40/40 [==============================] - 0s 12ms/step - loss: 2.7357e-04 - val_loss: 0.0026\n",
      "Epoch 17/30\n",
      "40/40 [==============================] - 0s 3ms/step - loss: 2.6589e-04 - val_loss: 0.0028\n",
      "Epoch 18/30\n",
      "40/40 [==============================] - 0s 2ms/step - loss: 2.6977e-04 - val_loss: 0.0027\n",
      "Epoch 19/30\n",
      "40/40 [==============================] - 0s 2ms/step - loss: 2.8771e-04 - val_loss: 0.0026\n",
      "Epoch 20/30\n",
      "40/40 [==============================] - 0s 2ms/step - loss: 3.2184e-04 - val_loss: 0.0028\n",
      "Epoch 21/30\n",
      "40/40 [==============================] - 0s 2ms/step - loss: 2.7292e-04 - val_loss: 0.0037\n",
      "Epoch 22/30\n",
      "40/40 [==============================] - 0s 2ms/step - loss: 2.9888e-04 - val_loss: 0.0027\n",
      "Epoch 23/30\n",
      "40/40 [==============================] - 0s 2ms/step - loss: 2.4824e-04 - val_loss: 0.0031\n",
      "Epoch 24/30\n",
      "40/40 [==============================] - 0s 2ms/step - loss: 2.6485e-04 - val_loss: 0.0029\n",
      "Epoch 25/30\n",
      "40/40 [==============================] - 0s 2ms/step - loss: 2.4839e-04 - val_loss: 0.0032\n",
      "Epoch 26/30\n",
      "40/40 [==============================] - 0s 2ms/step - loss: 2.5153e-04 - val_loss: 0.0032\n",
      "Epoch 27/30\n",
      "40/40 [==============================] - 0s 2ms/step - loss: 2.6827e-04 - val_loss: 0.0031\n",
      "Epoch 28/30\n",
      "40/40 [==============================] - 0s 2ms/step - loss: 3.0214e-04 - val_loss: 0.0030\n",
      "Epoch 29/30\n",
      "40/40 [==============================] - 0s 2ms/step - loss: 2.7546e-04 - val_loss: 0.0031\n",
      "Epoch 30/30\n",
      "40/40 [==============================] - 0s 2ms/step - loss: 2.6396e-04 - val_loss: 0.0033\n",
      "Epoch 1/30\n",
      "37/40 [==========================>...] - ETA: 0s - loss: 2.7658e-04"
     ]
    },
    {
     "name": "stderr",
     "output_type": "stream",
     "text": [
      "WARNING:absl:Found untraced functions such as _jit_compiled_convolution_op while saving (showing 1 of 1). These functions will not be directly callable after loading.\n"
     ]
    },
    {
     "name": "stdout",
     "output_type": "stream",
     "text": [
      "INFO:tensorflow:Assets written to: CNN\\assets\n"
     ]
    },
    {
     "name": "stderr",
     "output_type": "stream",
     "text": [
      "INFO:tensorflow:Assets written to: CNN\\assets\n"
     ]
    },
    {
     "name": "stdout",
     "output_type": "stream",
     "text": [
      "40/40 [==============================] - 0s 11ms/step - loss: 2.7793e-04 - val_loss: 0.0029\n",
      "Epoch 2/30\n",
      "40/40 [==============================] - 0s 2ms/step - loss: 2.5953e-04 - val_loss: 0.0031\n",
      "Epoch 3/30\n",
      "40/40 [==============================] - 0s 2ms/step - loss: 2.5582e-04 - val_loss: 0.0030\n",
      "Epoch 4/30\n",
      "40/40 [==============================] - 0s 2ms/step - loss: 2.6441e-04 - val_loss: 0.0030\n",
      "Epoch 5/30\n",
      "40/40 [==============================] - 0s 2ms/step - loss: 2.6179e-04 - val_loss: 0.0032\n",
      "Epoch 6/30\n",
      "36/40 [==========================>...] - ETA: 0s - loss: 2.5306e-04"
     ]
    },
    {
     "name": "stderr",
     "output_type": "stream",
     "text": [
      "WARNING:absl:Found untraced functions such as _jit_compiled_convolution_op while saving (showing 1 of 1). These functions will not be directly callable after loading.\n"
     ]
    },
    {
     "name": "stdout",
     "output_type": "stream",
     "text": [
      "INFO:tensorflow:Assets written to: CNN\\assets\n"
     ]
    },
    {
     "name": "stderr",
     "output_type": "stream",
     "text": [
      "INFO:tensorflow:Assets written to: CNN\\assets\n"
     ]
    },
    {
     "name": "stdout",
     "output_type": "stream",
     "text": [
      "40/40 [==============================] - 2s 54ms/step - loss: 2.4801e-04 - val_loss: 0.0029\n",
      "Epoch 7/30\n",
      "40/40 [==============================] - 0s 2ms/step - loss: 2.7008e-04 - val_loss: 0.0032\n",
      "Epoch 8/30\n",
      "39/40 [============================>.] - ETA: 0s - loss: 3.1204e-04"
     ]
    },
    {
     "name": "stderr",
     "output_type": "stream",
     "text": [
      "WARNING:absl:Found untraced functions such as _jit_compiled_convolution_op while saving (showing 1 of 1). These functions will not be directly callable after loading.\n"
     ]
    },
    {
     "name": "stdout",
     "output_type": "stream",
     "text": [
      "INFO:tensorflow:Assets written to: CNN\\assets\n"
     ]
    },
    {
     "name": "stderr",
     "output_type": "stream",
     "text": [
      "INFO:tensorflow:Assets written to: CNN\\assets\n"
     ]
    },
    {
     "name": "stdout",
     "output_type": "stream",
     "text": [
      "40/40 [==============================] - 0s 11ms/step - loss: 3.1203e-04 - val_loss: 0.0028\n",
      "Epoch 9/30\n",
      "39/40 [============================>.] - ETA: 0s - loss: 2.6165e-04"
     ]
    },
    {
     "name": "stderr",
     "output_type": "stream",
     "text": [
      "WARNING:absl:Found untraced functions such as _jit_compiled_convolution_op while saving (showing 1 of 1). These functions will not be directly callable after loading.\n"
     ]
    },
    {
     "name": "stdout",
     "output_type": "stream",
     "text": [
      "INFO:tensorflow:Assets written to: CNN\\assets\n"
     ]
    },
    {
     "name": "stderr",
     "output_type": "stream",
     "text": [
      "INFO:tensorflow:Assets written to: CNN\\assets\n"
     ]
    },
    {
     "name": "stdout",
     "output_type": "stream",
     "text": [
      "40/40 [==============================] - 0s 11ms/step - loss: 2.6085e-04 - val_loss: 0.0028\n",
      "Epoch 10/30\n",
      "40/40 [==============================] - 0s 3ms/step - loss: 2.4381e-04 - val_loss: 0.0028\n",
      "Epoch 11/30\n",
      "40/40 [==============================] - 0s 2ms/step - loss: 2.4529e-04 - val_loss: 0.0030\n",
      "Epoch 12/30\n",
      "40/40 [==============================] - 0s 3ms/step - loss: 2.6076e-04 - val_loss: 0.0029\n",
      "Epoch 13/30\n",
      "40/40 [==============================] - 0s 2ms/step - loss: 2.5727e-04 - val_loss: 0.0030\n",
      "Epoch 14/30\n",
      "40/40 [==============================] - 0s 2ms/step - loss: 2.5363e-04 - val_loss: 0.0030\n",
      "Epoch 15/30\n",
      "40/40 [==============================] - 0s 2ms/step - loss: 2.5011e-04 - val_loss: 0.0032\n",
      "Epoch 16/30\n",
      "31/40 [======================>.......] - ETA: 0s - loss: 2.4762e-04"
     ]
    },
    {
     "name": "stderr",
     "output_type": "stream",
     "text": [
      "WARNING:absl:Found untraced functions such as _jit_compiled_convolution_op while saving (showing 1 of 1). These functions will not be directly callable after loading.\n"
     ]
    },
    {
     "name": "stdout",
     "output_type": "stream",
     "text": [
      "INFO:tensorflow:Assets written to: CNN\\assets\n"
     ]
    },
    {
     "name": "stderr",
     "output_type": "stream",
     "text": [
      "INFO:tensorflow:Assets written to: CNN\\assets\n"
     ]
    },
    {
     "name": "stdout",
     "output_type": "stream",
     "text": [
      "40/40 [==============================] - 1s 22ms/step - loss: 2.5061e-04 - val_loss: 0.0027\n",
      "Epoch 17/30\n",
      "40/40 [==============================] - 0s 2ms/step - loss: 2.4793e-04 - val_loss: 0.0030\n",
      "Epoch 18/30\n",
      "40/40 [==============================] - 0s 2ms/step - loss: 2.6754e-04 - val_loss: 0.0029\n",
      "Epoch 19/30\n",
      "36/40 [==========================>...] - ETA: 0s - loss: 3.0208e-04"
     ]
    },
    {
     "name": "stderr",
     "output_type": "stream",
     "text": [
      "WARNING:absl:Found untraced functions such as _jit_compiled_convolution_op while saving (showing 1 of 1). These functions will not be directly callable after loading.\n"
     ]
    },
    {
     "name": "stdout",
     "output_type": "stream",
     "text": [
      "INFO:tensorflow:Assets written to: CNN\\assets\n"
     ]
    },
    {
     "name": "stderr",
     "output_type": "stream",
     "text": [
      "INFO:tensorflow:Assets written to: CNN\\assets\n"
     ]
    },
    {
     "name": "stdout",
     "output_type": "stream",
     "text": [
      "40/40 [==============================] - 2s 49ms/step - loss: 2.9397e-04 - val_loss: 0.0026\n",
      "Epoch 20/30\n",
      "40/40 [==============================] - 0s 2ms/step - loss: 3.1015e-04 - val_loss: 0.0029\n",
      "Epoch 21/30\n",
      "40/40 [==============================] - 0s 2ms/step - loss: 2.6865e-04 - val_loss: 0.0033\n",
      "Epoch 22/30\n",
      "40/40 [==============================] - 0s 2ms/step - loss: 2.6406e-04 - val_loss: 0.0028\n",
      "Epoch 23/30\n",
      "40/40 [==============================] - 0s 2ms/step - loss: 2.2693e-04 - val_loss: 0.0030\n",
      "Epoch 24/30\n",
      "40/40 [==============================] - 0s 2ms/step - loss: 2.4856e-04 - val_loss: 0.0031\n",
      "Epoch 25/30\n",
      "40/40 [==============================] - 0s 2ms/step - loss: 2.3076e-04 - val_loss: 0.0032\n",
      "Epoch 26/30\n",
      "40/40 [==============================] - 0s 2ms/step - loss: 2.3957e-04 - val_loss: 0.0033\n",
      "Epoch 27/30\n",
      "40/40 [==============================] - 0s 2ms/step - loss: 2.4978e-04 - val_loss: 0.0032\n",
      "Epoch 28/30\n",
      "40/40 [==============================] - 0s 2ms/step - loss: 2.8605e-04 - val_loss: 0.0030\n",
      "Epoch 29/30\n",
      "40/40 [==============================] - 0s 2ms/step - loss: 2.5152e-04 - val_loss: 0.0034\n",
      "Epoch 30/30\n",
      "40/40 [==============================] - 0s 2ms/step - loss: 2.4355e-04 - val_loss: 0.0034\n"
     ]
    }
   ],
   "source": [
    "max_pool_mse = []\n",
    "max_pool_size = [2,3,4,5,6,7,8,9,10]\n",
    "for size in max_pool_size:\n",
    "    checkpoint_cb = keras.callbacks.ModelCheckpoint('CNN',save_best_only=True)\n",
    "    run = model.fit(X_train_3D,y_train,epochs = 30, validation_data=(X_valid_3D,y_valid),callbacks=[checkpoint_cb,])\n",
    "    CNN_best = keras.models.load_model('CNN')\n",
    "    y_test_predict = CNN_best.predict(X_test_3D,verbose = 0)\n",
    "    max_pool_mse.append(mean_squared_error(y_test, y_test_predict))"
   ]
  },
  {
   "cell_type": "code",
   "execution_count": 206,
   "id": "0d6e9a98",
   "metadata": {
    "ExecuteTime": {
     "end_time": "2022-06-01T15:58:26.718317Z",
     "start_time": "2022-06-01T15:58:26.629505Z"
    },
    "hidden": true
   },
   "outputs": [
    {
     "data": {
      "image/png": "[encoded data removed]",
      "text/plain": [
       "<Figure size 432x288 with 1 Axes>"
      ]
     },
     "metadata": {
      "needs_background": "light"
     },
     "output_type": "display_data"
    }
   ],
   "source": [
    "plt.plot(max_pool_size,max_pool_mse);\n",
    "plt.xlabel('max pool size');\n",
    "plt.ylabel('mse');"
   ]
  },
  {
   "cell_type": "markdown",
   "id": "23011ae3",
   "metadata": {
    "hidden": true
   },
   "source": [
    "**We could see that increasing the pooling size does not help the prediction**"
   ]
  },
  {
   "cell_type": "code",
   "execution_count": 207,
   "id": "59cd9d33",
   "metadata": {
    "ExecuteTime": {
     "end_time": "2022-06-01T15:58:46.990664Z",
     "start_time": "2022-06-01T15:58:46.983077Z"
    },
    "hidden": true
   },
   "outputs": [
    {
     "data": {
      "text/html": [
       "<div>\n",
       "<style scoped>\n",
       "    .dataframe tbody tr th:only-of-type {\n",
       "        vertical-align: middle;\n",
       "    }\n",
       "\n",
       "    .dataframe tbody tr th {\n",
       "        vertical-align: top;\n",
       "    }\n",
       "\n",
       "    .dataframe thead th {\n",
       "        text-align: right;\n",
       "    }\n",
       "</style>\n",
       "<table border=\"1\" class=\"dataframe\">\n",
       "  <thead>\n",
       "    <tr style=\"text-align: right;\">\n",
       "      <th></th>\n",
       "      <th>lin_mse</th>\n",
       "      <th>sgd_reg</th>\n",
       "      <th>poly_reg</th>\n",
       "      <th>ridge_reg</th>\n",
       "      <th>lasso_reg</th>\n",
       "      <th>elastic_net</th>\n",
       "      <th>sp_rnn</th>\n",
       "      <th>dp_rnn</th>\n",
       "      <th>deepRNN-BN-DO</th>\n",
       "      <th>deepRNN_dense_each</th>\n",
       "      <th>deepLSTM_dense_each</th>\n",
       "      <th>simple mlp</th>\n",
       "      <th>deep mlp</th>\n",
       "      <th>simple CNN</th>\n",
       "      <th>deep CNN</th>\n",
       "      <th>deep CNN ave</th>\n",
       "      <th>deep CNN max</th>\n",
       "    </tr>\n",
       "  </thead>\n",
       "  <tbody>\n",
       "    <tr>\n",
       "      <th>0</th>\n",
       "      <td>0.002271</td>\n",
       "      <td>0.002189</td>\n",
       "      <td>0.022761</td>\n",
       "      <td>0.002191</td>\n",
       "      <td>0.002189</td>\n",
       "      <td>0.00219</td>\n",
       "      <td>0.014262</td>\n",
       "      <td>0.003489</td>\n",
       "      <td>0.00342</td>\n",
       "      <td>0.00047</td>\n",
       "      <td>0.00086</td>\n",
       "      <td>0.002178</td>\n",
       "      <td>0.002666</td>\n",
       "      <td>0.002267</td>\n",
       "      <td>0.006322</td>\n",
       "      <td>0.006089</td>\n",
       "      <td>0.002677</td>\n",
       "    </tr>\n",
       "  </tbody>\n",
       "</table>\n",
       "</div>"
      ],
      "text/plain": [
       "    lin_mse   sgd_reg  poly_reg  ridge_reg  lasso_reg  elastic_net    sp_rnn  \\\n",
       "0  0.002271  0.002189  0.022761   0.002191   0.002189      0.00219  0.014262   \n",
       "\n",
       "     dp_rnn  deepRNN-BN-DO  deepRNN_dense_each  deepLSTM_dense_each  \\\n",
       "0  0.003489        0.00342             0.00047              0.00086   \n",
       "\n",
       "   simple mlp  deep mlp  simple CNN  deep CNN  deep CNN ave  deep CNN max  \n",
       "0    0.002178  0.002666    0.002267  0.006322      0.006089      0.002677  "
      ]
     },
     "execution_count": 207,
     "metadata": {},
     "output_type": "execute_result"
    }
   ],
   "source": [
    "mse[\"deep CNN max\"] = min(max_pool_mse)\n",
    "mse"
   ]
  },
  {
   "cell_type": "markdown",
   "id": "ec1baf14",
   "metadata": {
    "hidden": true
   },
   "source": [
    "**Next we experiment over average pooling**"
   ]
  },
  {
   "cell_type": "code",
   "execution_count": 208,
   "id": "505ee250",
   "metadata": {
    "ExecuteTime": {
     "end_time": "2022-06-01T15:59:12.990366Z",
     "start_time": "2022-06-01T15:59:12.985986Z"
    },
    "hidden": true
   },
   "outputs": [],
   "source": [
    "def buildModelAvePool(size):\n",
    "    model = keras.models.Sequential()\n",
    "    model.add(keras.layers.BatchNormalization())\n",
    "    model.add(Conv1D(filters=10, kernel_size=3, activation='relu', input_shape=(36,feature)))\n",
    "    model.add(AveragePooling1D(pool_size=size))\n",
    "    model.add(Flatten())\n",
    "    for layer in range(nLayer):\n",
    "        model.add(keras.layers.Dense(nNeuron,activation = 'selu',kernel_initializer=\"lecun_normal\"))\n",
    "    model.add(keras.layers.Dense(1, kernel_initializer=\"glorot_uniform\"))\n",
    "    model.compile(loss=\"mse\", optimizer='nadam')\n",
    "    return model"
   ]
  },
  {
   "cell_type": "code",
   "execution_count": 209,
   "id": "be1dc1a8",
   "metadata": {
    "ExecuteTime": {
     "end_time": "2022-06-01T16:00:52.514276Z",
     "start_time": "2022-06-01T15:59:14.824559Z"
    },
    "hidden": true
   },
   "outputs": [
    {
     "name": "stdout",
     "output_type": "stream",
     "text": [
      "Epoch 1/30\n",
      "36/40 [==========================>...] - ETA: 0s - loss: 2.5646e-04"
     ]
    },
    {
     "name": "stderr",
     "output_type": "stream",
     "text": [
      "WARNING:absl:Found untraced functions such as _jit_compiled_convolution_op while saving (showing 1 of 1). These functions will not be directly callable after loading.\n"
     ]
    },
    {
     "name": "stdout",
     "output_type": "stream",
     "text": [
      "INFO:tensorflow:Assets written to: CNN\\assets\n"
     ]
    },
    {
     "name": "stderr",
     "output_type": "stream",
     "text": [
      "INFO:tensorflow:Assets written to: CNN\\assets\n"
     ]
    },
    {
     "name": "stdout",
     "output_type": "stream",
     "text": [
      "40/40 [==============================] - 0s 12ms/step - loss: 2.5532e-04 - val_loss: 0.0029\n",
      "Epoch 2/30\n",
      "40/40 [==============================] - 0s 2ms/step - loss: 2.4005e-04 - val_loss: 0.0033\n",
      "Epoch 3/30\n",
      "40/40 [==============================] - 0s 2ms/step - loss: 2.4393e-04 - val_loss: 0.0031\n",
      "Epoch 4/30\n",
      "40/40 [==============================] - 0s 2ms/step - loss: 2.3995e-04 - val_loss: 0.0031\n",
      "Epoch 5/30\n",
      "40/40 [==============================] - 0s 2ms/step - loss: 2.4141e-04 - val_loss: 0.0033\n",
      "Epoch 6/30\n",
      "40/40 [==============================] - 0s 2ms/step - loss: 2.3131e-04 - val_loss: 0.0030\n",
      "Epoch 7/30\n",
      "40/40 [==============================] - 0s 2ms/step - loss: 2.4838e-04 - val_loss: 0.0032\n",
      "Epoch 8/30\n",
      "40/40 [==============================] - 0s 2ms/step - loss: 2.9143e-04 - val_loss: 0.0030\n",
      "Epoch 9/30\n",
      "39/40 [============================>.] - ETA: 0s - loss: 2.4992e-04"
     ]
    },
    {
     "name": "stderr",
     "output_type": "stream",
     "text": [
      "WARNING:absl:Found untraced functions such as _jit_compiled_convolution_op while saving (showing 1 of 1). These functions will not be directly callable after loading.\n"
     ]
    },
    {
     "name": "stdout",
     "output_type": "stream",
     "text": [
      "INFO:tensorflow:Assets written to: CNN\\assets\n"
     ]
    },
    {
     "name": "stderr",
     "output_type": "stream",
     "text": [
      "INFO:tensorflow:Assets written to: CNN\\assets\n"
     ]
    },
    {
     "name": "stdout",
     "output_type": "stream",
     "text": [
      "40/40 [==============================] - 2s 53ms/step - loss: 2.4953e-04 - val_loss: 0.0029\n",
      "Epoch 10/30\n",
      "40/40 [==============================] - 0s 3ms/step - loss: 2.4508e-04 - val_loss: 0.0030\n",
      "Epoch 11/30\n",
      "40/40 [==============================] - 0s 2ms/step - loss: 2.3598e-04 - val_loss: 0.0030\n",
      "Epoch 12/30\n",
      "40/40 [==============================] - 0s 2ms/step - loss: 2.4396e-04 - val_loss: 0.0030\n",
      "Epoch 13/30\n",
      "40/40 [==============================] - 0s 2ms/step - loss: 2.4015e-04 - val_loss: 0.0031\n",
      "Epoch 14/30\n",
      "40/40 [==============================] - 0s 2ms/step - loss: 2.4564e-04 - val_loss: 0.0032\n",
      "Epoch 15/30\n",
      "40/40 [==============================] - 0s 3ms/step - loss: 2.3870e-04 - val_loss: 0.0034\n",
      "Epoch 16/30\n",
      "25/40 [=================>............] - ETA: 0s - loss: 2.1418e-04"
     ]
    },
    {
     "name": "stderr",
     "output_type": "stream",
     "text": [
      "WARNING:absl:Found untraced functions such as _jit_compiled_convolution_op while saving (showing 1 of 1). These functions will not be directly callable after loading.\n"
     ]
    },
    {
     "name": "stdout",
     "output_type": "stream",
     "text": [
      "INFO:tensorflow:Assets written to: CNN\\assets\n"
     ]
    },
    {
     "name": "stderr",
     "output_type": "stream",
     "text": [
      "INFO:tensorflow:Assets written to: CNN\\assets\n"
     ]
    },
    {
     "name": "stdout",
     "output_type": "stream",
     "text": [
      "40/40 [==============================] - 2s 43ms/step - loss: 2.2894e-04 - val_loss: 0.0028\n",
      "Epoch 17/30\n",
      "40/40 [==============================] - 0s 2ms/step - loss: 2.3041e-04 - val_loss: 0.0031\n",
      "Epoch 18/30\n",
      "40/40 [==============================] - 0s 2ms/step - loss: 2.7284e-04 - val_loss: 0.0031\n",
      "Epoch 19/30\n",
      "39/40 [============================>.] - ETA: 0s - loss: 3.3494e-04"
     ]
    },
    {
     "name": "stderr",
     "output_type": "stream",
     "text": [
      "WARNING:absl:Found untraced functions such as _jit_compiled_convolution_op while saving (showing 1 of 1). These functions will not be directly callable after loading.\n"
     ]
    },
    {
     "name": "stdout",
     "output_type": "stream",
     "text": [
      "INFO:tensorflow:Assets written to: CNN\\assets\n"
     ]
    },
    {
     "name": "stderr",
     "output_type": "stream",
     "text": [
      "INFO:tensorflow:Assets written to: CNN\\assets\n"
     ]
    },
    {
     "name": "stdout",
     "output_type": "stream",
     "text": [
      "40/40 [==============================] - 0s 11ms/step - loss: 3.3372e-04 - val_loss: 0.0027\n",
      "Epoch 20/30\n",
      "40/40 [==============================] - 0s 2ms/step - loss: 3.0312e-04 - val_loss: 0.0028\n",
      "Epoch 21/30\n",
      "40/40 [==============================] - 0s 3ms/step - loss: 2.5288e-04 - val_loss: 0.0030\n",
      "Epoch 22/30\n",
      "40/40 [==============================] - 0s 3ms/step - loss: 2.4378e-04 - val_loss: 0.0028\n",
      "Epoch 23/30\n",
      "40/40 [==============================] - 0s 2ms/step - loss: 2.1224e-04 - val_loss: 0.0030\n",
      "Epoch 24/30\n",
      "40/40 [==============================] - 0s 2ms/step - loss: 2.2910e-04 - val_loss: 0.0032\n",
      "Epoch 25/30\n",
      "40/40 [==============================] - 0s 2ms/step - loss: 2.1349e-04 - val_loss: 0.0032\n",
      "Epoch 26/30\n",
      "40/40 [==============================] - 0s 2ms/step - loss: 2.1689e-04 - val_loss: 0.0032\n",
      "Epoch 27/30\n",
      "40/40 [==============================] - 0s 2ms/step - loss: 2.3636e-04 - val_loss: 0.0033\n",
      "Epoch 28/30\n",
      "40/40 [==============================] - 0s 2ms/step - loss: 2.7009e-04 - val_loss: 0.0031\n",
      "Epoch 29/30\n",
      "40/40 [==============================] - 0s 2ms/step - loss: 2.3073e-04 - val_loss: 0.0033\n",
      "Epoch 30/30\n",
      "40/40 [==============================] - 0s 2ms/step - loss: 2.2431e-04 - val_loss: 0.0035\n",
      "Epoch 1/30\n",
      "34/40 [========================>.....] - ETA: 0s - loss: 2.4591e-04"
     ]
    },
    {
     "name": "stderr",
     "output_type": "stream",
     "text": [
      "WARNING:absl:Found untraced functions such as _jit_compiled_convolution_op while saving (showing 1 of 1). These functions will not be directly callable after loading.\n"
     ]
    },
    {
     "name": "stdout",
     "output_type": "stream",
     "text": [
      "INFO:tensorflow:Assets written to: CNN\\assets\n"
     ]
    },
    {
     "name": "stderr",
     "output_type": "stream",
     "text": [
      "INFO:tensorflow:Assets written to: CNN\\assets\n"
     ]
    },
    {
     "name": "stdout",
     "output_type": "stream",
     "text": [
      "40/40 [==============================] - 0s 11ms/step - loss: 2.4188e-04 - val_loss: 0.0030\n",
      "Epoch 2/30\n",
      "40/40 [==============================] - 0s 2ms/step - loss: 2.2322e-04 - val_loss: 0.0033\n",
      "Epoch 3/30\n",
      "40/40 [==============================] - 0s 2ms/step - loss: 2.2239e-04 - val_loss: 0.0032\n",
      "Epoch 4/30\n",
      "40/40 [==============================] - 0s 2ms/step - loss: 2.3264e-04 - val_loss: 0.0032\n",
      "Epoch 5/30\n",
      "40/40 [==============================] - 0s 2ms/step - loss: 2.3816e-04 - val_loss: 0.0033\n",
      "Epoch 6/30\n",
      "40/40 [==============================] - 0s 2ms/step - loss: 2.2056e-04 - val_loss: 0.0032\n",
      "Epoch 7/30\n",
      "40/40 [==============================] - 0s 2ms/step - loss: 2.7246e-04 - val_loss: 0.0031\n",
      "Epoch 8/30\n",
      "38/40 [===========================>..] - ETA: 0s - loss: 2.8038e-04"
     ]
    },
    {
     "name": "stderr",
     "output_type": "stream",
     "text": [
      "WARNING:absl:Found untraced functions such as _jit_compiled_convolution_op while saving (showing 1 of 1). These functions will not be directly callable after loading.\n"
     ]
    },
    {
     "name": "stdout",
     "output_type": "stream",
     "text": [
      "INFO:tensorflow:Assets written to: CNN\\assets\n"
     ]
    },
    {
     "name": "stderr",
     "output_type": "stream",
     "text": [
      "INFO:tensorflow:Assets written to: CNN\\assets\n"
     ]
    },
    {
     "name": "stdout",
     "output_type": "stream",
     "text": [
      "40/40 [==============================] - 0s 11ms/step - loss: 2.8138e-04 - val_loss: 0.0030\n",
      "Epoch 9/30\n",
      "39/40 [============================>.] - ETA: 0s - loss: 2.3834e-04"
     ]
    },
    {
     "name": "stderr",
     "output_type": "stream",
     "text": [
      "WARNING:absl:Found untraced functions such as _jit_compiled_convolution_op while saving (showing 1 of 1). These functions will not be directly callable after loading.\n"
     ]
    },
    {
     "name": "stdout",
     "output_type": "stream",
     "text": [
      "INFO:tensorflow:Assets written to: CNN\\assets\n"
     ]
    },
    {
     "name": "stderr",
     "output_type": "stream",
     "text": [
      "INFO:tensorflow:Assets written to: CNN\\assets\n"
     ]
    },
    {
     "name": "stdout",
     "output_type": "stream",
     "text": [
      "40/40 [==============================] - 0s 11ms/step - loss: 2.3773e-04 - val_loss: 0.0029\n",
      "Epoch 10/30\n",
      "40/40 [==============================] - 0s 2ms/step - loss: 2.1305e-04 - val_loss: 0.0030\n",
      "Epoch 11/30\n",
      "40/40 [==============================] - 0s 2ms/step - loss: 2.1599e-04 - val_loss: 0.0031\n",
      "Epoch 12/30\n",
      "40/40 [==============================] - 0s 2ms/step - loss: 2.2843e-04 - val_loss: 0.0030\n",
      "Epoch 13/30\n",
      "40/40 [==============================] - 0s 2ms/step - loss: 2.2242e-04 - val_loss: 0.0032\n",
      "Epoch 14/30\n",
      "40/40 [==============================] - 0s 2ms/step - loss: 2.2796e-04 - val_loss: 0.0033\n",
      "Epoch 15/30\n",
      "40/40 [==============================] - 0s 2ms/step - loss: 2.2106e-04 - val_loss: 0.0034\n",
      "Epoch 16/30\n",
      "35/40 [=========================>....] - ETA: 0s - loss: 2.1410e-04"
     ]
    },
    {
     "name": "stderr",
     "output_type": "stream",
     "text": [
      "WARNING:absl:Found untraced functions such as _jit_compiled_convolution_op while saving (showing 1 of 1). These functions will not be directly callable after loading.\n"
     ]
    },
    {
     "name": "stdout",
     "output_type": "stream",
     "text": [
      "INFO:tensorflow:Assets written to: CNN\\assets\n"
     ]
    },
    {
     "name": "stderr",
     "output_type": "stream",
     "text": [
      "INFO:tensorflow:Assets written to: CNN\\assets\n"
     ]
    },
    {
     "name": "stdout",
     "output_type": "stream",
     "text": [
      "40/40 [==============================] - 0s 11ms/step - loss: 2.1550e-04 - val_loss: 0.0029\n",
      "Epoch 17/30\n",
      "40/40 [==============================] - 0s 3ms/step - loss: 2.1611e-04 - val_loss: 0.0032\n",
      "Epoch 18/30\n",
      "40/40 [==============================] - 0s 2ms/step - loss: 2.6443e-04 - val_loss: 0.0032\n",
      "Epoch 19/30\n",
      "40/40 [==============================] - ETA: 0s - loss: 3.3708e-04"
     ]
    },
    {
     "name": "stderr",
     "output_type": "stream",
     "text": [
      "WARNING:absl:Found untraced functions such as _jit_compiled_convolution_op while saving (showing 1 of 1). These functions will not be directly callable after loading.\n"
     ]
    },
    {
     "name": "stdout",
     "output_type": "stream",
     "text": [
      "INFO:tensorflow:Assets written to: CNN\\assets\n"
     ]
    },
    {
     "name": "stderr",
     "output_type": "stream",
     "text": [
      "INFO:tensorflow:Assets written to: CNN\\assets\n"
     ]
    },
    {
     "name": "stdout",
     "output_type": "stream",
     "text": [
      "40/40 [==============================] - 0s 11ms/step - loss: 3.3708e-04 - val_loss: 0.0028\n",
      "Epoch 20/30\n",
      "40/40 [==============================] - 0s 2ms/step - loss: 2.7337e-04 - val_loss: 0.0028\n",
      "Epoch 21/30\n",
      "40/40 [==============================] - 0s 2ms/step - loss: 2.3296e-04 - val_loss: 0.0033\n",
      "Epoch 22/30\n",
      "40/40 [==============================] - 0s 2ms/step - loss: 2.3998e-04 - val_loss: 0.0029\n",
      "Epoch 23/30\n",
      "40/40 [==============================] - 0s 2ms/step - loss: 2.0150e-04 - val_loss: 0.0030\n",
      "Epoch 24/30\n",
      "40/40 [==============================] - 0s 2ms/step - loss: 2.1322e-04 - val_loss: 0.0032\n",
      "Epoch 25/30\n",
      "40/40 [==============================] - 0s 2ms/step - loss: 2.0273e-04 - val_loss: 0.0032\n",
      "Epoch 26/30\n",
      "40/40 [==============================] - 0s 2ms/step - loss: 2.0734e-04 - val_loss: 0.0033\n",
      "Epoch 27/30\n",
      "40/40 [==============================] - 0s 2ms/step - loss: 2.2137e-04 - val_loss: 0.0033\n",
      "Epoch 28/30\n",
      "40/40 [==============================] - 0s 2ms/step - loss: 2.4855e-04 - val_loss: 0.0031\n",
      "Epoch 29/30\n",
      "40/40 [==============================] - 0s 2ms/step - loss: 2.2154e-04 - val_loss: 0.0034\n",
      "Epoch 30/30\n",
      "40/40 [==============================] - 0s 2ms/step - loss: 2.1099e-04 - val_loss: 0.0035\n",
      "Epoch 1/30\n",
      "40/40 [==============================] - ETA: 0s - loss: 2.2558e-04"
     ]
    },
    {
     "name": "stderr",
     "output_type": "stream",
     "text": [
      "WARNING:absl:Found untraced functions such as _jit_compiled_convolution_op while saving (showing 1 of 1). These functions will not be directly callable after loading.\n"
     ]
    },
    {
     "name": "stdout",
     "output_type": "stream",
     "text": [
      "INFO:tensorflow:Assets written to: CNN\\assets\n"
     ]
    },
    {
     "name": "stderr",
     "output_type": "stream",
     "text": [
      "INFO:tensorflow:Assets written to: CNN\\assets\n"
     ]
    },
    {
     "name": "stdout",
     "output_type": "stream",
     "text": [
      "40/40 [==============================] - 0s 11ms/step - loss: 2.2558e-04 - val_loss: 0.0031\n",
      "Epoch 2/30\n",
      "40/40 [==============================] - 0s 2ms/step - loss: 2.0904e-04 - val_loss: 0.0033\n",
      "Epoch 3/30\n",
      "40/40 [==============================] - 0s 2ms/step - loss: 2.0217e-04 - val_loss: 0.0032\n",
      "Epoch 4/30\n",
      "40/40 [==============================] - 0s 2ms/step - loss: 2.0712e-04 - val_loss: 0.0033\n",
      "Epoch 5/30\n",
      "40/40 [==============================] - 0s 2ms/step - loss: 2.1771e-04 - val_loss: 0.0034\n",
      "Epoch 6/30\n",
      "40/40 [==============================] - 0s 2ms/step - loss: 2.0834e-04 - val_loss: 0.0032\n",
      "Epoch 7/30\n",
      "40/40 [==============================] - 0s 2ms/step - loss: 2.3354e-04 - val_loss: 0.0032\n",
      "Epoch 8/30\n",
      "40/40 [==============================] - 0s 2ms/step - loss: 2.4878e-04 - val_loss: 0.0032\n",
      "Epoch 9/30\n",
      "39/40 [============================>.] - ETA: 0s - loss: 2.2633e-04"
     ]
    },
    {
     "name": "stderr",
     "output_type": "stream",
     "text": [
      "WARNING:absl:Found untraced functions such as _jit_compiled_convolution_op while saving (showing 1 of 1). These functions will not be directly callable after loading.\n"
     ]
    },
    {
     "name": "stdout",
     "output_type": "stream",
     "text": [
      "INFO:tensorflow:Assets written to: CNN\\assets\n"
     ]
    },
    {
     "name": "stderr",
     "output_type": "stream",
     "text": [
      "INFO:tensorflow:Assets written to: CNN\\assets\n"
     ]
    },
    {
     "name": "stdout",
     "output_type": "stream",
     "text": [
      "40/40 [==============================] - 0s 11ms/step - loss: 2.2569e-04 - val_loss: 0.0030\n",
      "Epoch 10/30\n",
      "40/40 [==============================] - 0s 2ms/step - loss: 2.0688e-04 - val_loss: 0.0031\n",
      "Epoch 11/30\n",
      "40/40 [==============================] - 0s 2ms/step - loss: 2.0744e-04 - val_loss: 0.0032\n",
      "Epoch 12/30\n",
      "40/40 [==============================] - 0s 2ms/step - loss: 2.4187e-04 - val_loss: 0.0031\n",
      "Epoch 13/30\n",
      "40/40 [==============================] - 0s 2ms/step - loss: 2.2565e-04 - val_loss: 0.0032\n",
      "Epoch 14/30\n",
      "40/40 [==============================] - 0s 2ms/step - loss: 2.2075e-04 - val_loss: 0.0034\n",
      "Epoch 15/30\n",
      "40/40 [==============================] - 0s 2ms/step - loss: 2.1160e-04 - val_loss: 0.0035\n",
      "Epoch 16/30\n",
      " 1/40 [..............................] - ETA: 0s - loss: 1.6778e-04"
     ]
    },
    {
     "name": "stderr",
     "output_type": "stream",
     "text": [
      "WARNING:absl:Found untraced functions such as _jit_compiled_convolution_op while saving (showing 1 of 1). These functions will not be directly callable after loading.\n"
     ]
    },
    {
     "name": "stdout",
     "output_type": "stream",
     "text": [
      "INFO:tensorflow:Assets written to: CNN\\assets\n"
     ]
    },
    {
     "name": "stderr",
     "output_type": "stream",
     "text": [
      "INFO:tensorflow:Assets written to: CNN\\assets\n"
     ]
    },
    {
     "name": "stdout",
     "output_type": "stream",
     "text": [
      "40/40 [==============================] - 0s 11ms/step - loss: 2.0684e-04 - val_loss: 0.0030\n",
      "Epoch 17/30\n",
      "40/40 [==============================] - 0s 2ms/step - loss: 2.1830e-04 - val_loss: 0.0033\n",
      "Epoch 18/30\n",
      "40/40 [==============================] - 0s 2ms/step - loss: 2.4734e-04 - val_loss: 0.0031\n",
      "Epoch 19/30\n",
      "39/40 [============================>.] - ETA: 0s - loss: 3.0760e-04"
     ]
    },
    {
     "name": "stderr",
     "output_type": "stream",
     "text": [
      "WARNING:absl:Found untraced functions such as _jit_compiled_convolution_op while saving (showing 1 of 1). These functions will not be directly callable after loading.\n"
     ]
    },
    {
     "name": "stdout",
     "output_type": "stream",
     "text": [
      "INFO:tensorflow:Assets written to: CNN\\assets\n"
     ]
    },
    {
     "name": "stderr",
     "output_type": "stream",
     "text": [
      "INFO:tensorflow:Assets written to: CNN\\assets\n"
     ]
    },
    {
     "name": "stdout",
     "output_type": "stream",
     "text": [
      "40/40 [==============================] - 0s 11ms/step - loss: 3.0689e-04 - val_loss: 0.0029\n",
      "Epoch 20/30\n",
      "40/40 [==============================] - 0s 2ms/step - loss: 2.9366e-04 - val_loss: 0.0029\n",
      "Epoch 21/30\n",
      "40/40 [==============================] - 0s 2ms/step - loss: 2.4267e-04 - val_loss: 0.0033\n",
      "Epoch 22/30\n",
      "40/40 [==============================] - 0s 2ms/step - loss: 2.3029e-04 - val_loss: 0.0029\n",
      "Epoch 23/30\n",
      "40/40 [==============================] - 0s 2ms/step - loss: 1.8923e-04 - val_loss: 0.0032\n",
      "Epoch 24/30\n",
      "40/40 [==============================] - 0s 2ms/step - loss: 2.0517e-04 - val_loss: 0.0033\n",
      "Epoch 25/30\n",
      "40/40 [==============================] - 0s 2ms/step - loss: 1.9131e-04 - val_loss: 0.0032\n",
      "Epoch 26/30\n",
      "40/40 [==============================] - 0s 2ms/step - loss: 1.9773e-04 - val_loss: 0.0033\n",
      "Epoch 27/30\n",
      "40/40 [==============================] - 0s 2ms/step - loss: 2.0665e-04 - val_loss: 0.0033\n",
      "Epoch 28/30\n",
      "40/40 [==============================] - 0s 2ms/step - loss: 2.2726e-04 - val_loss: 0.0032\n",
      "Epoch 29/30\n",
      "40/40 [==============================] - 0s 2ms/step - loss: 2.1075e-04 - val_loss: 0.0035\n",
      "Epoch 30/30\n",
      "40/40 [==============================] - 0s 2ms/step - loss: 2.0382e-04 - val_loss: 0.0035\n",
      "Epoch 1/30\n",
      "33/40 [=======================>......] - ETA: 0s - loss: 2.0184e-04"
     ]
    },
    {
     "name": "stderr",
     "output_type": "stream",
     "text": [
      "WARNING:absl:Found untraced functions such as _jit_compiled_convolution_op while saving (showing 1 of 1). These functions will not be directly callable after loading.\n"
     ]
    },
    {
     "name": "stdout",
     "output_type": "stream",
     "text": [
      "INFO:tensorflow:Assets written to: CNN\\assets\n"
     ]
    },
    {
     "name": "stderr",
     "output_type": "stream",
     "text": [
      "INFO:tensorflow:Assets written to: CNN\\assets\n"
     ]
    },
    {
     "name": "stdout",
     "output_type": "stream",
     "text": [
      "40/40 [==============================] - 0s 13ms/step - loss: 2.0293e-04 - val_loss: 0.0031\n",
      "Epoch 2/30\n",
      "40/40 [==============================] - 0s 2ms/step - loss: 1.9562e-04 - val_loss: 0.0035\n",
      "Epoch 3/30\n",
      "40/40 [==============================] - 0s 2ms/step - loss: 1.8903e-04 - val_loss: 0.0033\n",
      "Epoch 4/30\n",
      "40/40 [==============================] - 0s 2ms/step - loss: 1.9009e-04 - val_loss: 0.0034\n",
      "Epoch 5/30\n",
      "40/40 [==============================] - 0s 3ms/step - loss: 2.0252e-04 - val_loss: 0.0034\n",
      "Epoch 6/30\n",
      "40/40 [==============================] - 0s 2ms/step - loss: 2.0305e-04 - val_loss: 0.0034\n",
      "Epoch 7/30\n",
      "40/40 [==============================] - 0s 2ms/step - loss: 2.2101e-04 - val_loss: 0.0032\n",
      "Epoch 8/30\n",
      "40/40 [==============================] - 0s 2ms/step - loss: 2.2600e-04 - val_loss: 0.0033\n",
      "Epoch 9/30\n",
      "40/40 [==============================] - 0s 2ms/step - loss: 2.1070e-04 - val_loss: 0.0032\n",
      "Epoch 10/30\n",
      "40/40 [==============================] - 0s 2ms/step - loss: 2.0156e-04 - val_loss: 0.0032\n",
      "Epoch 11/30\n",
      "40/40 [==============================] - 0s 2ms/step - loss: 1.9506e-04 - val_loss: 0.0034\n",
      "Epoch 12/30\n",
      "40/40 [==============================] - 0s 2ms/step - loss: 2.4098e-04 - val_loss: 0.0033\n",
      "Epoch 13/30\n",
      "40/40 [==============================] - 0s 2ms/step - loss: 2.1589e-04 - val_loss: 0.0034\n",
      "Epoch 14/30\n",
      "40/40 [==============================] - 0s 2ms/step - loss: 2.0430e-04 - val_loss: 0.0034\n",
      "Epoch 15/30\n",
      "40/40 [==============================] - 0s 2ms/step - loss: 1.9970e-04 - val_loss: 0.0036\n",
      "Epoch 16/30\n",
      "40/40 [==============================] - 0s 2ms/step - loss: 1.9527e-04 - val_loss: 0.0032\n",
      "Epoch 17/30\n",
      "40/40 [==============================] - 0s 2ms/step - loss: 1.9687e-04 - val_loss: 0.0035\n",
      "Epoch 18/30\n",
      "40/40 [==============================] - 0s 2ms/step - loss: 2.3172e-04 - val_loss: 0.0034\n",
      "Epoch 19/30\n",
      "34/40 [========================>.....] - ETA: 0s - loss: 3.2341e-04"
     ]
    },
    {
     "name": "stderr",
     "output_type": "stream",
     "text": [
      "WARNING:absl:Found untraced functions such as _jit_compiled_convolution_op while saving (showing 1 of 1). These functions will not be directly callable after loading.\n"
     ]
    },
    {
     "name": "stdout",
     "output_type": "stream",
     "text": [
      "INFO:tensorflow:Assets written to: CNN\\assets\n"
     ]
    },
    {
     "name": "stderr",
     "output_type": "stream",
     "text": [
      "INFO:tensorflow:Assets written to: CNN\\assets\n"
     ]
    },
    {
     "name": "stdout",
     "output_type": "stream",
     "text": [
      "40/40 [==============================] - 0s 11ms/step - loss: 3.1387e-04 - val_loss: 0.0030\n",
      "Epoch 20/30\n",
      "40/40 [==============================] - 0s 3ms/step - loss: 2.9462e-04 - val_loss: 0.0030\n",
      "Epoch 21/30\n",
      "40/40 [==============================] - 0s 2ms/step - loss: 2.4595e-04 - val_loss: 0.0034\n",
      "Epoch 22/30\n",
      "40/40 [==============================] - 0s 2ms/step - loss: 2.2533e-04 - val_loss: 0.0030\n",
      "Epoch 23/30\n",
      "40/40 [==============================] - 0s 2ms/step - loss: 1.8093e-04 - val_loss: 0.0033\n",
      "Epoch 24/30\n",
      "40/40 [==============================] - 0s 2ms/step - loss: 1.9385e-04 - val_loss: 0.0034\n",
      "Epoch 25/30\n",
      "40/40 [==============================] - 0s 2ms/step - loss: 1.8016e-04 - val_loss: 0.0033\n",
      "Epoch 26/30\n",
      "40/40 [==============================] - 0s 2ms/step - loss: 1.8764e-04 - val_loss: 0.0034\n",
      "Epoch 27/30\n",
      "40/40 [==============================] - 0s 2ms/step - loss: 1.9763e-04 - val_loss: 0.0034\n",
      "Epoch 28/30\n",
      "40/40 [==============================] - 0s 2ms/step - loss: 2.1820e-04 - val_loss: 0.0033\n",
      "Epoch 29/30\n",
      "40/40 [==============================] - 0s 3ms/step - loss: 2.0357e-04 - val_loss: 0.0036\n",
      "Epoch 30/30\n",
      "40/40 [==============================] - 0s 3ms/step - loss: 1.9604e-04 - val_loss: 0.0036\n",
      "Epoch 1/30\n",
      "32/40 [=======================>......] - ETA: 0s - loss: 1.8707e-04"
     ]
    },
    {
     "name": "stderr",
     "output_type": "stream",
     "text": [
      "WARNING:absl:Found untraced functions such as _jit_compiled_convolution_op while saving (showing 1 of 1). These functions will not be directly callable after loading.\n"
     ]
    },
    {
     "name": "stdout",
     "output_type": "stream",
     "text": [
      "INFO:tensorflow:Assets written to: CNN\\assets\n"
     ]
    },
    {
     "name": "stderr",
     "output_type": "stream",
     "text": [
      "INFO:tensorflow:Assets written to: CNN\\assets\n"
     ]
    },
    {
     "name": "stdout",
     "output_type": "stream",
     "text": [
      "40/40 [==============================] - 1s 14ms/step - loss: 1.9064e-04 - val_loss: 0.0032\n",
      "Epoch 2/30\n",
      "40/40 [==============================] - 0s 2ms/step - loss: 1.8786e-04 - val_loss: 0.0037\n",
      "Epoch 3/30\n",
      "40/40 [==============================] - 0s 2ms/step - loss: 1.7934e-04 - val_loss: 0.0034\n",
      "Epoch 4/30\n",
      "40/40 [==============================] - 0s 3ms/step - loss: 1.8123e-04 - val_loss: 0.0035\n",
      "Epoch 5/30\n",
      "40/40 [==============================] - 0s 3ms/step - loss: 1.9425e-04 - val_loss: 0.0036\n",
      "Epoch 6/30\n",
      "40/40 [==============================] - 0s 3ms/step - loss: 1.9663e-04 - val_loss: 0.0035\n",
      "Epoch 7/30\n",
      "40/40 [==============================] - 0s 3ms/step - loss: 2.1350e-04 - val_loss: 0.0033\n",
      "Epoch 8/30\n",
      "40/40 [==============================] - 0s 2ms/step - loss: 2.3169e-04 - val_loss: 0.0034\n",
      "Epoch 9/30\n",
      "35/40 [=========================>....] - ETA: 0s - loss: 2.0222e-04"
     ]
    },
    {
     "name": "stderr",
     "output_type": "stream",
     "text": [
      "WARNING:absl:Found untraced functions such as _jit_compiled_convolution_op while saving (showing 1 of 1). These functions will not be directly callable after loading.\n"
     ]
    },
    {
     "name": "stdout",
     "output_type": "stream",
     "text": [
      "INFO:tensorflow:Assets written to: CNN\\assets\n"
     ]
    },
    {
     "name": "stderr",
     "output_type": "stream",
     "text": [
      "INFO:tensorflow:Assets written to: CNN\\assets\n"
     ]
    },
    {
     "name": "stdout",
     "output_type": "stream",
     "text": [
      "40/40 [==============================] - 1s 13ms/step - loss: 2.0542e-04 - val_loss: 0.0032\n",
      "Epoch 10/30\n",
      "40/40 [==============================] - 0s 3ms/step - loss: 1.9282e-04 - val_loss: 0.0033\n",
      "Epoch 11/30\n",
      "40/40 [==============================] - 0s 2ms/step - loss: 1.9232e-04 - val_loss: 0.0035\n",
      "Epoch 12/30\n",
      "40/40 [==============================] - 0s 2ms/step - loss: 2.2722e-04 - val_loss: 0.0034\n",
      "Epoch 13/30\n",
      "40/40 [==============================] - 0s 3ms/step - loss: 2.0406e-04 - val_loss: 0.0034\n",
      "Epoch 14/30\n",
      "40/40 [==============================] - 0s 3ms/step - loss: 1.8950e-04 - val_loss: 0.0035\n",
      "Epoch 15/30\n",
      "40/40 [==============================] - 0s 3ms/step - loss: 1.9072e-04 - val_loss: 0.0037\n",
      "Epoch 16/30\n",
      "40/40 [==============================] - 0s 3ms/step - loss: 1.8738e-04 - val_loss: 0.0033\n",
      "Epoch 17/30\n",
      "40/40 [==============================] - 0s 2ms/step - loss: 1.9105e-04 - val_loss: 0.0036\n",
      "Epoch 18/30\n",
      "40/40 [==============================] - 0s 3ms/step - loss: 2.2548e-04 - val_loss: 0.0035\n",
      "Epoch 19/30\n",
      "37/40 [==========================>...] - ETA: 0s - loss: 3.0189e-04"
     ]
    },
    {
     "name": "stderr",
     "output_type": "stream",
     "text": [
      "WARNING:absl:Found untraced functions such as _jit_compiled_convolution_op while saving (showing 1 of 1). These functions will not be directly callable after loading.\n"
     ]
    },
    {
     "name": "stdout",
     "output_type": "stream",
     "text": [
      "INFO:tensorflow:Assets written to: CNN\\assets\n"
     ]
    },
    {
     "name": "stderr",
     "output_type": "stream",
     "text": [
      "INFO:tensorflow:Assets written to: CNN\\assets\n"
     ]
    },
    {
     "name": "stdout",
     "output_type": "stream",
     "text": [
      "40/40 [==============================] - 0s 11ms/step - loss: 2.9829e-04 - val_loss: 0.0031\n",
      "Epoch 20/30\n",
      "40/40 [==============================] - 0s 2ms/step - loss: 2.8209e-04 - val_loss: 0.0031\n",
      "Epoch 21/30\n",
      "40/40 [==============================] - 0s 2ms/step - loss: 2.3840e-04 - val_loss: 0.0034\n",
      "Epoch 22/30\n",
      "40/40 [==============================] - 0s 2ms/step - loss: 2.1410e-04 - val_loss: 0.0031\n",
      "Epoch 23/30\n",
      "40/40 [==============================] - 0s 3ms/step - loss: 1.7097e-04 - val_loss: 0.0034\n",
      "Epoch 24/30\n",
      "40/40 [==============================] - 0s 3ms/step - loss: 1.8246e-04 - val_loss: 0.0035\n",
      "Epoch 25/30\n",
      "40/40 [==============================] - 0s 2ms/step - loss: 1.7292e-04 - val_loss: 0.0035\n",
      "Epoch 26/30\n",
      "40/40 [==============================] - 0s 2ms/step - loss: 1.8793e-04 - val_loss: 0.0035\n",
      "Epoch 27/30\n",
      "40/40 [==============================] - 0s 2ms/step - loss: 1.8790e-04 - val_loss: 0.0035\n",
      "Epoch 28/30\n",
      "40/40 [==============================] - 0s 2ms/step - loss: 2.0942e-04 - val_loss: 0.0034\n",
      "Epoch 29/30\n",
      "40/40 [==============================] - 0s 3ms/step - loss: 1.9940e-04 - val_loss: 0.0037\n",
      "Epoch 30/30\n",
      "40/40 [==============================] - 0s 2ms/step - loss: 1.9435e-04 - val_loss: 0.0038\n",
      "Epoch 1/30\n",
      "36/40 [==========================>...] - ETA: 0s - loss: 1.8445e-04"
     ]
    },
    {
     "name": "stderr",
     "output_type": "stream",
     "text": [
      "WARNING:absl:Found untraced functions such as _jit_compiled_convolution_op while saving (showing 1 of 1). These functions will not be directly callable after loading.\n"
     ]
    },
    {
     "name": "stdout",
     "output_type": "stream",
     "text": [
      "INFO:tensorflow:Assets written to: CNN\\assets\n"
     ]
    },
    {
     "name": "stderr",
     "output_type": "stream",
     "text": [
      "INFO:tensorflow:Assets written to: CNN\\assets\n"
     ]
    },
    {
     "name": "stdout",
     "output_type": "stream",
     "text": [
      "40/40 [==============================] - 0s 11ms/step - loss: 1.8436e-04 - val_loss: 0.0033\n",
      "Epoch 2/30\n",
      "40/40 [==============================] - 0s 2ms/step - loss: 1.8524e-04 - val_loss: 0.0038\n",
      "Epoch 3/30\n",
      "40/40 [==============================] - 0s 2ms/step - loss: 1.7366e-04 - val_loss: 0.0035\n",
      "Epoch 4/30\n",
      "40/40 [==============================] - 0s 2ms/step - loss: 1.8600e-04 - val_loss: 0.0036\n",
      "Epoch 5/30\n",
      "40/40 [==============================] - 0s 3ms/step - loss: 1.8726e-04 - val_loss: 0.0039\n",
      "Epoch 6/30\n",
      "40/40 [==============================] - 0s 3ms/step - loss: 1.8622e-04 - val_loss: 0.0035\n",
      "Epoch 7/30\n",
      "40/40 [==============================] - 0s 3ms/step - loss: 1.9941e-04 - val_loss: 0.0034\n",
      "Epoch 8/30\n",
      "40/40 [==============================] - 0s 3ms/step - loss: 2.2111e-04 - val_loss: 0.0035\n",
      "Epoch 9/30\n",
      "35/40 [=========================>....] - ETA: 0s - loss: 1.9244e-04"
     ]
    },
    {
     "name": "stderr",
     "output_type": "stream",
     "text": [
      "WARNING:absl:Found untraced functions such as _jit_compiled_convolution_op while saving (showing 1 of 1). These functions will not be directly callable after loading.\n"
     ]
    },
    {
     "name": "stdout",
     "output_type": "stream",
     "text": [
      "INFO:tensorflow:Assets written to: CNN\\assets\n"
     ]
    },
    {
     "name": "stderr",
     "output_type": "stream",
     "text": [
      "INFO:tensorflow:Assets written to: CNN\\assets\n"
     ]
    },
    {
     "name": "stdout",
     "output_type": "stream",
     "text": [
      "40/40 [==============================] - 0s 11ms/step - loss: 1.9532e-04 - val_loss: 0.0032\n",
      "Epoch 10/30\n",
      "40/40 [==============================] - 0s 2ms/step - loss: 1.7930e-04 - val_loss: 0.0033\n",
      "Epoch 11/30\n",
      "40/40 [==============================] - 0s 2ms/step - loss: 1.7881e-04 - val_loss: 0.0036\n",
      "Epoch 12/30\n",
      "40/40 [==============================] - 0s 2ms/step - loss: 2.1982e-04 - val_loss: 0.0035\n",
      "Epoch 13/30\n",
      "40/40 [==============================] - 0s 2ms/step - loss: 1.9936e-04 - val_loss: 0.0036\n",
      "Epoch 14/30\n",
      "40/40 [==============================] - 0s 2ms/step - loss: 1.8223e-04 - val_loss: 0.0038\n",
      "Epoch 15/30\n",
      "40/40 [==============================] - 0s 2ms/step - loss: 1.8077e-04 - val_loss: 0.0038\n",
      "Epoch 16/30\n",
      "40/40 [==============================] - 0s 2ms/step - loss: 1.7983e-04 - val_loss: 0.0034\n",
      "Epoch 17/30\n",
      "40/40 [==============================] - 0s 2ms/step - loss: 1.8610e-04 - val_loss: 0.0037\n",
      "Epoch 18/30\n",
      "40/40 [==============================] - 0s 2ms/step - loss: 2.1211e-04 - val_loss: 0.0036\n",
      "Epoch 19/30\n",
      "35/40 [=========================>....] - ETA: 0s - loss: 2.9203e-04"
     ]
    },
    {
     "name": "stderr",
     "output_type": "stream",
     "text": [
      "WARNING:absl:Found untraced functions such as _jit_compiled_convolution_op while saving (showing 1 of 1). These functions will not be directly callable after loading.\n"
     ]
    },
    {
     "name": "stdout",
     "output_type": "stream",
     "text": [
      "INFO:tensorflow:Assets written to: CNN\\assets\n"
     ]
    },
    {
     "name": "stderr",
     "output_type": "stream",
     "text": [
      "INFO:tensorflow:Assets written to: CNN\\assets\n"
     ]
    },
    {
     "name": "stdout",
     "output_type": "stream",
     "text": [
      "40/40 [==============================] - 0s 11ms/step - loss: 2.8395e-04 - val_loss: 0.0032\n",
      "Epoch 20/30\n",
      "40/40 [==============================] - 0s 2ms/step - loss: 2.8723e-04 - val_loss: 0.0033\n",
      "Epoch 21/30\n",
      "40/40 [==============================] - 0s 2ms/step - loss: 2.4843e-04 - val_loss: 0.0039\n",
      "Epoch 22/30\n",
      "40/40 [==============================] - 0s 3ms/step - loss: 2.3019e-04 - val_loss: 0.0032\n",
      "Epoch 23/30\n",
      "40/40 [==============================] - 0s 2ms/step - loss: 1.6648e-04 - val_loss: 0.0035\n",
      "Epoch 24/30\n",
      "40/40 [==============================] - 0s 2ms/step - loss: 1.7079e-04 - val_loss: 0.0036\n",
      "Epoch 25/30\n",
      "40/40 [==============================] - 0s 3ms/step - loss: 1.6535e-04 - val_loss: 0.0036\n",
      "Epoch 26/30\n",
      "40/40 [==============================] - 0s 3ms/step - loss: 1.7573e-04 - val_loss: 0.0037\n",
      "Epoch 27/30\n",
      "40/40 [==============================] - 0s 3ms/step - loss: 1.7832e-04 - val_loss: 0.0036\n",
      "Epoch 28/30\n",
      "40/40 [==============================] - 0s 2ms/step - loss: 1.8913e-04 - val_loss: 0.0036\n",
      "Epoch 29/30\n",
      "40/40 [==============================] - 0s 2ms/step - loss: 1.8235e-04 - val_loss: 0.0039\n",
      "Epoch 30/30\n",
      "40/40 [==============================] - 0s 2ms/step - loss: 1.8775e-04 - val_loss: 0.0039\n",
      "Epoch 1/30\n",
      "27/40 [===================>..........] - ETA: 0s - loss: 1.8533e-04"
     ]
    },
    {
     "name": "stderr",
     "output_type": "stream",
     "text": [
      "WARNING:absl:Found untraced functions such as _jit_compiled_convolution_op while saving (showing 1 of 1). These functions will not be directly callable after loading.\n"
     ]
    },
    {
     "name": "stdout",
     "output_type": "stream",
     "text": [
      "INFO:tensorflow:Assets written to: CNN\\assets\n"
     ]
    },
    {
     "name": "stderr",
     "output_type": "stream",
     "text": [
      "INFO:tensorflow:Assets written to: CNN\\assets\n"
     ]
    },
    {
     "name": "stdout",
     "output_type": "stream",
     "text": [
      "40/40 [==============================] - 0s 12ms/step - loss: 1.7719e-04 - val_loss: 0.0034\n",
      "Epoch 2/30\n",
      "40/40 [==============================] - 0s 2ms/step - loss: 1.7597e-04 - val_loss: 0.0039\n",
      "Epoch 3/30\n",
      "40/40 [==============================] - 0s 2ms/step - loss: 1.7219e-04 - val_loss: 0.0036\n",
      "Epoch 4/30\n",
      "40/40 [==============================] - 0s 3ms/step - loss: 1.7155e-04 - val_loss: 0.0037\n",
      "Epoch 5/30\n",
      "40/40 [==============================] - 0s 3ms/step - loss: 1.7820e-04 - val_loss: 0.0041\n",
      "Epoch 6/30\n",
      "40/40 [==============================] - 0s 3ms/step - loss: 1.8321e-04 - val_loss: 0.0038\n",
      "Epoch 7/30\n",
      "40/40 [==============================] - 0s 3ms/step - loss: 2.0061e-04 - val_loss: 0.0035\n",
      "Epoch 8/30\n",
      "40/40 [==============================] - 0s 3ms/step - loss: 2.0295e-04 - val_loss: 0.0035\n",
      "Epoch 9/30\n",
      "36/40 [==========================>...] - ETA: 0s - loss: 1.7904e-04"
     ]
    },
    {
     "name": "stderr",
     "output_type": "stream",
     "text": [
      "WARNING:absl:Found untraced functions such as _jit_compiled_convolution_op while saving (showing 1 of 1). These functions will not be directly callable after loading.\n"
     ]
    },
    {
     "name": "stdout",
     "output_type": "stream",
     "text": [
      "INFO:tensorflow:Assets written to: CNN\\assets\n"
     ]
    },
    {
     "name": "stderr",
     "output_type": "stream",
     "text": [
      "INFO:tensorflow:Assets written to: CNN\\assets\n"
     ]
    },
    {
     "name": "stdout",
     "output_type": "stream",
     "text": [
      "40/40 [==============================] - 0s 12ms/step - loss: 1.8265e-04 - val_loss: 0.0034\n",
      "Epoch 10/30\n",
      "40/40 [==============================] - 0s 2ms/step - loss: 1.6869e-04 - val_loss: 0.0035\n",
      "Epoch 11/30\n",
      "40/40 [==============================] - 0s 3ms/step - loss: 1.6983e-04 - val_loss: 0.0038\n",
      "Epoch 12/30\n",
      "40/40 [==============================] - 0s 2ms/step - loss: 1.9659e-04 - val_loss: 0.0037\n",
      "Epoch 13/30\n",
      "40/40 [==============================] - 0s 3ms/step - loss: 1.8395e-04 - val_loss: 0.0037\n",
      "Epoch 14/30\n",
      "40/40 [==============================] - 0s 2ms/step - loss: 1.7346e-04 - val_loss: 0.0040\n",
      "Epoch 15/30\n",
      "40/40 [==============================] - 0s 2ms/step - loss: 1.7724e-04 - val_loss: 0.0039\n",
      "Epoch 16/30\n",
      "40/40 [==============================] - 0s 2ms/step - loss: 1.7465e-04 - val_loss: 0.0037\n",
      "Epoch 17/30\n",
      "40/40 [==============================] - 0s 2ms/step - loss: 1.7651e-04 - val_loss: 0.0037\n",
      "Epoch 18/30\n",
      "40/40 [==============================] - 0s 2ms/step - loss: 2.1384e-04 - val_loss: 0.0039\n",
      "Epoch 19/30\n",
      "31/40 [======================>.......] - ETA: 0s - loss: 3.4380e-04"
     ]
    },
    {
     "name": "stderr",
     "output_type": "stream",
     "text": [
      "WARNING:absl:Found untraced functions such as _jit_compiled_convolution_op while saving (showing 1 of 1). These functions will not be directly callable after loading.\n"
     ]
    },
    {
     "name": "stdout",
     "output_type": "stream",
     "text": [
      "INFO:tensorflow:Assets written to: CNN\\assets\n"
     ]
    },
    {
     "name": "stderr",
     "output_type": "stream",
     "text": [
      "INFO:tensorflow:Assets written to: CNN\\assets\n"
     ]
    },
    {
     "name": "stdout",
     "output_type": "stream",
     "text": [
      "40/40 [==============================] - 1s 13ms/step - loss: 3.2779e-04 - val_loss: 0.0033\n",
      "Epoch 20/30\n",
      "40/40 [==============================] - 0s 3ms/step - loss: 2.9381e-04 - val_loss: 0.0034\n",
      "Epoch 21/30\n",
      "40/40 [==============================] - 0s 3ms/step - loss: 2.4485e-04 - val_loss: 0.0036\n",
      "Epoch 22/30\n",
      "40/40 [==============================] - 0s 3ms/step - loss: 2.1459e-04 - val_loss: 0.0033\n",
      "Epoch 23/30\n",
      "40/40 [==============================] - 0s 3ms/step - loss: 1.5924e-04 - val_loss: 0.0036\n",
      "Epoch 24/30\n",
      "40/40 [==============================] - 0s 3ms/step - loss: 1.6272e-04 - val_loss: 0.0038\n",
      "Epoch 25/30\n",
      "40/40 [==============================] - 0s 3ms/step - loss: 1.5880e-04 - val_loss: 0.0038\n",
      "Epoch 26/30\n",
      "40/40 [==============================] - 0s 3ms/step - loss: 1.6727e-04 - val_loss: 0.0038\n",
      "Epoch 27/30\n",
      "40/40 [==============================] - 0s 3ms/step - loss: 1.6595e-04 - val_loss: 0.0039\n",
      "Epoch 28/30\n",
      "40/40 [==============================] - 0s 2ms/step - loss: 1.7979e-04 - val_loss: 0.0037\n",
      "Epoch 29/30\n",
      "40/40 [==============================] - 0s 3ms/step - loss: 1.7507e-04 - val_loss: 0.0040\n",
      "Epoch 30/30\n",
      "40/40 [==============================] - 0s 3ms/step - loss: 1.8077e-04 - val_loss: 0.0041\n",
      "Epoch 1/30\n",
      "37/40 [==========================>...] - ETA: 0s - loss: 1.6620e-04"
     ]
    },
    {
     "name": "stderr",
     "output_type": "stream",
     "text": [
      "WARNING:absl:Found untraced functions such as _jit_compiled_convolution_op while saving (showing 1 of 1). These functions will not be directly callable after loading.\n"
     ]
    },
    {
     "name": "stdout",
     "output_type": "stream",
     "text": [
      "INFO:tensorflow:Assets written to: CNN\\assets\n"
     ]
    },
    {
     "name": "stderr",
     "output_type": "stream",
     "text": [
      "INFO:tensorflow:Assets written to: CNN\\assets\n"
     ]
    },
    {
     "name": "stdout",
     "output_type": "stream",
     "text": [
      "40/40 [==============================] - 0s 12ms/step - loss: 1.6795e-04 - val_loss: 0.0036\n",
      "Epoch 2/30\n",
      "40/40 [==============================] - 0s 3ms/step - loss: 1.6755e-04 - val_loss: 0.0040\n",
      "Epoch 3/30\n",
      "40/40 [==============================] - 0s 3ms/step - loss: 1.6681e-04 - val_loss: 0.0037\n",
      "Epoch 4/30\n",
      "40/40 [==============================] - 0s 3ms/step - loss: 1.6265e-04 - val_loss: 0.0039\n",
      "Epoch 5/30\n",
      "40/40 [==============================] - 0s 3ms/step - loss: 1.8114e-04 - val_loss: 0.0043\n",
      "Epoch 6/30\n",
      "40/40 [==============================] - 0s 3ms/step - loss: 1.7991e-04 - val_loss: 0.0039\n",
      "Epoch 7/30\n",
      "40/40 [==============================] - 0s 3ms/step - loss: 2.0611e-04 - val_loss: 0.0038\n",
      "Epoch 8/30\n",
      "40/40 [==============================] - 0s 4ms/step - loss: 2.1036e-04 - val_loss: 0.0037\n",
      "Epoch 9/30\n",
      "40/40 [==============================] - ETA: 0s - loss: 1.7514e-04"
     ]
    },
    {
     "name": "stderr",
     "output_type": "stream",
     "text": [
      "WARNING:absl:Found untraced functions such as _jit_compiled_convolution_op while saving (showing 1 of 1). These functions will not be directly callable after loading.\n"
     ]
    },
    {
     "name": "stdout",
     "output_type": "stream",
     "text": [
      "INFO:tensorflow:Assets written to: CNN\\assets\n"
     ]
    },
    {
     "name": "stderr",
     "output_type": "stream",
     "text": [
      "INFO:tensorflow:Assets written to: CNN\\assets\n"
     ]
    },
    {
     "name": "stdout",
     "output_type": "stream",
     "text": [
      "40/40 [==============================] - 1s 14ms/step - loss: 1.7514e-04 - val_loss: 0.0035\n",
      "Epoch 10/30\n",
      "40/40 [==============================] - 0s 2ms/step - loss: 1.7244e-04 - val_loss: 0.0035\n",
      "Epoch 11/30\n",
      "40/40 [==============================] - 0s 3ms/step - loss: 1.7051e-04 - val_loss: 0.0040\n",
      "Epoch 12/30\n",
      "40/40 [==============================] - 0s 3ms/step - loss: 1.8012e-04 - val_loss: 0.0038\n",
      "Epoch 13/30\n",
      "40/40 [==============================] - 0s 3ms/step - loss: 1.6847e-04 - val_loss: 0.0039\n",
      "Epoch 14/30\n",
      "40/40 [==============================] - 0s 3ms/step - loss: 1.6387e-04 - val_loss: 0.0041\n",
      "Epoch 15/30\n",
      "40/40 [==============================] - 0s 3ms/step - loss: 1.6570e-04 - val_loss: 0.0040\n",
      "Epoch 16/30\n",
      "40/40 [==============================] - 0s 3ms/step - loss: 1.6002e-04 - val_loss: 0.0039\n",
      "Epoch 17/30\n",
      "40/40 [==============================] - 0s 3ms/step - loss: 1.6121e-04 - val_loss: 0.0039\n",
      "Epoch 18/30\n",
      "40/40 [==============================] - 0s 3ms/step - loss: 1.9611e-04 - val_loss: 0.0042\n",
      "Epoch 19/30\n",
      "40/40 [==============================] - 0s 3ms/step - loss: 2.8611e-04 - val_loss: 0.0036\n",
      "Epoch 20/30\n",
      "40/40 [==============================] - 0s 3ms/step - loss: 3.1742e-04 - val_loss: 0.0035\n",
      "Epoch 21/30\n",
      "40/40 [==============================] - 0s 3ms/step - loss: 2.6051e-04 - val_loss: 0.0038\n",
      "Epoch 22/30\n",
      "40/40 [==============================] - 0s 3ms/step - loss: 2.1996e-04 - val_loss: 0.0036\n",
      "Epoch 23/30\n",
      "40/40 [==============================] - 0s 3ms/step - loss: 1.5463e-04 - val_loss: 0.0038\n",
      "Epoch 24/30\n",
      "40/40 [==============================] - 0s 2ms/step - loss: 1.5801e-04 - val_loss: 0.0040\n",
      "Epoch 25/30\n",
      "40/40 [==============================] - 0s 3ms/step - loss: 1.5467e-04 - val_loss: 0.0040\n",
      "Epoch 26/30\n",
      "40/40 [==============================] - 0s 3ms/step - loss: 1.5814e-04 - val_loss: 0.0040\n",
      "Epoch 27/30\n",
      "40/40 [==============================] - 0s 3ms/step - loss: 1.6072e-04 - val_loss: 0.0040\n",
      "Epoch 28/30\n",
      "40/40 [==============================] - 0s 3ms/step - loss: 1.7025e-04 - val_loss: 0.0039\n",
      "Epoch 29/30\n",
      "40/40 [==============================] - 0s 3ms/step - loss: 1.6675e-04 - val_loss: 0.0043\n",
      "Epoch 30/30\n",
      "40/40 [==============================] - 0s 2ms/step - loss: 1.6136e-04 - val_loss: 0.0043\n",
      "Epoch 1/30\n",
      "26/40 [==================>...........] - ETA: 0s - loss: 1.6858e-04"
     ]
    },
    {
     "name": "stderr",
     "output_type": "stream",
     "text": [
      "WARNING:absl:Found untraced functions such as _jit_compiled_convolution_op while saving (showing 1 of 1). These functions will not be directly callable after loading.\n"
     ]
    },
    {
     "name": "stdout",
     "output_type": "stream",
     "text": [
      "INFO:tensorflow:Assets written to: CNN\\assets\n"
     ]
    },
    {
     "name": "stderr",
     "output_type": "stream",
     "text": [
      "INFO:tensorflow:Assets written to: CNN\\assets\n"
     ]
    },
    {
     "name": "stdout",
     "output_type": "stream",
     "text": [
      "40/40 [==============================] - 1s 13ms/step - loss: 1.6053e-04 - val_loss: 0.0039\n",
      "Epoch 2/30\n",
      "40/40 [==============================] - 0s 2ms/step - loss: 1.5792e-04 - val_loss: 0.0043\n",
      "Epoch 3/30\n",
      "28/40 [====================>.........] - ETA: 0s - loss: 1.6488e-04"
     ]
    },
    {
     "name": "stderr",
     "output_type": "stream",
     "text": [
      "WARNING:absl:Found untraced functions such as _jit_compiled_convolution_op while saving (showing 1 of 1). These functions will not be directly callable after loading.\n"
     ]
    },
    {
     "name": "stdout",
     "output_type": "stream",
     "text": [
      "INFO:tensorflow:Assets written to: CNN\\assets\n"
     ]
    },
    {
     "name": "stderr",
     "output_type": "stream",
     "text": [
      "INFO:tensorflow:Assets written to: CNN\\assets\n"
     ]
    },
    {
     "name": "stdout",
     "output_type": "stream",
     "text": [
      "40/40 [==============================] - 1s 13ms/step - loss: 1.5296e-04 - val_loss: 0.0039\n",
      "Epoch 4/30\n",
      "40/40 [==============================] - 0s 3ms/step - loss: 1.6009e-04 - val_loss: 0.0041\n",
      "Epoch 5/30\n",
      "40/40 [==============================] - 0s 4ms/step - loss: 1.8094e-04 - val_loss: 0.0045\n",
      "Epoch 6/30\n",
      "40/40 [==============================] - 0s 3ms/step - loss: 1.7362e-04 - val_loss: 0.0040\n",
      "Epoch 7/30\n",
      "40/40 [==============================] - 0s 3ms/step - loss: 1.9620e-04 - val_loss: 0.0039\n",
      "Epoch 8/30\n",
      "28/40 [====================>.........] - ETA: 0s - loss: 2.3231e-04"
     ]
    },
    {
     "name": "stderr",
     "output_type": "stream",
     "text": [
      "WARNING:absl:Found untraced functions such as _jit_compiled_convolution_op while saving (showing 1 of 1). These functions will not be directly callable after loading.\n"
     ]
    },
    {
     "name": "stdout",
     "output_type": "stream",
     "text": [
      "INFO:tensorflow:Assets written to: CNN\\assets\n"
     ]
    },
    {
     "name": "stderr",
     "output_type": "stream",
     "text": [
      "INFO:tensorflow:Assets written to: CNN\\assets\n"
     ]
    },
    {
     "name": "stdout",
     "output_type": "stream",
     "text": [
      "40/40 [==============================] - 0s 12ms/step - loss: 2.1449e-04 - val_loss: 0.0038\n",
      "Epoch 9/30\n",
      "25/40 [=================>............] - ETA: 0s - loss: 1.6208e-04"
     ]
    },
    {
     "name": "stderr",
     "output_type": "stream",
     "text": [
      "WARNING:absl:Found untraced functions such as _jit_compiled_convolution_op while saving (showing 1 of 1). These functions will not be directly callable after loading.\n"
     ]
    },
    {
     "name": "stdout",
     "output_type": "stream",
     "text": [
      "INFO:tensorflow:Assets written to: CNN\\assets\n"
     ]
    },
    {
     "name": "stderr",
     "output_type": "stream",
     "text": [
      "INFO:tensorflow:Assets written to: CNN\\assets\n"
     ]
    },
    {
     "name": "stdout",
     "output_type": "stream",
     "text": [
      "40/40 [==============================] - 1s 15ms/step - loss: 1.7595e-04 - val_loss: 0.0036\n",
      "Epoch 10/30\n",
      "26/40 [==================>...........] - ETA: 0s - loss: 1.8222e-04"
     ]
    },
    {
     "name": "stderr",
     "output_type": "stream",
     "text": [
      "WARNING:absl:Found untraced functions such as _jit_compiled_convolution_op while saving (showing 1 of 1). These functions will not be directly callable after loading.\n"
     ]
    },
    {
     "name": "stdout",
     "output_type": "stream",
     "text": [
      "INFO:tensorflow:Assets written to: CNN\\assets\n"
     ]
    },
    {
     "name": "stderr",
     "output_type": "stream",
     "text": [
      "INFO:tensorflow:Assets written to: CNN\\assets\n"
     ]
    },
    {
     "name": "stdout",
     "output_type": "stream",
     "text": [
      "40/40 [==============================] - 1s 15ms/step - loss: 1.8824e-04 - val_loss: 0.0036\n",
      "Epoch 11/30\n",
      "40/40 [==============================] - 0s 3ms/step - loss: 1.6723e-04 - val_loss: 0.0040\n",
      "Epoch 12/30\n",
      "40/40 [==============================] - 0s 3ms/step - loss: 1.6720e-04 - val_loss: 0.0038\n",
      "Epoch 13/30\n",
      "40/40 [==============================] - 0s 3ms/step - loss: 1.5883e-04 - val_loss: 0.0040\n",
      "Epoch 14/30\n",
      "40/40 [==============================] - 0s 3ms/step - loss: 1.6666e-04 - val_loss: 0.0042\n",
      "Epoch 15/30\n",
      "40/40 [==============================] - 0s 2ms/step - loss: 1.5965e-04 - val_loss: 0.0043\n",
      "Epoch 16/30\n",
      "40/40 [==============================] - 0s 2ms/step - loss: 1.6224e-04 - val_loss: 0.0040\n",
      "Epoch 17/30\n",
      "40/40 [==============================] - 0s 3ms/step - loss: 1.6322e-04 - val_loss: 0.0040\n",
      "Epoch 18/30\n",
      "40/40 [==============================] - 0s 3ms/step - loss: 1.7980e-04 - val_loss: 0.0041\n",
      "Epoch 19/30\n",
      "40/40 [==============================] - 0s 3ms/step - loss: 2.4129e-04 - val_loss: 0.0037\n",
      "Epoch 20/30\n",
      "40/40 [==============================] - 0s 3ms/step - loss: 3.1018e-04 - val_loss: 0.0036\n",
      "Epoch 21/30\n",
      "40/40 [==============================] - 0s 3ms/step - loss: 2.4415e-04 - val_loss: 0.0041\n",
      "Epoch 22/30\n",
      "40/40 [==============================] - 0s 3ms/step - loss: 1.9451e-04 - val_loss: 0.0038\n",
      "Epoch 23/30\n",
      "40/40 [==============================] - 0s 3ms/step - loss: 1.4902e-04 - val_loss: 0.0041\n",
      "Epoch 24/30\n",
      "40/40 [==============================] - 0s 3ms/step - loss: 1.5002e-04 - val_loss: 0.0041\n",
      "Epoch 25/30\n",
      "40/40 [==============================] - 0s 3ms/step - loss: 1.5075e-04 - val_loss: 0.0041\n",
      "Epoch 26/30\n",
      "40/40 [==============================] - 0s 2ms/step - loss: 1.5787e-04 - val_loss: 0.0041\n",
      "Epoch 27/30\n",
      "40/40 [==============================] - 0s 2ms/step - loss: 1.5108e-04 - val_loss: 0.0041\n",
      "Epoch 28/30\n",
      "40/40 [==============================] - 0s 3ms/step - loss: 1.6743e-04 - val_loss: 0.0039\n",
      "Epoch 29/30\n",
      "40/40 [==============================] - 0s 3ms/step - loss: 1.6534e-04 - val_loss: 0.0046\n",
      "Epoch 30/30\n",
      "40/40 [==============================] - 0s 3ms/step - loss: 1.5562e-04 - val_loss: 0.0043\n"
     ]
    }
   ],
   "source": [
    "ave_pool_mse = []\n",
    "ave_pool_size = [2,3,4,5,6,7,8,9,10]\n",
    "for size in max_pool_size:\n",
    "    checkpoint_cb = keras.callbacks.ModelCheckpoint('CNN',save_best_only=True)\n",
    "    run = model.fit(X_train_3D,y_train,epochs = 30, validation_data=(X_valid_3D,y_valid),callbacks=[checkpoint_cb,])\n",
    "    CNN_best = keras.models.load_model('CNN')\n",
    "    y_test_predict = CNN_best.predict(X_test_3D,verbose = 0)\n",
    "    ave_pool_mse.append(mean_squared_error(y_test, y_test_predict))"
   ]
  },
  {
   "cell_type": "code",
   "execution_count": 210,
   "id": "6273b17b",
   "metadata": {
    "ExecuteTime": {
     "end_time": "2022-06-01T16:00:54.279772Z",
     "start_time": "2022-06-01T16:00:54.196288Z"
    },
    "hidden": true
   },
   "outputs": [
    {
     "data": {
      "image/png": "[encoded data removed]",
      "text/plain": [
       "<Figure size 432x288 with 1 Axes>"
      ]
     },
     "metadata": {
      "needs_background": "light"
     },
     "output_type": "display_data"
    }
   ],
   "source": [
    "plt.plot(ave_pool_size,ave_pool_mse);\n",
    "plt.xlabel('average pool size');\n",
    "plt.ylabel('mse');"
   ]
  },
  {
   "cell_type": "markdown",
   "id": "e7126001",
   "metadata": {
    "hidden": true
   },
   "source": [
    "**Still, increasing the pooling size does not help.**"
   ]
  },
  {
   "cell_type": "code",
   "execution_count": 211,
   "id": "4b153d76",
   "metadata": {
    "ExecuteTime": {
     "end_time": "2022-06-01T16:12:20.585478Z",
     "start_time": "2022-06-01T16:12:20.577814Z"
    },
    "hidden": true
   },
   "outputs": [
    {
     "data": {
      "text/html": [
       "<div>\n",
       "<style scoped>\n",
       "    .dataframe tbody tr th:only-of-type {\n",
       "        vertical-align: middle;\n",
       "    }\n",
       "\n",
       "    .dataframe tbody tr th {\n",
       "        vertical-align: top;\n",
       "    }\n",
       "\n",
       "    .dataframe thead th {\n",
       "        text-align: right;\n",
       "    }\n",
       "</style>\n",
       "<table border=\"1\" class=\"dataframe\">\n",
       "  <thead>\n",
       "    <tr style=\"text-align: right;\">\n",
       "      <th></th>\n",
       "      <th>lin_mse</th>\n",
       "      <th>sgd_reg</th>\n",
       "      <th>poly_reg</th>\n",
       "      <th>ridge_reg</th>\n",
       "      <th>lasso_reg</th>\n",
       "      <th>elastic_net</th>\n",
       "      <th>sp_rnn</th>\n",
       "      <th>dp_rnn</th>\n",
       "      <th>deepRNN-BN-DO</th>\n",
       "      <th>deepRNN_dense_each</th>\n",
       "      <th>deepLSTM_dense_each</th>\n",
       "      <th>simple mlp</th>\n",
       "      <th>deep mlp</th>\n",
       "      <th>simple CNN</th>\n",
       "      <th>deep CNN</th>\n",
       "      <th>deep CNN ave</th>\n",
       "      <th>deep CNN max</th>\n",
       "    </tr>\n",
       "  </thead>\n",
       "  <tbody>\n",
       "    <tr>\n",
       "      <th>0</th>\n",
       "      <td>0.002271</td>\n",
       "      <td>0.002189</td>\n",
       "      <td>0.022761</td>\n",
       "      <td>0.002191</td>\n",
       "      <td>0.002189</td>\n",
       "      <td>0.00219</td>\n",
       "      <td>0.014262</td>\n",
       "      <td>0.003489</td>\n",
       "      <td>0.00342</td>\n",
       "      <td>0.00047</td>\n",
       "      <td>0.00086</td>\n",
       "      <td>0.002178</td>\n",
       "      <td>0.002666</td>\n",
       "      <td>0.002267</td>\n",
       "      <td>0.006322</td>\n",
       "      <td>0.004067</td>\n",
       "      <td>0.002677</td>\n",
       "    </tr>\n",
       "  </tbody>\n",
       "</table>\n",
       "</div>"
      ],
      "text/plain": [
       "    lin_mse   sgd_reg  poly_reg  ridge_reg  lasso_reg  elastic_net    sp_rnn  \\\n",
       "0  0.002271  0.002189  0.022761   0.002191   0.002189      0.00219  0.014262   \n",
       "\n",
       "     dp_rnn  deepRNN-BN-DO  deepRNN_dense_each  deepLSTM_dense_each  \\\n",
       "0  0.003489        0.00342             0.00047              0.00086   \n",
       "\n",
       "   simple mlp  deep mlp  simple CNN  deep CNN  deep CNN ave  deep CNN max  \n",
       "0    0.002178  0.002666    0.002267  0.006322      0.004067      0.002677  "
      ]
     },
     "execution_count": 211,
     "metadata": {},
     "output_type": "execute_result"
    }
   ],
   "source": [
    "mse[\"deep CNN ave\"] = min(ave_pool_mse)\n",
    "mse"
   ]
  },
  {
   "cell_type": "markdown",
   "id": "b32960b2",
   "metadata": {
    "hidden": true
   },
   "source": [
    "**From the experiments above,we found increasing the pooling size does not help the prediction and max pooling works better than average pooling**"
   ]
  },
  {
   "cell_type": "markdown",
   "id": "b1244db4",
   "metadata": {
    "hidden": true
   },
   "source": [
    "**Now, just for fun, we would like to see whether adding more convolution layers and pooling layers will help using average pooling with pool_size = 2**"
   ]
  },
  {
   "cell_type": "code",
   "execution_count": 212,
   "id": "72ff19dd",
   "metadata": {
    "ExecuteTime": {
     "end_time": "2022-06-01T16:15:27.093068Z",
     "start_time": "2022-06-01T16:15:27.072720Z"
    },
    "hidden": true
   },
   "outputs": [],
   "source": [
    "model = keras.models.Sequential()\n",
    "model.add(keras.layers.BatchNormalization())\n",
    "model.add(Conv1D(filters=10, kernel_size=3, activation='relu', input_shape=(36,\n",
    "feature)))\n",
    "model.add(AveragePooling1D(pool_size=2))\n",
    "model.add(Conv1D(filters=10, kernel_size=3, activation='relu', input_shape=(36,\n",
    "feature)))\n",
    "model.add(AveragePooling1D(pool_size=10))\n",
    "model.add(Flatten())\n",
    "for layer in range(nLayer):\n",
    "    model.add(keras.layers.Dense(nNeuron,activation = 'selu',kernel_initializer=\"lecun_normal\"))\n",
    "model.add(keras.layers.Dense(1, kernel_initializer=\"glorot_uniform\"))\n",
    "model.compile(loss=\"mse\", optimizer='nadam')\n",
    "optimizer = keras.optimizers.SGD(learning_rate=0.001, momentum=0.9, nesterov=True)\n",
    "model.compile(optimizer=optimizer,loss = 'mean_squared_error')"
   ]
  },
  {
   "cell_type": "code",
   "execution_count": 213,
   "id": "11786ded",
   "metadata": {
    "ExecuteTime": {
     "end_time": "2022-06-01T16:15:37.753467Z",
     "start_time": "2022-06-01T16:15:32.577837Z"
    },
    "hidden": true
   },
   "outputs": [
    {
     "name": "stdout",
     "output_type": "stream",
     "text": [
      "Epoch 1/30\n",
      "17/40 [===========>..................] - ETA: 0s - loss: 0.0084 "
     ]
    },
    {
     "name": "stderr",
     "output_type": "stream",
     "text": [
      "WARNING:absl:Found untraced functions such as _jit_compiled_convolution_op, _jit_compiled_convolution_op while saving (showing 2 of 2). These functions will not be directly callable after loading.\n"
     ]
    },
    {
     "name": "stdout",
     "output_type": "stream",
     "text": [
      "INFO:tensorflow:Assets written to: CNN\\assets\n"
     ]
    },
    {
     "name": "stderr",
     "output_type": "stream",
     "text": [
      "INFO:tensorflow:Assets written to: CNN\\assets\n"
     ]
    },
    {
     "name": "stdout",
     "output_type": "stream",
     "text": [
      "40/40 [==============================] - 2s 22ms/step - loss: 0.0048 - val_loss: 0.0053\n",
      "Epoch 2/30\n",
      "29/40 [====================>.........] - ETA: 0s - loss: 0.0016"
     ]
    },
    {
     "name": "stderr",
     "output_type": "stream",
     "text": [
      "WARNING:absl:Found untraced functions such as _jit_compiled_convolution_op, _jit_compiled_convolution_op while saving (showing 2 of 2). These functions will not be directly callable after loading.\n"
     ]
    },
    {
     "name": "stdout",
     "output_type": "stream",
     "text": [
      "INFO:tensorflow:Assets written to: CNN\\assets\n"
     ]
    },
    {
     "name": "stderr",
     "output_type": "stream",
     "text": [
      "INFO:tensorflow:Assets written to: CNN\\assets\n"
     ]
    },
    {
     "name": "stdout",
     "output_type": "stream",
     "text": [
      "40/40 [==============================] - 1s 18ms/step - loss: 0.0016 - val_loss: 0.0043\n",
      "Epoch 3/30\n",
      " 1/40 [..............................] - ETA: 0s - loss: 9.1907e-04"
     ]
    },
    {
     "name": "stderr",
     "output_type": "stream",
     "text": [
      "WARNING:absl:Found untraced functions such as _jit_compiled_convolution_op, _jit_compiled_convolution_op while saving (showing 2 of 2). These functions will not be directly callable after loading.\n"
     ]
    },
    {
     "name": "stdout",
     "output_type": "stream",
     "text": [
      "INFO:tensorflow:Assets written to: CNN\\assets\n"
     ]
    },
    {
     "name": "stderr",
     "output_type": "stream",
     "text": [
      "INFO:tensorflow:Assets written to: CNN\\assets\n"
     ]
    },
    {
     "name": "stdout",
     "output_type": "stream",
     "text": [
      "40/40 [==============================] - 1s 18ms/step - loss: 0.0015 - val_loss: 0.0031\n",
      "Epoch 4/30\n",
      "32/40 [=======================>......] - ETA: 0s - loss: 0.0014"
     ]
    },
    {
     "name": "stderr",
     "output_type": "stream",
     "text": [
      "WARNING:absl:Found untraced functions such as _jit_compiled_convolution_op, _jit_compiled_convolution_op while saving (showing 2 of 2). These functions will not be directly callable after loading.\n"
     ]
    },
    {
     "name": "stdout",
     "output_type": "stream",
     "text": [
      "INFO:tensorflow:Assets written to: CNN\\assets\n"
     ]
    },
    {
     "name": "stderr",
     "output_type": "stream",
     "text": [
      "INFO:tensorflow:Assets written to: CNN\\assets\n"
     ]
    },
    {
     "name": "stdout",
     "output_type": "stream",
     "text": [
      "40/40 [==============================] - 1s 21ms/step - loss: 0.0014 - val_loss: 0.0028\n",
      "Epoch 5/30\n",
      "39/40 [============================>.] - ETA: 0s - loss: 0.0013    "
     ]
    },
    {
     "name": "stderr",
     "output_type": "stream",
     "text": [
      "WARNING:absl:Found untraced functions such as _jit_compiled_convolution_op, _jit_compiled_convolution_op while saving (showing 2 of 2). These functions will not be directly callable after loading.\n"
     ]
    },
    {
     "name": "stdout",
     "output_type": "stream",
     "text": [
      "INFO:tensorflow:Assets written to: CNN\\assets\n"
     ]
    },
    {
     "name": "stderr",
     "output_type": "stream",
     "text": [
      "INFO:tensorflow:Assets written to: CNN\\assets\n"
     ]
    },
    {
     "name": "stdout",
     "output_type": "stream",
     "text": [
      "40/40 [==============================] - 1s 17ms/step - loss: 0.0013 - val_loss: 0.0026\n",
      "Epoch 6/30\n",
      " 1/40 [..............................] - ETA: 0s - loss: 7.1614e-04"
     ]
    },
    {
     "name": "stderr",
     "output_type": "stream",
     "text": [
      "WARNING:absl:Found untraced functions such as _jit_compiled_convolution_op, _jit_compiled_convolution_op while saving (showing 2 of 2). These functions will not be directly callable after loading.\n"
     ]
    },
    {
     "name": "stdout",
     "output_type": "stream",
     "text": [
      "INFO:tensorflow:Assets written to: CNN\\assets\n"
     ]
    },
    {
     "name": "stderr",
     "output_type": "stream",
     "text": [
      "INFO:tensorflow:Assets written to: CNN\\assets\n"
     ]
    },
    {
     "name": "stdout",
     "output_type": "stream",
     "text": [
      "40/40 [==============================] - 1s 17ms/step - loss: 0.0013 - val_loss: 0.0022\n",
      "Epoch 7/30\n",
      "31/40 [======================>.......] - ETA: 0s - loss: 0.0012"
     ]
    },
    {
     "name": "stderr",
     "output_type": "stream",
     "text": [
      "WARNING:absl:Found untraced functions such as _jit_compiled_convolution_op, _jit_compiled_convolution_op while saving (showing 2 of 2). These functions will not be directly callable after loading.\n"
     ]
    },
    {
     "name": "stdout",
     "output_type": "stream",
     "text": [
      "INFO:tensorflow:Assets written to: CNN\\assets\n"
     ]
    },
    {
     "name": "stderr",
     "output_type": "stream",
     "text": [
      "INFO:tensorflow:Assets written to: CNN\\assets\n"
     ]
    },
    {
     "name": "stdout",
     "output_type": "stream",
     "text": [
      "40/40 [==============================] - 1s 20ms/step - loss: 0.0012 - val_loss: 0.0020\n",
      "Epoch 8/30\n",
      "35/40 [=========================>....] - ETA: 0s - loss: 0.0012"
     ]
    },
    {
     "name": "stderr",
     "output_type": "stream",
     "text": [
      "WARNING:absl:Found untraced functions such as _jit_compiled_convolution_op, _jit_compiled_convolution_op while saving (showing 2 of 2). These functions will not be directly callable after loading.\n"
     ]
    },
    {
     "name": "stdout",
     "output_type": "stream",
     "text": [
      "INFO:tensorflow:Assets written to: CNN\\assets\n"
     ]
    },
    {
     "name": "stderr",
     "output_type": "stream",
     "text": [
      "INFO:tensorflow:Assets written to: CNN\\assets\n"
     ]
    },
    {
     "name": "stdout",
     "output_type": "stream",
     "text": [
      "40/40 [==============================] - 1s 19ms/step - loss: 0.0012 - val_loss: 0.0018\n",
      "Epoch 9/30\n",
      "34/40 [========================>.....] - ETA: 0s - loss: 0.0012"
     ]
    },
    {
     "name": "stderr",
     "output_type": "stream",
     "text": [
      "WARNING:absl:Found untraced functions such as _jit_compiled_convolution_op, _jit_compiled_convolution_op while saving (showing 2 of 2). These functions will not be directly callable after loading.\n"
     ]
    },
    {
     "name": "stdout",
     "output_type": "stream",
     "text": [
      "INFO:tensorflow:Assets written to: CNN\\assets\n"
     ]
    },
    {
     "name": "stderr",
     "output_type": "stream",
     "text": [
      "INFO:tensorflow:Assets written to: CNN\\assets\n"
     ]
    },
    {
     "name": "stdout",
     "output_type": "stream",
     "text": [
      "40/40 [==============================] - 1s 18ms/step - loss: 0.0012 - val_loss: 0.0016\n",
      "Epoch 10/30\n",
      " 1/40 [..............................] - ETA: 0s - loss: 6.7945e-04"
     ]
    },
    {
     "name": "stderr",
     "output_type": "stream",
     "text": [
      "WARNING:absl:Found untraced functions such as _jit_compiled_convolution_op, _jit_compiled_convolution_op while saving (showing 2 of 2). These functions will not be directly callable after loading.\n"
     ]
    },
    {
     "name": "stdout",
     "output_type": "stream",
     "text": [
      "INFO:tensorflow:Assets written to: CNN\\assets\n"
     ]
    },
    {
     "name": "stderr",
     "output_type": "stream",
     "text": [
      "INFO:tensorflow:Assets written to: CNN\\assets\n"
     ]
    },
    {
     "name": "stdout",
     "output_type": "stream",
     "text": [
      "40/40 [==============================] - 1s 17ms/step - loss: 0.0012 - val_loss: 0.0016\n",
      "Epoch 11/30\n",
      " 1/40 [..............................] - ETA: 0s - loss: 0.0011"
     ]
    },
    {
     "name": "stderr",
     "output_type": "stream",
     "text": [
      "WARNING:absl:Found untraced functions such as _jit_compiled_convolution_op, _jit_compiled_convolution_op while saving (showing 2 of 2). These functions will not be directly callable after loading.\n"
     ]
    },
    {
     "name": "stdout",
     "output_type": "stream",
     "text": [
      "INFO:tensorflow:Assets written to: CNN\\assets\n"
     ]
    },
    {
     "name": "stderr",
     "output_type": "stream",
     "text": [
      "INFO:tensorflow:Assets written to: CNN\\assets\n"
     ]
    },
    {
     "name": "stdout",
     "output_type": "stream",
     "text": [
      "40/40 [==============================] - 1s 29ms/step - loss: 0.0012 - val_loss: 0.0015\n",
      "Epoch 12/30\n",
      " 1/40 [..............................] - ETA: 0s - loss: 9.9737e-04"
     ]
    },
    {
     "name": "stderr",
     "output_type": "stream",
     "text": [
      "WARNING:absl:Found untraced functions such as _jit_compiled_convolution_op, _jit_compiled_convolution_op while saving (showing 2 of 2). These functions will not be directly callable after loading.\n"
     ]
    },
    {
     "name": "stdout",
     "output_type": "stream",
     "text": [
      "INFO:tensorflow:Assets written to: CNN\\assets\n"
     ]
    },
    {
     "name": "stderr",
     "output_type": "stream",
     "text": [
      "INFO:tensorflow:Assets written to: CNN\\assets\n"
     ]
    },
    {
     "name": "stdout",
     "output_type": "stream",
     "text": [
      "40/40 [==============================] - 1s 18ms/step - loss: 0.0011 - val_loss: 0.0014\n",
      "Epoch 13/30\n",
      "32/40 [=======================>......] - ETA: 0s - loss: 0.0011"
     ]
    },
    {
     "name": "stderr",
     "output_type": "stream",
     "text": [
      "WARNING:absl:Found untraced functions such as _jit_compiled_convolution_op, _jit_compiled_convolution_op while saving (showing 2 of 2). These functions will not be directly callable after loading.\n"
     ]
    },
    {
     "name": "stdout",
     "output_type": "stream",
     "text": [
      "INFO:tensorflow:Assets written to: CNN\\assets\n"
     ]
    },
    {
     "name": "stderr",
     "output_type": "stream",
     "text": [
      "INFO:tensorflow:Assets written to: CNN\\assets\n"
     ]
    },
    {
     "name": "stdout",
     "output_type": "stream",
     "text": [
      "40/40 [==============================] - 1s 18ms/step - loss: 0.0011 - val_loss: 0.0014\n",
      "Epoch 14/30\n",
      "40/40 [==============================] - ETA: 0s - loss: 0.0011"
     ]
    },
    {
     "name": "stderr",
     "output_type": "stream",
     "text": [
      "WARNING:absl:Found untraced functions such as _jit_compiled_convolution_op, _jit_compiled_convolution_op while saving (showing 2 of 2). These functions will not be directly callable after loading.\n"
     ]
    },
    {
     "name": "stdout",
     "output_type": "stream",
     "text": [
      "INFO:tensorflow:Assets written to: CNN\\assets\n"
     ]
    },
    {
     "name": "stderr",
     "output_type": "stream",
     "text": [
      "INFO:tensorflow:Assets written to: CNN\\assets\n"
     ]
    },
    {
     "name": "stdout",
     "output_type": "stream",
     "text": [
      "40/40 [==============================] - 2s 51ms/step - loss: 0.0011 - val_loss: 0.0013\n",
      "Epoch 15/30\n",
      " 1/40 [..............................] - ETA: 0s - loss: 7.0802e-04"
     ]
    },
    {
     "name": "stderr",
     "output_type": "stream",
     "text": [
      "WARNING:absl:Found untraced functions such as _jit_compiled_convolution_op, _jit_compiled_convolution_op while saving (showing 2 of 2). These functions will not be directly callable after loading.\n"
     ]
    },
    {
     "name": "stdout",
     "output_type": "stream",
     "text": [
      "INFO:tensorflow:Assets written to: CNN\\assets\n"
     ]
    },
    {
     "name": "stderr",
     "output_type": "stream",
     "text": [
      "INFO:tensorflow:Assets written to: CNN\\assets\n"
     ]
    },
    {
     "name": "stdout",
     "output_type": "stream",
     "text": [
      "40/40 [==============================] - 2s 53ms/step - loss: 0.0011 - val_loss: 0.0013\n",
      "Epoch 16/30\n",
      "40/40 [==============================] - 0s 4ms/step - loss: 0.0011 - val_loss: 0.0013\n",
      "Epoch 17/30\n",
      "40/40 [==============================] - 0s 2ms/step - loss: 0.0011 - val_loss: 0.0013\n",
      "Epoch 18/30\n",
      "40/40 [==============================] - 0s 2ms/step - loss: 0.0011 - val_loss: 0.0013\n",
      "Epoch 19/30\n",
      "40/40 [==============================] - 0s 2ms/step - loss: 0.0011 - val_loss: 0.0014\n",
      "Epoch 20/30\n",
      "40/40 [==============================] - 0s 2ms/step - loss: 0.0011 - val_loss: 0.0014\n",
      "Epoch 21/30\n",
      "40/40 [==============================] - 0s 2ms/step - loss: 0.0011 - val_loss: 0.0014\n",
      "Epoch 22/30\n",
      "40/40 [==============================] - 0s 2ms/step - loss: 0.0011 - val_loss: 0.0014\n",
      "Epoch 23/30\n",
      "40/40 [==============================] - 0s 1ms/step - loss: 0.0011 - val_loss: 0.0014\n",
      "Epoch 24/30\n",
      "40/40 [==============================] - 0s 1ms/step - loss: 0.0011 - val_loss: 0.0014\n",
      "Epoch 25/30\n",
      "40/40 [==============================] - 0s 2ms/step - loss: 0.0011 - val_loss: 0.0014\n",
      "Epoch 26/30\n",
      "40/40 [==============================] - 0s 2ms/step - loss: 0.0011 - val_loss: 0.0014\n",
      "Epoch 27/30\n",
      "40/40 [==============================] - 0s 2ms/step - loss: 0.0011 - val_loss: 0.0014\n",
      "Epoch 28/30\n",
      "40/40 [==============================] - 0s 2ms/step - loss: 0.0011 - val_loss: 0.0014\n",
      "Epoch 29/30\n",
      "40/40 [==============================] - 0s 1ms/step - loss: 0.0011 - val_loss: 0.0014\n",
      "Epoch 30/30\n",
      "40/40 [==============================] - 0s 1ms/step - loss: 0.0011 - val_loss: 0.0014\n"
     ]
    }
   ],
   "source": [
    "checkpoint_cb = keras.callbacks.ModelCheckpoint('CNN',save_best_only=True)\n",
    "run = model.fit(X_train_3D,y_train,epochs = 30, validation_data=(X_valid_3D,y_valid),callbacks=[checkpoint_cb,])"
   ]
  },
  {
   "cell_type": "code",
   "execution_count": 214,
   "id": "c7379374",
   "metadata": {
    "ExecuteTime": {
     "end_time": "2022-06-01T16:15:42.949393Z",
     "start_time": "2022-06-01T16:15:42.825070Z"
    },
    "hidden": true
   },
   "outputs": [
    {
     "data": {
      "image/png": "[encoded data removed]",
      "text/plain": [
       "<Figure size 576x360 with 1 Axes>"
      ]
     },
     "metadata": {
      "needs_background": "light"
     },
     "output_type": "display_data"
    }
   ],
   "source": [
    "pd.DataFrame(run.history).plot(figsize=(8, 5))\n",
    "plt.grid(True)\n",
    "plt.show()"
   ]
  },
  {
   "cell_type": "markdown",
   "id": "d9f99ad1",
   "metadata": {
    "hidden": true
   },
   "source": [
    "**The model seems no overfitting since the gap is small**"
   ]
  },
  {
   "cell_type": "code",
   "execution_count": 215,
   "id": "2e801a10",
   "metadata": {
    "ExecuteTime": {
     "end_time": "2022-06-01T16:15:45.904233Z",
     "start_time": "2022-06-01T16:15:45.498328Z"
    },
    "hidden": true
   },
   "outputs": [
    {
     "data": {
      "text/html": [
       "<div>\n",
       "<style scoped>\n",
       "    .dataframe tbody tr th:only-of-type {\n",
       "        vertical-align: middle;\n",
       "    }\n",
       "\n",
       "    .dataframe tbody tr th {\n",
       "        vertical-align: top;\n",
       "    }\n",
       "\n",
       "    .dataframe thead th {\n",
       "        text-align: right;\n",
       "    }\n",
       "</style>\n",
       "<table border=\"1\" class=\"dataframe\">\n",
       "  <thead>\n",
       "    <tr style=\"text-align: right;\">\n",
       "      <th></th>\n",
       "      <th>lin_mse</th>\n",
       "      <th>sgd_reg</th>\n",
       "      <th>poly_reg</th>\n",
       "      <th>ridge_reg</th>\n",
       "      <th>lasso_reg</th>\n",
       "      <th>elastic_net</th>\n",
       "      <th>sp_rnn</th>\n",
       "      <th>dp_rnn</th>\n",
       "      <th>deepRNN-BN-DO</th>\n",
       "      <th>deepRNN_dense_each</th>\n",
       "      <th>deepLSTM_dense_each</th>\n",
       "      <th>simple mlp</th>\n",
       "      <th>deep mlp</th>\n",
       "      <th>simple CNN</th>\n",
       "      <th>deep CNN</th>\n",
       "      <th>deep CNN ave</th>\n",
       "      <th>deep CNN max</th>\n",
       "    </tr>\n",
       "  </thead>\n",
       "  <tbody>\n",
       "    <tr>\n",
       "      <th>0</th>\n",
       "      <td>0.002271</td>\n",
       "      <td>0.002189</td>\n",
       "      <td>0.022761</td>\n",
       "      <td>0.002191</td>\n",
       "      <td>0.002189</td>\n",
       "      <td>0.00219</td>\n",
       "      <td>0.014262</td>\n",
       "      <td>0.003489</td>\n",
       "      <td>0.00342</td>\n",
       "      <td>0.00047</td>\n",
       "      <td>0.00086</td>\n",
       "      <td>0.002178</td>\n",
       "      <td>0.002666</td>\n",
       "      <td>0.002267</td>\n",
       "      <td>0.00242</td>\n",
       "      <td>0.004067</td>\n",
       "      <td>0.002677</td>\n",
       "    </tr>\n",
       "  </tbody>\n",
       "</table>\n",
       "</div>"
      ],
      "text/plain": [
       "    lin_mse   sgd_reg  poly_reg  ridge_reg  lasso_reg  elastic_net    sp_rnn  \\\n",
       "0  0.002271  0.002189  0.022761   0.002191   0.002189      0.00219  0.014262   \n",
       "\n",
       "     dp_rnn  deepRNN-BN-DO  deepRNN_dense_each  deepLSTM_dense_each  \\\n",
       "0  0.003489        0.00342             0.00047              0.00086   \n",
       "\n",
       "   simple mlp  deep mlp  simple CNN  deep CNN  deep CNN ave  deep CNN max  \n",
       "0    0.002178  0.002666    0.002267   0.00242      0.004067      0.002677  "
      ]
     },
     "execution_count": 215,
     "metadata": {},
     "output_type": "execute_result"
    }
   ],
   "source": [
    "CNN_best = keras.models.load_model('CNN')\n",
    "y_test_predict = CNN_best.predict(X_test_3D,verbose = 0)\n",
    "mse[\"deep CNN\"] = mean_squared_error(y_test, y_test_predict)\n",
    "mse"
   ]
  },
  {
   "cell_type": "markdown",
   "id": "77874f5b",
   "metadata": {
    "hidden": true
   },
   "source": [
    "**We found that adding more convolution layers and pooling layers decrease the mse in the prediction.Thus, we need to put more effort to design a better network architecture for better performance**"
   ]
  },
  {
   "cell_type": "markdown",
   "id": "7eab0619",
   "metadata": {
    "heading_collapsed": true
   },
   "source": [
    "## Conclusion"
   ]
  },
  {
   "cell_type": "code",
   "execution_count": 230,
   "id": "5d969743",
   "metadata": {
    "hidden": true
   },
   "outputs": [
    {
     "data": {
      "text/html": [
       "<div>\n",
       "<style scoped>\n",
       "    .dataframe tbody tr th:only-of-type {\n",
       "        vertical-align: middle;\n",
       "    }\n",
       "\n",
       "    .dataframe tbody tr th {\n",
       "        vertical-align: top;\n",
       "    }\n",
       "\n",
       "    .dataframe thead th {\n",
       "        text-align: right;\n",
       "    }\n",
       "</style>\n",
       "<table border=\"1\" class=\"dataframe\">\n",
       "  <thead>\n",
       "    <tr style=\"text-align: right;\">\n",
       "      <th></th>\n",
       "      <th>0</th>\n",
       "    </tr>\n",
       "  </thead>\n",
       "  <tbody>\n",
       "    <tr>\n",
       "      <th>lin_mse</th>\n",
       "      <td>0.002271</td>\n",
       "    </tr>\n",
       "    <tr>\n",
       "      <th>sgd_reg</th>\n",
       "      <td>0.002189</td>\n",
       "    </tr>\n",
       "    <tr>\n",
       "      <th>poly_reg</th>\n",
       "      <td>0.022761</td>\n",
       "    </tr>\n",
       "    <tr>\n",
       "      <th>ridge_reg</th>\n",
       "      <td>0.002191</td>\n",
       "    </tr>\n",
       "    <tr>\n",
       "      <th>lasso_reg</th>\n",
       "      <td>0.002189</td>\n",
       "    </tr>\n",
       "    <tr>\n",
       "      <th>elastic_net</th>\n",
       "      <td>0.002190</td>\n",
       "    </tr>\n",
       "    <tr>\n",
       "      <th>sp_rnn</th>\n",
       "      <td>0.014262</td>\n",
       "    </tr>\n",
       "    <tr>\n",
       "      <th>dp_rnn</th>\n",
       "      <td>0.003489</td>\n",
       "    </tr>\n",
       "    <tr>\n",
       "      <th>deepRNN-BN-DO</th>\n",
       "      <td>0.003420</td>\n",
       "    </tr>\n",
       "    <tr>\n",
       "      <th>deepRNN_dense_each</th>\n",
       "      <td>0.000470</td>\n",
       "    </tr>\n",
       "    <tr>\n",
       "      <th>deepLSTM_dense_each</th>\n",
       "      <td>0.000860</td>\n",
       "    </tr>\n",
       "    <tr>\n",
       "      <th>simple mlp</th>\n",
       "      <td>0.002178</td>\n",
       "    </tr>\n",
       "    <tr>\n",
       "      <th>deep mlp</th>\n",
       "      <td>0.002666</td>\n",
       "    </tr>\n",
       "    <tr>\n",
       "      <th>simple CNN</th>\n",
       "      <td>0.002267</td>\n",
       "    </tr>\n",
       "    <tr>\n",
       "      <th>deep CNN</th>\n",
       "      <td>0.002420</td>\n",
       "    </tr>\n",
       "    <tr>\n",
       "      <th>deep CNN ave</th>\n",
       "      <td>0.004067</td>\n",
       "    </tr>\n",
       "    <tr>\n",
       "      <th>deep CNN max</th>\n",
       "      <td>0.002677</td>\n",
       "    </tr>\n",
       "  </tbody>\n",
       "</table>\n",
       "</div>"
      ],
      "text/plain": [
       "                            0\n",
       "lin_mse              0.002271\n",
       "sgd_reg              0.002189\n",
       "poly_reg             0.022761\n",
       "ridge_reg            0.002191\n",
       "lasso_reg            0.002189\n",
       "elastic_net          0.002190\n",
       "sp_rnn               0.014262\n",
       "dp_rnn               0.003489\n",
       "deepRNN-BN-DO        0.003420\n",
       "deepRNN_dense_each   0.000470\n",
       "deepLSTM_dense_each  0.000860\n",
       "simple mlp           0.002178\n",
       "deep mlp             0.002666\n",
       "simple CNN           0.002267\n",
       "deep CNN             0.002420\n",
       "deep CNN ave         0.004067\n",
       "deep CNN max         0.002677"
      ]
     },
     "execution_count": 230,
     "metadata": {},
     "output_type": "execute_result"
    }
   ],
   "source": [
    "mse.transpose()"
   ]
  },
  {
   "cell_type": "markdown",
   "id": "5adfd8dc",
   "metadata": {
    "hidden": true
   },
   "source": [
    "**As we could see from the table above,deep LSTM with dense layer has the best performance comparing with all other models without overfitting the data, which is consistent with natural of LSTM.<br>\n",
    "In addition, we found that simpler models tend to perform  better than complicated models, which is consistent with Occam'sRazor.<br>\n",
    "The next step is to develop a trading strategy using the predicted daily returns of Tesla to make profit by incorrperating new data**"
   ]
  },
  {
   "cell_type": "markdown",
   "id": "fc8c586f",
   "metadata": {
    "heading_collapsed": true
   },
   "source": [
    "## Citations"
   ]
  },
  {
   "cell_type": "markdown",
   "id": "6e5eb281",
   "metadata": {
    "hidden": true
   },
   "source": [
    "**The idea of this project is originated from \"Quantative Trading with Machine Learning\" by Rene ́ M. Glawion, which is a course project for CS 229 in Stanford University. That project could be found from the link below. We use similar ideas where target returns is predicted using the daily returns from its supplier companies.** <br>\n",
    "**Project link: https://cs229.stanford.edu/proj2021spr/report2/81953230.pdf**"
   ]
  }
 ],
 "metadata": {
  "kernelspec": {
   "display_name": "Python 3 (ipykernel)",
   "language": "python",
   "name": "python3"
  },
  "language_info": {
   "codemirror_mode": {
    "name": "ipython",
    "version": 3
   },
   "file_extension": ".py",
   "mimetype": "text/x-python",
   "name": "python",
   "nbconvert_exporter": "python",
   "pygments_lexer": "ipython3",
   "version": "3.8.8"
  },
  "latex_envs": {
   "LaTeX_envs_menu_present": true,
   "autoclose": false,
   "autocomplete": true,
   "bibliofile": "biblio.bib",
   "cite_by": "apalike",
   "current_citInitial": 1,
   "eqLabelWithNumbers": true,
   "eqNumInitial": 1,
   "hotkeys": {
    "equation": "Ctrl-E",
    "itemize": "Ctrl-I"
   },
   "labels_anchors": false,
   "latex_user_defs": false,
   "report_style_numbering": false,
   "user_envs_cfg": false
  },
  "toc": {
   "base_numbering": 1,
   "nav_menu": {},
   "number_sections": false,
   "sideBar": true,
   "skip_h1_title": false,
   "title_cell": "Table of Contents",
   "title_sidebar": "Contents",
   "toc_cell": false,
   "toc_position": {
    "height": "calc(100% - 180px)",
    "left": "10px",
    "top": "150px",
    "width": "307.188px"
   },
   "toc_section_display": true,
   "toc_window_display": true
  },
  "varInspector": {
   "cols": {
    "lenName": 16,
    "lenType": 16,
    "lenVar": 40
   },
   "kernels_config": {
    "python": {
     "delete_cmd_postfix": "",
     "delete_cmd_prefix": "del ",
     "library": "var_list.py",
     "varRefreshCmd": "print(var_dic_list())"
    },
    "r": {
     "delete_cmd_postfix": ") ",
     "delete_cmd_prefix": "rm(",
     "library": "var_list.r",
     "varRefreshCmd": "cat(var_dic_list()) "
    }
   },
   "types_to_exclude": [
    "module",
    "function",
    "builtin_function_or_method",
    "instance",
    "_Feature"
   ],
   "window_display": false
  }
 },
 "nbformat": 4,
 "nbformat_minor": 5
}
